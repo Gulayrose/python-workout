{
  "nbformat": 4,
  "nbformat_minor": 0,
  "metadata": {
    "colab": {
      "name": "Guess game",
      "provenance": [],
      "authorship_tag": "ABX9TyMSQbhEiIN/kdPaJ2iM9NGU",
      "include_colab_link": true
    },
    "kernelspec": {
      "name": "python3",
      "display_name": "Python 3"
    },
    "language_info": {
      "name": "python"
    }
  },
  "cells": [
    {
      "cell_type": "markdown",
      "metadata": {
        "id": "view-in-github",
        "colab_type": "text"
      },
      "source": [
        "<a href=\"https://colab.research.google.com/github/Gulayrose/python-workout/blob/main/Guess_game.ipynb\" target=\"_parent\"><img src=\"https://colab.research.google.com/assets/colab-badge.svg\" alt=\"Open In Colab\"/></a>"
      ]
    },
    {
      "cell_type": "code",
      "execution_count": 1,
      "metadata": {
        "id": "2g7QBC1fm5bz"
      },
      "outputs": [],
      "source": [
        "import random"
      ]
    },
    {
      "cell_type": "code",
      "source": [
        "import time"
      ],
      "metadata": {
        "id": "Lf2P_7Azm7ja"
      },
      "execution_count": 2,
      "outputs": []
    },
    {
      "cell_type": "code",
      "source": [
        "print(\"\"\"Sayi tahmin oyunu :\n",
        "      1-40 sayiyi tahmin et\"\"\")\n",
        "\n",
        "rastgele_sayi = random.randint(1,40)\n",
        "tahmin_hakki = 7\n",
        "while True:\n",
        "\n",
        "    tahmin = int(input(\"tahmininiz :\"))\n",
        "\n",
        "    if (tahmin < rastgele_sayi):\n",
        "      print(\"Bilgiler sorgulaniyor ...\")\n",
        "      time.sleep(1)\n",
        "\n",
        "      print(\"Daha yuksek bir sayi giriniz\")\n",
        "\n",
        "      tahmin_hakki -=1\n",
        "    elif(tahmin < rastgele_sayi) :\n",
        "      print(\"Bilgiler sorgulaniyor ...\")\n",
        "      time.sleep(1)\n",
        "\n",
        "      tahmin_hakki -= 1\n",
        "    else :\n",
        "      print(\"Bilgiler sorgulaniyor\")  \n",
        "      time.sleep(1)\n",
        "      print(\"Tebrikler ! sayimiz ,\", rastgele_sayi)\n",
        "      break\n",
        "    if (tahmin_hakki == 0) :\n",
        "      print(\"Tahmin hakkiniz bitti.\")\n",
        "      print(\"sayimiz:\",rastgele_sayi) \n",
        "      break\n",
        "         \n",
        "\n"
      ],
      "metadata": {
        "colab": {
          "base_uri": "https://localhost:8080/"
        },
        "id": "umpO2Kx1m7ks",
        "outputId": "5562bd98-687d-4e60-b57c-96ac32585e8b"
      },
      "execution_count": 7,
      "outputs": [
        {
          "output_type": "stream",
          "name": "stdout",
          "text": [
            "Sayi tahmin oyunu :\n",
            "      1-40 sayiyi tahmin et\n",
            "tahmininiz :20\n",
            "Bilgiler sorgulaniyor\n",
            "Tebrikler ! sayimiz , 6\n"
          ]
        }
      ]
    },
    {
      "cell_type": "code",
      "source": [
        ""
      ],
      "metadata": {
        "id": "czMZdYDBm7nW"
      },
      "execution_count": null,
      "outputs": []
    },
    {
      "cell_type": "code",
      "source": [
        ""
      ],
      "metadata": {
        "id": "KO8ojBoZm7pp"
      },
      "execution_count": null,
      "outputs": []
    },
    {
      "cell_type": "code",
      "source": [
        ""
      ],
      "metadata": {
        "id": "p2qkclRxm7sQ"
      },
      "execution_count": null,
      "outputs": []
    }
  ]
}