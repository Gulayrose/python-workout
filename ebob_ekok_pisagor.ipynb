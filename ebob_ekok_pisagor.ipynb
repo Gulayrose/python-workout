{
  "nbformat": 4,
  "nbformat_minor": 0,
  "metadata": {
    "colab": {
      "name": " ebob-ekok-pisagor",
      "provenance": [],
      "authorship_tag": "ABX9TyOR59RfZROIABBD9yIAWK7C",
      "include_colab_link": true
    },
    "kernelspec": {
      "name": "python3",
      "display_name": "Python 3"
    },
    "language_info": {
      "name": "python"
    }
  },
  "cells": [
    {
      "cell_type": "markdown",
      "metadata": {
        "id": "view-in-github",
        "colab_type": "text"
      },
      "source": [
        "<a href=\"https://colab.research.google.com/github/Gulayrose/python-workout/blob/main/ebob_ekok_pisagor.ipynb\" target=\"_parent\"><img src=\"https://colab.research.google.com/assets/colab-badge.svg\" alt=\"Open In Colab\"/></a>"
      ]
    },
    {
      "cell_type": "markdown",
      "source": [
        ""
      ],
      "metadata": {
        "id": "kMGkj2QcaYUH"
      }
    },
    {
      "cell_type": "markdown",
      "source": [
        "Problem 1\n",
        "\n",
        "\n",
        "1'den 1000'e kadar olan sayılardan mükemmel sayı olanları ekrana yazdırın. Bunun için bir sayının mükemmel olup olmadığını dönen bir tane fonksiyon yazın.\n",
        "\n",
        "Bir sayının bölenlerinin toplamı kendine eşitse bu sayı mükemmel bir sayıdır. Örnek olarak 6 mükemmel bir sayıdır (1 + 2 + 3 = 6)."
      ],
      "metadata": {
        "id": "Zyj_8bCoaZg9"
      }
    },
    {
      "cell_type": "code",
      "source": [
        "def perfect(sayi):\n",
        "  toplam = 0 \n",
        "  for i in range(1,sayi):\n",
        "    if (sayi % i == 0) :\n",
        "      toplam +=i\n",
        "    return toplam == sayi\n",
        "for i in range(1,1001):\n",
        "  if (perfect(i)) :\n",
        "    print(\"Mukemmel sayi:\" , i)   \n",
        "      "
      ],
      "metadata": {
        "id": "DnyFVxeKacso"
      },
      "execution_count": 7,
      "outputs": []
    },
    {
      "cell_type": "code",
      "source": [
        "def mukemmel(sayı):\n",
        "    \n",
        "    toplam = 0\n",
        "    \n",
        "    for i in range(1,sayı):\n",
        "        \n",
        "        if (sayı % i == 0):\n",
        "            toplam += i\n",
        "            \n",
        "    return toplam == sayı\n",
        "\n",
        "\n",
        "for i in range(1,1001):\n",
        "    if (mukemmel(i)):\n",
        "        print(\"Mükemmel Sayı:\",i)"
      ],
      "metadata": {
        "colab": {
          "base_uri": "https://localhost:8080/"
        },
        "id": "7FhjUTZ4ewLr",
        "outputId": "34cb229f-8634-4bd8-df6d-57451fdf2de7"
      },
      "execution_count": 4,
      "outputs": [
        {
          "output_type": "stream",
          "name": "stdout",
          "text": [
            "Mükemmel Sayı: 6\n",
            "Mükemmel Sayı: 28\n",
            "Mükemmel Sayı: 496\n"
          ]
        }
      ]
    },
    {
      "cell_type": "markdown",
      "source": [
        "Problem 2\n",
        "\n",
        "Kullanıcıdan 2 tane sayı alarak bu sayıların en büyük ortak bölenini (EBOB) dönen bir tane fonksiyon yazın.\n",
        "\n",
        "Problem için şu siteye bakabilirsiniz;\n",
        "\n",
        "http://www.matematikciler.com/6-sinif/matematik-konu-anlatimlari/1020-en-kucuk-ortak-kat-ve-en-buyuk-ortak-bolen-ebob-ekok"
      ],
      "metadata": {
        "id": "PoULG9K-b1kH"
      }
    },
    {
      "cell_type": "code",
      "source": [
        "def ebob_bulma(sayı1,sayı2):\n",
        "    \n",
        "    i = 1\n",
        "    ebob = 1\n",
        "    while (i <= sayı1 and i <= sayı2 ):\n",
        "\n",
        "        if ( not (sayı1 % i) and not (sayı2 % i)):\n",
        "            ebob = i\n",
        "        i += 1\n",
        "    return ebob\n",
        "sayı1 = int(input(\"Sayı-1:\"))\n",
        "sayı2 = int(input(\"Sayı-2:\"))\n",
        "\n",
        "print(\"Ebob:\",ebob_bulma(sayı1,sayı2))"
      ],
      "metadata": {
        "id": "D9yDA962b792"
      },
      "execution_count": null,
      "outputs": []
    },
    {
      "cell_type": "markdown",
      "source": [
        "Problem 3\n",
        "\n",
        "Kullanıcıdan 2 tane sayı alarak bu sayıların en küçük ortak katlarını (EKOK) dönen bir tane fonksiyon yazın.\n",
        "\n",
        "Problem için şu siteye bakabilirsiniz;\n",
        "\n",
        "http://www.matematikciler.com/6-sinif/matematik-konu-anlatimlari/1020-en-kucuk-ortak-kat-ve-en-buyuk-ortak-bolen-ebob-ekok\n",
        "\n"
      ],
      "metadata": {
        "id": "dqL4emd2b8vW"
      }
    },
    {
      "cell_type": "code",
      "source": [
        "def ekok_bulma(sayı1,sayı2):\n",
        "    \n",
        "    i = 2\n",
        "    ekok = 1\n",
        "    while True:\n",
        "        if (sayı1 % i == 0 and sayı2 % i == 0):\n",
        "            ekok *= i\n",
        "\n",
        "            sayı1 //= i\n",
        "            sayı2 //= i\n",
        "\n",
        "\n",
        "        elif (sayı1 % i ==  0 and sayı2 % i != 0):\n",
        "            ekok *= i\n",
        "\n",
        "            sayı1 //= i\n",
        "\n",
        "\n",
        "        elif (sayı1 % i != 0 and sayı2 % i == 0):\n",
        "            ekok *= i\n",
        "\n",
        "            sayı2 //= i\n",
        "        else:\n",
        "            i += 1\n",
        "        if (sayı1 == 1 and sayı2 == 1):\n",
        "            break\n",
        "    return ekok\n",
        "\n",
        "sayı1 = int(input(\"Sayı-1:\"))\n",
        "sayı2 = int(input(\"Sayı-2:\"))\n",
        "\n",
        "print(\"Ekok:\",ekok_bulma(sayı1,sayı2))"
      ],
      "metadata": {
        "id": "P-_7XniNcCmu"
      },
      "execution_count": null,
      "outputs": []
    },
    {
      "cell_type": "markdown",
      "source": [
        "Problem 4\n",
        "\n",
        "Kullanıcıdan 2 basamaklı bir sayı alın ve bu sayının okunuşunu bulan bir fonksiyon yazın.\n",
        "\n",
        "Örnek: 97 ---------> Doksan Yedi"
      ],
      "metadata": {
        "id": "ZCuH5L6scDOB"
      }
    },
    {
      "cell_type": "code",
      "source": [
        "birler =  [\"\",\"Bir\",\"İki\",\"Üç\",\"Dört\",\"Beş\",\"Altı\",\"Yedi\",\"Sekiz\",\"Dokuz\"]\n",
        "onlar = [\"\",\"On\",\"Yirmi\",\"Otuz\",\"Kırk\",\"Elli\",\"Altmış\",\"Yetmiş\",\"Seksen\",\"Doksan\"]\n",
        "\n",
        "def okunus(sayı):\n",
        "    birinci = sayı % 10\n",
        "    ikinci = sayı // 10\n",
        "    \n",
        "    return onlar[ikinci] + \" \" + birler[birinci]\n",
        "\n",
        "    \n",
        "sayı =  int(input(\"Sayı:\"))\n",
        "\n",
        "print(okunus(sayı))"
      ],
      "metadata": {
        "colab": {
          "base_uri": "https://localhost:8080/"
        },
        "id": "eP3BF9OCcHQH",
        "outputId": "f2fd62fa-40ef-495a-ee47-c214417ec82e"
      },
      "execution_count": 8,
      "outputs": [
        {
          "output_type": "stream",
          "name": "stdout",
          "text": [
            "Sayı:5\n",
            " Beş\n"
          ]
        }
      ]
    },
    {
      "cell_type": "markdown",
      "source": [
        "Problem 5\n",
        "\n",
        "1'den 100'e kadar olan sayılardan pisagor üçgeni oluşturanları ekrana yazdıran bir fonksiyon yazın.(a <= 100,b <= 100)"
      ],
      "metadata": {
        "id": "biXR4WFOcHyC"
      }
    },
    {
      "cell_type": "code",
      "source": [
        "def pisagor_bulma():\n",
        "    \n",
        "    pisagor_listesi = list()\n",
        "    for i in range(1,101):\n",
        "        for j in range(1,101):\n",
        "\n",
        "            c = (i ** 2 + j ** 2) ** 0.5\n",
        "\n",
        "            if (c == int(c) ):\n",
        "                pisagor_listesi.append((i,j,int(c)))\n",
        "\n",
        "    return pisagor_listesi\n",
        "\n",
        "for i in pisagor_bulma():\n",
        "    print(i)"
      ],
      "metadata": {
        "colab": {
          "base_uri": "https://localhost:8080/"
        },
        "id": "MpMhdtx4hDJs",
        "outputId": "06856c46-29c5-402d-a7e7-c51af1ea4c57"
      },
      "execution_count": 12,
      "outputs": [
        {
          "output_type": "stream",
          "name": "stdout",
          "text": [
            "(3, 4, 5)\n",
            "(4, 3, 5)\n",
            "(5, 12, 13)\n",
            "(6, 8, 10)\n",
            "(7, 24, 25)\n",
            "(8, 6, 10)\n",
            "(8, 15, 17)\n",
            "(9, 12, 15)\n",
            "(9, 40, 41)\n",
            "(10, 24, 26)\n",
            "(11, 60, 61)\n",
            "(12, 5, 13)\n",
            "(12, 9, 15)\n",
            "(12, 16, 20)\n",
            "(12, 35, 37)\n",
            "(13, 84, 85)\n",
            "(14, 48, 50)\n",
            "(15, 8, 17)\n",
            "(15, 20, 25)\n",
            "(15, 36, 39)\n",
            "(16, 12, 20)\n",
            "(16, 30, 34)\n",
            "(16, 63, 65)\n",
            "(18, 24, 30)\n",
            "(18, 80, 82)\n",
            "(20, 15, 25)\n",
            "(20, 21, 29)\n",
            "(20, 48, 52)\n",
            "(20, 99, 101)\n",
            "(21, 20, 29)\n",
            "(21, 28, 35)\n",
            "(21, 72, 75)\n",
            "(24, 7, 25)\n",
            "(24, 10, 26)\n",
            "(24, 18, 30)\n",
            "(24, 32, 40)\n",
            "(24, 45, 51)\n",
            "(24, 70, 74)\n",
            "(25, 60, 65)\n",
            "(27, 36, 45)\n",
            "(28, 21, 35)\n",
            "(28, 45, 53)\n",
            "(28, 96, 100)\n",
            "(30, 16, 34)\n",
            "(30, 40, 50)\n",
            "(30, 72, 78)\n",
            "(32, 24, 40)\n",
            "(32, 60, 68)\n",
            "(33, 44, 55)\n",
            "(33, 56, 65)\n",
            "(35, 12, 37)\n",
            "(35, 84, 91)\n",
            "(36, 15, 39)\n",
            "(36, 27, 45)\n",
            "(36, 48, 60)\n",
            "(36, 77, 85)\n",
            "(39, 52, 65)\n",
            "(39, 80, 89)\n",
            "(40, 9, 41)\n",
            "(40, 30, 50)\n",
            "(40, 42, 58)\n",
            "(40, 75, 85)\n",
            "(40, 96, 104)\n",
            "(42, 40, 58)\n",
            "(42, 56, 70)\n",
            "(44, 33, 55)\n",
            "(45, 24, 51)\n",
            "(45, 28, 53)\n",
            "(45, 60, 75)\n",
            "(48, 14, 50)\n",
            "(48, 20, 52)\n",
            "(48, 36, 60)\n",
            "(48, 55, 73)\n",
            "(48, 64, 80)\n",
            "(48, 90, 102)\n",
            "(51, 68, 85)\n",
            "(52, 39, 65)\n",
            "(54, 72, 90)\n",
            "(55, 48, 73)\n",
            "(56, 33, 65)\n",
            "(56, 42, 70)\n",
            "(56, 90, 106)\n",
            "(57, 76, 95)\n",
            "(60, 11, 61)\n",
            "(60, 25, 65)\n",
            "(60, 32, 68)\n",
            "(60, 45, 75)\n",
            "(60, 63, 87)\n",
            "(60, 80, 100)\n",
            "(60, 91, 109)\n",
            "(63, 16, 65)\n",
            "(63, 60, 87)\n",
            "(63, 84, 105)\n",
            "(64, 48, 80)\n",
            "(65, 72, 97)\n",
            "(66, 88, 110)\n",
            "(68, 51, 85)\n",
            "(69, 92, 115)\n",
            "(70, 24, 74)\n",
            "(72, 21, 75)\n",
            "(72, 30, 78)\n",
            "(72, 54, 90)\n",
            "(72, 65, 97)\n",
            "(72, 96, 120)\n",
            "(75, 40, 85)\n",
            "(75, 100, 125)\n",
            "(76, 57, 95)\n",
            "(77, 36, 85)\n",
            "(80, 18, 82)\n",
            "(80, 39, 89)\n",
            "(80, 60, 100)\n",
            "(80, 84, 116)\n",
            "(84, 13, 85)\n",
            "(84, 35, 91)\n",
            "(84, 63, 105)\n",
            "(84, 80, 116)\n",
            "(88, 66, 110)\n",
            "(90, 48, 102)\n",
            "(90, 56, 106)\n",
            "(91, 60, 109)\n",
            "(92, 69, 115)\n",
            "(96, 28, 100)\n",
            "(96, 40, 104)\n",
            "(96, 72, 120)\n",
            "(99, 20, 101)\n",
            "(100, 75, 125)\n"
          ]
        }
      ]
    }
  ]
}