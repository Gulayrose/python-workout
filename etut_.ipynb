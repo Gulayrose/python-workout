{
  "nbformat": 4,
  "nbformat_minor": 0,
  "metadata": {
    "colab": {
      "name": "etut.",
      "provenance": [],
      "authorship_tag": "ABX9TyMN9WjYEUqpLycv5M0C/JXy",
      "include_colab_link": true
    },
    "kernelspec": {
      "name": "python3",
      "display_name": "Python 3"
    },
    "language_info": {
      "name": "python"
    }
  },
  "cells": [
    {
      "cell_type": "markdown",
      "metadata": {
        "id": "view-in-github",
        "colab_type": "text"
      },
      "source": [
        "<a href=\"https://colab.research.google.com/github/Gulayrose/python-workout/blob/main/etut_.ipynb\" target=\"_parent\"><img src=\"https://colab.research.google.com/assets/colab-badge.svg\" alt=\"Open In Colab\"/></a>"
      ]
    },
    {
      "cell_type": "code",
      "metadata": {
        "colab": {
          "base_uri": "https://localhost:8080/"
        },
        "id": "EeV2tNSIVrsb",
        "outputId": "939235dc-5066-4195-c3d9-155e0cbf711c"
      },
      "source": [
        "#1. kullanicidan alinan gunluk el yikama suresi ve haftada kac sn yikadiginin\n",
        "#algoritmasi.her yikama 21sn ve ay 30 gun olarak bul.\n",
        "\n",
        "\n",
        "per_day , mounts=list(map(int,input(\"\").split())) #iki tane deger alabiliriz bu sekilde birden fazla veri girebiliriz.\n",
        "total_second = 21*per_day*30*mounts # yukarda list koymadan da tuple da koyabilirdik yada sadece map de kalabilirdi.\n",
        "minutes=total_second // 60\n",
        "seconds=total_second % 60\n",
        "print(\"{} minutes and {} seconds.\".format(minutes, seconds))"
      ],
      "execution_count": null,
      "outputs": [
        {
          "output_type": "stream",
          "name": "stdout",
          "text": [
            "6 8\n",
            "504 minutes and 0 seconds.\n"
          ]
        }
      ]
    },
    {
      "cell_type": "code",
      "metadata": {
        "colab": {
          "base_uri": "https://localhost:8080/"
        },
        "id": "6aIz47G8Vr2k",
        "outputId": "070bda15-3965-4de4-b727-0e65dc4de836"
      },
      "source": [
        "#bir liste olusturun ve eger icindeki sayilar even ise ve en buyuk sayiiyi \n",
        "#yazdir degilse -1 yazdir\n",
        "arry =[1,3,5,7]\n",
        "max_even = -1\n",
        "for i in arry :\n",
        "    if i % 2 ==0 and i > max_even :\n",
        "      max_even = i\n",
        "print(max_even)      "
      ],
      "execution_count": null,
      "outputs": [
        {
          "output_type": "stream",
          "name": "stdout",
          "text": [
            "-1\n"
          ]
        }
      ]
    },
    {
      "cell_type": "code",
      "metadata": {
        "colab": {
          "base_uri": "https://localhost:8080/",
          "height": 198
        },
        "id": "xGXTGnBmVr5t",
        "outputId": "99a5b74f-1baf-44e7-fa76-892cd82b3ee9"
      },
      "source": [
        "ary = list(map(int, input(\"\").split(\"\")))\n",
        "print(ary)"
      ],
      "execution_count": null,
      "outputs": [
        {
          "name": "stdout",
          "output_type": "stream",
          "text": [
            "4 5 6 7\n"
          ]
        },
        {
          "output_type": "error",
          "ename": "ValueError",
          "evalue": "ignored",
          "traceback": [
            "\u001b[0;31m---------------------------------------------------------------------------\u001b[0m",
            "\u001b[0;31mValueError\u001b[0m                                Traceback (most recent call last)",
            "\u001b[0;32m<ipython-input-21-426b2461ad50>\u001b[0m in \u001b[0;36m<module>\u001b[0;34m()\u001b[0m\n\u001b[0;32m----> 1\u001b[0;31m \u001b[0mary\u001b[0m \u001b[0;34m=\u001b[0m \u001b[0mlist\u001b[0m\u001b[0;34m(\u001b[0m\u001b[0mmap\u001b[0m\u001b[0;34m(\u001b[0m\u001b[0mint\u001b[0m\u001b[0;34m,\u001b[0m \u001b[0minput\u001b[0m\u001b[0;34m(\u001b[0m\u001b[0;34m\"\"\u001b[0m\u001b[0;34m)\u001b[0m\u001b[0;34m.\u001b[0m\u001b[0msplit\u001b[0m\u001b[0;34m(\u001b[0m\u001b[0;34m\"\"\u001b[0m\u001b[0;34m)\u001b[0m\u001b[0;34m)\u001b[0m\u001b[0;34m)\u001b[0m\u001b[0;34m\u001b[0m\u001b[0;34m\u001b[0m\u001b[0m\n\u001b[0m\u001b[1;32m      2\u001b[0m \u001b[0mprint\u001b[0m\u001b[0;34m(\u001b[0m\u001b[0mary\u001b[0m\u001b[0;34m)\u001b[0m\u001b[0;34m\u001b[0m\u001b[0;34m\u001b[0m\u001b[0m\n",
            "\u001b[0;31mValueError\u001b[0m: empty separator"
          ]
        }
      ]
    },
    {
      "cell_type": "code",
      "metadata": {
        "colab": {
          "base_uri": "https://localhost:8080/"
        },
        "id": "Ml0p2I7_Vr8V",
        "outputId": "1c63b9ee-1ad1-4fe5-f551-f76ed61576cf"
      },
      "source": [
        "#girilen sayinin toplami tek ise oddish ciftse evenish yaziran program\n",
        "num =input(\"lutfen bir sayi giriniz\")\n",
        "toplam =0\n",
        "for i in num :\n",
        "  toplam += int(i)\n",
        "if toplam % 2 : #if herzaman true aldigi icin direk sadece 2 ye bolunebilen diye yazdirdik\n",
        "   print(\"oddish\") \n",
        "else :\n",
        "   print(evenish)    #print(\"evenish\" if toplam % 2 ==0 else \"oddish\")\n"
      ],
      "execution_count": null,
      "outputs": [
        {
          "output_type": "stream",
          "name": "stdout",
          "text": [
            "lutfen bir sayi giriniz78\n",
            "oddish\n"
          ]
        }
      ]
    },
    {
      "cell_type": "code",
      "metadata": {
        "colab": {
          "base_uri": "https://localhost:8080/"
        },
        "id": "v7YMcp3SVr-8",
        "outputId": "efa34554-8398-431b-de94-dda182c19b48"
      },
      "source": [
        "#pyramid yazdirma\n",
        "rows = int(input(\"please enter a number :\"))\n",
        "\n",
        "for i in range(1,rows+1) : # rangeden istedigimiz sey 1 den basla ve girilen sayinin bir fazlasina kadar yazdir \n",
        "  print(*(i* str(i))) # girilen sayiyi pramid seklinde her line da olan sayiyi kendi str ile carp.\n",
        "  # * en basa bunu koyduk ciktilarin arasina bosluk koymak icin \n",
        "\n"
      ],
      "execution_count": null,
      "outputs": [
        {
          "output_type": "stream",
          "name": "stdout",
          "text": [
            "please enter a number :6\n",
            "1\n",
            "2 2\n",
            "3 3 3\n",
            "4 4 4 4\n",
            "5 5 5 5 5\n",
            "6 6 6 6 6 6\n"
          ]
        }
      ]
    },
    {
      "cell_type": "code",
      "metadata": {
        "colab": {
          "base_uri": "https://localhost:8080/"
        },
        "id": "uU48NxLCVsBz",
        "outputId": "56e73583-b2b0-48da-dad0-387ae5277dd2"
      },
      "source": [
        "# fruit salad \n",
        "arry= [\"apple\",\"banana\",\"grape\"]\n",
        "new_arry = []\n",
        "for i in arry :\n",
        "   new_arry.append(i[:len(i) // 2])\n",
        "   new_arry.append(i[len(i)//2:])\n",
        "print(sorted(new_arry)) #sorted gecici calistiriyo.\n"
      ],
      "execution_count": null,
      "outputs": [
        {
          "output_type": "stream",
          "name": "stdout",
          "text": [
            "['ana', 'ap', 'ape', 'ban', 'gr', 'ple']\n"
          ]
        }
      ]
    },
    {
      "cell_type": "code",
      "metadata": {
        "colab": {
          "base_uri": "https://localhost:8080/"
        },
        "id": "xaKLa6zUVsEa",
        "outputId": "67537230-3a2c-4fa2-837f-51743a1776e6"
      },
      "source": [
        "new_arry.sort()# bu sekilde de yapilabilir \n",
        "print(new_arry)"
      ],
      "execution_count": null,
      "outputs": [
        {
          "output_type": "stream",
          "name": "stdout",
          "text": [
            "['ana', 'ap', 'ape', 'ban', 'gr', 'ple']\n"
          ]
        }
      ]
    },
    {
      "cell_type": "code",
      "metadata": {
        "colab": {
          "base_uri": "https://localhost:8080/",
          "height": 35
        },
        "id": "GNRUHeo1VsHB",
        "outputId": "01a9e4ea-b269-425c-87e9-012c03a91afc"
      },
      "source": [
        "salad=\"\"\n",
        "for i in new_arry :\n",
        "   salad += i\n",
        "salad   "
      ],
      "execution_count": null,
      "outputs": [
        {
          "output_type": "execute_result",
          "data": {
            "application/vnd.google.colaboratory.intrinsic+json": {
              "type": "string"
            },
            "text/plain": [
              "'anaapapebangrple'"
            ]
          },
          "metadata": {},
          "execution_count": 28
        }
      ]
    },
    {
      "cell_type": "code",
      "metadata": {
        "colab": {
          "base_uri": "https://localhost:8080/"
        },
        "id": "Q80jcfIMVsKK",
        "outputId": "1194e45d-85ca-4e93-aaca-b79b7aa621b4"
      },
      "source": [
        "print(\"\".join(new_arry)) # bu sekilde de ciktilarimizin hepsini birlastirebiliriz."
      ],
      "execution_count": null,
      "outputs": [
        {
          "output_type": "stream",
          "name": "stdout",
          "text": [
            "anaapapebangrple\n"
          ]
        }
      ]
    },
    {
      "cell_type": "code",
      "metadata": {
        "colab": {
          "base_uri": "https://localhost:8080/"
        },
        "id": "1vqqoSQoVsOk",
        "outputId": "b98909be-c526-41a9-ade7-67c86eee18c1"
      },
      "source": [
        "text = \"clarusway\"\n",
        "print(\"-\".join(text))# icindeki butun elemanlari alip aralarina - koy"
      ],
      "execution_count": null,
      "outputs": [
        {
          "output_type": "stream",
          "name": "stdout",
          "text": [
            "c-l-a-r-u-s-w-a-y\n"
          ]
        }
      ]
    },
    {
      "cell_type": "code",
      "metadata": {
        "colab": {
          "base_uri": "https://localhost:8080/"
        },
        "id": "2XWw5SXTVsSM",
        "outputId": "3b9d9cc0-6e60-4731-fec4-ff7ccf7bd78a"
      },
      "source": [
        "#asal sayi bulma .Asal sayi 1 e ve kendine bolunebilen sayi.pozitif num iste.\n",
        "num= int(input(\"please enter a number : \"))\n",
        "for i in range(2,num) :\n",
        "   if num % i !=0 :\n",
        "     print(\"asal sayidir\")\n",
        "else :\n",
        "  print(\"bu bir asal sayi degildir\")     \n"
      ],
      "execution_count": null,
      "outputs": [
        {
          "output_type": "stream",
          "name": "stdout",
          "text": [
            "please enter a number : 2\n",
            "bu bir asal sayi degildir\n"
          ]
        }
      ]
    },
    {
      "cell_type": "code",
      "metadata": {
        "colab": {
          "base_uri": "https://localhost:8080/"
        },
        "id": "H5QYfsA-VsVF",
        "outputId": "bc19f48f-217b-4357-bd27-3647cd3d0ec8"
      },
      "source": [
        "#bize verilen string in sesli harflerini girilen sayi kadar uzatsin \n",
        "text1 = input(\"please enter a word :\").lower()\n",
        "num = int(input(\"Please enter a number :\"))\n",
        "new_text = (\"\")\n",
        "vowels = \"aeiuo\"\n",
        "\n",
        "for i in text1 :\n",
        "  if i in vowels and num >0:\n",
        "    new_text += i *(num+1)\n",
        "  elif i in vowels and num ==0 :\n",
        "     new_text += i \n",
        "  else :\n",
        "     new_text += i\n",
        "print(new_text)       "
      ],
      "execution_count": null,
      "outputs": [
        {
          "output_type": "stream",
          "name": "stdout",
          "text": [
            "please enter a word :merhaba\n",
            "Please enter a number :4\n",
            "meeeeerhaaaaabaaaaa\n"
          ]
        }
      ]
    },
    {
      "cell_type": "code",
      "metadata": {
        "id": "MVIkLOuNVsX7"
      },
      "source": [
        ""
      ],
      "execution_count": null,
      "outputs": []
    },
    {
      "cell_type": "code",
      "metadata": {
        "id": "jFxMUftoVsaj"
      },
      "source": [
        ""
      ],
      "execution_count": null,
      "outputs": []
    },
    {
      "cell_type": "code",
      "metadata": {
        "id": "zE5sotmKVsdr"
      },
      "source": [
        ""
      ],
      "execution_count": null,
      "outputs": []
    },
    {
      "cell_type": "code",
      "metadata": {
        "id": "pBKxr1uwVsgj"
      },
      "source": [
        ""
      ],
      "execution_count": null,
      "outputs": []
    },
    {
      "cell_type": "code",
      "metadata": {
        "id": "FG0eUrB7Vsiw"
      },
      "source": [
        ""
      ],
      "execution_count": null,
      "outputs": []
    },
    {
      "cell_type": "code",
      "metadata": {
        "id": "KxQYWpaPVsnU"
      },
      "source": [
        ""
      ],
      "execution_count": null,
      "outputs": []
    },
    {
      "cell_type": "code",
      "metadata": {
        "id": "s2x5-WCcVsqM"
      },
      "source": [
        ""
      ],
      "execution_count": null,
      "outputs": []
    }
  ]
}