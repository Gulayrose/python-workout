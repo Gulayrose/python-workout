{
  "nbformat": 4,
  "nbformat_minor": 0,
  "metadata": {
    "colab": {
      "name": "second biggest",
      "provenance": [],
      "authorship_tag": "ABX9TyMVBBAWPLF4dYXPeJOjPEsK",
      "include_colab_link": true
    },
    "kernelspec": {
      "name": "python3",
      "display_name": "Python 3"
    },
    "language_info": {
      "name": "python"
    }
  },
  "cells": [
    {
      "cell_type": "markdown",
      "metadata": {
        "id": "view-in-github",
        "colab_type": "text"
      },
      "source": [
        "<a href=\"https://colab.research.google.com/github/Gulayrose/python-workout/blob/main/second_biggest.ipynb\" target=\"_parent\"><img src=\"https://colab.research.google.com/assets/colab-badge.svg\" alt=\"Open In Colab\"/></a>"
      ]
    },
    {
      "cell_type": "code",
      "execution_count": 4,
      "metadata": {
        "colab": {
          "base_uri": "https://localhost:8080/"
        },
        "id": "s0ZvnLmT3O38",
        "outputId": "267c178c-b057-478e-ca13-ee20dd7a7858"
      },
      "outputs": [
        {
          "output_type": "execute_result",
          "data": {
            "text/plain": [
              "9"
            ]
          },
          "metadata": {},
          "execution_count": 4
        }
      ],
      "source": [
        "def sec_big():\n",
        "  liste = [2,5,-3,10,8,8,10,7,5,9]\n",
        "  return sorted(set(liste), reverse =True)[1]\n",
        "sec_big()"
      ]
    },
    {
      "cell_type": "code",
      "source": [
        ""
      ],
      "metadata": {
        "id": "hIllJGk76Voa"
      },
      "execution_count": null,
      "outputs": []
    }
  ]
}