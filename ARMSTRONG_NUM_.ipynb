{
  "nbformat": 4,
  "nbformat_minor": 0,
  "metadata": {
    "colab": {
      "name": "ARMSTRONG NUM.",
      "provenance": [],
      "authorship_tag": "ABX9TyNDzEKF/gaaiBR1ycLUf0mG",
      "include_colab_link": true
    },
    "kernelspec": {
      "name": "python3",
      "display_name": "Python 3"
    },
    "language_info": {
      "name": "python"
    }
  },
  "cells": [
    {
      "cell_type": "markdown",
      "metadata": {
        "id": "view-in-github",
        "colab_type": "text"
      },
      "source": [
        "<a href=\"https://colab.research.google.com/github/Gulayrose/python-workout/blob/main/ARMSTRONG_NUM_.ipynb\" target=\"_parent\"><img src=\"https://colab.research.google.com/assets/colab-badge.svg\" alt=\"Open In Colab\"/></a>"
      ]
    },
    {
      "cell_type": "code",
      "execution_count": 3,
      "metadata": {
        "colab": {
          "base_uri": "https://localhost:8080/"
        },
        "id": "pQGBnS8QeDVt",
        "outputId": "e4b347a1-6f66-4c3d-840a-a261147394c0"
      },
      "outputs": [
        {
          "output_type": "stream",
          "name": "stdout",
          "text": [
            "Please enter a number: 1634\n",
            "1634 is a armstrong number\n"
          ]
        }
      ],
      "source": [
        "number = input(\"Please enter a number: \")\n",
        "toplam = sum([int(i) ** len(number) for i in number])\n",
        "if int(number) == toplam :\n",
        "  print(number, \"is a armstrong number\")\n",
        "else:\n",
        "  print(number, \"is not a armstrong number\")"
      ]
    },
    {
      "cell_type": "code",
      "source": [
        "#alternatif\n",
        "number = input(\"Please enter a number: \")\n",
        "total = 0\n",
        "for i in number:\n",
        "  total += int(i) ** len(number)\n",
        "\n",
        "if int(number) == total :\n",
        "  print(number, \"is a armstrong number\")\n",
        "else:\n",
        "  print(number, \"is not a armstrong number\")"
      ],
      "metadata": {
        "colab": {
          "base_uri": "https://localhost:8080/"
        },
        "id": "fSphowmKeKqk",
        "outputId": "10e27ba0-b47c-43ee-e3a4-c064cf9657e4"
      },
      "execution_count": 2,
      "outputs": [
        {
          "output_type": "stream",
          "name": "stdout",
          "text": [
            "Please enter a number: 371\n",
            "371 is a armstrong number\n"
          ]
        }
      ]
    }
  ]
}