{
  "nbformat": 4,
  "nbformat_minor": 0,
  "metadata": {
    "colab": {
      "name": "built in functions",
      "provenance": [],
      "authorship_tag": "ABX9TyPGBzRJww2NLBv6Ko+X1hhn",
      "include_colab_link": true
    },
    "kernelspec": {
      "name": "python3",
      "display_name": "Python 3"
    },
    "language_info": {
      "name": "python"
    }
  },
  "cells": [
    {
      "cell_type": "markdown",
      "metadata": {
        "id": "view-in-github",
        "colab_type": "text"
      },
      "source": [
        "<a href=\"https://colab.research.google.com/github/Gulayrose/python-workout/blob/main/built_in_functions.ipynb\" target=\"_parent\"><img src=\"https://colab.research.google.com/assets/colab-badge.svg\" alt=\"Open In Colab\"/></a>"
      ]
    },
    {
      "cell_type": "code",
      "source": [
        "#map()\n",
        "def double(x):\n",
        "  return x * 2\n",
        "  "
      ],
      "metadata": {
        "id": "i0DyHcLxzagd"
      },
      "execution_count": 2,
      "outputs": []
    },
    {
      "cell_type": "code",
      "source": [
        "list(map(double,[1,2,3,4,5]))"
      ],
      "metadata": {
        "colab": {
          "base_uri": "https://localhost:8080/"
        },
        "id": "3sp1dO8lFb5U",
        "outputId": "25701336-3c0b-4ad3-b528-069072494c18"
      },
      "execution_count": 3,
      "outputs": [
        {
          "output_type": "execute_result",
          "data": {
            "text/plain": [
              "[2, 4, 6, 8, 10]"
            ]
          },
          "metadata": {},
          "execution_count": 3
        }
      ]
    },
    {
      "cell_type": "code",
      "source": [
        "list(map(lambda x : x ** 2,(1,2,3,4,5,6,7,8,9,10)))"
      ],
      "metadata": {
        "colab": {
          "base_uri": "https://localhost:8080/"
        },
        "id": "gVrpH6unFb76",
        "outputId": "0fa5a94d-7ba4-40a0-ff47-9e89f0ef179c"
      },
      "execution_count": 4,
      "outputs": [
        {
          "output_type": "execute_result",
          "data": {
            "text/plain": [
              "[1, 4, 9, 16, 25, 36, 49, 64, 81, 100]"
            ]
          },
          "metadata": {},
          "execution_count": 4
        }
      ]
    },
    {
      "cell_type": "code",
      "source": [
        "liste1 = [1,2,3]\n",
        "liste2 = [4,5,6]\n",
        "liste3 = [7,4,8,9,0,1]"
      ],
      "metadata": {
        "id": "uoCkdul2Fb-j"
      },
      "execution_count": 5,
      "outputs": []
    },
    {
      "cell_type": "code",
      "source": [
        "list(map(lambda x,y : x * y, liste1,liste2))"
      ],
      "metadata": {
        "colab": {
          "base_uri": "https://localhost:8080/"
        },
        "id": "t4e0dQNlFcC8",
        "outputId": "1002f7c1-1073-45af-c5ca-adcbc939a2a5"
      },
      "execution_count": 6,
      "outputs": [
        {
          "output_type": "execute_result",
          "data": {
            "text/plain": [
              "[4, 10, 18]"
            ]
          },
          "metadata": {},
          "execution_count": 6
        }
      ]
    },
    {
      "cell_type": "code",
      "source": [
        "list(map(lambda x,y,z : x + y + z ,liste1,liste2,liste3))"
      ],
      "metadata": {
        "colab": {
          "base_uri": "https://localhost:8080/"
        },
        "id": "5Pz0TClUGkTW",
        "outputId": "79f7e40a-73a3-433f-bb83-af8079d90cba"
      },
      "execution_count": 8,
      "outputs": [
        {
          "output_type": "execute_result",
          "data": {
            "text/plain": [
              "[12, 11, 17]"
            ]
          },
          "metadata": {},
          "execution_count": 8
        }
      ]
    },
    {
      "cell_type": "code",
      "source": [
        "#REDUCE"
      ],
      "metadata": {
        "id": "cpRZj6cBIZQ6"
      },
      "execution_count": null,
      "outputs": []
    },
    {
      "cell_type": "code",
      "source": [
        "from functools import reduce"
      ],
      "metadata": {
        "id": "fK7xlfskGkQu"
      },
      "execution_count": 15,
      "outputs": []
    },
    {
      "cell_type": "code",
      "source": [
        "def toplama(x,y):\n",
        "  return x+y"
      ],
      "metadata": {
        "id": "avwirtUVGkN3"
      },
      "execution_count": 10,
      "outputs": []
    },
    {
      "cell_type": "code",
      "source": [
        "reduce(toplama,[12,18,20,10])"
      ],
      "metadata": {
        "colab": {
          "base_uri": "https://localhost:8080/"
        },
        "id": "riwMcxKVGkLQ",
        "outputId": "85c63ec7-167e-47f0-fa87-2b2f85d39f24"
      },
      "execution_count": 11,
      "outputs": [
        {
          "output_type": "execute_result",
          "data": {
            "text/plain": [
              "60"
            ]
          },
          "metadata": {},
          "execution_count": 11
        }
      ]
    },
    {
      "cell_type": "code",
      "source": [
        "reduce(lambda x,y :x *y, [1,2,3,4,5]) #factoriyel de kullanilabilir"
      ],
      "metadata": {
        "colab": {
          "base_uri": "https://localhost:8080/"
        },
        "id": "BybiqqSNGkIZ",
        "outputId": "29c8ef2d-13d5-4c20-acf4-585f6100b5f8"
      },
      "execution_count": 12,
      "outputs": [
        {
          "output_type": "execute_result",
          "data": {
            "text/plain": [
              "120"
            ]
          },
          "metadata": {},
          "execution_count": 12
        }
      ]
    },
    {
      "cell_type": "code",
      "source": [
        "def maksimum(x,y):\n",
        "  if x > y :\n",
        "    return x\n",
        "  else :\n",
        "    return y  "
      ],
      "metadata": {
        "id": "tOaiMKofGkFy"
      },
      "execution_count": 13,
      "outputs": []
    },
    {
      "cell_type": "code",
      "source": [
        "reduce(maksimum,[5,3,-2,1])"
      ],
      "metadata": {
        "colab": {
          "base_uri": "https://localhost:8080/"
        },
        "id": "rx23NUNCGkC7",
        "outputId": "bddef380-e02f-433b-ad6f-2031176ba0b4"
      },
      "execution_count": 14,
      "outputs": [
        {
          "output_type": "execute_result",
          "data": {
            "text/plain": [
              "5"
            ]
          },
          "metadata": {},
          "execution_count": 14
        }
      ]
    },
    {
      "cell_type": "code",
      "source": [
        "#FILTER FONK TRUE ise calisir "
      ],
      "metadata": {
        "id": "4r10LhATGkAE"
      },
      "execution_count": null,
      "outputs": []
    },
    {
      "cell_type": "code",
      "source": [
        "filter(lambda x : x% 2 == 0,[1,2,3,4,5,6,7])"
      ],
      "metadata": {
        "colab": {
          "base_uri": "https://localhost:8080/"
        },
        "id": "Ph5IlDiLINmX",
        "outputId": "afed4a9b-71c4-4d13-db3e-42cfe0ea2f13"
      },
      "execution_count": 16,
      "outputs": [
        {
          "output_type": "execute_result",
          "data": {
            "text/plain": [
              "<filter at 0x7fe9cfcb3250>"
            ]
          },
          "metadata": {},
          "execution_count": 16
        }
      ]
    },
    {
      "cell_type": "code",
      "source": [
        "list(filter(lambda x : x% 2 == 0,[1,2,3,4,5,6,7]))"
      ],
      "metadata": {
        "colab": {
          "base_uri": "https://localhost:8080/"
        },
        "id": "Oohd8FxSINjx",
        "outputId": "6b5fd4a1-abfc-42a2-b332-226e545ae539"
      },
      "execution_count": 17,
      "outputs": [
        {
          "output_type": "execute_result",
          "data": {
            "text/plain": [
              "[2, 4, 6]"
            ]
          },
          "metadata": {},
          "execution_count": 17
        }
      ]
    },
    {
      "cell_type": "code",
      "source": [
        "def asal_mi(x):\n",
        "  i = 2\n",
        "\n",
        "  if(x == 1):\n",
        "     return False\n",
        "  elif (x == 2):\n",
        "     return True\n",
        "  else :\n",
        "\n",
        "     while(i < x ):\n",
        "\n",
        "        if (x % i == 0):\n",
        "           return False\n",
        "        i +=1\n",
        "     return True            "
      ],
      "metadata": {
        "id": "ASKUVyNCINgn"
      },
      "execution_count": 18,
      "outputs": []
    },
    {
      "cell_type": "code",
      "source": [
        "asal_mi(7)"
      ],
      "metadata": {
        "colab": {
          "base_uri": "https://localhost:8080/"
        },
        "id": "21aY8QwxINdx",
        "outputId": "31f0d7f3-73a5-4fe9-c556-eda318ed6ba5"
      },
      "execution_count": 19,
      "outputs": [
        {
          "output_type": "execute_result",
          "data": {
            "text/plain": [
              "True"
            ]
          },
          "metadata": {},
          "execution_count": 19
        }
      ]
    },
    {
      "cell_type": "code",
      "source": [
        "asal_mi(10)"
      ],
      "metadata": {
        "colab": {
          "base_uri": "https://localhost:8080/"
        },
        "id": "0Vjh_m_dINbK",
        "outputId": "0da40b52-eb00-43e4-b611-eceed219116d"
      },
      "execution_count": 20,
      "outputs": [
        {
          "output_type": "execute_result",
          "data": {
            "text/plain": [
              "False"
            ]
          },
          "metadata": {},
          "execution_count": 20
        }
      ]
    },
    {
      "cell_type": "code",
      "source": [
        "list(filter(asal_mi,range(1,100)))"
      ],
      "metadata": {
        "colab": {
          "base_uri": "https://localhost:8080/"
        },
        "id": "74Otms1wINVL",
        "outputId": "714f44cc-ecb6-43e5-e773-b90a57e7def0"
      },
      "execution_count": 21,
      "outputs": [
        {
          "output_type": "execute_result",
          "data": {
            "text/plain": [
              "[2,\n",
              " 3,\n",
              " 5,\n",
              " 7,\n",
              " 11,\n",
              " 13,\n",
              " 17,\n",
              " 19,\n",
              " 23,\n",
              " 29,\n",
              " 31,\n",
              " 37,\n",
              " 41,\n",
              " 43,\n",
              " 47,\n",
              " 53,\n",
              " 59,\n",
              " 61,\n",
              " 67,\n",
              " 71,\n",
              " 73,\n",
              " 79,\n",
              " 83,\n",
              " 89,\n",
              " 97]"
            ]
          },
          "metadata": {},
          "execution_count": 21
        }
      ]
    },
    {
      "cell_type": "code",
      "source": [
        "#zip"
      ],
      "metadata": {
        "id": "H3hhcArcJ_we"
      },
      "execution_count": null,
      "outputs": []
    },
    {
      "cell_type": "code",
      "source": [
        "a = [1,2,3,4,5,6]\n",
        "b = [5,6,7,8,9]\n",
        "list(zip(a,b))"
      ],
      "metadata": {
        "colab": {
          "base_uri": "https://localhost:8080/"
        },
        "id": "LfbaBSikJ_uI",
        "outputId": "c0726ad5-38fa-4c4f-c734-351601924d10"
      },
      "execution_count": 1,
      "outputs": [
        {
          "output_type": "execute_result",
          "data": {
            "text/plain": [
              "[(1, 5), (2, 6), (3, 7), (4, 8), (5, 9)]"
            ]
          },
          "metadata": {},
          "execution_count": 1
        }
      ]
    },
    {
      "cell_type": "code",
      "source": [
        "c = [\"py\",\"thon\",\"java\"]\n",
        "zip(a,b,c)"
      ],
      "metadata": {
        "colab": {
          "base_uri": "https://localhost:8080/"
        },
        "id": "5k1MhUgjINST",
        "outputId": "3f9b21c7-7ef0-4270-be65-e5805a9bf08b"
      },
      "execution_count": 2,
      "outputs": [
        {
          "output_type": "execute_result",
          "data": {
            "text/plain": [
              "<zip at 0x7fecd8dfb1e0>"
            ]
          },
          "metadata": {},
          "execution_count": 2
        }
      ]
    },
    {
      "cell_type": "code",
      "source": [
        "list(zip(a,b,c))"
      ],
      "metadata": {
        "colab": {
          "base_uri": "https://localhost:8080/"
        },
        "id": "L3sTi5DHINMk",
        "outputId": "f9006616-fc80-48ca-eb67-a4c0ccf718bd"
      },
      "execution_count": 3,
      "outputs": [
        {
          "output_type": "execute_result",
          "data": {
            "text/plain": [
              "[(1, 5, 'py'), (2, 6, 'thon'), (3, 7, 'java')]"
            ]
          },
          "metadata": {},
          "execution_count": 3
        }
      ]
    },
    {
      "cell_type": "code",
      "source": [
        "liste1 = [1,2,3,4,5]\n",
        "liste2 = [\"python\",\"java\",\"html\",\"css\",\"istatistik\",\"nlp\"]\n",
        "for i,j in zip(liste1,liste2):\n",
        "  print(i,j)"
      ],
      "metadata": {
        "colab": {
          "base_uri": "https://localhost:8080/"
        },
        "id": "ZakmlklgJ0kK",
        "outputId": "87d9f423-a0b4-48a6-afaa-e991fb6c5f91"
      },
      "execution_count": 5,
      "outputs": [
        {
          "output_type": "stream",
          "name": "stdout",
          "text": [
            "1 python\n",
            "2 java\n",
            "3 html\n",
            "4 css\n",
            "5 istatistik\n"
          ]
        }
      ]
    },
    {
      "cell_type": "code",
      "source": [
        "dict1 = {\"elma\":1,\"armut\":2,\"kiraz\":0}\n",
        "dict2 = {\"bir\":3,\"iki\":4,\"bes\":9}\n",
        "list(zip(dict1,dict2))"
      ],
      "metadata": {
        "colab": {
          "base_uri": "https://localhost:8080/"
        },
        "id": "BXF2OiMpJ0g5",
        "outputId": "ace8ea28-854d-4002-be30-04e72c23d4fd"
      },
      "execution_count": 6,
      "outputs": [
        {
          "output_type": "execute_result",
          "data": {
            "text/plain": [
              "[('elma', 'bir'), ('armut', 'iki'), ('kiraz', 'bes')]"
            ]
          },
          "metadata": {},
          "execution_count": 6
        }
      ]
    },
    {
      "cell_type": "code",
      "source": [
        "list(zip(dict1.items(),dict2.items()))"
      ],
      "metadata": {
        "colab": {
          "base_uri": "https://localhost:8080/"
        },
        "id": "DboUgYRfJ0ec",
        "outputId": "af77dc25-85f6-46bf-de72-8cd3a43703a9"
      },
      "execution_count": 7,
      "outputs": [
        {
          "output_type": "execute_result",
          "data": {
            "text/plain": [
              "[(('elma', 1), ('bir', 3)),\n",
              " (('armut', 2), ('iki', 4)),\n",
              " (('kiraz', 0), ('bes', 9))]"
            ]
          },
          "metadata": {},
          "execution_count": 7
        }
      ]
    },
    {
      "cell_type": "code",
      "source": [
        "list(zip(dict1.values(),dict2.values()))"
      ],
      "metadata": {
        "colab": {
          "base_uri": "https://localhost:8080/"
        },
        "id": "OcrAhw-tJ0cD",
        "outputId": "57ad34ee-9619-4291-a33d-faa379d72e5b"
      },
      "execution_count": 8,
      "outputs": [
        {
          "output_type": "execute_result",
          "data": {
            "text/plain": [
              "[(1, 3), (2, 4), (0, 9)]"
            ]
          },
          "metadata": {},
          "execution_count": 8
        }
      ]
    },
    {
      "cell_type": "code",
      "source": [
        "##ENUMERATE## elemanlara index vermek icin kullanilir.\n"
      ],
      "metadata": {
        "id": "l-JuycDzGF3N"
      },
      "execution_count": null,
      "outputs": []
    },
    {
      "cell_type": "code",
      "source": [
        "liste = [\"elma\",\"armut\",\"kiraz\",\"nektar\"]\n",
        "i = 0\n",
        "sonuc = []\n",
        "\n",
        "while (i < len(liste)):\n",
        "  sonuc.append((i,liste[i]))\n",
        "\n",
        "  i +=1\n",
        "print(sonuc)  "
      ],
      "metadata": {
        "colab": {
          "base_uri": "https://localhost:8080/"
        },
        "id": "CzRf0NKVGF1S",
        "outputId": "4948294d-fa2c-488b-a8f1-b4906bf56d02"
      },
      "execution_count": 9,
      "outputs": [
        {
          "output_type": "stream",
          "name": "stdout",
          "text": [
            "[(0, 'elma'), (1, 'armut'), (2, 'kiraz'), (3, 'nektar')]\n"
          ]
        }
      ]
    },
    {
      "cell_type": "code",
      "source": [
        "list(enumerate(liste ))"
      ],
      "metadata": {
        "colab": {
          "base_uri": "https://localhost:8080/"
        },
        "id": "5iqDNPG6GFzC",
        "outputId": "47cf34ff-7a56-4eed-bb0f-f1b7e8a00dc9"
      },
      "execution_count": 11,
      "outputs": [
        {
          "output_type": "execute_result",
          "data": {
            "text/plain": [
              "[(0, 'elma'), (1, 'armut'), (2, 'kiraz'), (3, 'nektar')]"
            ]
          },
          "metadata": {},
          "execution_count": 11
        }
      ]
    },
    {
      "cell_type": "code",
      "source": [
        "for i,j in enumerate(liste) :\n",
        "  print(i,j)"
      ],
      "metadata": {
        "colab": {
          "base_uri": "https://localhost:8080/"
        },
        "id": "RBSeTMbfGFwb",
        "outputId": "1252d1a1-e7b8-4313-99c4-54ca44d08a4a"
      },
      "execution_count": 13,
      "outputs": [
        {
          "output_type": "stream",
          "name": "stdout",
          "text": [
            "0 elma\n",
            "1 armut\n",
            "2 kiraz\n",
            "3 nektar\n"
          ]
        }
      ]
    },
    {
      "cell_type": "code",
      "source": [
        "#index numarasi cift olna sayilarin ciktisini alma\n",
        "cifti = [\"a\",\"b\",\"c\",\"d\",\"e\",\"h\"]\n",
        "for i,j in enumerate(cifti):\n",
        "  if (i % 2 == 0):\n",
        "    print(j)"
      ],
      "metadata": {
        "colab": {
          "base_uri": "https://localhost:8080/"
        },
        "id": "jbjhPtMWGFuE",
        "outputId": "80ad27c3-7eb6-4aea-902d-f3e5a38743a7"
      },
      "execution_count": 14,
      "outputs": [
        {
          "output_type": "stream",
          "name": "stdout",
          "text": [
            "a\n",
            "c\n",
            "e\n"
          ]
        }
      ]
    },
    {
      "cell_type": "code",
      "source": [
        "##ALL and ANY\n",
        " \n"
      ],
      "metadata": {
        "id": "hG67GeBXIBrh"
      },
      "execution_count": null,
      "outputs": []
    },
    {
      "cell_type": "code",
      "source": [
        ""
      ],
      "metadata": {
        "id": "PbhbLbHIacUq"
      },
      "execution_count": 17,
      "outputs": []
    },
    {
      "cell_type": "code",
      "source": [
        "def hepsi(liste):\n",
        "  for i in liste:\n",
        "    if not i :\n",
        "      return False\n",
        "  return True    "
      ],
      "metadata": {
        "id": "oZAPGZS4IBpg"
      },
      "execution_count": 18,
      "outputs": []
    },
    {
      "cell_type": "code",
      "source": [
        "liste = [True,False,True,False,True]"
      ],
      "metadata": {
        "id": "hOFM8HMfIBnZ"
      },
      "execution_count": null,
      "outputs": []
    },
    {
      "cell_type": "code",
      "source": [
        "hepsi(liste )"
      ],
      "metadata": {
        "colab": {
          "base_uri": "https://localhost:8080/"
        },
        "id": "3v-tmvktIBkp",
        "outputId": "57a36f78-aefd-474d-ed0a-ed2b38b0a139"
      },
      "execution_count": 19,
      "outputs": [
        {
          "output_type": "execute_result",
          "data": {
            "text/plain": [
              "False"
            ]
          },
          "metadata": {},
          "execution_count": 19
        }
      ]
    },
    {
      "cell_type": "code",
      "source": [
        "liste = [1,2,3,4,5]\n",
        "hepsi(liste)"
      ],
      "metadata": {
        "colab": {
          "base_uri": "https://localhost:8080/"
        },
        "id": "7qWbeMYTIBiA",
        "outputId": "70a8e0ec-ab6f-4ae5-b202-25509091722a"
      },
      "execution_count": 20,
      "outputs": [
        {
          "output_type": "execute_result",
          "data": {
            "text/plain": [
              "True"
            ]
          },
          "metadata": {},
          "execution_count": 20
        }
      ]
    },
    {
      "cell_type": "code",
      "source": [
        "def herhangi(liste):\n",
        "  for i in liste :\n",
        "     if i :\n",
        "       return True\n",
        "  return False    \n"
      ],
      "metadata": {
        "id": "BlHEV7UrbK2z"
      },
      "execution_count": 22,
      "outputs": []
    },
    {
      "cell_type": "code",
      "source": [
        "herhangi([True,False,True,False,True])"
      ],
      "metadata": {
        "colab": {
          "base_uri": "https://localhost:8080/"
        },
        "id": "ieDmoggubK0c",
        "outputId": "c4964e4b-165f-486b-d828-d3d33f58c19c"
      },
      "execution_count": 23,
      "outputs": [
        {
          "output_type": "execute_result",
          "data": {
            "text/plain": [
              "True"
            ]
          },
          "metadata": {},
          "execution_count": 23
        }
      ]
    },
    {
      "cell_type": "code",
      "source": [
        "#all() butun degerler true ise True,en az bir deger false ise False dondurur."
      ],
      "metadata": {
        "id": "qNa_Ttt3bKvo"
      },
      "execution_count": null,
      "outputs": []
    },
    {
      "cell_type": "code",
      "source": [
        "all([True,False,True,False,True])"
      ],
      "metadata": {
        "colab": {
          "base_uri": "https://localhost:8080/"
        },
        "id": "6rsBVgi6bKtr",
        "outputId": "4ef284cd-9dfb-4aac-942e-2231be46c30e"
      },
      "execution_count": 24,
      "outputs": [
        {
          "output_type": "execute_result",
          "data": {
            "text/plain": [
              "False"
            ]
          },
          "metadata": {},
          "execution_count": 24
        }
      ]
    },
    {
      "cell_type": "code",
      "source": [
        "all( [1,2,3,4,5])"
      ],
      "metadata": {
        "colab": {
          "base_uri": "https://localhost:8080/"
        },
        "id": "eduwDtpDbKq0",
        "outputId": "4bf7e28a-c12a-48e3-a273-bdb8b1bbd4f5"
      },
      "execution_count": 25,
      "outputs": [
        {
          "output_type": "execute_result",
          "data": {
            "text/plain": [
              "True"
            ]
          },
          "metadata": {},
          "execution_count": 25
        }
      ]
    },
    {
      "cell_type": "code",
      "source": [
        "#any() butun degerler false ise False,en az bir deger true ise True sonuc cikartir"
      ],
      "metadata": {
        "id": "jhtlZeCObKoN"
      },
      "execution_count": null,
      "outputs": []
    },
    {
      "cell_type": "code",
      "source": [
        "any( [1,2,3,4,5])"
      ],
      "metadata": {
        "colab": {
          "base_uri": "https://localhost:8080/"
        },
        "id": "y6V1UT_xbz50",
        "outputId": "1f7a0dbc-4dab-4c0c-f2bb-abb9c885bf87"
      },
      "execution_count": 26,
      "outputs": [
        {
          "output_type": "execute_result",
          "data": {
            "text/plain": [
              "True"
            ]
          },
          "metadata": {},
          "execution_count": 26
        }
      ]
    },
    {
      "cell_type": "code",
      "source": [
        "any([True,False,True,False,True])"
      ],
      "metadata": {
        "colab": {
          "base_uri": "https://localhost:8080/"
        },
        "id": "wE2bpnGjbz3w",
        "outputId": "62dc3fdd-aa08-4991-c457-d94ace13b549"
      },
      "execution_count": 27,
      "outputs": [
        {
          "output_type": "execute_result",
          "data": {
            "text/plain": [
              "True"
            ]
          },
          "metadata": {},
          "execution_count": 27
        }
      ]
    },
    {
      "cell_type": "code",
      "source": [
        "any([])"
      ],
      "metadata": {
        "colab": {
          "base_uri": "https://localhost:8080/"
        },
        "id": "8O_sjHL8bz1H",
        "outputId": "4b53d995-235f-47d5-a497-d6563ac34d60"
      },
      "execution_count": 28,
      "outputs": [
        {
          "output_type": "execute_result",
          "data": {
            "text/plain": [
              "False"
            ]
          },
          "metadata": {},
          "execution_count": 28
        }
      ]
    },
    {
      "cell_type": "code",
      "source": [
        "any([False,False,False])"
      ],
      "metadata": {
        "colab": {
          "base_uri": "https://localhost:8080/"
        },
        "id": "c-XH8_sKcKgo",
        "outputId": "3250aaa8-b04f-45ed-d740-c1e73afc0fef"
      },
      "execution_count": 29,
      "outputs": [
        {
          "output_type": "execute_result",
          "data": {
            "text/plain": [
              "False"
            ]
          },
          "metadata": {},
          "execution_count": 29
        }
      ]
    }
  ]
}