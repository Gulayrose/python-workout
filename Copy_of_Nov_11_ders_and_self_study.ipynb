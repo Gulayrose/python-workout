{
  "nbformat": 4,
  "nbformat_minor": 0,
  "metadata": {
    "colab": {
      "name": "Copy of Nov 11 ders and self study",
      "provenance": [],
      "authorship_tag": "ABX9TyMrHoJvFAu9FOXPbubkrz5y",
      "include_colab_link": true
    },
    "kernelspec": {
      "name": "python3",
      "display_name": "Python 3"
    },
    "language_info": {
      "name": "python"
    }
  },
  "cells": [
    {
      "cell_type": "markdown",
      "metadata": {
        "id": "view-in-github",
        "colab_type": "text"
      },
      "source": [
        "<a href=\"https://colab.research.google.com/github/Gulayrose/python-workout/blob/main/Copy_of_Nov_11_ders_and_self_study.ipynb\" target=\"_parent\"><img src=\"https://colab.research.google.com/assets/colab-badge.svg\" alt=\"Open In Colab\"/></a>"
      ]
    },
    {
      "cell_type": "code",
      "metadata": {
        "colab": {
          "base_uri": "https://localhost:8080/"
        },
        "id": "nIFOxJF32Tyk",
        "outputId": "4cfc8c45-e598-49be-cf51-3a7edb8afc7d"
      },
      "source": [
        "tup1=(1,3,4,5,6,7)\n",
        "for i in tup1:\n",
        "   print(i)"
      ],
      "execution_count": null,
      "outputs": [
        {
          "output_type": "stream",
          "name": "stdout",
          "text": [
            "1\n",
            "3\n",
            "4\n",
            "5\n",
            "6\n",
            "7\n"
          ]
        }
      ]
    },
    {
      "cell_type": "code",
      "metadata": {
        "colab": {
          "base_uri": "https://localhost:8080/"
        },
        "id": "idcs_vT-2b0p",
        "outputId": "72bee8b0-b44d-456f-c95a-56768dc75b88"
      },
      "source": [
        "liste= [[1,2,5],[3,4,6]]\n",
        "for x,y,z in liste:\n",
        "   print(x)"
      ],
      "execution_count": null,
      "outputs": [
        {
          "output_type": "stream",
          "name": "stdout",
          "text": [
            "1\n",
            "3\n"
          ]
        }
      ]
    },
    {
      "cell_type": "code",
      "metadata": {
        "colab": {
          "base_uri": "https://localhost:8080/"
        },
        "id": "bWUBVvRn2b3T",
        "outputId": "ae492785-597f-4fc4-a5ab-b39449cf0ed9"
      },
      "source": [
        "  print(x,y)"
      ],
      "execution_count": null,
      "outputs": [
        {
          "output_type": "stream",
          "name": "stdout",
          "text": [
            "3 4\n"
          ]
        }
      ]
    },
    {
      "cell_type": "code",
      "metadata": {
        "colab": {
          "base_uri": "https://localhost:8080/"
        },
        "id": "Jcfs9DI22b5l",
        "outputId": "30276798-b2ae-4798-8962-539b22813a3b"
      },
      "source": [
        "seasons = ['fall','summer','vinter','spring']\n",
        "for season in seasons :\n",
        "  print(season)"
      ],
      "execution_count": null,
      "outputs": [
        {
          "output_type": "stream",
          "name": "stdout",
          "text": [
            "fall\n",
            "summer\n",
            "vinter\n",
            "spring\n"
          ]
        }
      ]
    },
    {
      "cell_type": "code",
      "metadata": {
        "colab": {
          "base_uri": "https://localhost:8080/"
        },
        "id": "1j1kK3bZQy5B",
        "outputId": "e2038110-11d9-43b5-9e4d-7e8845adea9c"
      },
      "source": [
        "names = [\"Ahmet\",\"Aisha\",\"Adam\",\"Joseph\",\"Gabrial\"]\n",
        "for i in names :\n",
        "   print( 'Hello {}. '.format(i))"
      ],
      "execution_count": null,
      "outputs": [
        {
          "output_type": "stream",
          "name": "stdout",
          "text": [
            "Hello Ahmet. \n",
            "Hello Aisha. \n",
            "Hello Adam. \n",
            "Hello Joseph. \n",
            "Hello Gabrial. \n"
          ]
        }
      ]
    },
    {
      "cell_type": "code",
      "metadata": {
        "colab": {
          "base_uri": "https://localhost:8080/"
        },
        "id": "3bB-a0_I2b78",
        "outputId": "8d669281-e9b0-4382-a731-bb21cc94cfeb"
      },
      "source": [
        "print(\"hello\",i) #yukardaki soruyu bu sekilde de yazabiliriz\n"
      ],
      "execution_count": null,
      "outputs": [
        {
          "output_type": "stream",
          "name": "stdout",
          "text": [
            "hello Gabrial\n"
          ]
        }
      ]
    },
    {
      "cell_type": "code",
      "metadata": {
        "colab": {
          "base_uri": "https://localhost:8080/"
        },
        "id": "Ut1rojnG2cA4",
        "outputId": "10614a1f-2207-4fd5-e235-34cb4ca58028"
      },
      "source": [
        "liste = []\n",
        "for i in range(1,6) :\n",
        "  liste.append(i)\n",
        "print(liste)\n",
        "  "
      ],
      "execution_count": null,
      "outputs": [
        {
          "output_type": "stream",
          "name": "stdout",
          "text": [
            "[1, 2, 3, 4, 5]\n"
          ]
        }
      ]
    },
    {
      "cell_type": "code",
      "metadata": {
        "colab": {
          "base_uri": "https://localhost:8080/"
        },
        "id": "00uMT0KZ2cDv",
        "outputId": "d758d840-6578-44ce-ebae-90ffbb75b79d"
      },
      "source": [
        "sayi =[]\n",
        "liste = range(6)\n",
        "for i in liste:\n",
        "   sayi.append(i)  \n",
        "print(sayi)"
      ],
      "execution_count": null,
      "outputs": [
        {
          "output_type": "stream",
          "name": "stdout",
          "text": [
            "[0, 1, 2, 3, 4, 5]\n"
          ]
        }
      ]
    },
    {
      "cell_type": "code",
      "metadata": {
        "colab": {
          "base_uri": "https://localhost:8080/"
        },
        "id": "t8hjwQwZ2cGI",
        "outputId": "79747018-3f2e-4786-a6ee-3703e00f9150"
      },
      "source": [
        "corse = 'clarusway'\n",
        "for i in corse :\n",
        "   print(i)"
      ],
      "execution_count": null,
      "outputs": [
        {
          "output_type": "stream",
          "name": "stdout",
          "text": [
            "c\n",
            "l\n",
            "a\n",
            "r\n",
            "u\n",
            "s\n",
            "w\n",
            "a\n",
            "y\n"
          ]
        }
      ]
    },
    {
      "cell_type": "code",
      "metadata": {
        "colab": {
          "base_uri": "https://localhost:8080/"
        },
        "id": "7NlMw02k2cIb",
        "outputId": "0e6261b1-893e-4512-f7fd-a76784e31597"
      },
      "source": [
        "idda = 'Clarusway'\n",
        "for i in idda :\n",
        "   print(i, end= '-')"
      ],
      "execution_count": null,
      "outputs": [
        {
          "output_type": "stream",
          "name": "stdout",
          "text": [
            "C-l-a-r-u-s-w-a-y-"
          ]
        }
      ]
    },
    {
      "cell_type": "code",
      "metadata": {
        "colab": {
          "base_uri": "https://localhost:8080/"
        },
        "id": "xO3Lqubc2cNI",
        "outputId": "81876081-7727-487b-84ae-ba537fe206bd"
      },
      "source": [
        "text = 'hicbirsey'\n",
        "count= 0 \n",
        "for i in text :\n",
        "  count +=1\n",
        "  if count < len(text) :\n",
        "    i+= \"-\"\n",
        "  print(i, end = \"\")"
      ],
      "execution_count": null,
      "outputs": [
        {
          "output_type": "stream",
          "name": "stdout",
          "text": [
            "h-i-c-b-i-r-s-e-y"
          ]
        }
      ]
    },
    {
      "cell_type": "code",
      "metadata": {
        "colab": {
          "base_uri": "https://localhost:8080/"
        },
        "id": "wBorTgPB2cPu",
        "outputId": "e2e96489-f30f-42a8-d16d-5eb25956e85d"
      },
      "source": [
        "soz = input(\"give me a word : \")\n",
        "counter = 0\n",
        "for i in soz :\n",
        "   counter += 1\n",
        "   if counter < len(soz) :\n",
        "     i= i + \"-\"\n",
        "   print(i, end= \"\")"
      ],
      "execution_count": null,
      "outputs": [
        {
          "output_type": "stream",
          "name": "stdout",
          "text": [
            "give me a word : cok bilmis\n",
            "c-o-k- -b-i-l-m-i-s"
          ]
        }
      ]
    },
    {
      "cell_type": "code",
      "metadata": {
        "colab": {
          "base_uri": "https://localhost:8080/",
          "height": 130
        },
        "id": "GwdGh5vm2cSW",
        "outputId": "5d48b733-98c0-44cd-adbd-df00937aaef1"
      },
      "source": [
        "user = {\n",
        "   'name' : 'Danial'\n",
        "   'surname' : 'Smith'\n",
        "   'age': 35\n",
        "}\n",
        "      for attribe in user :\n",
        "         print(attribe)\n"
      ],
      "execution_count": null,
      "outputs": [
        {
          "output_type": "error",
          "ename": "SyntaxError",
          "evalue": "ignored",
          "traceback": [
            "\u001b[0;36m  File \u001b[0;32m\"<ipython-input-32-af903f354b11>\"\u001b[0;36m, line \u001b[0;32m3\u001b[0m\n\u001b[0;31m    'surname' : 'Smith'\u001b[0m\n\u001b[0m              ^\u001b[0m\n\u001b[0;31mSyntaxError\u001b[0m\u001b[0;31m:\u001b[0m invalid syntax\n"
          ]
        }
      ]
    },
    {
      "cell_type": "code",
      "metadata": {
        "colab": {
          "base_uri": "https://localhost:8080/"
        },
        "id": "jUQEmcT82cUs",
        "outputId": "605a7c9c-afb1-4fa6-9096-c4d59a0a68fa"
      },
      "source": [
        "test = [(1,2), (3,4),(5,6)]\n",
        "for i ,j in test :\n",
        "   print(i,j)\n",
        "   print(type(test))\n",
        "  "
      ],
      "execution_count": null,
      "outputs": [
        {
          "output_type": "stream",
          "name": "stdout",
          "text": [
            "1 2\n",
            "<class 'list'>\n",
            "3 4\n",
            "<class 'list'>\n",
            "5 6\n",
            "<class 'list'>\n"
          ]
        }
      ]
    },
    {
      "cell_type": "code",
      "metadata": {
        "colab": {
          "base_uri": "https://localhost:8080/"
        },
        "id": "1X1D02ZN2cXC",
        "outputId": "818d06c1-0c8b-4ddc-d072-d948c5f24705"
      },
      "source": [
        "lafsoz = int(input(\"1 den 10 a kadar bir sayi giriniz :\"))\n",
        "for i in range (11) :\n",
        "    print('{} x {} = ' .format(lafsoz, i), lafsoz *i)\n",
        "   "
      ],
      "execution_count": null,
      "outputs": [
        {
          "output_type": "stream",
          "name": "stdout",
          "text": [
            "1 den 10 a kadar bir sayi giriniz :6\n",
            "6 x 0 =  0\n",
            "6 x 1 =  6\n",
            "6 x 2 =  12\n",
            "6 x 3 =  18\n",
            "6 x 4 =  24\n",
            "6 x 5 =  30\n",
            "6 x 6 =  36\n",
            "6 x 7 =  42\n",
            "6 x 8 =  48\n",
            "6 x 9 =  54\n",
            "6 x 10 =  60\n"
          ]
        }
      ]
    },
    {
      "cell_type": "code",
      "metadata": {
        "colab": {
          "base_uri": "https://localhost:8080/"
        },
        "id": "qCh538Xa2cZG",
        "outputId": "8eb737f2-6798-44a8-e668-13f4898f9333"
      },
      "source": [
        "for i in range(1,10) :\n",
        "   print(str(i) * i )\n"
      ],
      "execution_count": null,
      "outputs": [
        {
          "output_type": "stream",
          "name": "stdout",
          "text": [
            "1\n",
            "22\n",
            "333\n",
            "4444\n",
            "55555\n",
            "666666\n",
            "7777777\n",
            "88888888\n",
            "999999999\n"
          ]
        }
      ]
    },
    {
      "cell_type": "code",
      "metadata": {
        "colab": {
          "base_uri": "https://localhost:8080/"
        },
        "id": "ywC2M0lQ2ca7",
        "outputId": "48f8676d-3d02-449e-e566-50a025ce5caf"
      },
      "source": [
        "print(*range(5,25,2))"
      ],
      "execution_count": null,
      "outputs": [
        {
          "output_type": "stream",
          "name": "stdout",
          "text": [
            "5 7 9 11 13 15 17 19 21 23\n"
          ]
        }
      ]
    },
    {
      "cell_type": "code",
      "metadata": {
        "colab": {
          "base_uri": "https://localhost:8080/"
        },
        "id": "Z9DWxgvP2cdU",
        "outputId": "6f37b4d3-cbe4-42f9-870b-4cefbff03453"
      },
      "source": [
        "print(range(5,25,2))"
      ],
      "execution_count": null,
      "outputs": [
        {
          "output_type": "stream",
          "name": "stdout",
          "text": [
            "range(5, 25, 2)\n"
          ]
        }
      ]
    },
    {
      "cell_type": "code",
      "metadata": {
        "colab": {
          "base_uri": "https://localhost:8080/"
        },
        "id": "VJCsMoqw2cfa",
        "outputId": "5c2a55fb-0763-4f40-b3ab-94eede1961d2"
      },
      "source": [
        "print(*range(10,1,-1))"
      ],
      "execution_count": null,
      "outputs": [
        {
          "output_type": "stream",
          "name": "stdout",
          "text": [
            "10 9 8 7 6 5 4 3 2\n"
          ]
        }
      ]
    },
    {
      "cell_type": "code",
      "metadata": {
        "colab": {
          "base_uri": "https://localhost:8080/"
        },
        "id": "GUWgq4HXse1q",
        "outputId": "ff6cbaa8-206f-46e6-9d8e-8879f9dd3a03"
      },
      "source": [
        "print(*\"clarusway\" , sep=\"-\")"
      ],
      "execution_count": null,
      "outputs": [
        {
          "output_type": "stream",
          "name": "stdout",
          "text": [
            "c-l-a-r-u-s-w-a-y\n"
          ]
        }
      ]
    },
    {
      "cell_type": "code",
      "metadata": {
        "colab": {
          "base_uri": "https://localhost:8080/"
        },
        "id": "0Cz0_ik-se5T",
        "outputId": "c5c517f4-80c0-494b-d3b7-1578395736b8"
      },
      "source": [
        "text = ['one', 'two', 'three', 'four', 'five']\n",
        "numbers = [1, 2, 3, 4, 5]\n",
        "for x, y in zip(text, numbers):\n",
        "\tprint(x, ':', y)"
      ],
      "execution_count": null,
      "outputs": [
        {
          "output_type": "stream",
          "name": "stdout",
          "text": [
            "one : 1\n",
            "two : 2\n",
            "three : 3\n",
            "four : 4\n",
            "five : 5\n"
          ]
        }
      ]
    },
    {
      "cell_type": "code",
      "metadata": {
        "colab": {
          "base_uri": "https://localhost:8080/"
        },
        "id": "Xzv5P5CIse89",
        "outputId": "c682a10b-12bf-4186-c509-3bad7d6c4a23"
      },
      "source": [
        "zipped = zip(text , numbers)\n",
        "print(zipped)"
      ],
      "execution_count": null,
      "outputs": [
        {
          "output_type": "stream",
          "name": "stdout",
          "text": [
            "<zip object at 0x7f2ee4aef550>\n"
          ]
        }
      ]
    },
    {
      "cell_type": "code",
      "metadata": {
        "colab": {
          "base_uri": "https://localhost:8080/"
        },
        "id": "34Svx9EPse_n",
        "outputId": "05971d7c-3d9f-4f18-d022-4169bd010003"
      },
      "source": [
        "print(*zipped)"
      ],
      "execution_count": null,
      "outputs": [
        {
          "output_type": "stream",
          "name": "stdout",
          "text": [
            "('one', 1) ('two', 2) ('three', 3) ('four', 4) ('five', 5)\n"
          ]
        }
      ]
    },
    {
      "cell_type": "code",
      "metadata": {
        "colab": {
          "base_uri": "https://localhost:8080/"
        },
        "id": "Zo43gSm4sfCf",
        "outputId": "b5f691d9-8ce9-4aa6-f040-28f49ef96929"
      },
      "source": [
        "zipped = zip(text , numbers)\n",
        "list(zipped)"
      ],
      "execution_count": null,
      "outputs": [
        {
          "output_type": "execute_result",
          "data": {
            "text/plain": [
              "[('one', 1), ('two', 2), ('three', 3), ('four', 4), ('five', 5)]"
            ]
          },
          "metadata": {},
          "execution_count": 53
        }
      ]
    },
    {
      "cell_type": "code",
      "metadata": {
        "colab": {
          "base_uri": "https://localhost:8080/"
        },
        "id": "eGonCxE_2chs",
        "outputId": "8ead0225-cca8-46bf-fd3f-7895d6dc44bc"
      },
      "source": [
        "zipped = zip(text , numbers)\n",
        "dict(zipped)"
      ],
      "execution_count": null,
      "outputs": [
        {
          "output_type": "execute_result",
          "data": {
            "text/plain": [
              "{'five': 5, 'four': 4, 'one': 1, 'three': 3, 'two': 2}"
            ]
          },
          "metadata": {},
          "execution_count": 54
        }
      ]
    },
    {
      "cell_type": "code",
      "metadata": {
        "colab": {
          "base_uri": "https://localhost:8080/"
        },
        "id": "PnHT7Hc8uefh",
        "outputId": "3e625dbc-3484-4533-ddcd-4a4be7b37a85"
      },
      "source": [
        "evens = []\n",
        "odds= []\n",
        "liste = [0,1,2,3,4,5,6,7,8,9]\n",
        "\n",
        "for i in liste :\n",
        "   if i % 2 == 0 :\n",
        "     print( 'evens= {}'.format (liste))\n",
        "   else :\n",
        "     print('odds = {}'.format(liste))  \n"
      ],
      "execution_count": null,
      "outputs": [
        {
          "output_type": "stream",
          "name": "stdout",
          "text": [
            "evens= [0, 1, 2, 3, 4, 5, 6, 7, 8, 9]\n",
            "odds = [0, 1, 2, 3, 4, 5, 6, 7, 8, 9]\n",
            "evens= [0, 1, 2, 3, 4, 5, 6, 7, 8, 9]\n",
            "odds = [0, 1, 2, 3, 4, 5, 6, 7, 8, 9]\n",
            "evens= [0, 1, 2, 3, 4, 5, 6, 7, 8, 9]\n",
            "odds = [0, 1, 2, 3, 4, 5, 6, 7, 8, 9]\n",
            "evens= [0, 1, 2, 3, 4, 5, 6, 7, 8, 9]\n",
            "odds = [0, 1, 2, 3, 4, 5, 6, 7, 8, 9]\n",
            "evens= [0, 1, 2, 3, 4, 5, 6, 7, 8, 9]\n",
            "odds = [0, 1, 2, 3, 4, 5, 6, 7, 8, 9]\n"
          ]
        }
      ]
    },
    {
      "cell_type": "code",
      "metadata": {
        "colab": {
          "base_uri": "https://localhost:8080/"
        },
        "id": "Sa_RJfgvueio",
        "outputId": "c0221d05-5edc-451d-cbba-46700ce8a381"
      },
      "source": [
        "evens = []\n",
        "odds = []\n",
        "for n in range (10):\n",
        "   if n % 2 == 0 :\n",
        "     evens.append(n)\n",
        "   else :\n",
        "     odds.append(n)\n",
        "print(\"evens : \", evens) \n",
        "print(\"odds : \", odds)      "
      ],
      "execution_count": null,
      "outputs": [
        {
          "output_type": "stream",
          "name": "stdout",
          "text": [
            "evens :  [0, 2, 4, 6, 8]\n",
            "odds :  [1, 3, 5, 7, 9]\n"
          ]
        }
      ]
    },
    {
      "cell_type": "code",
      "metadata": {
        "colab": {
          "base_uri": "https://localhost:8080/"
        },
        "id": "ZrzMd7enuelP",
        "outputId": "d8adc7c2-4368-4ebc-ea6d-160fc2a26232"
      },
      "source": [
        "numbers = (11,36,33,66,89,21,32,16,10)\n",
        "odds = 0\n",
        "evens = 0\n",
        "for i in numbers :\n",
        "   if i % 2 == 0 :\n",
        "     evens += 1 \n",
        "   else :\n",
        "      odds += 1\n",
        "print(\"evens count :\", evens)\n",
        "print(\"odds count :\",odds)        "
      ],
      "execution_count": null,
      "outputs": [
        {
          "output_type": "stream",
          "name": "stdout",
          "text": [
            "evens count : 5\n",
            "odds count : 4\n"
          ]
        }
      ]
    },
    {
      "cell_type": "code",
      "metadata": {
        "id": "85Ytefuhuen7"
      },
      "source": [
        ""
      ],
      "execution_count": null,
      "outputs": []
    },
    {
      "cell_type": "code",
      "metadata": {
        "id": "4PA3vuSzueqw"
      },
      "source": [
        ""
      ],
      "execution_count": null,
      "outputs": []
    },
    {
      "cell_type": "code",
      "metadata": {
        "id": "mWURGN512cjk"
      },
      "source": [
        ""
      ],
      "execution_count": null,
      "outputs": []
    },
    {
      "cell_type": "code",
      "metadata": {
        "id": "h8qjOZGE2clo"
      },
      "source": [
        ""
      ],
      "execution_count": null,
      "outputs": []
    },
    {
      "cell_type": "code",
      "metadata": {
        "id": "6EiZG4T32cn8"
      },
      "source": [
        ""
      ],
      "execution_count": null,
      "outputs": []
    }
  ]
}