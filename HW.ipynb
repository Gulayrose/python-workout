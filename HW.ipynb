{
  "nbformat": 4,
  "nbformat_minor": 0,
  "metadata": {
    "colab": {
      "name": "HW ",
      "provenance": [],
      "authorship_tag": "ABX9TyNLPhDIn5i2VkSkWJ+gEvyI",
      "include_colab_link": true
    },
    "kernelspec": {
      "name": "python3",
      "display_name": "Python 3"
    },
    "language_info": {
      "name": "python"
    }
  },
  "cells": [
    {
      "cell_type": "markdown",
      "metadata": {
        "id": "view-in-github",
        "colab_type": "text"
      },
      "source": [
        "<a href=\"https://colab.research.google.com/github/Gulayrose/python-workout/blob/main/HW.ipynb\" target=\"_parent\"><img src=\"https://colab.research.google.com/assets/colab-badge.svg\" alt=\"Open In Colab\"/></a>"
      ]
    },
    {
      "cell_type": "code",
      "execution_count": null,
      "metadata": {
        "id": "7cBx4hFF1zmo"
      },
      "outputs": [],
      "source": [
        "#Count the number of each letter in a sentence."
      ]
    },
    {
      "cell_type": "code",
      "source": [
        "def word(str1):\n",
        "    dict = {}\n",
        "    for i in str1:\n",
        "        keys = dict.keys()\n",
        "        if i in keys:\n",
        "            dict[i] += 1\n",
        "        else:\n",
        "            dict[i] = 1\n",
        "    return dict\n",
        "print(word('hippo runs to us!'))"
      ],
      "metadata": {
        "id": "JJbQ7B_M19qx"
      },
      "execution_count": null,
      "outputs": []
    }
  ]
}