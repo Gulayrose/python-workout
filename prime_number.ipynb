{
  "nbformat": 4,
  "nbformat_minor": 0,
  "metadata": {
    "colab": {
      "name": "prime number",
      "provenance": [],
      "authorship_tag": "ABX9TyM4KAH/y7RhjaIlm39cK9D7",
      "include_colab_link": true
    },
    "kernelspec": {
      "name": "python3",
      "display_name": "Python 3"
    },
    "language_info": {
      "name": "python"
    }
  },
  "cells": [
    {
      "cell_type": "markdown",
      "metadata": {
        "id": "view-in-github",
        "colab_type": "text"
      },
      "source": [
        "<a href=\"https://colab.research.google.com/github/Gulayrose/python-workout/blob/main/prime_number.ipynb\" target=\"_parent\"><img src=\"https://colab.research.google.com/assets/colab-badge.svg\" alt=\"Open In Colab\"/></a>"
      ]
    },
    {
      "cell_type": "code",
      "execution_count": 1,
      "metadata": {
        "colab": {
          "base_uri": "https://localhost:8080/"
        },
        "id": "NDsnSDiAZEC8",
        "outputId": "25296fea-c143-4b7c-80b0-94e2ae529f58"
      },
      "outputs": [
        {
          "output_type": "stream",
          "name": "stdout",
          "text": [
            "[2, 3, 5, 7, 11, 13, 17, 19, 23, 29, 31, 37, 41, 43, 47, 53, 59, 61, 67, 71, 73, 79, 83, 89, 97]\n"
          ]
        }
      ],
      "source": [
        "liste = []\n",
        "for sayi in range(100) :\n",
        "  if sayi > 1 :\n",
        "    for i in range(2,sayi) :\n",
        "      if (sayi % i) == 0 :\n",
        "        break  \n",
        "    else :\n",
        "      liste.append(sayi)\n",
        "print(liste)"
      ]
    }
  ]
}