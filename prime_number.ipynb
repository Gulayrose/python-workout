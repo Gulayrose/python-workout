{
  "nbformat": 4,
  "nbformat_minor": 0,
  "metadata": {
    "colab": {
      "name": "prime number",
      "provenance": [],
      "authorship_tag": "ABX9TyNq+7m/EniQua7V8It2qOV9",
      "include_colab_link": true
    },
    "kernelspec": {
      "name": "python3",
      "display_name": "Python 3"
    },
    "language_info": {
      "name": "python"
    }
  },
  "cells": [
    {
      "cell_type": "markdown",
      "metadata": {
        "id": "view-in-github",
        "colab_type": "text"
      },
      "source": [
        "<a href=\"https://colab.research.google.com/github/Gulayrose/python-workout/blob/main/prime_number.ipynb\" target=\"_parent\"><img src=\"https://colab.research.google.com/assets/colab-badge.svg\" alt=\"Open In Colab\"/></a>"
      ]
    },
    {
      "cell_type": "code",
      "execution_count": 3,
      "metadata": {
        "id": "n_WeFlGBVn24"
      },
      "outputs": [],
      "source": [
        "def prime(sayi):\n",
        "  if sayi == 1 :\n",
        "    return False\n",
        "  elif sayi == 2:\n",
        "    return True\n",
        "  else :\n",
        "    for i in range (2,sayi):\n",
        "      if sayi % i == 0 :\n",
        "        return False\n",
        "    return True     \n",
        "\n",
        "\n"
      ]
    },
    {
      "cell_type": "code",
      "source": [
        "prime(17)"
      ],
      "metadata": {
        "id": "cgVcWZ9AX0zi",
        "outputId": "43ada7e5-3420-4111-f996-af5bcbba31f4",
        "colab": {
          "base_uri": "https://localhost:8080/"
        }
      },
      "execution_count": 4,
      "outputs": [
        {
          "output_type": "execute_result",
          "data": {
            "text/plain": [
              "True"
            ]
          },
          "metadata": {},
          "execution_count": 4
        }
      ]
    },
    {
      "cell_type": "code",
      "source": [
        "prime(10)"
      ],
      "metadata": {
        "id": "mgmKPp8vX0xN",
        "outputId": "a20ee271-3fb8-4869-9b9a-a683cbc4f513",
        "colab": {
          "base_uri": "https://localhost:8080/"
        }
      },
      "execution_count": 5,
      "outputs": [
        {
          "output_type": "execute_result",
          "data": {
            "text/plain": [
              "False"
            ]
          },
          "metadata": {},
          "execution_count": 5
        }
      ]
    },
    {
      "cell_type": "code",
      "source": [
        ""
      ],
      "metadata": {
        "id": "xEEoiaZnX0vH"
      },
      "execution_count": null,
      "outputs": []
    },
    {
      "cell_type": "code",
      "source": [
        ""
      ],
      "metadata": {
        "id": "kB8ZCfvTX0sy"
      },
      "execution_count": null,
      "outputs": []
    },
    {
      "cell_type": "code",
      "source": [
        ""
      ],
      "metadata": {
        "id": "M4ByV3yXX0qZ"
      },
      "execution_count": null,
      "outputs": []
    },
    {
      "cell_type": "code",
      "source": [
        ""
      ],
      "metadata": {
        "id": "N2Qj_EaZX0oE"
      },
      "execution_count": null,
      "outputs": []
    }
  ]
}