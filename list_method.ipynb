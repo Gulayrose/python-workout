{
  "nbformat": 4,
  "nbformat_minor": 0,
  "metadata": {
    "colab": {
      "name": "list_method",
      "provenance": [],
      "authorship_tag": "ABX9TyOBQHg0iuoZojfLFfg/pcws",
      "include_colab_link": true
    },
    "kernelspec": {
      "name": "python3",
      "display_name": "Python 3"
    },
    "language_info": {
      "name": "python"
    }
  },
  "cells": [
    {
      "cell_type": "markdown",
      "metadata": {
        "id": "view-in-github",
        "colab_type": "text"
      },
      "source": [
        "<a href=\"https://colab.research.google.com/github/Gulayrose/python-workout/blob/main/list_method.ipynb\" target=\"_parent\"><img src=\"https://colab.research.google.com/assets/colab-badge.svg\" alt=\"Open In Colab\"/></a>"
      ]
    },
    {
      "cell_type": "code",
      "execution_count": null,
      "metadata": {
        "id": "2UUA6mZ64ijx"
      },
      "outputs": [],
      "source": [
        "#append() listenin sonuna eleman ekler sadece 1 eleman ekler"
      ]
    },
    {
      "cell_type": "code",
      "source": [
        "#extend( bir listeye baska bir liste ekleyebiliriz)"
      ],
      "metadata": {
        "id": "iC8v73xR4sMn"
      },
      "execution_count": null,
      "outputs": []
    },
    {
      "cell_type": "code",
      "source": [
        "liste1 = [1,2,3,4]\n",
        "liste2= [5,6,7,8]\n",
        "liste1.extend(liste2) #liste 1 in sonuna liste2 yi ekle"
      ],
      "metadata": {
        "id": "p_kS1V4O4sN6"
      },
      "execution_count": 1,
      "outputs": []
    },
    {
      "cell_type": "code",
      "source": [
        "liste1"
      ],
      "metadata": {
        "colab": {
          "base_uri": "https://localhost:8080/"
        },
        "id": "bS-X4n0U4sQZ",
        "outputId": "2de7de48-3a4e-4d4c-8584-737a5e679b20"
      },
      "execution_count": 2,
      "outputs": [
        {
          "output_type": "execute_result",
          "data": {
            "text/plain": [
              "[1, 2, 3, 4, 5, 6, 7, 8]"
            ]
          },
          "metadata": {},
          "execution_count": 2
        }
      ]
    },
    {
      "cell_type": "code",
      "source": [
        "#insert istedigimiz index e istedigimiz elemani ekleyebiliriz"
      ],
      "metadata": {
        "id": "tlevK0G84sS_"
      },
      "execution_count": null,
      "outputs": []
    },
    {
      "cell_type": "code",
      "source": [
        "liste1.insert(2,\"python\") # 2. index e python ekle"
      ],
      "metadata": {
        "id": "Y_JfAYFK4sWH"
      },
      "execution_count": 3,
      "outputs": []
    },
    {
      "cell_type": "code",
      "source": [
        "liste1"
      ],
      "metadata": {
        "colab": {
          "base_uri": "https://localhost:8080/"
        },
        "id": "rSUOIDRa4sY-",
        "outputId": "bc7d8e29-a5b0-4aa4-c3f8-1ffa76073f22"
      },
      "execution_count": 4,
      "outputs": [
        {
          "output_type": "execute_result",
          "data": {
            "text/plain": [
              "[1, 2, 'python', 3, 4, 5, 6, 7, 8]"
            ]
          },
          "metadata": {},
          "execution_count": 4
        }
      ]
    },
    {
      "cell_type": "code",
      "source": [
        "#pop() listenin en son elemanini siler\n",
        "#pop(x) listenin x in ci index i cikartir "
      ],
      "metadata": {
        "id": "yUJ0k7qq4sb2"
      },
      "execution_count": null,
      "outputs": []
    },
    {
      "cell_type": "code",
      "source": [
        "#remove(x) listeden x elemanini cikartir"
      ],
      "metadata": {
        "id": "x_dAGW_n4sed"
      },
      "execution_count": null,
      "outputs": []
    },
    {
      "cell_type": "code",
      "source": [
        "#index() verilen bir degerin bastan baslayarak hangi index de old. soyler\n",
        "#deger listede yoksa hata doner.eger ekstra index degeri belirtilirse index()\n",
        "#degeri bu index ten itibaren aramaya baslar"
      ],
      "metadata": {
        "id": "URi787GX4sgi"
      },
      "execution_count": null,
      "outputs": []
    },
    {
      "cell_type": "code",
      "source": [
        "liste = [1,2,3,4,5,6,7,8,9]\n"
      ],
      "metadata": {
        "id": "svwszjla4sjc"
      },
      "execution_count": 5,
      "outputs": []
    },
    {
      "cell_type": "code",
      "source": [
        "liste.index(3) # 3 elemani 2. index te"
      ],
      "metadata": {
        "colab": {
          "base_uri": "https://localhost:8080/"
        },
        "id": "lvb6SYoG4smA",
        "outputId": "1e708602-7857-4fa7-a9ab-8fc97de66aa8"
      },
      "execution_count": 6,
      "outputs": [
        {
          "output_type": "execute_result",
          "data": {
            "text/plain": [
              "2"
            ]
          },
          "metadata": {},
          "execution_count": 6
        }
      ]
    },
    {
      "cell_type": "code",
      "source": [
        "liste = [1,2,3,4,5,3,3,4,6,7,8,9]\n",
        "liste.index(3,3) # 3. indexten sonra 3 elemani 5. index in icinde"
      ],
      "metadata": {
        "colab": {
          "base_uri": "https://localhost:8080/"
        },
        "id": "269maqfb5hNE",
        "outputId": "ff133406-8ce2-4614-f5fb-3719df63f0ed"
      },
      "execution_count": 9,
      "outputs": [
        {
          "output_type": "execute_result",
          "data": {
            "text/plain": [
              "5"
            ]
          },
          "metadata": {},
          "execution_count": 9
        }
      ]
    },
    {
      "cell_type": "code",
      "source": [
        "#count(x) x in listede kac defa gectigini gosterir"
      ],
      "metadata": {
        "id": "a2Dmbgrl5hKr"
      },
      "execution_count": null,
      "outputs": []
    },
    {
      "cell_type": "code",
      "source": [
        "#sort() sayiyi yada karakteri kucukten buyuye sayar.eger\n",
        "# sort(revers = True) dersek buyukten kucuge sayar."
      ],
      "metadata": {
        "id": "0m7-XRU15hIU"
      },
      "execution_count": null,
      "outputs": []
    },
    {
      "cell_type": "code",
      "source": [
        ""
      ],
      "metadata": {
        "id": "_-XB8h2O5hFt"
      },
      "execution_count": null,
      "outputs": []
    }
  ]
}