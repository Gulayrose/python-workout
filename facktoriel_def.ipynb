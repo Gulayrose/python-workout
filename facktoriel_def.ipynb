{
  "nbformat": 4,
  "nbformat_minor": 0,
  "metadata": {
    "colab": {
      "name": "facktoriel-def",
      "provenance": [],
      "authorship_tag": "ABX9TyMMlRxFwgvmewjtDBv/qXCD",
      "include_colab_link": true
    },
    "kernelspec": {
      "name": "python3",
      "display_name": "Python 3"
    },
    "language_info": {
      "name": "python"
    }
  },
  "cells": [
    {
      "cell_type": "markdown",
      "metadata": {
        "id": "view-in-github",
        "colab_type": "text"
      },
      "source": [
        "<a href=\"https://colab.research.google.com/github/Gulayrose/python-workout/blob/main/facktoriel_def.ipynb\" target=\"_parent\"><img src=\"https://colab.research.google.com/assets/colab-badge.svg\" alt=\"Open In Colab\"/></a>"
      ]
    },
    {
      "cell_type": "code",
      "execution_count": 2,
      "metadata": {
        "id": "IMM4X1iD7TMM"
      },
      "outputs": [],
      "source": [
        "a= [1,2,3,4,5]\n"
      ]
    },
    {
      "cell_type": "code",
      "source": [
        "type(a)"
      ],
      "metadata": {
        "colab": {
          "base_uri": "https://localhost:8080/"
        },
        "id": "btkS9KFn7T21",
        "outputId": "42d0a69f-4bac-4ed0-aef4-61e7ba9650c9"
      },
      "execution_count": 3,
      "outputs": [
        {
          "output_type": "execute_result",
          "data": {
            "text/plain": [
              "list"
            ]
          },
          "metadata": {},
          "execution_count": 3
        }
      ]
    },
    {
      "cell_type": "code",
      "source": [
        "a.insert(1,\"gulay\")\n",
        "print(a)"
      ],
      "metadata": {
        "colab": {
          "base_uri": "https://localhost:8080/"
        },
        "id": "8xk13lcc7T5s",
        "outputId": "156d3428-c590-4e64-87ca-6e3e21f45aa1"
      },
      "execution_count": 5,
      "outputs": [
        {
          "output_type": "stream",
          "name": "stdout",
          "text": [
            "[1, 'gulay', 'gulay', 2, 3, 4, 5]\n"
          ]
        }
      ]
    },
    {
      "cell_type": "code",
      "source": [
        "help(a.index)"
      ],
      "metadata": {
        "colab": {
          "base_uri": "https://localhost:8080/"
        },
        "id": "Zs7wCdga7T8T",
        "outputId": "89d93177-7d4a-4495-87dc-5b22df6995ba"
      },
      "execution_count": 6,
      "outputs": [
        {
          "output_type": "stream",
          "name": "stdout",
          "text": [
            "Help on built-in function index:\n",
            "\n",
            "index(value, start=0, stop=9223372036854775807, /) method of builtins.list instance\n",
            "    Return first index of value.\n",
            "    \n",
            "    Raises ValueError if the value is not present.\n",
            "\n"
          ]
        }
      ]
    },
    {
      "cell_type": "code",
      "source": [
        "def factoriyel(sayi):\n",
        "  factoriyel = 1\n",
        "  if (sayi ==0 or sayi == 1 ):\n",
        "    print(\"Factoriye :\", factoriyel)\n",
        "  else :\n",
        "    while (sayi > 1 ):\n",
        "      factoriyel *= sayi\n",
        "      sayi -=1\n",
        "    print(\"Factoriyel:\", factoriyel)    "
      ],
      "metadata": {
        "id": "s1B_5Ld-7T-p"
      },
      "execution_count": 8,
      "outputs": []
    },
    {
      "cell_type": "code",
      "source": [
        "factoriyel(5)"
      ],
      "metadata": {
        "colab": {
          "base_uri": "https://localhost:8080/"
        },
        "id": "5Eeeer2F7UBP",
        "outputId": "3554396b-5fa3-49ab-ecda-c24119b04fb7"
      },
      "execution_count": 9,
      "outputs": [
        {
          "output_type": "stream",
          "name": "stdout",
          "text": [
            "Factoriyel: 120\n"
          ]
        }
      ]
    },
    {
      "cell_type": "code",
      "source": [
        "factoriyel(1)\n"
      ],
      "metadata": {
        "colab": {
          "base_uri": "https://localhost:8080/"
        },
        "id": "fccWo5CD7UDV",
        "outputId": "aa3a5391-7772-42b0-8d23-7ed2b161abf4"
      },
      "execution_count": 11,
      "outputs": [
        {
          "output_type": "stream",
          "name": "stdout",
          "text": [
            "Factoriye : 1\n"
          ]
        }
      ]
    },
    {
      "cell_type": "code",
      "source": [
        "isim = input(\"isim:\")\n",
        "def selamla(isim):\n",
        "\n",
        "  print(\"Selam\",isim)\n",
        "print(selamla(isim))\n"
      ],
      "metadata": {
        "colab": {
          "base_uri": "https://localhost:8080/"
        },
        "id": "jQVqnk8U7UFr",
        "outputId": "ee220617-8e54-4954-b09e-1d2793eb39c5"
      },
      "execution_count": 15,
      "outputs": [
        {
          "output_type": "stream",
          "name": "stdout",
          "text": [
            "isim:Ayse\n",
            "Selam Ayse\n",
            "None\n"
          ]
        }
      ]
    },
    {
      "cell_type": "code",
      "source": [
        "def toplama(*a):\n",
        "  toplam = 0\n",
        "  for i in a :\n",
        "    toplam +=i\n",
        "  print(toplam)\n",
        "toplama(1,2,3,4,5)  \n"
      ],
      "metadata": {
        "colab": {
          "base_uri": "https://localhost:8080/"
        },
        "id": "V_QEjePr7UIS",
        "outputId": "6e3ddd15-9871-4864-8a7f-ff0afed37db5"
      },
      "execution_count": 16,
      "outputs": [
        {
          "output_type": "stream",
          "name": "stdout",
          "text": [
            "15\n"
          ]
        }
      ]
    },
    {
      "cell_type": "code",
      "source": [
        "c = 10\n",
        "def fonk():\n",
        "  c = 2\n",
        "  print(c)\n",
        "fonk()\n",
        "print(c)  "
      ],
      "metadata": {
        "colab": {
          "base_uri": "https://localhost:8080/"
        },
        "id": "wPDlnmLP_ljS",
        "outputId": "fd44f3cf-45ad-4956-d71e-1c08e7ddeecc"
      },
      "execution_count": 18,
      "outputs": [
        {
          "output_type": "stream",
          "name": "stdout",
          "text": [
            "2\n",
            "10\n"
          ]
        }
      ]
    },
    {
      "cell_type": "code",
      "source": [
        "d = 5\n",
        "def fonkc():\n",
        "  global d\n",
        "  d = 3\n",
        "  print(d)\n",
        "fonkc()\n",
        "print(d)  "
      ],
      "metadata": {
        "colab": {
          "base_uri": "https://localhost:8080/"
        },
        "id": "ZAWOmQ8e_lg8",
        "outputId": "f3aa6e09-81ce-4191-f19e-5f4043c91fdd"
      },
      "execution_count": 19,
      "outputs": [
        {
          "output_type": "stream",
          "name": "stdout",
          "text": [
            "3\n",
            "3\n"
          ]
        }
      ]
    },
    {
      "cell_type": "code",
      "source": [
        "liste1 = [1,2,3,4,5]\n",
        "liste2 = [i*2 for i in liste1]\n",
        "liste2"
      ],
      "metadata": {
        "colab": {
          "base_uri": "https://localhost:8080/"
        },
        "id": "ISjjVKO2_lek",
        "outputId": "6ded7f9d-6bdf-4129-b936-d36c9c21ca59"
      },
      "execution_count": 20,
      "outputs": [
        {
          "output_type": "execute_result",
          "data": {
            "text/plain": [
              "[2, 4, 6, 8, 10]"
            ]
          },
          "metadata": {},
          "execution_count": 20
        }
      ]
    },
    {
      "cell_type": "code",
      "source": [
        "def multiple(x):\n",
        "  return x*2\n",
        "print(multiple(4))  \n"
      ],
      "metadata": {
        "colab": {
          "base_uri": "https://localhost:8080/"
        },
        "id": "6Nofs4Co_lcP",
        "outputId": "53498fbe-3d54-44fd-a681-61e80e393e9e"
      },
      "execution_count": 22,
      "outputs": [
        {
          "output_type": "stream",
          "name": "stdout",
          "text": [
            "8\n"
          ]
        }
      ]
    },
    {
      "cell_type": "code",
      "source": [
        "def multiple(x):\n",
        "  multiple = lambda x: x * 2\n",
        "print(multiple(5))  "
      ],
      "metadata": {
        "colab": {
          "base_uri": "https://localhost:8080/"
        },
        "id": "PV8suEOD_lZo",
        "outputId": "341d7ef2-7c1c-47f3-9c2f-f1868db15f3b"
      },
      "execution_count": 25,
      "outputs": [
        {
          "output_type": "stream",
          "name": "stdout",
          "text": [
            "None\n"
          ]
        }
      ]
    }
  ]
}