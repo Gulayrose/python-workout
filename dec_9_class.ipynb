{
  "nbformat": 4,
  "nbformat_minor": 0,
  "metadata": {
    "colab": {
      "name": "dec 9 class",
      "provenance": [],
      "authorship_tag": "ABX9TyMkAT9BaDOqlluar8MXusVz",
      "include_colab_link": true
    },
    "kernelspec": {
      "name": "python3",
      "display_name": "Python 3"
    },
    "language_info": {
      "name": "python"
    }
  },
  "cells": [
    {
      "cell_type": "markdown",
      "metadata": {
        "id": "view-in-github",
        "colab_type": "text"
      },
      "source": [
        "<a href=\"https://colab.research.google.com/github/Gulayrose/python-workout/blob/main/dec_9_class.ipynb\" target=\"_parent\"><img src=\"https://colab.research.google.com/assets/colab-badge.svg\" alt=\"Open In Colab\"/></a>"
      ]
    },
    {
      "cell_type": "code",
      "execution_count": 1,
      "metadata": {
        "id": "PUjUi_GpU06Z"
      },
      "outputs": [],
      "source": [
        "command = ['right 20','right 30','left 50', 'up 10', 'down 20']"
      ]
    },
    {
      "cell_type": "code",
      "source": [
        "command"
      ],
      "metadata": {
        "colab": {
          "base_uri": "https://localhost:8080/"
        },
        "id": "LzAlgkWoaXRD",
        "outputId": "9c8f17d1-a40b-4a25-8fa7-adcf48dc9881"
      },
      "execution_count": 2,
      "outputs": [
        {
          "output_type": "execute_result",
          "data": {
            "text/plain": [
              "['right 20', 'right 30', 'left 50', 'up 10', 'down 20']"
            ]
          },
          "metadata": {},
          "execution_count": 2
        }
      ]
    },
    {
      "cell_type": "code",
      "source": [
        "command = ['right 20','right 30','left 50', 'up 10', 'down 20']\n",
        "kordinat = [i.split() for i in command]\n",
        "x,y ==0,0\n",
        "for a in kordinat:\n",
        "  if a[0]=='right': x+=int(a[1])\n",
        "  elif a[0]=='left': x-=int(a[1])\n",
        "  elif a[0]=='up': y+=int(a[1])\n",
        "  elif a[0]=='down': y-=int(a[1])\n",
        "print([x,y])  \n"
      ],
      "metadata": {
        "colab": {
          "base_uri": "https://localhost:8080/",
          "height": 235
        },
        "id": "dXyM1n-baXSm",
        "outputId": "9b6c3a78-475b-4441-8fc7-22f1dd999101"
      },
      "execution_count": 3,
      "outputs": [
        {
          "output_type": "error",
          "ename": "NameError",
          "evalue": "ignored",
          "traceback": [
            "\u001b[0;31m---------------------------------------------------------------------------\u001b[0m",
            "\u001b[0;31mNameError\u001b[0m                                 Traceback (most recent call last)",
            "\u001b[0;32m<ipython-input-3-e4e380903f7c>\u001b[0m in \u001b[0;36m<module>\u001b[0;34m()\u001b[0m\n\u001b[1;32m      1\u001b[0m \u001b[0mcommand\u001b[0m \u001b[0;34m=\u001b[0m \u001b[0;34m[\u001b[0m\u001b[0;34m'right 20'\u001b[0m\u001b[0;34m,\u001b[0m\u001b[0;34m'right 30'\u001b[0m\u001b[0;34m,\u001b[0m\u001b[0;34m'left 50'\u001b[0m\u001b[0;34m,\u001b[0m \u001b[0;34m'up 10'\u001b[0m\u001b[0;34m,\u001b[0m \u001b[0;34m'down 20'\u001b[0m\u001b[0;34m]\u001b[0m\u001b[0;34m\u001b[0m\u001b[0;34m\u001b[0m\u001b[0m\n\u001b[1;32m      2\u001b[0m \u001b[0mkordinat\u001b[0m \u001b[0;34m=\u001b[0m \u001b[0;34m[\u001b[0m\u001b[0mi\u001b[0m\u001b[0;34m.\u001b[0m\u001b[0msplit\u001b[0m\u001b[0;34m(\u001b[0m\u001b[0;34m)\u001b[0m \u001b[0;32mfor\u001b[0m \u001b[0mi\u001b[0m \u001b[0;32min\u001b[0m \u001b[0mcommand\u001b[0m\u001b[0;34m]\u001b[0m\u001b[0;34m\u001b[0m\u001b[0;34m\u001b[0m\u001b[0m\n\u001b[0;32m----> 3\u001b[0;31m \u001b[0mx\u001b[0m\u001b[0;34m,\u001b[0m\u001b[0my\u001b[0m \u001b[0;34m==\u001b[0m\u001b[0;36m0\u001b[0m\u001b[0;34m,\u001b[0m\u001b[0;36m0\u001b[0m\u001b[0;34m\u001b[0m\u001b[0;34m\u001b[0m\u001b[0m\n\u001b[0m\u001b[1;32m      4\u001b[0m \u001b[0;32mfor\u001b[0m \u001b[0ma\u001b[0m \u001b[0;32min\u001b[0m \u001b[0mkordinat\u001b[0m\u001b[0;34m:\u001b[0m\u001b[0;34m\u001b[0m\u001b[0;34m\u001b[0m\u001b[0m\n\u001b[1;32m      5\u001b[0m   \u001b[0;32mif\u001b[0m \u001b[0ma\u001b[0m\u001b[0;34m[\u001b[0m\u001b[0;36m0\u001b[0m\u001b[0;34m]\u001b[0m\u001b[0;34m==\u001b[0m\u001b[0;34m'right'\u001b[0m\u001b[0;34m:\u001b[0m \u001b[0mx\u001b[0m\u001b[0;34m+=\u001b[0m\u001b[0mint\u001b[0m\u001b[0;34m(\u001b[0m\u001b[0ma\u001b[0m\u001b[0;34m[\u001b[0m\u001b[0;36m1\u001b[0m\u001b[0;34m]\u001b[0m\u001b[0;34m)\u001b[0m\u001b[0;34m\u001b[0m\u001b[0;34m\u001b[0m\u001b[0m\n",
            "\u001b[0;31mNameError\u001b[0m: name 'x' is not defined"
          ]
        }
      ]
    },
    {
      "cell_type": "code",
      "source": [
        "x = y = 0\n"
      ],
      "metadata": {
        "id": "m_xquezWaXUs"
      },
      "execution_count": 4,
      "outputs": []
    },
    {
      "cell_type": "code",
      "source": [
        "#[x,y]\n"
      ],
      "metadata": {
        "id": "mkrz5gg8aXXC"
      },
      "execution_count": null,
      "outputs": []
    },
    {
      "cell_type": "code",
      "source": [
        "command[0]"
      ],
      "metadata": {
        "colab": {
          "base_uri": "https://localhost:8080/",
          "height": 35
        },
        "id": "QWwMoFiiaXZX",
        "outputId": "f961078b-2765-43ab-ecd3-8550c5e4aacb"
      },
      "execution_count": 5,
      "outputs": [
        {
          "output_type": "execute_result",
          "data": {
            "application/vnd.google.colaboratory.intrinsic+json": {
              "type": "string"
            },
            "text/plain": [
              "'right 20'"
            ]
          },
          "metadata": {},
          "execution_count": 5
        }
      ]
    },
    {
      "cell_type": "code",
      "source": [
        "command[-1]"
      ],
      "metadata": {
        "colab": {
          "base_uri": "https://localhost:8080/",
          "height": 35
        },
        "id": "aUf_cO8SaXd0",
        "outputId": "4d8fa28e-2133-433e-bc2b-6f7b2107097f"
      },
      "execution_count": 6,
      "outputs": [
        {
          "output_type": "execute_result",
          "data": {
            "application/vnd.google.colaboratory.intrinsic+json": {
              "type": "string"
            },
            "text/plain": [
              "'down 20'"
            ]
          },
          "metadata": {},
          "execution_count": 6
        }
      ]
    },
    {
      "cell_type": "code",
      "source": [
        "len(command)"
      ],
      "metadata": {
        "colab": {
          "base_uri": "https://localhost:8080/"
        },
        "id": "T3JHbNp2eTlp",
        "outputId": "0ed9bef7-a099-4b23-9814-4e083e1d7db4"
      },
      "execution_count": 7,
      "outputs": [
        {
          "output_type": "execute_result",
          "data": {
            "text/plain": [
              "5"
            ]
          },
          "metadata": {},
          "execution_count": 7
        }
      ]
    },
    {
      "cell_type": "code",
      "source": [
        "command[-1].split() #split string methodu. 0. index komutu 1. index birimi veriyo"
      ],
      "metadata": {
        "colab": {
          "base_uri": "https://localhost:8080/"
        },
        "id": "Mi8ZiRQPehr9",
        "outputId": "f718427e-ca1d-419d-80eb-add5edae66f2"
      },
      "execution_count": 8,
      "outputs": [
        {
          "output_type": "execute_result",
          "data": {
            "text/plain": [
              "['down', '20']"
            ]
          },
          "metadata": {},
          "execution_count": 8
        }
      ]
    },
    {
      "cell_type": "code",
      "source": [
        "#x,y koordinatinda yapilan bir program.robotu hareket ettirme.\n",
        "#r,l,d,u bunlar komutlar.\n",
        "\n",
        "x = y = 0\n",
        "for i in range(len(command)):\n",
        "  if command[i].startswith(\"r\") : x = x + int(command[i].split()[1]) #x+=\n",
        "  elif command[i].startswith(\"l\") : x = x - int(command[i].split()[1])\n",
        "  elif command[i].startswith(\"d\") : y = y - int(command[i].split()[1])\n",
        "  elif command[i].startswith(\"u\") : y = y + int(command[i].split()[1])\n",
        "[x,y]  \n",
        "\n",
        "\n"
      ],
      "metadata": {
        "colab": {
          "base_uri": "https://localhost:8080/"
        },
        "id": "wS7Vc__1aXga",
        "outputId": "668fe106-d633-422f-e902-859fc72dc9d1"
      },
      "execution_count": 9,
      "outputs": [
        {
          "output_type": "execute_result",
          "data": {
            "text/plain": [
              "[0, -10]"
            ]
          },
          "metadata": {},
          "execution_count": 9
        }
      ]
    },
    {
      "cell_type": "code",
      "source": [
        "## Valid Paranthesis\n",
        "Example 1:\n",
        "Input: \"()\"\n",
        "Output: True\n",
        "Example 2:\n",
        "Input: \"()[]{}\"\n",
        "Output: True\n",
        "Example 3:\n",
        "Input: \"(]\"\n",
        "Output: False\n",
        "Example 4:\n",
        "Input: \"([)]\"\n",
        "Output: False\n",
        "Example 5:\n",
        "Input: \"{[]}\"\n",
        "Output: True\n",
        "\n",
        "\n",
        "\n"
      ],
      "metadata": {
        "id": "ms9tDI4raXiw"
      },
      "execution_count": null,
      "outputs": []
    },
    {
      "cell_type": "code",
      "source": [
        "x = \"[([{({})}]({}))\"\n"
      ],
      "metadata": {
        "id": "AJspTky0aXk2"
      },
      "execution_count": 14,
      "outputs": []
    },
    {
      "cell_type": "code",
      "source": [
        "\"ali-deli-veli\".replace(\"-\",\"+\") #replace burda ilk in yerine ikinci yapar "
      ],
      "metadata": {
        "colab": {
          "base_uri": "https://localhost:8080/",
          "height": 35
        },
        "id": "2T-Xz-UXaXnd",
        "outputId": "f20a4c36-5416-4e93-842c-c7c97bda7146"
      },
      "execution_count": 10,
      "outputs": [
        {
          "output_type": "execute_result",
          "data": {
            "application/vnd.google.colaboratory.intrinsic+json": {
              "type": "string"
            },
            "text/plain": [
              "'ali+deli+veli'"
            ]
          },
          "metadata": {},
          "execution_count": 10
        }
      ]
    },
    {
      "cell_type": "code",
      "source": [
        "\"ali-deli-veli\".replace(\"-\",\"\")"
      ],
      "metadata": {
        "colab": {
          "base_uri": "https://localhost:8080/",
          "height": 35
        },
        "id": "gnQ_wIE4aXpc",
        "outputId": "065d914b-96fe-4126-9de3-16b703cb02e1"
      },
      "execution_count": 11,
      "outputs": [
        {
          "output_type": "execute_result",
          "data": {
            "application/vnd.google.colaboratory.intrinsic+json": {
              "type": "string"
            },
            "text/plain": [
              "'alideliveli'"
            ]
          },
          "metadata": {},
          "execution_count": 11
        }
      ]
    },
    {
      "cell_type": "code",
      "source": [
        "\"ali-deli-veli\".replace(\"-\",\" \")#replace string methodu"
      ],
      "metadata": {
        "colab": {
          "base_uri": "https://localhost:8080/",
          "height": 35
        },
        "id": "h6MyeYLeaXrG",
        "outputId": "49b85c3a-8fd9-4f08-9fb6-2146b4793bea"
      },
      "execution_count": 12,
      "outputs": [
        {
          "output_type": "execute_result",
          "data": {
            "application/vnd.google.colaboratory.intrinsic+json": {
              "type": "string"
            },
            "text/plain": [
              "'ali deli veli'"
            ]
          },
          "metadata": {},
          "execution_count": 12
        }
      ]
    },
    {
      "cell_type": "code",
      "source": [
        "def isValid(s) :\n",
        "  while \"()\" in s or \"[]\" in s or \"{}\" in s :\n",
        "    s = s.replace(\"()\",\"\").replace(\"[]\",\"\").replace(\"{}\",\"\")\n",
        "  return s ==\"\"  \n",
        "print(isValid(x))    \n"
      ],
      "metadata": {
        "colab": {
          "base_uri": "https://localhost:8080/"
        },
        "id": "yGwaByIBaXuw",
        "outputId": "4876ed02-d8f7-4b47-fba7-99389288df2f"
      },
      "execution_count": 15,
      "outputs": [
        {
          "output_type": "stream",
          "name": "stdout",
          "text": [
            "False\n"
          ]
        }
      ]
    },
    {
      "cell_type": "code",
      "source": [
        "print(isValid(\"([{({})}]({}))\"))"
      ],
      "metadata": {
        "colab": {
          "base_uri": "https://localhost:8080/"
        },
        "id": "bmXKwUuClFmW",
        "outputId": "cbe1a0f8-918d-4b82-9315-476dd918d70f"
      },
      "execution_count": 16,
      "outputs": [
        {
          "output_type": "stream",
          "name": "stdout",
          "text": [
            "True\n"
          ]
        }
      ]
    },
    {
      "cell_type": "code",
      "source": [
        ""
      ],
      "metadata": {
        "id": "wWIaslWjlFhj"
      },
      "execution_count": null,
      "outputs": []
    },
    {
      "cell_type": "markdown",
      "source": [
        "## *Building a calculator using dict with lambda Expression*"
      ],
      "metadata": {
        "id": "QlVDAuvLq1bC"
      }
    },
    {
      "cell_type": "code",
      "source": [
        "(lambda x, y : x+y)(4,5)"
      ],
      "metadata": {
        "colab": {
          "base_uri": "https://localhost:8080/"
        },
        "id": "LrzJJsdMlFfU",
        "outputId": "8ea37466-3782-4e1f-823f-bd906c3fa6ef"
      },
      "execution_count": 17,
      "outputs": [
        {
          "output_type": "execute_result",
          "data": {
            "text/plain": [
              "9"
            ]
          },
          "metadata": {},
          "execution_count": 17
        }
      ]
    },
    {
      "cell_type": "code",
      "source": [
        "bir_dic = {\"ne diyorum\" : \"sesimi duy\",\n",
        "           \"neden\" : [\"bilmiyorum\"]}\n",
        "            "
      ],
      "metadata": {
        "id": "_z96LPMHlFaN"
      },
      "execution_count": 18,
      "outputs": []
    },
    {
      "cell_type": "code",
      "source": [
        "bir_dic[\"neden\"]"
      ],
      "metadata": {
        "colab": {
          "base_uri": "https://localhost:8080/"
        },
        "id": "2e8MeE1UlFXx",
        "outputId": "650f3dad-6b64-487e-e5a1-090d8762dcbe"
      },
      "execution_count": 20,
      "outputs": [
        {
          "output_type": "execute_result",
          "data": {
            "text/plain": [
              "['bilmiyorum']"
            ]
          },
          "metadata": {},
          "execution_count": 20
        }
      ]
    },
    {
      "cell_type": "code",
      "source": [
        "calculator = {\"+\": (lambda x, y : x+y),\n",
        "              \"-\" : (lambda x, y : x-y),\n",
        "              \"*\" : (lambda x, y : x*y),\n",
        "              \"/\" : (lambda x, y : x/y)}"
      ],
      "metadata": {
        "id": "yw5yCokFqh9r"
      },
      "execution_count": 21,
      "outputs": []
    },
    {
      "cell_type": "code",
      "source": [
        "calculator[\"+\"]"
      ],
      "metadata": {
        "colab": {
          "base_uri": "https://localhost:8080/"
        },
        "id": "3xW7eHA8qh7h",
        "outputId": "eed200b4-73e1-49a5-b438-b2c6ca0e1573"
      },
      "execution_count": 22,
      "outputs": [
        {
          "output_type": "execute_result",
          "data": {
            "text/plain": [
              "<function __main__.<lambda>>"
            ]
          },
          "metadata": {},
          "execution_count": 22
        }
      ]
    },
    {
      "cell_type": "code",
      "source": [
        "calculator[\"+\"](4,7)"
      ],
      "metadata": {
        "colab": {
          "base_uri": "https://localhost:8080/"
        },
        "id": "brqaeVnVqh5F",
        "outputId": "09722bbb-40cd-4d98-f803-fcf1fd0786e0"
      },
      "execution_count": 23,
      "outputs": [
        {
          "output_type": "execute_result",
          "data": {
            "text/plain": [
              "11"
            ]
          },
          "metadata": {},
          "execution_count": 23
        }
      ]
    },
    {
      "cell_type": "code",
      "source": [
        "calculator[\"/\"](20,4)"
      ],
      "metadata": {
        "colab": {
          "base_uri": "https://localhost:8080/"
        },
        "id": "0E1Tx7BIqh2l",
        "outputId": "4f69aa0d-3747-4d80-a40d-1ce47e5f9362"
      },
      "execution_count": 24,
      "outputs": [
        {
          "output_type": "execute_result",
          "data": {
            "text/plain": [
              "5.0"
            ]
          },
          "metadata": {},
          "execution_count": 24
        }
      ]
    },
    {
      "cell_type": "code",
      "source": [
        "import random"
      ],
      "metadata": {
        "id": "UpWJ33zvqh0Q"
      },
      "execution_count": 25,
      "outputs": []
    },
    {
      "cell_type": "code",
      "source": [
        ""
      ],
      "metadata": {
        "id": "hzoISiGCvEMs"
      },
      "execution_count": null,
      "outputs": []
    },
    {
      "cell_type": "code",
      "source": [
        "random.randint(10,30)"
      ],
      "metadata": {
        "colab": {
          "base_uri": "https://localhost:8080/"
        },
        "id": "Lmxs-ugqqhxo",
        "outputId": "28165570-b012-4032-aad3-5996e769349d"
      },
      "execution_count": 26,
      "outputs": [
        {
          "output_type": "execute_result",
          "data": {
            "text/plain": [
              "24"
            ]
          },
          "metadata": {},
          "execution_count": 26
        }
      ]
    },
    {
      "cell_type": "code",
      "source": [
        "chr(111)"
      ],
      "metadata": {
        "colab": {
          "base_uri": "https://localhost:8080/",
          "height": 35
        },
        "id": "zj889_1rqhvA",
        "outputId": "63505d6c-5b40-4973-d4f9-cf8eccf5d31d"
      },
      "execution_count": 27,
      "outputs": [
        {
          "output_type": "execute_result",
          "data": {
            "application/vnd.google.colaboratory.intrinsic+json": {
              "type": "string"
            },
            "text/plain": [
              "'o'"
            ]
          },
          "metadata": {},
          "execution_count": 27
        }
      ]
    },
    {
      "cell_type": "code",
      "source": [
        "random.randint(65,99)"
      ],
      "metadata": {
        "colab": {
          "base_uri": "https://localhost:8080/"
        },
        "id": "G2JldycYqhpm",
        "outputId": "2b0ddb79-9545-4c2a-c715-58cc8428f3fc"
      },
      "execution_count": 28,
      "outputs": [
        {
          "output_type": "execute_result",
          "data": {
            "text/plain": [
              "86"
            ]
          },
          "metadata": {},
          "execution_count": 28
        }
      ]
    },
    {
      "cell_type": "code",
      "source": [
        "chr(86)"
      ],
      "metadata": {
        "colab": {
          "base_uri": "https://localhost:8080/",
          "height": 35
        },
        "id": "Nz2k__Cyqhm8",
        "outputId": "9240a12e-b363-4f09-c25f-7073add3ae0d"
      },
      "execution_count": 30,
      "outputs": [
        {
          "output_type": "execute_result",
          "data": {
            "application/vnd.google.colaboratory.intrinsic+json": {
              "type": "string"
            },
            "text/plain": [
              "'V'"
            ]
          },
          "metadata": {},
          "execution_count": 30
        }
      ]
    },
    {
      "cell_type": "code",
      "source": [
        "chr(random.randint(101,122))"
      ],
      "metadata": {
        "colab": {
          "base_uri": "https://localhost:8080/",
          "height": 35
        },
        "id": "voZ_Y8y0qhkV",
        "outputId": "08478841-2f77-4b2b-f317-d06ec8ad9ce8"
      },
      "execution_count": 31,
      "outputs": [
        {
          "output_type": "execute_result",
          "data": {
            "application/vnd.google.colaboratory.intrinsic+json": {
              "type": "string"
            },
            "text/plain": [
              "'m'"
            ]
          },
          "metadata": {},
          "execution_count": 31
        }
      ]
    },
    {
      "cell_type": "code",
      "source": [
        "chr(random.randint(65,90))"
      ],
      "metadata": {
        "colab": {
          "base_uri": "https://localhost:8080/",
          "height": 35
        },
        "id": "_zmaHlTsyxDh",
        "outputId": "89c9b543-39a0-47a6-d5f1-b56a5be716e9"
      },
      "execution_count": 32,
      "outputs": [
        {
          "output_type": "execute_result",
          "data": {
            "application/vnd.google.colaboratory.intrinsic+json": {
              "type": "string"
            },
            "text/plain": [
              "'W'"
            ]
          },
          "metadata": {},
          "execution_count": 32
        }
      ]
    },
    {
      "cell_type": "code",
      "source": [
        "chr(random.randint(97,122))"
      ],
      "metadata": {
        "colab": {
          "base_uri": "https://localhost:8080/",
          "height": 35
        },
        "id": "If-u57ccyxBT",
        "outputId": "ca830f23-2847-48ef-98a6-754197ab7392"
      },
      "execution_count": 33,
      "outputs": [
        {
          "output_type": "execute_result",
          "data": {
            "application/vnd.google.colaboratory.intrinsic+json": {
              "type": "string"
            },
            "text/plain": [
              "'c'"
            ]
          },
          "metadata": {},
          "execution_count": 33
        }
      ]
    },
    {
      "cell_type": "code",
      "source": [
        "chr(random.randint(48,57))"
      ],
      "metadata": {
        "colab": {
          "base_uri": "https://localhost:8080/",
          "height": 35
        },
        "id": "Jq435vy9yw_Y",
        "outputId": "e1be530b-1566-4e0a-a161-41d51b599586"
      },
      "execution_count": 34,
      "outputs": [
        {
          "output_type": "execute_result",
          "data": {
            "application/vnd.google.colaboratory.intrinsic+json": {
              "type": "string"
            },
            "text/plain": [
              "'8'"
            ]
          },
          "metadata": {},
          "execution_count": 34
        }
      ]
    },
    {
      "cell_type": "code",
      "source": [
        "chr(random.randint(33,47))"
      ],
      "metadata": {
        "colab": {
          "base_uri": "https://localhost:8080/",
          "height": 35
        },
        "id": "YH5pp0ZCyw8q",
        "outputId": "4f38e20c-61aa-41dd-f619-3c385a3483be"
      },
      "execution_count": 35,
      "outputs": [
        {
          "output_type": "execute_result",
          "data": {
            "application/vnd.google.colaboratory.intrinsic+json": {
              "type": "string"
            },
            "text/plain": [
              "','"
            ]
          },
          "metadata": {},
          "execution_count": 35
        }
      ]
    },
    {
      "cell_type": "code",
      "source": [
        "chr(random.randint(65,90))"
      ],
      "metadata": {
        "colab": {
          "base_uri": "https://localhost:8080/",
          "height": 35
        },
        "id": "XxCfVrTXyw4O",
        "outputId": "64b0a01e-12fe-4ef8-fb0d-e5dbb6abeece"
      },
      "execution_count": 36,
      "outputs": [
        {
          "output_type": "execute_result",
          "data": {
            "application/vnd.google.colaboratory.intrinsic+json": {
              "type": "string"
            },
            "text/plain": [
              "'F'"
            ]
          },
          "metadata": {},
          "execution_count": 36
        }
      ]
    },
    {
      "cell_type": "code",
      "source": [
        "chr(random.randint(58,64))"
      ],
      "metadata": {
        "id": "xTAHQsc4yw2G"
      },
      "execution_count": null,
      "outputs": []
    },
    {
      "cell_type": "code",
      "source": [
        "uppers = [chr(random.randint(65,90)) for i in range(3)]\n",
        "uppers"
      ],
      "metadata": {
        "colab": {
          "base_uri": "https://localhost:8080/"
        },
        "id": "xuuBKAjFywz0",
        "outputId": "2559775e-ae45-47a6-bab4-e51c2d7aae6b"
      },
      "execution_count": 40,
      "outputs": [
        {
          "output_type": "execute_result",
          "data": {
            "text/plain": [
              "['H', 'P', 'D']"
            ]
          },
          "metadata": {},
          "execution_count": 40
        }
      ]
    },
    {
      "cell_type": "code",
      "source": [
        "lowers = [chr(random.randint(97,122)) for i in range(3)]\n",
        "lowers"
      ],
      "metadata": {
        "colab": {
          "base_uri": "https://localhost:8080/"
        },
        "id": "oIDEu_kEywxJ",
        "outputId": "5757b760-9e2a-4674-fe0a-ac564be52423"
      },
      "execution_count": 48,
      "outputs": [
        {
          "output_type": "execute_result",
          "data": {
            "text/plain": [
              "['f', 'z', 'd']"
            ]
          },
          "metadata": {},
          "execution_count": 48
        }
      ]
    },
    {
      "cell_type": "code",
      "source": [
        "numbers = [chr(random.randint(48,57)) for i in range(3)]\n",
        "numbers"
      ],
      "metadata": {
        "colab": {
          "base_uri": "https://localhost:8080/"
        },
        "id": "gZSJjXPjywuk",
        "outputId": "301c9b47-6465-4b17-f41e-bd37a5aefac0"
      },
      "execution_count": 51,
      "outputs": [
        {
          "output_type": "execute_result",
          "data": {
            "text/plain": [
              "['6', '5', '5']"
            ]
          },
          "metadata": {},
          "execution_count": 51
        }
      ]
    },
    {
      "cell_type": "code",
      "source": [
        "chars = chr(random.randint(33,47)) + chr(random.randint(58,64))\n",
        "chars"
      ],
      "metadata": {
        "colab": {
          "base_uri": "https://localhost:8080/",
          "height": 35
        },
        "id": "NnuR6rqvywr-",
        "outputId": "02d8a156-d74b-4470-bbda-0c58d7002edc"
      },
      "execution_count": 56,
      "outputs": [
        {
          "output_type": "execute_result",
          "data": {
            "application/vnd.google.colaboratory.intrinsic+json": {
              "type": "string"
            },
            "text/plain": [
              "'#:'"
            ]
          },
          "metadata": {},
          "execution_count": 56
        }
      ]
    },
    {
      "cell_type": "code",
      "source": [
        "\"\".join(numbers)"
      ],
      "metadata": {
        "colab": {
          "base_uri": "https://localhost:8080/",
          "height": 35
        },
        "id": "0x_VeiCR1Cc_",
        "outputId": "84f0ca04-b5e3-41d8-f033-b541d15a16cf"
      },
      "execution_count": 57,
      "outputs": [
        {
          "output_type": "execute_result",
          "data": {
            "application/vnd.google.colaboratory.intrinsic+json": {
              "type": "string"
            },
            "text/plain": [
              "'655'"
            ]
          },
          "metadata": {},
          "execution_count": 57
        }
      ]
    },
    {
      "cell_type": "code",
      "source": [
        "passw = \"\".join(uppers) + \"\".join(lowers) + \"\".join(numbers) + \"\".join(chars)\n",
        "passw"
      ],
      "metadata": {
        "colab": {
          "base_uri": "https://localhost:8080/",
          "height": 35
        },
        "id": "7krppqV51Cap",
        "outputId": "78608903-a7e0-4452-f1f0-802fe710e0f0"
      },
      "execution_count": 58,
      "outputs": [
        {
          "output_type": "execute_result",
          "data": {
            "application/vnd.google.colaboratory.intrinsic+json": {
              "type": "string"
            },
            "text/plain": [
              "'HPDfzd655#:'"
            ]
          },
          "metadata": {},
          "execution_count": 58
        }
      ]
    },
    {
      "cell_type": "code",
      "source": [
        "ornek = \"alivelideli\"\n"
      ],
      "metadata": {
        "id": "Mx30tj4O1CV9"
      },
      "execution_count": 60,
      "outputs": []
    },
    {
      "cell_type": "code",
      "source": [
        "list(ornek)"
      ],
      "metadata": {
        "colab": {
          "base_uri": "https://localhost:8080/"
        },
        "id": "P9vW2X8u1CTE",
        "outputId": "13864b93-b2e6-4669-c3fb-a728e2cd58bc"
      },
      "execution_count": 61,
      "outputs": [
        {
          "output_type": "execute_result",
          "data": {
            "text/plain": [
              "['a', 'l', 'i', 'v', 'e', 'l', 'i', 'd', 'e', 'l', 'i']"
            ]
          },
          "metadata": {},
          "execution_count": 61
        }
      ]
    },
    {
      "cell_type": "code",
      "source": [
        "random.shuffle()"
      ],
      "metadata": {
        "id": "DToWFHvS1CRC"
      },
      "execution_count": null,
      "outputs": []
    },
    {
      "cell_type": "code",
      "source": [
        "list_ornek = list(ornek)"
      ],
      "metadata": {
        "id": "g6f56exf1CO4"
      },
      "execution_count": 64,
      "outputs": []
    },
    {
      "cell_type": "code",
      "source": [
        "random.shuffle(list_ornek)\n",
        "list_ornek"
      ],
      "metadata": {
        "colab": {
          "base_uri": "https://localhost:8080/"
        },
        "id": "yoJ4r54x1CMU",
        "outputId": "c3fd611c-85d7-42e9-d8b0-c4524909aa74"
      },
      "execution_count": 67,
      "outputs": [
        {
          "output_type": "execute_result",
          "data": {
            "text/plain": [
              "['v', 'l', 'i', 'd', 'i', 'l', 'e', 'e', 'i', 'a', 'l']"
            ]
          },
          "metadata": {},
          "execution_count": 67
        }
      ]
    },
    {
      "cell_type": "code",
      "source": [
        "\"\".join(list_ornek)"
      ],
      "metadata": {
        "colab": {
          "base_uri": "https://localhost:8080/",
          "height": 35
        },
        "id": "Dr3mKDmf1CJZ",
        "outputId": "a7dc4f04-f14f-41bc-fd0d-70ebeabbe9de"
      },
      "execution_count": 68,
      "outputs": [
        {
          "output_type": "execute_result",
          "data": {
            "application/vnd.google.colaboratory.intrinsic+json": {
              "type": "string"
            },
            "text/plain": [
              "'vlidileeial'"
            ]
          },
          "metadata": {},
          "execution_count": 68
        }
      ]
    },
    {
      "cell_type": "code",
      "source": [
        "def shuffle(password) :\n",
        "  templist = list(password)\n",
        "  random.shuffle(templist)\n",
        "  return \"\".join(templist)\n",
        "  "
      ],
      "metadata": {
        "id": "TlvL27Uw3qNL"
      },
      "execution_count": 70,
      "outputs": []
    },
    {
      "cell_type": "code",
      "source": [
        "passw = shuffle(passw)\n",
        "passw"
      ],
      "metadata": {
        "colab": {
          "base_uri": "https://localhost:8080/",
          "height": 35
        },
        "id": "gr0NKlHX3qLE",
        "outputId": "9351e06d-852a-433d-9b2f-8623a78b5527"
      },
      "execution_count": 71,
      "outputs": [
        {
          "output_type": "execute_result",
          "data": {
            "application/vnd.google.colaboratory.intrinsic+json": {
              "type": "string"
            },
            "text/plain": [
              "'P:5fdz5#DH6'"
            ]
          },
          "metadata": {},
          "execution_count": 71
        }
      ]
    },
    {
      "cell_type": "code",
      "source": [
        "from timeit import timeit"
      ],
      "metadata": {
        "id": "JYzxn0_J3qI-"
      },
      "execution_count": 72,
      "outputs": []
    },
    {
      "cell_type": "code",
      "source": [
        "def for_loop() :\n",
        "  result = []\n",
        "  for i in range(1000000) :\n",
        "    result.append(i)\n",
        "  return result\n"
      ],
      "metadata": {
        "id": "kXP9j1bJ3qGm"
      },
      "execution_count": 87,
      "outputs": []
    },
    {
      "cell_type": "code",
      "source": [
        "def list_comp():\n",
        "  return [i for i in range(1000000)]\n"
      ],
      "metadata": {
        "id": "iL4iDZGS3qEP"
      },
      "execution_count": 88,
      "outputs": []
    },
    {
      "cell_type": "code",
      "source": [
        " # return [result result.append() for i in range()]"
      ],
      "metadata": {
        "id": "N2VpEmxv3qB7"
      },
      "execution_count": null,
      "outputs": []
    },
    {
      "cell_type": "code",
      "source": [
        "size = 100\n",
        "\n",
        "time_for= timeit(for_loop, number = size )\n",
        "time_list_comp = timeit(list_comp, number = size)"
      ],
      "metadata": {
        "id": "vO5gqkeA3p_w"
      },
      "execution_count": 89,
      "outputs": []
    },
    {
      "cell_type": "code",
      "source": [
        "print(f\"List Comp. is {round(time_for/time_list_comp,2)} times faster than for loops.\")"
      ],
      "metadata": {
        "colab": {
          "base_uri": "https://localhost:8080/"
        },
        "id": "GM_5P2nx3p8s",
        "outputId": "97c8d793-f9ab-44e4-a277-b2ddf1f415e2"
      },
      "execution_count": 90,
      "outputs": [
        {
          "output_type": "stream",
          "name": "stdout",
          "text": [
            "List Comp. is 1.67 times faster than for loops.\n"
          ]
        }
      ]
    },
    {
      "cell_type": "code",
      "source": [
        ""
      ],
      "metadata": {
        "id": "5Qkp1N6k3p04"
      },
      "execution_count": null,
      "outputs": []
    }
  ]
}