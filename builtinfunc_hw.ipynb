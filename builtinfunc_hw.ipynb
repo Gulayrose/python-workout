{
  "nbformat": 4,
  "nbformat_minor": 0,
  "metadata": {
    "colab": {
      "name": "builtinfunc_hw",
      "provenance": [],
      "authorship_tag": "ABX9TyODxoYCVDTA+zVkzTHH3/eP",
      "include_colab_link": true
    },
    "kernelspec": {
      "name": "python3",
      "display_name": "Python 3"
    },
    "language_info": {
      "name": "python"
    }
  },
  "cells": [
    {
      "cell_type": "markdown",
      "metadata": {
        "id": "view-in-github",
        "colab_type": "text"
      },
      "source": [
        "<a href=\"https://colab.research.google.com/github/Gulayrose/python-workout/blob/main/builtinfunc_hw.ipynb\" target=\"_parent\"><img src=\"https://colab.research.google.com/assets/colab-badge.svg\" alt=\"Open In Colab\"/></a>"
      ]
    },
    {
      "cell_type": "markdown",
      "source": [
        "Problem 1\n",
        "\n",
        "Elinizde bir dikdörtgenin kenarlarını ifade eden sayı çiftlerinin bulunduğu bir liste olsun.\n",
        "\n",
        "         [(3,4),(10,3),(5,6),(1,9)]\n",
        "\n",
        "Şimdi kenar uzunluklarına göre dikdörtgenin alanını hesaplayan bir fonksiyon yazın ve bu listenin her bir elemanına bu fonksiyonu uygulayarak ekrana şöyle bir liste yazdırın.\n",
        "\n",
        "         [12, 30, 30, 9]\n",
        "\n",
        "Not : map() fonksiyonunu kullanmaya çalışın."
      ],
      "metadata": {
        "id": "OVORWmE9dFR-"
      }
    },
    {
      "cell_type": "code",
      "source": [
        "side =  [(3,4),(10,3),(5,6),(1,9)]"
      ],
      "metadata": {
        "id": "X-eEHq-HgnhZ"
      },
      "execution_count": 9,
      "outputs": []
    },
    {
      "cell_type": "code",
      "source": [
        "def alan_hesabi(tple):\n",
        "  return tple[0] * tple[1]\n",
        "print(list(map(alan_hesabi,side)))  "
      ],
      "metadata": {
        "colab": {
          "base_uri": "https://localhost:8080/"
        },
        "id": "BR8ce3gAdNWP",
        "outputId": "7b8002dc-42da-431b-d124-8bceada0379c"
      },
      "execution_count": 13,
      "outputs": [
        {
          "output_type": "stream",
          "name": "stdout",
          "text": [
            "[12, 30, 30, 9]\n"
          ]
        }
      ]
    },
    {
      "cell_type": "code",
      "source": [
        ""
      ],
      "metadata": {
        "id": "Vcybl_YudNLT"
      },
      "execution_count": null,
      "outputs": []
    },
    {
      "cell_type": "markdown",
      "source": [
        "Problem 2\n",
        "\n",
        "Elinizden her bir elemanı 3'lü bir demet olan bir liste olsun.\n",
        "\n",
        "     [(3,4,5),(6,8,10),(3,10,7)]\n",
        "\n",
        "Şimdi kenar uzunluklarına göre bu kenarların bir üçgen olup olmadığını dönen bir fonksiyon yazın ve sadece üçgen belirten kenarları bulunduran listeyi ekrana yazdırın.\n",
        "\n",
        "     [(3, 4, 5), (6, 8, 10)]\n",
        "\n",
        "Not: filter() fonksiyonunu kullanmaya çalışın."
      ],
      "metadata": {
        "id": "gcHiCGjOdFVz"
      }
    },
    {
      "cell_type": "code",
      "source": [
        "def traingle(dmt):\n",
        "  if(abs(dmt[0]+dmt[1]) > dmt[2] and abs(dmt[0]+dmt[2]) > dmt [1] and abs(dmt[2]+dmt[1]) > dmt [0]):\n",
        "    return True\n",
        "  else :\n",
        "    return False \n",
        "liste =   [(3,4,5),(6,8,10),(3,10,7)]\n",
        "print(list(filter(traingle,liste)))     "
      ],
      "metadata": {
        "colab": {
          "base_uri": "https://localhost:8080/"
        },
        "id": "ezLobUckdTFy",
        "outputId": "0527b87b-fec9-453a-a34c-65f74f2db92c"
      },
      "execution_count": 18,
      "outputs": [
        {
          "output_type": "stream",
          "name": "stdout",
          "text": [
            "[(3, 4, 5), (6, 8, 10)]\n"
          ]
        }
      ]
    },
    {
      "cell_type": "code",
      "source": [
        ""
      ],
      "metadata": {
        "id": "lA0WkqMSdTsl"
      },
      "execution_count": null,
      "outputs": []
    },
    {
      "cell_type": "markdown",
      "source": [
        "Problem 3\n",
        "\n",
        "Elinizde şöyle bir liste bulunsun.\n",
        "\n",
        "    [1,2,3,4,5,6,7,8,9,10]\n",
        "\n",
        "Bu listenin içindeki çift sayıların toplamını ekrana yazdıran bir fonksiyon yazın.\n",
        "\n",
        "Not: İlk önce filter() fonksiyonu ile çift sayıları ayıklayın. Daha sonra reduce() fonksiyonunu kullanın.\n",
        "\n"
      ],
      "metadata": {
        "id": "bohfKe12dFY9"
      }
    },
    {
      "cell_type": "code",
      "source": [
        "from functools import reduce"
      ],
      "metadata": {
        "id": "fCrVnfM-eZHc"
      },
      "execution_count": 2,
      "outputs": []
    },
    {
      "cell_type": "code",
      "source": [
        "liste = [1,2,3,4,5,6,7,8,9,10]\n",
        "list(filter(lambda x : x % 2 == 0 , liste))"
      ],
      "metadata": {
        "colab": {
          "base_uri": "https://localhost:8080/"
        },
        "id": "hmtmCpMwdbKm",
        "outputId": "8d6dbcb4-4db3-488f-9c37-4b3924784f35"
      },
      "execution_count": 5,
      "outputs": [
        {
          "output_type": "execute_result",
          "data": {
            "text/plain": [
              "[2, 4, 6, 8, 10]"
            ]
          },
          "metadata": {},
          "execution_count": 5
        }
      ]
    },
    {
      "cell_type": "code",
      "source": [
        "def toplam(x,y):\n",
        "  return x + y\n",
        "  \n"
      ],
      "metadata": {
        "id": "duAiUuSifuvQ"
      },
      "execution_count": 6,
      "outputs": []
    },
    {
      "cell_type": "code",
      "source": [
        "reduce(toplam, list(filter(lambda x : x % 2 == 0 , liste)))"
      ],
      "metadata": {
        "colab": {
          "base_uri": "https://localhost:8080/"
        },
        "id": "p01zVVTgf6Ku",
        "outputId": "56a75e53-cc9b-478d-b0aa-901eb94f6ab0"
      },
      "execution_count": 7,
      "outputs": [
        {
          "output_type": "execute_result",
          "data": {
            "text/plain": [
              "30"
            ]
          },
          "metadata": {},
          "execution_count": 7
        }
      ]
    },
    {
      "cell_type": "markdown",
      "source": [
        "Problem 4\n",
        "\n",
        "Elinizde isimlerin ve soyisimlerin bulunduğu iki tane liste olsun.\n",
        "\n",
        "        isimler -----> [\"Kerim\",\"Tarık\",\"Ezgi\",\"Kemal\",\"İlkay\",\"Şükran\",\"Merve\"]\n",
        "\n",
        "        soyisimler -----> [\"Yılmaz\",\"Öztürk\",\"Dağdeviren\",\"Atatürk\",\"Dikmen\",\"Kaya\",\"Polat\"]\n",
        "\n",
        "Bu isimleri ve soyisimleri sırasıyla eşleştirin ve ekrana alt alta isimleri ve soyisimleri yazdırın.\n",
        "\n",
        "Not: zip() fonksiyonunu kullanmaya çalışın."
      ],
      "metadata": {
        "id": "VZ3IAjZNdFbT"
      }
    },
    {
      "cell_type": "code",
      "source": [
        "isimler =[\"Kerim\",\"Tarık\",\"Ezgi\",\"Kemal\",\"İlkay\",\"Şükran\",\"Merve\"]\n",
        "\n",
        "soyisimler = [\"Yılmaz\",\"Öztürk\",\"Dağdeviren\",\"Atatürk\",\"Dikmen\",\"Kaya\",\"Polat\"]\n",
        "list(zip(isimler,soyisimler))"
      ],
      "metadata": {
        "colab": {
          "base_uri": "https://localhost:8080/"
        },
        "id": "d2ZC7Y9BdnC8",
        "outputId": "2cafa343-a115-4307-d48f-436635d4c1c5"
      },
      "execution_count": 1,
      "outputs": [
        {
          "output_type": "execute_result",
          "data": {
            "text/plain": [
              "[('Kerim', 'Yılmaz'),\n",
              " ('Tarık', 'Öztürk'),\n",
              " ('Ezgi', 'Dağdeviren'),\n",
              " ('Kemal', 'Atatürk'),\n",
              " ('İlkay', 'Dikmen'),\n",
              " ('Şükran', 'Kaya'),\n",
              " ('Merve', 'Polat')]"
            ]
          },
          "metadata": {},
          "execution_count": 1
        }
      ]
    },
    {
      "cell_type": "code",
      "source": [
        "for i, j in zip(isimler,soyisimler):\n",
        "  print(i,j)"
      ],
      "metadata": {
        "colab": {
          "base_uri": "https://localhost:8080/"
        },
        "id": "NPKAnItQhtwx",
        "outputId": "4e64eafa-1ea5-47b5-dace-5d37e72c005d"
      },
      "execution_count": 14,
      "outputs": [
        {
          "output_type": "stream",
          "name": "stdout",
          "text": [
            "Kerim Yılmaz\n",
            "Tarık Öztürk\n",
            "Ezgi Dağdeviren\n",
            "Kemal Atatürk\n",
            "İlkay Dikmen\n",
            "Şükran Kaya\n",
            "Merve Polat\n"
          ]
        }
      ]
    }
  ]
}