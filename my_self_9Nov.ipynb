{
  "nbformat": 4,
  "nbformat_minor": 0,
  "metadata": {
    "colab": {
      "name": "my self 9Nov",
      "provenance": [],
      "authorship_tag": "ABX9TyMaAJtG87osXAXNrREq9s/d",
      "include_colab_link": true
    },
    "kernelspec": {
      "name": "python3",
      "display_name": "Python 3"
    },
    "language_info": {
      "name": "python"
    }
  },
  "cells": [
    {
      "cell_type": "markdown",
      "metadata": {
        "id": "view-in-github",
        "colab_type": "text"
      },
      "source": [
        "<a href=\"https://colab.research.google.com/github/Gulayrose/python-workout/blob/main/my_self_9Nov.ipynb\" target=\"_parent\"><img src=\"https://colab.research.google.com/assets/colab-badge.svg\" alt=\"Open In Colab\"/></a>"
      ]
    },
    {
      "cell_type": "code",
      "metadata": {
        "colab": {
          "base_uri": "https://localhost:8080/"
        },
        "id": "OMIV06zVjVlf",
        "outputId": "4b6839d8-b41f-4390-b5fd-40f4404200c0"
      },
      "source": [
        "ad = input(\"Please enter your name : \")\n",
        "print(\"Benim adim {}\". format(ad))"
      ],
      "execution_count": null,
      "outputs": [
        {
          "output_type": "stream",
          "name": "stdout",
          "text": [
            "Please enter your name : Gulay\n",
            "Benim adim Gulay\n"
          ]
        }
      ]
    },
    {
      "cell_type": "code",
      "metadata": {
        "colab": {
          "base_uri": "https://localhost:8080/"
        },
        "id": "DNXjjPzej0E5",
        "outputId": "a5126fb3-9ae0-4a24-d6e2-d62830d4727e"
      },
      "source": [
        "print(\"Benim adim {ad}, ve yasim {yas}.\" .format(ad= 'Gulay' , yas=37))"
      ],
      "execution_count": null,
      "outputs": [
        {
          "output_type": "stream",
          "name": "stdout",
          "text": [
            "Benim adim Gulay, ve yasim 37.\n"
          ]
        }
      ]
    },
    {
      "cell_type": "code",
      "metadata": {
        "colab": {
          "base_uri": "https://localhost:8080/"
        },
        "id": "4TV0B1XLO2hM",
        "outputId": "0572fc6a-b9d7-4817-e1ee-8fb3ab5b9150"
      },
      "source": [
        "ders = (\"Ben python ogreniyorum fakat zor.\")\n",
        "print(ders.split(sep = \"o\", maxsplit=2))"
      ],
      "execution_count": null,
      "outputs": [
        {
          "output_type": "stream",
          "name": "stdout",
          "text": [
            "['Ben pyth', 'n ', 'greniyorum fakat zor.']\n"
          ]
        }
      ]
    },
    {
      "cell_type": "code",
      "metadata": {
        "colab": {
          "base_uri": "https://localhost:8080/"
        },
        "id": "ynoEbLcVO2el",
        "outputId": "12cf75b8-3fe8-4773-ef0c-9b063c531ec1"
      },
      "source": [
        "liste = \"a\",\"b\",\"c\",'d'\n",
        "liste = list(liste)\n",
        "print(liste)"
      ],
      "execution_count": null,
      "outputs": [
        {
          "output_type": "stream",
          "name": "stdout",
          "text": [
            "['a', 'b', 'c', 'd']\n"
          ]
        }
      ]
    },
    {
      "cell_type": "code",
      "metadata": {
        "colab": {
          "base_uri": "https://localhost:8080/"
        },
        "id": "Gn_SydR2O2cQ",
        "outputId": "1721b2d0-ff3a-44b6-f807-763b4ef9470f"
      },
      "source": [
        "liste + [\"g\"]"
      ],
      "execution_count": null,
      "outputs": [
        {
          "output_type": "execute_result",
          "data": {
            "text/plain": [
              "['a', 'b', 'c', 'd', 'g']"
            ]
          },
          "metadata": {},
          "execution_count": 4
        }
      ]
    },
    {
      "cell_type": "code",
      "metadata": {
        "colab": {
          "base_uri": "https://localhost:8080/",
          "height": 35
        },
        "id": "vEcVoEwvO2ZI",
        "outputId": "27e7a11d-b62a-4a3d-9fc5-b2e223393c6f"
      },
      "source": [
        "liste.pop(2)"
      ],
      "execution_count": null,
      "outputs": [
        {
          "output_type": "execute_result",
          "data": {
            "application/vnd.google.colaboratory.intrinsic+json": {
              "type": "string"
            },
            "text/plain": [
              "'c'"
            ]
          },
          "metadata": {},
          "execution_count": 5
        }
      ]
    },
    {
      "cell_type": "code",
      "metadata": {
        "colab": {
          "base_uri": "https://localhost:8080/"
        },
        "id": "y0c88q36O2V_",
        "outputId": "25852b87-a5da-447e-d2db-0bfd5d125893"
      },
      "source": [
        "print(liste)"
      ],
      "execution_count": null,
      "outputs": [
        {
          "output_type": "stream",
          "name": "stdout",
          "text": [
            "['a', 'b', 'd']\n"
          ]
        }
      ]
    },
    {
      "cell_type": "code",
      "metadata": {
        "colab": {
          "base_uri": "https://localhost:8080/"
        },
        "id": "-KRSeerCO2ES",
        "outputId": "0528743a-8113-4755-e51c-3950f635a018"
      },
      "source": [
        "liste= liste.sort()\n",
        "print(liste)"
      ],
      "execution_count": null,
      "outputs": [
        {
          "output_type": "stream",
          "name": "stdout",
          "text": [
            "None\n"
          ]
        }
      ]
    },
    {
      "cell_type": "code",
      "metadata": {
        "colab": {
          "base_uri": "https://localhost:8080/"
        },
        "id": "MVHEIqkvSd0X",
        "outputId": "cca5a4d1-72a1-45c7-928b-d1e7eac01cfb"
      },
      "source": [
        "sayilar= [123,345,145,1,1,2]\n",
        "sayilar.reverse\n",
        "print(sayilar)"
      ],
      "execution_count": null,
      "outputs": [
        {
          "output_type": "stream",
          "name": "stdout",
          "text": [
            "[123, 345, 145, 1, 1, 2]\n"
          ]
        }
      ]
    },
    {
      "cell_type": "code",
      "metadata": {
        "colab": {
          "base_uri": "https://localhost:8080/"
        },
        "id": "pfe8-wjwSeyG",
        "outputId": "778c41e3-b11f-4013-b33d-62a51d0fb65d"
      },
      "source": [
        "sayilar.pop()\n",
        "print(sayilar)"
      ],
      "execution_count": null,
      "outputs": [
        {
          "output_type": "stream",
          "name": "stdout",
          "text": [
            "[123, 345, 145, 1, 1]\n"
          ]
        }
      ]
    },
    {
      "cell_type": "code",
      "metadata": {
        "colab": {
          "base_uri": "https://localhost:8080/"
        },
        "id": "Q9EAWxyeSevv",
        "outputId": "c80306a3-1d82-458a-ef1a-20f5ebe9a8dd"
      },
      "source": [
        "sayilar.sort()\n",
        "print(sayilar)"
      ],
      "execution_count": null,
      "outputs": [
        {
          "output_type": "stream",
          "name": "stdout",
          "text": [
            "[1, 1, 123, 145, 345]\n"
          ]
        }
      ]
    },
    {
      "cell_type": "code",
      "metadata": {
        "colab": {
          "base_uri": "https://localhost:8080/"
        },
        "id": "8xsVt7NSSetZ",
        "outputId": "a303c3f3-8fda-4136-9b8d-ee9097d49b80"
      },
      "source": [
        "sayilar"
      ],
      "execution_count": null,
      "outputs": [
        {
          "output_type": "execute_result",
          "data": {
            "text/plain": [
              "[1, 1, 123, 145, 345]"
            ]
          },
          "metadata": {},
          "execution_count": 16
        }
      ]
    },
    {
      "cell_type": "code",
      "metadata": {
        "colab": {
          "base_uri": "https://localhost:8080/"
        },
        "id": "_9cEPKkFSerE",
        "outputId": "ff5a9df6-1b17-429c-cb2f-ca187afa4a97"
      },
      "source": [
        "set(sayilar)"
      ],
      "execution_count": null,
      "outputs": [
        {
          "output_type": "execute_result",
          "data": {
            "text/plain": [
              "{1, 123, 145, 345}"
            ]
          },
          "metadata": {},
          "execution_count": 17
        }
      ]
    },
    {
      "cell_type": "code",
      "metadata": {
        "colab": {
          "base_uri": "https://localhost:8080/"
        },
        "id": "lPdvMmUjSeod",
        "outputId": "a16e86a0-d3d3-4117-941e-71abdbe15254"
      },
      "source": [
        "dic ={\n",
        "    \"isim\":\"Gulay\",\n",
        "    \"yas\":37,\n",
        "    \"location\" : {\n",
        "        \"dogdugu_sehir\":\"Samsun\",\n",
        "        \"yasadigi_sehir\":\"NJ\"\n",
        "    }\n",
        "}\n",
        "print(dic)"
      ],
      "execution_count": null,
      "outputs": [
        {
          "output_type": "stream",
          "name": "stdout",
          "text": [
            "{'isim': 'Gulay', 'yas': 37, 'location': {'dogdugu_sehir': 'Samsun', 'yasadigi_sehir': 'NJ'}}\n"
          ]
        }
      ]
    },
    {
      "cell_type": "code",
      "metadata": {
        "colab": {
          "base_uri": "https://localhost:8080/"
        },
        "id": "_tUiDtHZSejP",
        "outputId": "6201d9dc-5184-452f-a877-dffbb15578c2"
      },
      "source": [
        "dic[\"yas\"]"
      ],
      "execution_count": null,
      "outputs": [
        {
          "output_type": "execute_result",
          "data": {
            "text/plain": [
              "37"
            ]
          },
          "metadata": {},
          "execution_count": 23
        }
      ]
    },
    {
      "cell_type": "code",
      "metadata": {
        "colab": {
          "base_uri": "https://localhost:8080/"
        },
        "id": "x4pdwqqdSegY",
        "outputId": "6552ea6f-221b-451f-8313-e7003cdfef87"
      },
      "source": [
        "dic.get(\"yas\")"
      ],
      "execution_count": null,
      "outputs": [
        {
          "output_type": "execute_result",
          "data": {
            "text/plain": [
              "37"
            ]
          },
          "metadata": {},
          "execution_count": 24
        }
      ]
    },
    {
      "cell_type": "code",
      "metadata": {
        "colab": {
          "base_uri": "https://localhost:8080/",
          "height": 35
        },
        "id": "JU587Zk0YWvj",
        "outputId": "b281b753-e8d0-42e5-ddf8-a5a4c89fe411"
      },
      "source": [
        "dic.get(\"location\").get(\"dogdugu_sehir\")"
      ],
      "execution_count": null,
      "outputs": [
        {
          "output_type": "execute_result",
          "data": {
            "application/vnd.google.colaboratory.intrinsic+json": {
              "type": "string"
            },
            "text/plain": [
              "'Samsun'"
            ]
          },
          "metadata": {},
          "execution_count": 33
        }
      ]
    },
    {
      "cell_type": "code",
      "metadata": {
        "colab": {
          "base_uri": "https://localhost:8080/"
        },
        "id": "o4VNQBimYW0g",
        "outputId": "14317921-1a4f-45d6-e480-f0c57b532dea"
      },
      "source": [
        "dic.keys()"
      ],
      "execution_count": null,
      "outputs": [
        {
          "output_type": "execute_result",
          "data": {
            "text/plain": [
              "dict_keys(['isim', 'yas', 'location'])"
            ]
          },
          "metadata": {},
          "execution_count": 29
        }
      ]
    },
    {
      "cell_type": "code",
      "metadata": {
        "colab": {
          "base_uri": "https://localhost:8080/"
        },
        "id": "JqYsrjqIYW3X",
        "outputId": "e2040e01-d05a-4fdb-f5d5-42260c9b11fa"
      },
      "source": [
        "dic.values()"
      ],
      "execution_count": null,
      "outputs": [
        {
          "output_type": "execute_result",
          "data": {
            "text/plain": [
              "dict_values(['Gulay', 37, {'dogdugu_sehir': 'Samsun', 'yasadigi_sehir': 'NJ'}])"
            ]
          },
          "metadata": {},
          "execution_count": 30
        }
      ]
    },
    {
      "cell_type": "code",
      "metadata": {
        "colab": {
          "base_uri": "https://localhost:8080/"
        },
        "id": "Mc0_OW-rYW59",
        "outputId": "b38ca4bb-5a2d-4208-b18e-2bea5fbdac50"
      },
      "source": [
        "dic.items()"
      ],
      "execution_count": null,
      "outputs": [
        {
          "output_type": "execute_result",
          "data": {
            "text/plain": [
              "dict_items([('isim', 'Gulay'), ('yas', 37), ('location', {'dogdugu_sehir': 'Samsun', 'yasadigi_sehir': 'NJ'})])"
            ]
          },
          "metadata": {},
          "execution_count": 32
        }
      ]
    },
    {
      "cell_type": "code",
      "metadata": {
        "colab": {
          "base_uri": "https://localhost:8080/",
          "height": 130
        },
        "id": "FOHUOKflYW8l",
        "outputId": "4a032b9f-8187-45fd-a6af-1677a9c1f651"
      },
      "source": [
        "ic_liste = [1,2,3,[4,5]\n",
        "ek1=ic_liste[:2] \n",
        "print(ek1)\n",
        "\n"
      ],
      "execution_count": null,
      "outputs": [
        {
          "output_type": "error",
          "ename": "SyntaxError",
          "evalue": "ignored",
          "traceback": [
            "\u001b[0;36m  File \u001b[0;32m\"<ipython-input-51-64927cb2d2d3>\"\u001b[0;36m, line \u001b[0;32m2\u001b[0m\n\u001b[0;31m    ek1=ic_liste[:2]\u001b[0m\n\u001b[0m      ^\u001b[0m\n\u001b[0;31mSyntaxError\u001b[0m\u001b[0;31m:\u001b[0m invalid syntax\n"
          ]
        }
      ]
    },
    {
      "cell_type": "code",
      "metadata": {
        "colab": {
          "base_uri": "https://localhost:8080/"
        },
        "id": "WAFZjJRpYW-q",
        "outputId": "0d7ee68e-a2a5-4ef2-f0dc-4daf6dd7ac64"
      },
      "source": [
        "liste = ['a','b','c','d']\n",
        "\n",
        "if 'e' in liste :\n",
        "    print('buldum')\n",
        "else :\n",
        "    liste.append('e')\n",
        "    print('listeye ekledim')\n",
        "    print('guncel liste {}' .format(liste))    "
      ],
      "execution_count": null,
      "outputs": [
        {
          "output_type": "stream",
          "name": "stdout",
          "text": [
            "listeye ekledim\n",
            "guncel liste ['a', 'b', 'c', 'd', 'e']\n"
          ]
        }
      ]
    },
    {
      "cell_type": "code",
      "metadata": {
        "colab": {
          "base_uri": "https://localhost:8080/"
        },
        "id": "pXwyJV9okd_A",
        "outputId": "714f7f31-a48b-4f91-cf8a-2c80e21cb011"
      },
      "source": [
        "print(liste)"
      ],
      "execution_count": null,
      "outputs": [
        {
          "output_type": "stream",
          "name": "stdout",
          "text": [
            "['a', 'b', 'c', 'd', 'e']\n"
          ]
        }
      ]
    },
    {
      "cell_type": "code",
      "metadata": {
        "colab": {
          "base_uri": "https://localhost:8080/"
        },
        "id": "okWYbRkEkd8Z",
        "outputId": "d30e3507-2c42-4e15-ba91-a1b81c783c63"
      },
      "source": [
        "kullanicilar = ['Ali Ay' , 'Ahmet Yil' , 'Ayse Gun', 'Gulay Kay']\n",
        "for x in kullanicilar :\n",
        "  print(x)"
      ],
      "execution_count": null,
      "outputs": [
        {
          "output_type": "stream",
          "name": "stdout",
          "text": [
            "Ali Ay\n",
            "Ahmet Yil\n",
            "Ayse Gun\n",
            "Gulay Kay\n"
          ]
        }
      ]
    },
    {
      "cell_type": "code",
      "metadata": {
        "colab": {
          "base_uri": "https://localhost:8080/"
        },
        "id": "RvKK_ZQ1kd2Z",
        "outputId": "578085fa-19f3-450f-90e0-6bf2601cc04a"
      },
      "source": [
        "kullanici_sayisi = 0\n",
        "for x in kullanicilar :\n",
        "   kullanici_sayisi = kullanici_sayisi + 1\n",
        "   print(kullanici_sayisi, x)"
      ],
      "execution_count": null,
      "outputs": [
        {
          "output_type": "stream",
          "name": "stdout",
          "text": [
            "1 Ali Ay\n",
            "2 Ahmet Yil\n",
            "3 Ayse Gun\n",
            "4 Gulay Kay\n"
          ]
        }
      ]
    },
    {
      "cell_type": "code",
      "metadata": {
        "colab": {
          "base_uri": "https://localhost:8080/"
        },
        "id": "07QHzqb-YXAe",
        "outputId": "127850ef-8539-4133-d965-33905109ac12"
      },
      "source": [
        "kullanici_sayi = 0\n",
        "for x in kullanicilar :\n",
        "    kullanici_sayisi = kullanici_sayisi + 1\n",
        "    ad,soyad = x.split()[0], x.split()[1]\n",
        "    print( '{0}. Kullanicinin adi {1} ve soyadi {2}' .format(kullanici_sayisi ,ad,soyad))"
      ],
      "execution_count": null,
      "outputs": [
        {
          "output_type": "stream",
          "name": "stdout",
          "text": [
            "9. Kullanicinin adi Ali ve soyadi Ay\n",
            "10. Kullanicinin adi Ahmet ve soyadi Yil\n",
            "11. Kullanicinin adi Ayse ve soyadi Gun\n",
            "12. Kullanicinin adi Gulay ve soyadi Kay\n"
          ]
        }
      ]
    },
    {
      "cell_type": "code",
      "metadata": {
        "colab": {
          "base_uri": "https://localhost:8080/"
        },
        "id": "bSGN7tOHYXC1",
        "outputId": "b6bb15fd-ab30-43a2-b817-b1c21bde8ce3"
      },
      "source": [
        "moderator = \"Ferhat Ibrik\"\n",
        "kullanici_sayi = 0\n",
        "moderator_sayisi = 0\n",
        "for x in kullanicilar :\n",
        "    ad,soyad = x.split()[0], x.split()[1]\n",
        "    if (x == moderator) :\n",
        "      moderator_sayisi +=1\n",
        "      print('{0}.moderatorun adi {1} ve soyadi {2}'.format(moderator_sayisi ,ad,soyad))\n",
        "    else :\n",
        "      kullanici_sayisi += 1  \n",
        "      print('{0}.Kullanicinin adi {1} ve soyadi {2}'.format(kullanici_sayisi ,ad,soyad))"
      ],
      "execution_count": null,
      "outputs": [
        {
          "output_type": "stream",
          "name": "stdout",
          "text": [
            "13.Kullanicinin adi Ali ve soyadi Ay\n",
            "14.Kullanicinin adi Ahmet ve soyadi Yil\n",
            "15.Kullanicinin adi Ayse ve soyadi Gun\n",
            "16.Kullanicinin adi Gulay ve soyadi Kay\n"
          ]
        }
      ]
    },
    {
      "cell_type": "code",
      "metadata": {
        "colab": {
          "base_uri": "https://localhost:8080/"
        },
        "id": "RUhPJYdc9w_S",
        "outputId": "2e13626c-f9c5-44d8-f470-0965d4766dbb"
      },
      "source": [
        "a= [1,2,3,4]\n",
        "b= a.copy()\n",
        "a.append(5)\n",
        "print(b)"
      ],
      "execution_count": null,
      "outputs": [
        {
          "output_type": "stream",
          "name": "stdout",
          "text": [
            "[1, 2, 3, 4]\n"
          ]
        }
      ]
    },
    {
      "cell_type": "code",
      "metadata": {
        "colab": {
          "base_uri": "https://localhost:8080/"
        },
        "id": "AsDxyjSu9w7b",
        "outputId": "5443b747-0252-4aca-ecc2-9f2c701fae62"
      },
      "source": [
        "L1= []\n",
        "L1.append([1,[2,3],4])\n",
        "L1.extend([7,8,9,])\n",
        "print(L1)"
      ],
      "execution_count": null,
      "outputs": [
        {
          "output_type": "stream",
          "name": "stdout",
          "text": [
            "[[1, [2, 3], 4], 7, 8, 9]\n"
          ]
        }
      ]
    },
    {
      "cell_type": "code",
      "metadata": {
        "colab": {
          "base_uri": "https://localhost:8080/"
        },
        "id": "oqFidiCp9w5B",
        "outputId": "dc05525b-d1c7-4c87-eb64-e6f4c727b7f5"
      },
      "source": [
        "print(L1[0][1][1]+L1[2])"
      ],
      "execution_count": null,
      "outputs": [
        {
          "output_type": "stream",
          "name": "stdout",
          "text": [
            "11\n"
          ]
        }
      ]
    },
    {
      "cell_type": "code",
      "metadata": {
        "colab": {
          "base_uri": "https://localhost:8080/"
        },
        "id": "-9rFuFiC9w2t",
        "outputId": "721174fe-e2c8-437c-b542-46a316b9d9a2"
      },
      "source": [
        "T = (1,2,3,4,5,6,7,8)\n",
        "print(T[T.index(5)],end=\" \")\n",
        "print(T[T[T[6]-3]-6])"
      ],
      "execution_count": null,
      "outputs": [
        {
          "output_type": "stream",
          "name": "stdout",
          "text": [
            "5 8\n"
          ]
        }
      ]
    },
    {
      "cell_type": "code",
      "metadata": {
        "colab": {
          "base_uri": "https://localhost:8080/"
        },
        "id": "4HvikL1K9w0m",
        "outputId": "dfbdd297-ff9c-4c46-8aa6-abcc13384469"
      },
      "source": [
        "D ={1:1,2:\"2\",\"1\":1,\"2\":3}\n",
        "D['1'] = 2\n",
        "print(D[D[D[str(D[1])]]])"
      ],
      "execution_count": null,
      "outputs": [
        {
          "output_type": "stream",
          "name": "stdout",
          "text": [
            "3\n"
          ]
        }
      ]
    },
    {
      "cell_type": "code",
      "metadata": {
        "id": "qczx5YYQ9wx_"
      },
      "source": [
        ""
      ],
      "execution_count": null,
      "outputs": []
    },
    {
      "cell_type": "code",
      "metadata": {
        "id": "1X7fZ_t39wvp"
      },
      "source": [
        ""
      ],
      "execution_count": null,
      "outputs": []
    },
    {
      "cell_type": "code",
      "metadata": {
        "id": "jlj-OfaA9wtC"
      },
      "source": [
        ""
      ],
      "execution_count": null,
      "outputs": []
    },
    {
      "cell_type": "code",
      "metadata": {
        "id": "5WfXfdf-9wpa"
      },
      "source": [
        ""
      ],
      "execution_count": null,
      "outputs": []
    },
    {
      "cell_type": "code",
      "metadata": {
        "id": "T8ZMAP5Q9wd8"
      },
      "source": [
        ""
      ],
      "execution_count": null,
      "outputs": []
    }
  ]
}