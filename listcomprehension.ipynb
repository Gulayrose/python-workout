{
  "nbformat": 4,
  "nbformat_minor": 0,
  "metadata": {
    "colab": {
      "name": "listcomprehension",
      "provenance": [],
      "authorship_tag": "ABX9TyNGXKsYQ3fQthJufMP7jXh3",
      "include_colab_link": true
    },
    "kernelspec": {
      "name": "python3",
      "display_name": "Python 3"
    },
    "language_info": {
      "name": "python"
    }
  },
  "cells": [
    {
      "cell_type": "markdown",
      "metadata": {
        "id": "view-in-github",
        "colab_type": "text"
      },
      "source": [
        "<a href=\"https://colab.research.google.com/github/Gulayrose/python-workout/blob/main/listcomprehension.ipynb\" target=\"_parent\"><img src=\"https://colab.research.google.com/assets/colab-badge.svg\" alt=\"Open In Colab\"/></a>"
      ]
    },
    {
      "cell_type": "code",
      "execution_count": 1,
      "metadata": {
        "colab": {
          "base_uri": "https://localhost:8080/"
        },
        "id": "9zs57MRez56N",
        "outputId": "aa3596a9-0a5f-4cfd-d886-78057a7ef21c"
      },
      "outputs": [
        {
          "output_type": "stream",
          "name": "stdout",
          "text": [
            "[1, 2, 3, 4]\n"
          ]
        }
      ],
      "source": [
        "liste = [1,2,3,4]\n",
        "liste1 = []\n",
        "for i in liste:\n",
        "  liste1.append(i)\n",
        "print(liste1)  "
      ]
    },
    {
      "cell_type": "code",
      "source": [
        "liste2 = [3,4,5,6,7]\n",
        "liste3 = [i for i in liste2]\n",
        "print(liste3)"
      ],
      "metadata": {
        "colab": {
          "base_uri": "https://localhost:8080/"
        },
        "id": "EVZ_S9NH1xqr",
        "outputId": "1a42428f-9c73-4b0f-cf55-49bd936895bd"
      },
      "execution_count": 2,
      "outputs": [
        {
          "output_type": "stream",
          "name": "stdout",
          "text": [
            "[3, 4, 5, 6, 7]\n"
          ]
        }
      ]
    },
    {
      "cell_type": "code",
      "source": [
        "gul = [4,5,6,8]\n",
        "ay= [i*2 for i in gul]\n",
        "print(ay)"
      ],
      "metadata": {
        "colab": {
          "base_uri": "https://localhost:8080/"
        },
        "id": "0uBifbBp1xth",
        "outputId": "80734882-f82a-493b-9b47-ac65b0d57a12"
      },
      "execution_count": 3,
      "outputs": [
        {
          "output_type": "stream",
          "name": "stdout",
          "text": [
            "[8, 10, 12, 16]\n"
          ]
        }
      ]
    },
    {
      "cell_type": "code",
      "source": [
        "gulay = [(1,2),(3,4),(5,6)]\n",
        "aygul = [i*j for (i,j) in gulay]\n",
        "print(aygul)"
      ],
      "metadata": {
        "colab": {
          "base_uri": "https://localhost:8080/"
        },
        "id": "i3gPah7J1xv3",
        "outputId": "01cd60d8-4488-40db-8667-bff6d84bcea3"
      },
      "execution_count": 7,
      "outputs": [
        {
          "output_type": "stream",
          "name": "stdout",
          "text": [
            "[2, 12, 30]\n"
          ]
        }
      ]
    },
    {
      "cell_type": "code",
      "source": [
        "s = \"python\"\n",
        "s1 = [i*3 for i in s]\n",
        "print(s1)"
      ],
      "metadata": {
        "colab": {
          "base_uri": "https://localhost:8080/"
        },
        "id": "fLvVuG2b1xyM",
        "outputId": "f1b736fb-2cf5-4fe6-e2cd-7a3a2dc645fd"
      },
      "execution_count": 9,
      "outputs": [
        {
          "output_type": "stream",
          "name": "stdout",
          "text": [
            "['ppp', 'yyy', 'ttt', 'hhh', 'ooo', 'nnn']\n"
          ]
        }
      ]
    },
    {
      "cell_type": "code",
      "source": [
        "aygul = [[1,2,7],[3,4,5],[7,8,9,2]]\n",
        "kaya= [j for i in aygul for j in i]\n",
        "print(kaya)"
      ],
      "metadata": {
        "colab": {
          "base_uri": "https://localhost:8080/"
        },
        "id": "NE7ZXp9e1x0i",
        "outputId": "716e02be-995c-48d0-e224-4877e182dcc4"
      },
      "execution_count": 16,
      "outputs": [
        {
          "output_type": "stream",
          "name": "stdout",
          "text": [
            "[1, 2, 7, 3, 4, 5, 7, 8, 9, 2]\n"
          ]
        }
      ]
    },
    {
      "cell_type": "code",
      "source": [
        "aygul = [[1,2,7],[3,4,5],[7,8,9,2]]\n",
        "for i in aygul:\n",
        "  print(i)"
      ],
      "metadata": {
        "colab": {
          "base_uri": "https://localhost:8080/"
        },
        "id": "stB_hb1JEjCw",
        "outputId": "a09fbf53-ee38-4d1b-a93c-e0a2d8ba6ecc"
      },
      "execution_count": 12,
      "outputs": [
        {
          "output_type": "stream",
          "name": "stdout",
          "text": [
            "[1, 2, 7]\n",
            "[3, 4, 5]\n",
            "[7, 8, 9, 2]\n"
          ]
        }
      ]
    },
    {
      "cell_type": "code",
      "source": [
        "aygul = [[1,2,7],[3,4,5],[7,8,9,2]]\n",
        "for i in aygul:\n",
        "  for j in i:\n",
        "    print(j)"
      ],
      "metadata": {
        "colab": {
          "base_uri": "https://localhost:8080/"
        },
        "id": "Axu_QLDrEjEO",
        "outputId": "b0d05811-b7e4-423c-c0a7-f153a00bc539"
      },
      "execution_count": 13,
      "outputs": [
        {
          "output_type": "stream",
          "name": "stdout",
          "text": [
            "1\n",
            "2\n",
            "7\n",
            "3\n",
            "4\n",
            "5\n",
            "7\n",
            "8\n",
            "9\n",
            "2\n"
          ]
        }
      ]
    },
    {
      "cell_type": "code",
      "source": [
        "aygul = [[1,2,7],[3,4,5],[7,8,9,2]]\n",
        "x= []\n",
        "for i in aygul:\n",
        "  for j in i:\n",
        "    x.append(j)\n",
        "print(x)"
      ],
      "metadata": {
        "colab": {
          "base_uri": "https://localhost:8080/"
        },
        "id": "Ye3ay4KGEjHX",
        "outputId": "d51794ca-31e7-487e-a62d-2f661de1d768"
      },
      "execution_count": 15,
      "outputs": [
        {
          "output_type": "stream",
          "name": "stdout",
          "text": [
            "[1, 2, 7, 3, 4, 5, 7, 8, 9, 2]\n"
          ]
        }
      ]
    },
    {
      "cell_type": "code",
      "source": [
        "#Kullanici girisi programi\n",
        "sys_name=\"Gulay\"\n",
        "sys_pass= \"12345\"\n",
        "giris = 3\n",
        "while True:\n",
        "  user_name = input(\"Please enyer your name:\")\n",
        "  user_pass = input(\"Please enter your pass:\")\n",
        "  if (user_name == sys_name and user_pass != sys_pass):\n",
        "    print(\"Your pass incorret\")\n",
        "    giris -=1\n",
        "  elif  (user_name != sys_name and user_pass == sys_pass):\n",
        "    print(\"Your name incorret\") \n",
        "    giris -=1\n",
        "  elif (user_name != sys_name and user_pass != sys_pass):\n",
        "    print(\"Your pass  and name incorret\")  \n",
        "    giris -=1r\n",
        "  else :\n",
        "    print(\"welcome to system...\")\n",
        "    break\n",
        "  if giris == 0 :\n",
        "    print(\"You dont have any permission\") \n",
        "    break   \n",
        "\n"
      ],
      "metadata": {
        "colab": {
          "base_uri": "https://localhost:8080/"
        },
        "id": "MdexLwVQEjJ9",
        "outputId": "085acf60-ac64-4e24-d821-85bb9faa72f2"
      },
      "execution_count": 20,
      "outputs": [
        {
          "output_type": "stream",
          "name": "stdout",
          "text": [
            "Please enyer your name:dnfjn\n",
            "Please enter your pass:3r43\n",
            "Your pass  and name incorret\n",
            "Please enyer your name:fgf\n",
            "Please enter your pass:23434\n",
            "Your pass  and name incorret\n",
            "Please enyer your name:freg\n",
            "Please enter your pass:2434\n",
            "Your pass  and name incorret\n",
            "You dont have any permission\n"
          ]
        }
      ]
    },
    {
      "cell_type": "code",
      "source": [
        "#ATM machine\n",
        "#bakiye sorgulama\n",
        "#para yatirma\n",
        "#para cekme\n",
        "#programdan cikmak icin q ya basin"
      ],
      "metadata": {
        "id": "OlmckMxjEjM0"
      },
      "execution_count": null,
      "outputs": []
    },
    {
      "cell_type": "code",
      "source": [
        "print (\"\"\" \n",
        "1. bakiye sorgulama\n",
        "2.para cekme\n",
        "3.para cekme\n",
        "\"\"\")\n"
      ],
      "metadata": {
        "colab": {
          "base_uri": "https://localhost:8080/"
        },
        "id": "DNIa-LklEjPc",
        "outputId": "7ee0cc1c-8490-46f9-8c76-80f46a31bb4e"
      },
      "execution_count": 21,
      "outputs": [
        {
          "output_type": "stream",
          "name": "stdout",
          "text": [
            " \n",
            "1. bakiye sorgulama\n",
            "2.para cekme\n",
            "3.para cekme\n",
            "\n"
          ]
        }
      ]
    },
    {
      "cell_type": "code",
      "source": [
        "bakiye = 1000\n",
        "while True :\n",
        "  islem = input (\"islemi seciniz :\")\n",
        "\n",
        "  if islem == \"q\":\n",
        "    print(\"Yine bekleriz\")\n",
        "    break\n",
        "  elif islem == \"1\":\n",
        "    print(\"Bakiyeniz {} dir\".format(bakiye))\n",
        "\n",
        "  elif islem == \"2\":\n",
        "    miktar = int(input(\"Miktari giriniz:\"))\n",
        "    bakiye +=miktar\n",
        "  elif islem == \"3\":\n",
        "    miktar = int(input(\"Miktari giriniz:\"))\n",
        "\n",
        "    if (bakiye - miktar < 0 ):\n",
        "      print(\"Boyle bir miktar cekemezsiniz\")\n",
        "      continue\n",
        "      bakiye -= miktar\n",
        "  else :\n",
        "    print(\"Gecersiz islem\") \n",
        "    break       "
      ],
      "metadata": {
        "colab": {
          "base_uri": "https://localhost:8080/"
        },
        "id": "iv-wXKFVKti9",
        "outputId": "b0c47573-26bf-4b89-a62b-063a76717109"
      },
      "execution_count": 22,
      "outputs": [
        {
          "output_type": "stream",
          "name": "stdout",
          "text": [
            "islemi seciniz :1\n",
            "Bakiyeniz 1000 dir\n",
            "islemi seciniz :3\n",
            "Miktari giriniz:2000\n",
            "Boyle bir miktar cekemezsiniz\n",
            "islemi seciniz :2\n",
            "Miktari giriniz:5000\n",
            "islemi seciniz :1\n",
            "Bakiyeniz 6000 dir\n",
            "islemi seciniz :q\n",
            "Yine bekleriz\n"
          ]
        }
      ]
    },
    {
      "cell_type": "code",
      "source": [
        "#Faktorial bulma"
      ],
      "metadata": {
        "id": "rm5inFPaKtlj"
      },
      "execution_count": null,
      "outputs": []
    },
    {
      "cell_type": "code",
      "source": [
        "print(\"\"\" Faktoriyel programi\n",
        "Cikmak icin q ya basin \"\"\")"
      ],
      "metadata": {
        "colab": {
          "base_uri": "https://localhost:8080/"
        },
        "id": "tTjCsu2GKtoJ",
        "outputId": "6af72e3f-ee1b-49b0-d9ff-bd3ae947c880"
      },
      "execution_count": 24,
      "outputs": [
        {
          "output_type": "stream",
          "name": "stdout",
          "text": [
            " Faktoriyel programi\n",
            "Cikmak icin q ya basin \n"
          ]
        }
      ]
    },
    {
      "cell_type": "code",
      "source": [
        "while True :\n",
        "  sayi = input(\"sayi:\")\n",
        "  if sayi == \"q\":\n",
        "    print(\"islemi sonlandirdiniz.\")\n",
        "    break\n",
        "  else :\n",
        "    sayi = int(sayi)\n",
        "\n",
        "    factoriyel = 1\n",
        "\n",
        "    for i in range(2,sayi+1):\n",
        "      factoriyel *= i\n",
        "    print(\"Factoriel\",factoriyel)\n",
        "      \n"
      ],
      "metadata": {
        "colab": {
          "base_uri": "https://localhost:8080/"
        },
        "id": "R7K1w1UfKtqf",
        "outputId": "a4c1dd82-81ed-476b-8f30-07ad4f935e10"
      },
      "execution_count": 29,
      "outputs": [
        {
          "output_type": "stream",
          "name": "stdout",
          "text": [
            "sayi:0\n",
            "Factoriel 1\n",
            "sayi:6\n",
            "Factoriel 720\n",
            "sayi:q\n",
            "islemi sonlandirdiniz.\n"
          ]
        }
      ]
    },
    {
      "cell_type": "code",
      "source": [
        "#FIBONACCI SERISI#\n"
      ],
      "metadata": {
        "id": "_XfLn7JO1x2o"
      },
      "execution_count": null,
      "outputs": []
    },
    {
      "cell_type": "code",
      "source": [
        "a = 1\n",
        "b = 1\n",
        "fibonacci = [a,b]\n",
        "for i in range(20):\n",
        "  a,b = b,a+b\n",
        "  fibonacci.append(b)\n",
        "print(fibonacci)  \n"
      ],
      "metadata": {
        "colab": {
          "base_uri": "https://localhost:8080/"
        },
        "id": "0XDDSYhbGcMy",
        "outputId": "ca5bbbe5-38eb-4ec1-be43-63dc6f86dab4"
      },
      "execution_count": 30,
      "outputs": [
        {
          "output_type": "stream",
          "name": "stdout",
          "text": [
            "[1, 1, 2, 3, 5, 8, 13, 21, 34, 55, 89, 144, 233, 377, 610, 987, 1597, 2584, 4181, 6765, 10946, 17711]\n"
          ]
        }
      ]
    },
    {
      "cell_type": "code",
      "source": [
        ""
      ],
      "metadata": {
        "id": "vz_6ytJGGcJ5"
      },
      "execution_count": null,
      "outputs": []
    },
    {
      "cell_type": "code",
      "source": [
        ""
      ],
      "metadata": {
        "id": "kJ03m565GcH0"
      },
      "execution_count": null,
      "outputs": []
    },
    {
      "cell_type": "code",
      "source": [
        ""
      ],
      "metadata": {
        "id": "t4Mduaf8GcFN"
      },
      "execution_count": null,
      "outputs": []
    },
    {
      "cell_type": "code",
      "source": [
        ""
      ],
      "metadata": {
        "id": "NwxXGQHLN_nH"
      },
      "execution_count": null,
      "outputs": []
    },
    {
      "cell_type": "code",
      "source": [
        ""
      ],
      "metadata": {
        "id": "3vKT0lf9N_lF"
      },
      "execution_count": null,
      "outputs": []
    },
    {
      "cell_type": "code",
      "source": [
        ""
      ],
      "metadata": {
        "id": "rMPVNa5kN_iY"
      },
      "execution_count": null,
      "outputs": []
    },
    {
      "cell_type": "code",
      "source": [
        ""
      ],
      "metadata": {
        "id": "xnKA51wwN_fi"
      },
      "execution_count": null,
      "outputs": []
    }
  ]
}