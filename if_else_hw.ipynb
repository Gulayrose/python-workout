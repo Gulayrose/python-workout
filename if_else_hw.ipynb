{
  "nbformat": 4,
  "nbformat_minor": 0,
  "metadata": {
    "colab": {
      "name": "if-else hw",
      "provenance": [],
      "authorship_tag": "ABX9TyN2laXR+hKjTzPijEpsBH9M",
      "include_colab_link": true
    },
    "kernelspec": {
      "name": "python3",
      "display_name": "Python 3"
    },
    "language_info": {
      "name": "python"
    }
  },
  "cells": [
    {
      "cell_type": "markdown",
      "metadata": {
        "id": "view-in-github",
        "colab_type": "text"
      },
      "source": [
        "<a href=\"https://colab.research.google.com/github/Gulayrose/python-workout/blob/main/if_else_hw.ipynb\" target=\"_parent\"><img src=\"https://colab.research.google.com/assets/colab-badge.svg\" alt=\"Open In Colab\"/></a>"
      ]
    },
    {
      "cell_type": "code",
      "execution_count": null,
      "metadata": {
        "id": "L--1myTR47Ab"
      },
      "outputs": [],
      "source": [
        "#Kullanıcıdan alınan boy ve kilo değerlerine göre beden kitle indeksini \n",
        "#hesaplayın ve şu kurallara göre ekrana şu yazıları yazdırın."
      ]
    },
    {
      "cell_type": "code",
      "source": [
        "boy = float(input(\"Please enter your lenght:\"))\n",
        "kilo = float(input(\"Please enter your weight:\"))\n",
        "bki = kilo/(boy*boy)\n",
        "if bki < 18.5 :\n",
        "  print(\"zayif\")\n",
        "elif 25>bki >18.5 :\n",
        "  print(\"normal\")\n",
        "elif 25<bki<30:\n",
        "  print(\"fazla kilolu\") \n",
        "else :\n",
        "  print(\"Obez\")\n"
      ],
      "metadata": {
        "colab": {
          "base_uri": "https://localhost:8080/"
        },
        "id": "EpVzLyyP5CRG",
        "outputId": "df6172e2-ff88-4e87-feac-e0c8190b63ec"
      },
      "execution_count": 8,
      "outputs": [
        {
          "output_type": "stream",
          "name": "stdout",
          "text": [
            "Please enter your lenght:1.53\n",
            "Please enter your weight:45\n",
            "normal\n"
          ]
        }
      ]
    },
    {
      "cell_type": "code",
      "source": [
        "#Kullanıcıdan 3 tane sayı alın ve en büyük sayıyı ekrana yazdırın."
      ],
      "metadata": {
        "id": "AmSAr_sb5CWS"
      },
      "execution_count": null,
      "outputs": []
    },
    {
      "cell_type": "code",
      "source": [
        "a= int(input(\"sayi1:\"))\n",
        "b= int(input(\"sayi2:\"))\n",
        "c = int(input(\"sayi3:\"))\n",
        "if a > b and a >c :\n",
        "  print(\"max sayi a\")\n",
        "elif b>a and b>c :\n",
        "  print(\"max sayi b\")\n",
        "else :\n",
        "  print(\"max sayi c\")    "
      ],
      "metadata": {
        "colab": {
          "base_uri": "https://localhost:8080/"
        },
        "id": "44b60dnr6-XA",
        "outputId": "0262ddbe-9fbd-4382-ca20-d4970e6b643c"
      },
      "execution_count": 6,
      "outputs": [
        {
          "output_type": "stream",
          "name": "stdout",
          "text": [
            "sayi1:7\n",
            "sayi2:5\n",
            "sayi3:4\n",
            "max sayi a\n"
          ]
        }
      ]
    },
    {
      "cell_type": "code",
      "source": [
        "#Kullanıcının girdiği vize1,vize2,final notlarına notlarına göre harf notunu hesaplayın.\n",
        "\n"
      ],
      "metadata": {
        "id": "jBit2STV6-aJ"
      },
      "execution_count": null,
      "outputs": []
    },
    {
      "cell_type": "code",
      "source": [
        ""
      ],
      "metadata": {
        "id": "nx3K5WcQ8_uA"
      },
      "execution_count": null,
      "outputs": []
    },
    {
      "cell_type": "code",
      "source": [
        "vize1 = float(input(\"Please enter your grade:\"))\n",
        "vize2 = float(input(\"Please enter your grade:\"))\n",
        "final = float(input(\"Please enter your grade:\"))\n",
        "toplam_not = (vize1*0.3)+(vize2*0.3)+(final*0.4)\n",
        "if toplam_not >= 90 :\n",
        "  print(\"AA\")\n",
        "elif toplam_not >= 85 :\n",
        "  print(\"BA\")\n",
        "elif toplam_not >= 80 :\n",
        "  print(\"BB\") \n",
        "elif toplam_not >= 75 :\n",
        "  print(\"CB\")\n",
        "elif toplam_not >= 70 :\n",
        "  print(\"CC\")\n",
        "else : \n",
        "  print(\"you have to take again this class\")      \n",
        "\n"
      ],
      "metadata": {
        "colab": {
          "base_uri": "https://localhost:8080/"
        },
        "id": "U44eK6tq6-cv",
        "outputId": "97b8d9e8-54ff-4677-b400-e82660ac56f6"
      },
      "execution_count": 9,
      "outputs": [
        {
          "output_type": "stream",
          "name": "stdout",
          "text": [
            "Please enter your grade:70\n",
            "Please enter your grade:50\n",
            "Please enter your grade:85\n",
            "CC\n"
          ]
        }
      ]
    },
    {
      "cell_type": "code",
      "source": [
        "#Şimdi de geometrik şekil hesaplama işlemi yapalım.\n",
        " #İlk olarak kullanıcıdan üçgenin mi dörtgenin mi tipini bulmak istediğini sorun.\n",
        "\n",
        "#Eğer kullanıcı \"Dörtgen\" cevabını verirse , 4 tane kenar isteyip \n",
        "#bu dörtgenin kare mi , dikdörtgen mi yoksa sıradan bir dörtgen mi olduğunu bulmaya \n",
        "#çalışın.\n",
        "\n",
        "#Eğer kullanıcı \"Üçgen\" cevabını verirse ,\n",
        "# 3 tane kenar isteyip bu üçgenin ikizkenar mı , \n",
        "# eşkenar mı yoksa sıradan bir üçgen mi olduğunu bulmaya çalışın. \n",
        "# Eğer verilen kenarlar bir üçgen belirtmiyorsa, \n",
        "# ekrana \"Üçgen belirtmiyor\" şeklinde bir yazı yazın.o\n",
        "\n",
        "#Üçgen belirtme şartını bilmiyorsunuz internetten bakabilirsiniz.\n",
        "\n",
        "#Ayrıca , bu problemde mutlak değer bulmaya ihtiyacınız olacak. \n",
        "#Bunun için, Pythonda hazır bir fonksiyon olan abs() fonksiyonunu kullanabilirsiniz. \n",
        "#Kullanımı şu şekildedir ;"
      ],
      "metadata": {
        "id": "dsfo2fXW5CY5"
      },
      "execution_count": null,
      "outputs": []
    },
    {
      "cell_type": "code",
      "source": [
        "shape = input(\"What do you want to shape :\")\n",
        "if (shape == \"traingle\"):\n",
        "  print(\"please enter the edges \")\n",
        "  a = int(input(\"enter a edge :\"))\n",
        "  b = int(input(\"enter  a edge :\"))\n",
        "  c = int(input(\"enter a edge :\"))\n",
        "  if (abs(a+b)>c and abs(a+c)>b and abs(b+c)>a) : \n",
        "    if a == b and b == c :\n",
        "      print(\"This shape is equilateral traingle ...\")\n",
        "    elif a==b and b!=c :\n",
        "      print(\"This shape is isosceles traingle ...\")  \n",
        "    elif (abs(a+b)>c and abs(a+c)>b and abs(b+C)>a) :\n",
        "      print(\"This is a ucgen isde \")\n",
        "    else:\n",
        "      print(\"This is not traingle\")\n",
        "elif (shape == \"regtangle\") :\n",
        "  print(\"please enter the edges \")\n",
        "  a = int(input(\"enter a edge :\"))\n",
        "  b = int(input(\"enter  a edge :\"))\n",
        "  c = int(input(\"enter a edge :\"))\n",
        "  d = int(input(\"enter a edge :\"))\n",
        "  if a == b and b == c and c ==d :\n",
        "    print(\"square\")\n",
        "  elif a == b and c == d and a != c and b !=d :\n",
        "    print(\"regtangle\")  \n",
        "  else :\n",
        "    print(\"dortgen\")  "
      ],
      "metadata": {
        "colab": {
          "base_uri": "https://localhost:8080/"
        },
        "id": "UuPeJYZz5CbA",
        "outputId": "2e943e2c-9dd4-40e3-fbc0-f95378c73d6d"
      },
      "execution_count": 11,
      "outputs": [
        {
          "output_type": "stream",
          "name": "stdout",
          "text": [
            "What do you want to shape :traingle\n",
            "please enter the edges \n",
            "enter a edge :4\n",
            "enter  a edge :4\n",
            "enter a edge :7\n",
            "This shape is isosceles traingle ...\n"
          ]
        }
      ]
    },
    {
      "cell_type": "code",
      "source": [
        ""
      ],
      "metadata": {
        "id": "QN7skMrD5CdV"
      },
      "execution_count": null,
      "outputs": []
    },
    {
      "cell_type": "code",
      "source": [
        ""
      ],
      "metadata": {
        "id": "fKgBC6Mk5Cfq"
      },
      "execution_count": null,
      "outputs": []
    },
    {
      "cell_type": "code",
      "source": [
        ""
      ],
      "metadata": {
        "id": "AjnBCtHJ5Ch1"
      },
      "execution_count": null,
      "outputs": []
    }
  ]
}