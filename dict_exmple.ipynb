{
  "nbformat": 4,
  "nbformat_minor": 0,
  "metadata": {
    "colab": {
      "name": "dict.exmple",
      "provenance": [],
      "authorship_tag": "ABX9TyMue7X0yXMbd+TqEadhc0b5",
      "include_colab_link": true
    },
    "kernelspec": {
      "name": "python3",
      "display_name": "Python 3"
    },
    "language_info": {
      "name": "python"
    }
  },
  "cells": [
    {
      "cell_type": "markdown",
      "metadata": {
        "id": "view-in-github",
        "colab_type": "text"
      },
      "source": [
        "<a href=\"https://colab.research.google.com/github/Gulayrose/python-workout/blob/main/dict_exmple.ipynb\" target=\"_parent\"><img src=\"https://colab.research.google.com/assets/colab-badge.svg\" alt=\"Open In Colab\"/></a>"
      ]
    },
    {
      "cell_type": "code",
      "execution_count": null,
      "metadata": {
        "id": "YWk3rk7jbRhx"
      },
      "outputs": [],
      "source": [
        ""
      ]
    },
    {
      "cell_type": "markdown",
      "source": [
        "Write a code that inverts the keys and values of a dictionary.\n",
        "{\"a\":1,\"b\":2,\"c\":3}--> {1:\"a\",2:\"b\",3:\"c\"}"
      ],
      "metadata": {
        "id": "Ri236WTkbY-b"
      }
    },
    {
      "cell_type": "code",
      "source": [
        "dict1 = { \"zebra\": \"koala\", \"horse\": \"camel\" ,\"IT\":\"Data\"}\n",
        "inverted_dict = dict(map(reversed,dict1.items()))\n",
        "print(inverted_dict)"
      ],
      "metadata": {
        "colab": {
          "base_uri": "https://localhost:8080/"
        },
        "id": "ohjR8lGlb27j",
        "outputId": "ba8c1724-70e9-416a-9546-c4a0691a581b"
      },
      "execution_count": 1,
      "outputs": [
        {
          "output_type": "stream",
          "name": "stdout",
          "text": [
            "{'koala': 'zebra', 'camel': 'horse', 'Data': 'IT'}\n"
          ]
        }
      ]
    },
    {
      "cell_type": "code",
      "source": [
        "invert = { \"zebra\": \"koala\", \"horse\": \"camel\" }\n",
        "n_invert = {}\n",
        "\n",
        "for x, y in invert.items() :\n",
        "  n_invert[y] = x\n",
        "\n",
        "print(n_invert)"
      ],
      "metadata": {
        "colab": {
          "base_uri": "https://localhost:8080/"
        },
        "id": "JqHY2MJWcmdt",
        "outputId": "f4a7ae35-7794-4799-e81b-7051d84dc63b"
      },
      "execution_count": 2,
      "outputs": [
        {
          "output_type": "stream",
          "name": "stdout",
          "text": [
            "{'koala': 'zebra', 'camel': 'horse'}\n"
          ]
        }
      ]
    },
    {
      "cell_type": "code",
      "source": [
        ""
      ],
      "metadata": {
        "id": "0bgCTz-2cmbH"
      },
      "execution_count": null,
      "outputs": []
    },
    {
      "cell_type": "code",
      "source": [
        "dict_1 = { \"a\": 1, \"b\": 2, \"c\": 3 }\n",
        "inverted_dict = dict([[x,y] for y,x in dict_1.items()])\n",
        "print(inverted_dict)"
      ],
      "metadata": {
        "colab": {
          "base_uri": "https://localhost:8080/"
        },
        "id": "1wKsLb-LcmYx",
        "outputId": "02f2ba5a-9285-4452-ed19-bf8581909da9"
      },
      "execution_count": 3,
      "outputs": [
        {
          "output_type": "stream",
          "name": "stdout",
          "text": [
            "{1: 'a', 2: 'b', 3: 'c'}\n"
          ]
        }
      ]
    },
    {
      "cell_type": "code",
      "source": [
        ""
      ],
      "metadata": {
        "id": "53aEEnk7cmV7"
      },
      "execution_count": null,
      "outputs": []
    },
    {
      "cell_type": "code",
      "source": [
        "dict1 = {\"a\" : \"b\", \"c\" : \"d\"}\n",
        "dict2 = {}\n",
        "\n",
        "for x, y in dict1.items() :\n",
        "  dict2.update({y : x})\n",
        "\n",
        "print(dict2)"
      ],
      "metadata": {
        "colab": {
          "base_uri": "https://localhost:8080/"
        },
        "id": "7cGGppdoc0hJ",
        "outputId": "968e5abb-d48f-49e9-c26b-51b1b9609cf2"
      },
      "execution_count": 4,
      "outputs": [
        {
          "output_type": "stream",
          "name": "stdout",
          "text": [
            "{'b': 'a', 'd': 'c'}\n"
          ]
        }
      ]
    },
    {
      "cell_type": "code",
      "source": [
        ""
      ],
      "metadata": {
        "id": "a6-x2gE7c0Y0"
      },
      "execution_count": null,
      "outputs": []
    }
  ]
}