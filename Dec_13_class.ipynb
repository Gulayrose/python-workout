{
  "nbformat": 4,
  "nbformat_minor": 0,
  "metadata": {
    "colab": {
      "name": "Dec 13 class",
      "provenance": [],
      "authorship_tag": "ABX9TyMQFviMscA/Flg0T/E7C7ex",
      "include_colab_link": true
    },
    "kernelspec": {
      "name": "python3",
      "display_name": "Python 3"
    },
    "language_info": {
      "name": "python"
    }
  },
  "cells": [
    {
      "cell_type": "markdown",
      "metadata": {
        "id": "view-in-github",
        "colab_type": "text"
      },
      "source": [
        "<a href=\"https://colab.research.google.com/github/Gulayrose/python-workout/blob/main/Dec_13_class.ipynb\" target=\"_parent\"><img src=\"https://colab.research.google.com/assets/colab-badge.svg\" alt=\"Open In Colab\"/></a>"
      ]
    },
    {
      "cell_type": "code",
      "execution_count": 1,
      "metadata": {
        "colab": {
          "base_uri": "https://localhost:8080/"
        },
        "id": "BMziPgtT-kK-",
        "outputId": "00709e3a-3e40-4e75-f17d-12e22af84e74"
      },
      "outputs": [
        {
          "output_type": "stream",
          "name": "stdout",
          "text": [
            "The first number please : 4\n",
            "The second number please : 0\n",
            "Something went wrong...Try again.\n",
            "Probably it is because of 'division by zero' error\n"
          ]
        }
      ],
      "source": [
        "while True:\n",
        "    no_one = int(input(\"The first number please : \"))\n",
        "    no_two = int(input(\"The second number please : \"))\n",
        "    try:\n",
        "        division = no_one / no_two\n",
        "        print(\"The result of the division is : \", division)\n",
        "        break\n",
        "    except Exception as e:\n",
        "        print(\"Something went wrong...Try again.\")\n",
        "        print(\"Probably it is because of '{}' error\".format(e))\n",
        "        break"
      ]
    },
    {
      "cell_type": "code",
      "source": [
        "while True:\n",
        "  try :\n",
        "    no_one = int(input(\"The first number please : \"))\n",
        "    no_two = int(input(\"The second number please : \"))\n",
        "    division = no_one / no_two\n",
        "    print(\"The result of the division is : \", division)\n",
        "    break\n",
        "  except Exception as e:\n",
        "     print(\"Something went wrong...Try again.\")\n",
        "     print(\"Probably it is because of '{}' error\".format(e)) #aciklayici metin e associated value denir\n",
        "     \n",
        "     break    \n",
        "    \n",
        " \n",
        " "
      ],
      "metadata": {
        "colab": {
          "base_uri": "https://localhost:8080/"
        },
        "id": "qMBkVIJc__t2",
        "outputId": "fac712aa-27f5-4961-9bf6-1e4f2be2de71"
      },
      "execution_count": 9,
      "outputs": [
        {
          "output_type": "stream",
          "name": "stdout",
          "text": [
            "The first number please : 45\n",
            "The second number please : bes\n",
            "Something went wrong...Try again.\n",
            "Probably it is because of 'invalid literal for int() with base 10: 'bes'' error\n"
          ]
        }
      ]
    },
    {
      "cell_type": "code",
      "source": [
        "try :\n",
        "    a = 10\n",
        "    b = 2\n",
        "    print(\"The result of division is :\", c)\n",
        "except Exception as e:\n",
        "    print(\"The error message is :\", e)\n"
      ],
      "metadata": {
        "colab": {
          "base_uri": "https://localhost:8080/"
        },
        "id": "6MaRoSdu__wt",
        "outputId": "05beaa31-88f8-434e-aeae-3104054ecc71"
      },
      "execution_count": 4,
      "outputs": [
        {
          "output_type": "stream",
          "name": "stdout",
          "text": [
            "The error message is : name 'c' is not defined\n"
          ]
        }
      ]
    },
    {
      "cell_type": "code",
      "source": [
        "try :\n",
        "  x = 2/0\n",
        "except ZeroDivisionError :\n",
        "  print(\"Attemp to divide by zero\")\n",
        "except:\n",
        "  print(\"someting is wrong\")  "
      ],
      "metadata": {
        "colab": {
          "base_uri": "https://localhost:8080/"
        },
        "id": "UzMQnQW1__zC",
        "outputId": "237cf80f-3ee3-4325-fad7-3590f18ca747"
      },
      "execution_count": 5,
      "outputs": [
        {
          "output_type": "stream",
          "name": "stdout",
          "text": [
            "Attemp to divide by zero\n"
          ]
        }
      ]
    },
    {
      "cell_type": "code",
      "source": [
        "try :\n",
        "  x \n",
        "except ZeroDivisionError :\n",
        "  print(\"Attemp to divide by zero\")\n",
        "except:\n",
        "  print(\"someting is wrong\") #burda nameerror verdigi icin bu calsir\n",
        "  "
      ],
      "metadata": {
        "colab": {
          "base_uri": "https://localhost:8080/"
        },
        "id": "iY8YIhbM__1p",
        "outputId": "7275982f-3274-487f-c6e8-372468b4705c"
      },
      "execution_count": 7,
      "outputs": [
        {
          "output_type": "stream",
          "name": "stdout",
          "text": [
            "someting is wrong\n"
          ]
        }
      ]
    },
    {
      "cell_type": "code",
      "source": [
        ""
      ],
      "metadata": {
        "id": "lEuFylGFwG-l"
      },
      "execution_count": null,
      "outputs": []
    },
    {
      "cell_type": "code",
      "source": [
        ""
      ],
      "metadata": {
        "id": "2kFWjLh8wG76"
      },
      "execution_count": null,
      "outputs": []
    },
    {
      "cell_type": "code",
      "source": [
        ""
      ],
      "metadata": {
        "id": "GVNYiLwpwG5a"
      },
      "execution_count": null,
      "outputs": []
    },
    {
      "cell_type": "code",
      "source": [
        ""
      ],
      "metadata": {
        "id": "660GnMrXwGyz"
      },
      "execution_count": null,
      "outputs": []
    },
    {
      "cell_type": "code",
      "source": [
        "fruits = [\"banana\", \"mango\", \"pear\", \"apple\", \"kiwi\", \"grape\"]\n",
        "while True :\n",
        "   \n",
        "   try:\n",
        "     a= int(input(\"lutfen bir numra giriniz  1-6 arasinda\")\n",
        "     print(\"my favorite fruit is\",fruits[a])\n",
        "     break \n",
        "   except ValueError:\n",
        "     print(\"please enter true value\")\n",
        "\n",
        "   except IndexError\n",
        "     print(\"please enter true index\")\n",
        "\n"
      ],
      "metadata": {
        "colab": {
          "base_uri": "https://localhost:8080/",
          "height": 131
        },
        "id": "Iex8tUHI__6n",
        "outputId": "633dc8c6-d4ee-4fce-deb5-6a650ab6e480"
      },
      "execution_count": 1,
      "outputs": [
        {
          "output_type": "error",
          "ename": "SyntaxError",
          "evalue": "ignored",
          "traceback": [
            "\u001b[0;36m  File \u001b[0;32m\"<ipython-input-1-354cda0da5e8>\"\u001b[0;36m, line \u001b[0;32m6\u001b[0m\n\u001b[0;31m    print(\"my favorite fruit is\",fruits[a])\u001b[0m\n\u001b[0m        ^\u001b[0m\n\u001b[0;31mSyntaxError\u001b[0m\u001b[0;31m:\u001b[0m invalid syntax\n"
          ]
        }
      ]
    },
    {
      "cell_type": "code",
      "source": [
        "fruits = [\"banana\", \"mango\", \"pear\", \"apple\", \"kiwi\", \"grape\"]\n",
        "while True :\n",
        "  try :\n",
        "    index = int(input(\"pick an index number to choose your favorite fruit\"))\n",
        "    print(\"your favorite fruit is\",fruits[index])\n",
        "    break\n",
        "  except IndexError :\n",
        "    print(\"There is no such an index.try again!\")\n",
        "  except ValueError :\n",
        "    print(\"you should enter integer.try again!\")    "
      ],
      "metadata": {
        "colab": {
          "base_uri": "https://localhost:8080/"
        },
        "id": "9qhAw-1r__9N",
        "outputId": "db9d9c53-1d60-4c5b-da86-ff7b47c96121"
      },
      "execution_count": 15,
      "outputs": [
        {
          "output_type": "stream",
          "name": "stdout",
          "text": [
            "pick an index number to choose your favorite fruit4\n",
            "your favorite fruit is kiwi\n"
          ]
        }
      ]
    },
    {
      "cell_type": "code",
      "source": [
        "counter = 0\n",
        "while True :\n",
        "  try :\n",
        "    index = int(input(\"pick an index number to choose your favorite fruit\"))\n",
        "    print(\"your favorite fruit is\",fruits[index])\n",
        "    break\n",
        "  except  :\n",
        "    print(\"try again!\")\n",
        "  counter += 1\n",
        "  if counter ==3: \n",
        "    break\n",
        "  else :\n",
        "    print(\"you have entered valid input\")\n",
        "  finally :\n",
        "    print(\"oldu bitti\")       "
      ],
      "metadata": {
        "colab": {
          "base_uri": "https://localhost:8080/",
          "height": 131
        },
        "id": "01OfRT_VAAAD",
        "outputId": "a3a78fff-1c27-4b3a-8bae-2e826676c259"
      },
      "execution_count": 18,
      "outputs": [
        {
          "output_type": "error",
          "ename": "SyntaxError",
          "evalue": "ignored",
          "traceback": [
            "\u001b[0;36m  File \u001b[0;32m\"<ipython-input-18-9a362b5772f9>\"\u001b[0;36m, line \u001b[0;32m14\u001b[0m\n\u001b[0;31m    finally :\u001b[0m\n\u001b[0m          ^\u001b[0m\n\u001b[0;31mSyntaxError\u001b[0m\u001b[0;31m:\u001b[0m invalid syntax\n"
          ]
        }
      ]
    },
    {
      "cell_type": "code",
      "source": [
        "fruits = [\"banana\", \"mango\", \"pear\", \"apple\", \"kiwi\", \"grape\"]\n",
        "counter = 3\n",
        "while counter > 0 :\n",
        "\n",
        "  try :\n",
        "    print(f\"you have {counter} right.\")\n",
        "    index =int(input(\"pick an index number.\"))\n",
        "    print(\"your favorite fruite is\",fruits[index])\n",
        "  except IndexError :\n",
        "     counter -=1\n",
        "     print(f\"Index error.You have {counter} right left.try again !\")\n",
        "\n",
        "  except ValueError :\n",
        "     counter -= 1\n",
        "     print(f\"Value error.You have {counter} right left.try again !\")\n",
        "\n",
        "  else :\n",
        "     print(\"congrats! You've entered valid input\")\n",
        "     break\n",
        "\n",
        "  finally :        \n",
        "    print(\"Our fruits always fresh\")"
      ],
      "metadata": {
        "colab": {
          "base_uri": "https://localhost:8080/"
        },
        "id": "QNx3ZVBoAACa",
        "outputId": "398ee1cf-c7ab-48a3-d57d-08d3cb0e9f3b"
      },
      "execution_count": 4,
      "outputs": [
        {
          "output_type": "stream",
          "name": "stdout",
          "text": [
            "you have 3 right.\n",
            "pick an index number.7\n",
            "Index error.You have 2 right left.try again !\n",
            "Our fruits always fresh\n",
            "you have 2 right.\n",
            "pick an index number.\"iki\"\n",
            "Index error.You have 1 right left.try again !\n",
            "Our fruits always fresh\n",
            "you have 1 right.\n",
            "pick an index number.3\n",
            "your favorite fruite is apple\n",
            "congrats! You've entered valid input\n",
            "Our fruits always fresh\n"
          ]
        }
      ]
    },
    {
      "cell_type": "code",
      "source": [
        "fruits = [\"banana\", \"mango\", \"pear\", \"apple\", \"kiwi\", \"grape\"]\n",
        "counter = 3\n",
        "while counter > 0 :\n",
        "\n",
        "  try :\n",
        "    print(f\"you have {counter} right.\")\n",
        "    index =int(input(\"pick an index number.\"))\n",
        "    print(\"your favorite fruite is\",fruits[index])\n",
        "  \n",
        "\n",
        "  except :\n",
        "     counter -= 1\n",
        "     print(f\"Value error.You have {counter} right left.try again !\")\n",
        "\n",
        "  else :\n",
        "     print(\"congrats! You've entered valid input\")\n",
        "     break\n",
        "\n",
        "  finally :        \n",
        "    print(\"Our fruits always fresh\")"
      ],
      "metadata": {
        "colab": {
          "base_uri": "https://localhost:8080/"
        },
        "id": "gQNvIUAr2bKH",
        "outputId": "b7168366-554a-4aac-b147-115960e652eb"
      },
      "execution_count": 2,
      "outputs": [
        {
          "output_type": "stream",
          "name": "stdout",
          "text": [
            "you have 3 right.\n",
            "pick an index number.8\n",
            "Value error.You have 2 right left.try again !\n",
            "Our fruits always fresh\n",
            "you have 2 right.\n",
            "pick an index number.9\n",
            "Value error.You have 1 right left.try again !\n",
            "Our fruits always fresh\n",
            "you have 1 right.\n",
            "pick an index number.3\n",
            "your favorite fruite is apple\n",
            "congrats! You've entered valid input\n",
            "Our fruits always fresh\n"
          ]
        }
      ]
    },
    {
      "cell_type": "code",
      "source": [
        "word = {1 : \"1\", 2 : \"iki\"}\n",
        "word"
      ],
      "metadata": {
        "colab": {
          "base_uri": "https://localhost:8080/"
        },
        "id": "xzLGGIepAAFB",
        "outputId": "e6a0b088-3f56-493a-8456-1cf7a05157da"
      },
      "execution_count": 5,
      "outputs": [
        {
          "output_type": "execute_result",
          "data": {
            "text/plain": [
              "{1: '1', 2: 'iki'}"
            ]
          },
          "metadata": {},
          "execution_count": 5
        }
      ]
    },
    {
      "cell_type": "code",
      "source": [
        "keys = word.keys()\n",
        "keys"
      ],
      "metadata": {
        "colab": {
          "base_uri": "https://localhost:8080/"
        },
        "id": "iD92Tf1pAAHW",
        "outputId": "10b99213-7824-4de7-eb52-a0df1a7aec05"
      },
      "execution_count": 6,
      "outputs": [
        {
          "output_type": "execute_result",
          "data": {
            "text/plain": [
              "dict_keys([1, 2])"
            ]
          },
          "metadata": {},
          "execution_count": 6
        }
      ]
    },
    {
      "cell_type": "code",
      "source": [
        "word_1 = {}\n",
        "word_1[3] = 1\n",
        "word_1"
      ],
      "metadata": {
        "colab": {
          "base_uri": "https://localhost:8080/"
        },
        "id": "tHy1sIgGAALi",
        "outputId": "c0d8e841-80f3-4c29-b487-9f2311c8bb51"
      },
      "execution_count": 6,
      "outputs": [
        {
          "output_type": "execute_result",
          "data": {
            "text/plain": [
              "{3: 1}"
            ]
          },
          "metadata": {},
          "execution_count": 6
        }
      ]
    },
    {
      "cell_type": "code",
      "source": [
        "word_1[\"ali\"] = \"deli\"\n",
        "word_1"
      ],
      "metadata": {
        "colab": {
          "base_uri": "https://localhost:8080/"
        },
        "id": "iUaZowM5AAOZ",
        "outputId": "6821a61d-f1de-48c3-b224-6d2b30aa95a9"
      },
      "execution_count": 7,
      "outputs": [
        {
          "output_type": "execute_result",
          "data": {
            "text/plain": [
              "{3: 1, 'ali': 'deli'}"
            ]
          },
          "metadata": {},
          "execution_count": 7
        }
      ]
    },
    {
      "cell_type": "code",
      "source": [
        ""
      ],
      "metadata": {
        "id": "ykzPk1OO4ozV"
      },
      "execution_count": null,
      "outputs": []
    },
    {
      "cell_type": "code",
      "source": [
        "word_2 = word_1.copy()\n"
      ],
      "metadata": {
        "id": "eFZkzn7qAAQe"
      },
      "execution_count": 8,
      "outputs": []
    },
    {
      "cell_type": "code",
      "source": [
        "del word_2[\"ali\"]"
      ],
      "metadata": {
        "id": "dAVqMtk55bmS"
      },
      "execution_count": 9,
      "outputs": []
    },
    {
      "cell_type": "code",
      "source": [
        "word_2"
      ],
      "metadata": {
        "colab": {
          "base_uri": "https://localhost:8080/"
        },
        "id": "-orOu6yY5bjJ",
        "outputId": "bc1ec5b8-37b2-4249-86a8-b9e71875ce11"
      },
      "execution_count": 10,
      "outputs": [
        {
          "output_type": "execute_result",
          "data": {
            "text/plain": [
              "{3: 1}"
            ]
          },
          "metadata": {},
          "execution_count": 10
        }
      ]
    },
    {
      "cell_type": "code",
      "source": [
        ""
      ],
      "metadata": {
        "id": "uVTYBvxV5bcG"
      },
      "execution_count": null,
      "outputs": []
    },
    {
      "cell_type": "code",
      "source": [
        "string = \"Bugun huzunluyum.Ayrilik yakin.2. session sonra...\""
      ],
      "metadata": {
        "id": "PD6wq0WRAAS1"
      },
      "execution_count": 10,
      "outputs": []
    },
    {
      "cell_type": "code",
      "source": [
        "word_dict = {}\n",
        "for n in string:\n",
        "  if n in word_dict :\n",
        "    word_dict[n] += 1\n",
        "  else :\n",
        "    word_dict[n] = 1\n",
        "print(word_dict)      \n"
      ],
      "metadata": {
        "colab": {
          "base_uri": "https://localhost:8080/"
        },
        "id": "iVho1Z8KAAXh",
        "outputId": "73e5acad-9c31-4d98-ca5c-fb0bc800fb46"
      },
      "execution_count": 11,
      "outputs": [
        {
          "output_type": "stream",
          "name": "stdout",
          "text": [
            "{'B': 1, 'u': 6, 'g': 1, 'n': 5, ' ': 4, 'h': 1, 'z': 1, 'l': 2, 'y': 3, 'm': 1, '.': 6, 'A': 1, 'r': 2, 'i': 4, 'k': 2, 'a': 2, '2': 1, 's': 4, 'e': 1, 'o': 2}\n"
          ]
        }
      ]
    },
    {
      "cell_type": "code",
      "source": [
        "tipler = [\"int\", \"str\", \"bool\", \"list\", \"tuple\", \"dict\", \"set\"]"
      ],
      "metadata": {
        "id": "oJLbCmdiAAcd"
      },
      "execution_count": 12,
      "outputs": []
    },
    {
      "cell_type": "code",
      "source": [
        "veri = [\"a\", \"b\", True, (False, 1), {\"1\" : 2}, [1,2], {\"2\" : \"two\"}, {2, \"3\"}, \"c\", 23, 0]"
      ],
      "metadata": {
        "id": "85JP0s-3AAha"
      },
      "execution_count": 13,
      "outputs": []
    },
    {
      "cell_type": "code",
      "source": [
        "#{\"bool\":1, \"int\":2,\"list\":1, \"tuple\":1, \"str\":3}"
      ],
      "metadata": {
        "id": "XmZX2UqPaxNg"
      },
      "execution_count": 13,
      "outputs": []
    },
    {
      "cell_type": "code",
      "source": [
        "{}.fromkeys(tipler , 0)#elemanlari alacak key lere koyacak"
      ],
      "metadata": {
        "colab": {
          "base_uri": "https://localhost:8080/"
        },
        "id": "NZC9a7SPaxLO",
        "outputId": "6251c988-4796-475d-c03d-6f5e6aba1f9a"
      },
      "execution_count": 14,
      "outputs": [
        {
          "output_type": "execute_result",
          "data": {
            "text/plain": [
              "{'bool': 0, 'dict': 0, 'int': 0, 'list': 0, 'set': 0, 'str': 0, 'tuple': 0}"
            ]
          },
          "metadata": {},
          "execution_count": 14
        }
      ]
    },
    {
      "cell_type": "code",
      "source": [
        "toplam = {}.fromkeys(tipler , 0)"
      ],
      "metadata": {
        "id": "GuYDz3xaaxIY"
      },
      "execution_count": 15,
      "outputs": []
    },
    {
      "cell_type": "code",
      "source": [
        "print(toplam)"
      ],
      "metadata": {
        "colab": {
          "base_uri": "https://localhost:8080/"
        },
        "id": "_mMtlPyX9Ylx",
        "outputId": "9ce51c06-8cb8-42ce-d76a-7a32023521ca"
      },
      "execution_count": 16,
      "outputs": [
        {
          "output_type": "stream",
          "name": "stdout",
          "text": [
            "{'int': 0, 'str': 0, 'bool': 0, 'list': 0, 'tuple': 0, 'dict': 0, 'set': 0}\n"
          ]
        }
      ]
    },
    {
      "cell_type": "code",
      "source": [
        "len(veri)"
      ],
      "metadata": {
        "colab": {
          "base_uri": "https://localhost:8080/"
        },
        "id": "7Y0skSdqaxGC",
        "outputId": "4dd7e987-6b7b-4e69-d10c-898049a56650"
      },
      "execution_count": 17,
      "outputs": [
        {
          "output_type": "execute_result",
          "data": {
            "text/plain": [
              "11"
            ]
          },
          "metadata": {},
          "execution_count": 17
        }
      ]
    },
    {
      "cell_type": "code",
      "source": [
        "type(veri[0])"
      ],
      "metadata": {
        "colab": {
          "base_uri": "https://localhost:8080/"
        },
        "id": "OujRzcrHaxC5",
        "outputId": "e655cbd3-0b38-4a14-ef75-a970456b870c"
      },
      "execution_count": 18,
      "outputs": [
        {
          "output_type": "execute_result",
          "data": {
            "text/plain": [
              "str"
            ]
          },
          "metadata": {},
          "execution_count": 18
        }
      ]
    },
    {
      "cell_type": "code",
      "source": [
        " type(veri[5]) == list"
      ],
      "metadata": {
        "colab": {
          "base_uri": "https://localhost:8080/"
        },
        "id": "H4D69J9Maw-S",
        "outputId": "2f7d5bca-b15b-41c5-a8e0-73e83dd00219"
      },
      "execution_count": 20,
      "outputs": [
        {
          "output_type": "execute_result",
          "data": {
            "text/plain": [
              "True"
            ]
          },
          "metadata": {},
          "execution_count": 20
        }
      ]
    },
    {
      "cell_type": "code",
      "source": [
        "type(veri[5]) == str"
      ],
      "metadata": {
        "colab": {
          "base_uri": "https://localhost:8080/"
        },
        "id": "KBifWd2Law72",
        "outputId": "048257d9-8d23-474a-8c68-eb609f11787a"
      },
      "execution_count": 21,
      "outputs": [
        {
          "output_type": "execute_result",
          "data": {
            "text/plain": [
              "False"
            ]
          },
          "metadata": {},
          "execution_count": 21
        }
      ]
    },
    {
      "cell_type": "code",
      "source": [
        "for i in range(len(veri)) :\n",
        "   if type(veri[i]) == int : toplam[\"int\"] += 1\n",
        "   elif type(veri[i]) == str : toplam[\"str\"] += 1\n",
        "   elif type(veri[i]) == bool : toplam[\"bool\"] += 1\n",
        "   elif type(veri[i]) == tuple: toplam[\"tuple\"] += 1\n",
        "   elif type(veri[i]) == set  : toplam[\"set\"] += 1\n",
        "   elif type(veri[i]) == dict : toplam[\"dict\"] += 1\n",
        "   elif type(veri[i]) == list : toplam[\"list\"] += 1\n",
        "toplam   "
      ],
      "metadata": {
        "colab": {
          "base_uri": "https://localhost:8080/"
        },
        "id": "oadUK9vggYez",
        "outputId": "4a1efb5d-d25f-48a0-d9fd-ebba60af8a6d"
      },
      "execution_count": 17,
      "outputs": [
        {
          "output_type": "execute_result",
          "data": {
            "text/plain": [
              "{'bool': 1, 'dict': 2, 'int': 2, 'list': 1, 'set': 1, 'str': 3, 'tuple': 1}"
            ]
          },
          "metadata": {},
          "execution_count": 17
        }
      ]
    },
    {
      "cell_type": "code",
      "source": [
        "import os"
      ],
      "metadata": {
        "id": "OwYck6d1gYZU"
      },
      "execution_count": 18,
      "outputs": []
    },
    {
      "cell_type": "code",
      "source": [
        "pwd"
      ],
      "metadata": {
        "colab": {
          "base_uri": "https://localhost:8080/",
          "height": 35
        },
        "id": "WuX-2uT_jX5d",
        "outputId": "cef072e9-0adc-44dc-a38c-db419279c1aa"
      },
      "execution_count": 24,
      "outputs": [
        {
          "output_type": "execute_result",
          "data": {
            "application/vnd.google.colaboratory.intrinsic+json": {
              "type": "string"
            },
            "text/plain": [
              "'/content'"
            ]
          },
          "metadata": {},
          "execution_count": 24
        }
      ]
    },
    {
      "cell_type": "code",
      "source": [
        "dosya_icerigi = os.listdir()#bizim dosyamizda neler var onlari gostermek icin \n",
        "dosya_icerigi\n"
      ],
      "metadata": {
        "colab": {
          "base_uri": "https://localhost:8080/"
        },
        "id": "9kCai1trgYU_",
        "outputId": "d01fe45e-bfe7-4271-8480-e9c8584e7ff8"
      },
      "execution_count": 25,
      "outputs": [
        {
          "output_type": "execute_result",
          "data": {
            "text/plain": [
              "['.config', 'sample_data']"
            ]
          },
          "metadata": {},
          "execution_count": 25
        }
      ]
    },
    {
      "cell_type": "code",
      "source": [
        "import shutil"
      ],
      "metadata": {
        "id": "A1i5NDk2gYSy"
      },
      "execution_count": 20,
      "outputs": []
    },
    {
      "cell_type": "code",
      "source": [
        "# shutil.make_archive(\"hata.txt\", \"zip\",\"hata.txt\")"
      ],
      "metadata": {
        "id": "DR_y9GM-gYQd"
      },
      "execution_count": null,
      "outputs": []
    },
    {
      "cell_type": "code",
      "source": [
        "Python Shutil Module\n",
        "which() to show the directory of an exe\n",
        "copystat() on a file\n",
        "move() to move a file\n",
        "copy() to copy a file\n",
        "rmtree() to delete files from dirs and subdirs (edited) "
      ],
      "metadata": {
        "id": "URmU-cZngYN7"
      },
      "execution_count": null,
      "outputs": []
    },
    {
      "cell_type": "code",
      "source": [
        " shutil.make_archive('/content','zip','/content')"
      ],
      "metadata": {
        "colab": {
          "base_uri": "https://localhost:8080/",
          "height": 35
        },
        "id": "w-BlED3XgYLu",
        "outputId": "d265d09c-3007-44da-bc8c-7f3f9a5d2ba3"
      },
      "execution_count": 21,
      "outputs": [
        {
          "output_type": "execute_result",
          "data": {
            "application/vnd.google.colaboratory.intrinsic+json": {
              "type": "string"
            },
            "text/plain": [
              "'/content.zip'"
            ]
          },
          "metadata": {},
          "execution_count": 21
        }
      ]
    },
    {
      "cell_type": "code",
      "source": [
        ""
      ],
      "metadata": {
        "id": "DE1eZUyAgYI5"
      },
      "execution_count": null,
      "outputs": []
    },
    {
      "cell_type": "code",
      "source": [
        ""
      ],
      "metadata": {
        "id": "Gh3bJV2CgYGS"
      },
      "execution_count": null,
      "outputs": []
    }
  ]
}