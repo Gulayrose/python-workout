{
  "nbformat": 4,
  "nbformat_minor": 0,
  "metadata": {
    "orig_nbformat": 4,
    "colab": {
      "name": "Python Workshop (16 Nov 21).ipynb",
      "provenance": [],
      "include_colab_link": true
    },
    "language_info": {
      "name": "python"
    },
    "kernelspec": {
      "name": "python3",
      "display_name": "Python 3"
    }
  },
  "cells": [
    {
      "cell_type": "markdown",
      "metadata": {
        "id": "view-in-github",
        "colab_type": "text"
      },
      "source": [
        "<a href=\"https://colab.research.google.com/github/Gulayrose/python-workout/blob/main/Python_Workshop_(16_Nov_21).ipynb\" target=\"_parent\"><img src=\"https://colab.research.google.com/assets/colab-badge.svg\" alt=\"Open In Colab\"/></a>"
      ]
    },
    {
      "cell_type": "markdown",
      "metadata": {
        "id": "N5OdmVWUUJc_"
      },
      "source": [
        "SORU-1: Kullanıcının belirleyeceği \"n\" adet sayının tek tek girilmesini sağlayarak, bu sayıların toplamını bulan python kodunu yazınız.\n",
        "\n",
        "* For döngüsü kullanılmalıdır"
      ]
    },
    {
      "cell_type": "code",
      "metadata": {
        "colab": {
          "base_uri": "https://localhost:8080/"
        },
        "id": "9-ZR-LCiUJdB",
        "outputId": "0437d8ab-f98e-4274-cf2e-ac6c8745f706"
      },
      "source": [
        "\n",
        "n=int(input(\"sayi giriniz:\"))\n",
        "toplam = 0\n",
        "for i in range(1,(n+1)) :\n",
        " sayi=int(input(f\"{i}.sayiyi griniz:\"))\n",
        " toplam += sayi\n",
        "print(\"Girmis oldugunuz sayilarin toplami = {}\".format(toplam))   "
      ],
      "execution_count": 7,
      "outputs": [
        {
          "output_type": "stream",
          "name": "stdout",
          "text": [
            "sayi giriniz:3\n",
            "1.sayiyi griniz:5\n",
            "2.sayiyi griniz:9\n",
            "3.sayiyi griniz:8\n",
            "Girmis oldugunuz sayilarin toplami = 22\n"
          ]
        }
      ]
    },
    {
      "cell_type": "code",
      "metadata": {
        "colab": {
          "base_uri": "https://localhost:8080/"
        },
        "id": "uQzNmygtoS8A",
        "outputId": "9ee0a23d-fce8-49d3-f673-179622761f26"
      },
      "source": [
        "#1.sorunun ek cevabi:\n",
        "n = int(input(\"Kac adet sayi gireceginizi belirtiniz :\"))\n",
        "toplam = 0\n",
        "for i in range(1,(n+1)):\n",
        "   sayi = int(input(f\"{i}. sayiyi giriniz =\"))\n",
        "   toplam +=sayi\n",
        "\n",
        "print(f\"Sayilarin toplami = {toplam}\")   "
      ],
      "execution_count": 1,
      "outputs": [
        {
          "output_type": "stream",
          "name": "stdout",
          "text": [
            "Kac adet sayi gireceginizi belirtiniz :3\n",
            "1. sayiyi giriniz =4\n",
            "2. sayiyi giriniz =6\n",
            "3. sayiyi giriniz =7\n",
            "Sayilarin toplami = 17\n"
          ]
        }
      ]
    },
    {
      "cell_type": "code",
      "metadata": {
        "colab": {
          "base_uri": "https://localhost:8080/"
        },
        "id": "xuCVIwuyqFct",
        "outputId": "8b651135-a836-4bb4-8d32-f41d5e415137"
      },
      "source": [
        "n = int(input(\"Kac adet sayi gireceginiz yaziniz :\"))\n",
        "sayac = 1\n",
        "listem=[]\n",
        "while sayac <= n :\n",
        "  sayi = int(input(f\"{sayac}.sayiyi giriniz = \"))\n",
        "  listem.append(sayi)\n",
        "  sayac +=1\n",
        "  toplam = sum(listem)\n",
        "\n",
        "print(\"Sayilarin toplami = {}\".format(toplam))\n",
        "\n"
      ],
      "execution_count": 8,
      "outputs": [
        {
          "output_type": "stream",
          "name": "stdout",
          "text": [
            "Kac adet sayi gireceginiz yaziniz :3\n",
            "1.sayiyi giriniz = 6\n",
            "2.sayiyi giriniz = 5\n",
            "3.sayiyi giriniz = 4\n",
            "Sayilarin toplami = 15\n"
          ]
        }
      ]
    },
    {
      "cell_type": "code",
      "metadata": {
        "colab": {
          "base_uri": "https://localhost:8080/",
          "height": 130
        },
        "id": "Dhvz-RwxrjoX",
        "outputId": "9152939a-0a59-45ab-c9a6-1ffe7d753507"
      },
      "source": [
        "#map fonk ile cozumu\n",
        "sayilar = map(int,(input(\"Kac adet sayi girilecegini yaziniz :\").split())\n",
        "sonuc = sum(sayilar)\n",
        "\n",
        "print(\"sayilarin tolami = {}\".format(sonuc))\n"
      ],
      "execution_count": 7,
      "outputs": [
        {
          "output_type": "error",
          "ename": "SyntaxError",
          "evalue": "ignored",
          "traceback": [
            "\u001b[0;36m  File \u001b[0;32m\"<ipython-input-7-f4ba132107d9>\"\u001b[0;36m, line \u001b[0;32m3\u001b[0m\n\u001b[0;31m    sonuc = sum(sayilar)\u001b[0m\n\u001b[0m        ^\u001b[0m\n\u001b[0;31mSyntaxError\u001b[0m\u001b[0;31m:\u001b[0m invalid syntax\n"
          ]
        }
      ]
    },
    {
      "cell_type": "code",
      "metadata": {
        "colab": {
          "base_uri": "https://localhost:8080/",
          "height": 130
        },
        "id": "-6dPvhH2tDEq",
        "outputId": "2a971285-67e4-493b-bd70-ab8f4817b8d3"
      },
      "source": [
        "#daha da kisa hali ile \n",
        "toplam= sum(list(map(int,(input(\"Kac adet sayi girilecegini yaziniz :\").split())))\n",
        "print(\"sayilar toplami = {}\".format(toplam))"
      ],
      "execution_count": 9,
      "outputs": [
        {
          "output_type": "error",
          "ename": "SyntaxError",
          "evalue": "ignored",
          "traceback": [
            "\u001b[0;36m  File \u001b[0;32m\"<ipython-input-9-cd4d24719af4>\"\u001b[0;36m, line \u001b[0;32m3\u001b[0m\n\u001b[0;31m    print(\"sayilar toplami = {}\".format(toplam))\u001b[0m\n\u001b[0m        ^\u001b[0m\n\u001b[0;31mSyntaxError\u001b[0m\u001b[0;31m:\u001b[0m invalid syntax\n"
          ]
        }
      ]
    },
    {
      "cell_type": "markdown",
      "metadata": {
        "id": "k9Bp4ly8UJdC"
      },
      "source": [
        "SORU-2: Kullanıcıdan alınan dört kenar uzunluğuna göre şeklin kare, dikdörtgen veya diğer dörtgenlerden biri olduğunu belirten python kodunu yazınız.\n",
        "\n",
        "* if-elif-else statement kullanılmalıdır"
      ]
    },
    {
      "cell_type": "code",
      "metadata": {
        "colab": {
          "base_uri": "https://localhost:8080/"
        },
        "id": "5Xh3jFr-UJdC",
        "outputId": "787f49c0-0fea-41e9-c716-9cd67712119d"
      },
      "source": [
        "x,y,z,t = (map(int,input(\"\").split()))\n",
        "if x==y==z==t :\n",
        "   print(\"bu sekil bir karedir\")\n",
        "elif (x==y or t==z ) and (x==t or y==z) :\n",
        "   print (\"bu bir dikdortgendir\")\n",
        "else :\n",
        "   print(\"bu farkli bir dortgendir\")   "
      ],
      "execution_count": 6,
      "outputs": [
        {
          "output_type": "stream",
          "name": "stdout",
          "text": [
            "4 5 7 8\n",
            "bu farkli bir dortgendir\n"
          ]
        }
      ]
    },
    {
      "cell_type": "code",
      "metadata": {
        "colab": {
          "base_uri": "https://localhost:8080/"
        },
        "id": "Y4r7vsUMP93h",
        "outputId": "2453484f-95ba-47d1-8e7e-dc3239af1381"
      },
      "source": [
        "# 2. sorunun farkli cozumu.Different answer of 2\n",
        "kenarlar= list(set(map(int,(input(\"Girmek istediginiz 4 kenari yazininz\")))))\n",
        "if len(kenarlar) == 1 :\n",
        "   print(\"bu bir karedir\")\n",
        "elif len(kenarlar) == 2:\n",
        "   print(\"bu bir dikdortgendir\") \n",
        "else :\n",
        "   print(\"bu farkli bir dikdortgendir\")     "
      ],
      "execution_count": 9,
      "outputs": [
        {
          "output_type": "stream",
          "name": "stdout",
          "text": [
            "Girmek istediginiz 4 kenari yazininz3333\n",
            "bu bir karedir\n"
          ]
        }
      ]
    },
    {
      "cell_type": "code",
      "metadata": {
        "colab": {
          "base_uri": "https://localhost:8080/"
        },
        "id": "x6_ATPd5P905",
        "outputId": "1b4f13a5-58ed-4695-86f1-4f8ecc659373"
      },
      "source": [
        "#kullanicidan alinan 3 kenar uzunluguna gore ucgenin seklinin belirlenmesi:\n",
        "a,b,c = map(int,input(\"Ucgenin kenaer uzunluklarini giriniz :\").split())\n",
        "if a==b and b==c and a==c :\n",
        "   print(\"Eskaner ucgendir\")\n",
        "elif  (a==b and a!=c) or (a ==c and a!= b) :\n",
        "   print(\"Ikizkenar ucgendir\") \n",
        "else :\n",
        "    print(\"Diger bir ucgendir \")   "
      ],
      "execution_count": 10,
      "outputs": [
        {
          "output_type": "stream",
          "name": "stdout",
          "text": [
            "Ucgenin kenaer uzunluklarini giriniz :5 6 8\n",
            "Diger bir ucgendir \n"
          ]
        }
      ]
    },
    {
      "cell_type": "code",
      "metadata": {
        "colab": {
          "base_uri": "https://localhost:8080/"
        },
        "id": "8TCtafJHP9yD",
        "outputId": "6f4fa221-2c4b-4a5b-c14a-60e9abee66fc"
      },
      "source": [
        "listem= list(set(map(int,input(\"Ucgenin kenaer uzunluklarini giriniz :\").split())))\n",
        "if len(listem) == 1:\n",
        "   print(\"Eskenar ucgendir\")\n",
        "elif len(listem) == 2:\n",
        "   print(\"Ikizkenar ucgendir\")\n",
        "else :\n",
        "    print(\"Digerbir ucgendir\")     "
      ],
      "execution_count": 15,
      "outputs": [
        {
          "output_type": "stream",
          "name": "stdout",
          "text": [
            "Ucgenin kenaer uzunluklarini giriniz :345\n",
            "Eskenar ucgendir\n"
          ]
        }
      ]
    },
    {
      "cell_type": "code",
      "metadata": {
        "id": "YDTQhxmeP9vL"
      },
      "source": [
        ""
      ],
      "execution_count": null,
      "outputs": []
    },
    {
      "cell_type": "code",
      "metadata": {
        "id": "bWf20WXnP9pM"
      },
      "source": [
        ""
      ],
      "execution_count": null,
      "outputs": []
    },
    {
      "cell_type": "code",
      "metadata": {
        "id": "KvbXcfBVP9gm"
      },
      "source": [
        ""
      ],
      "execution_count": null,
      "outputs": []
    },
    {
      "cell_type": "code",
      "metadata": {
        "id": "gt1Ko8bRP9WL"
      },
      "source": [
        ""
      ],
      "execution_count": null,
      "outputs": []
    },
    {
      "cell_type": "markdown",
      "metadata": {
        "id": "YxVjORtVUJdC"
      },
      "source": [
        "SORU-3: Kullanıcının belirleyeceği satır sayısı (n) kadar, \"*\" işaretiyle piramit oluşturan python kodunu yazınız.\n",
        "\n",
        "* For döngüsü kullanılmalıdır\n"
      ]
    },
    {
      "cell_type": "code",
      "metadata": {
        "colab": {
          "base_uri": "https://localhost:8080/"
        },
        "id": "bibwNkqsUJdD",
        "outputId": "be3a254f-b268-4315-adf7-f9da9f2bb66e"
      },
      "source": [
        "num = int(input(\"bir sayi giriniz :\"))\n",
        "space = (2*num)-2\n",
        "for i in range(num):\n",
        "   print(\"\"*space+(i+1)*\"*\")\n",
        "   space-=2"
      ],
      "execution_count": 9,
      "outputs": [
        {
          "output_type": "stream",
          "name": "stdout",
          "text": [
            "bir sayi giriniz :7\n",
            "*\n",
            "**\n",
            "***\n",
            "****\n",
            "*****\n",
            "******\n",
            "*******\n"
          ]
        }
      ]
    },
    {
      "cell_type": "code",
      "metadata": {
        "id": "ibJvRnY-0fA7"
      },
      "source": [
        "#bu soruda seklin asagidaki gibi gorunebilmesi icin print in icine ilk once bosluk koyduk\n",
        "#daha sonra bu boslugun girilen basamak sayisina gore bsoluk birakmasi gerek.* isareti de girilen basamaksayisna gore ayarlanir\n",
        "# i= 1 icin 1.basamak 4 bosluk 1 yildiz\n",
        "# i= 2 icin 2.basmak  3 bosluk 2 yildiz\n",
        "# i =3 icin 3. basamak 2 bosluk 3 yildiz\n",
        "# i= 4 icin 4.basmak  1 bosluk  4 yildiz \n",
        "# # i= 5 icin 5. basamak 0 bosluk 5 yildiz var \n",
        "# Yani biz n i basta 5 secersek bizim 1.satirda 4 bosluk 1 yildiz 2. satirda 3 bosluk 2 yildiz\n",
        "#3. satirda 2 bosluk 3 yildiz, 4.satirda 1 bosluk 4 yildiz , 5. satirda da 0 bosluk 5 yildiz oluyor.Yani eleman sayisi \n",
        "# ve bosluk zit. \n"
      ],
      "execution_count": null,
      "outputs": []
    },
    {
      "cell_type": "code",
      "metadata": {
        "colab": {
          "base_uri": "https://localhost:8080/"
        },
        "id": "xpLCVHUcSI3f",
        "outputId": "90be9b19-3747-45a2-f8e8-e3edae5be5df"
      },
      "source": [
        "n= int(input(\"Piramidin satir sayisini giriniz:\"))\n",
        "x= 2*n-1\n",
        "for i in range(1,1+n):\n",
        "  print(' '*(n-i)+ '*'*(2*i-1)) "
      ],
      "execution_count": 17,
      "outputs": [
        {
          "output_type": "stream",
          "name": "stdout",
          "text": [
            "Piramidin satir sayisini giriniz:10\n",
            "         *\n",
            "        ***\n",
            "       *****\n",
            "      *******\n",
            "     *********\n",
            "    ***********\n",
            "   *************\n",
            "  ***************\n",
            " *****************\n",
            "*******************\n"
          ]
        }
      ]
    },
    {
      "cell_type": "code",
      "metadata": {
        "id": "TOV2OlWbSIjb"
      },
      "source": [
        ""
      ],
      "execution_count": null,
      "outputs": []
    },
    {
      "cell_type": "code",
      "metadata": {
        "id": "GZAuSgn4Sw8i"
      },
      "source": [
        ""
      ],
      "execution_count": null,
      "outputs": []
    },
    {
      "cell_type": "code",
      "metadata": {
        "id": "ZcwEvflPSw54"
      },
      "source": [
        ""
      ],
      "execution_count": null,
      "outputs": []
    },
    {
      "cell_type": "markdown",
      "metadata": {
        "id": "qUraBYrIS3TE"
      },
      "source": [
        "Fonksiyon nedir ?\n",
        " Temel olarak fonskiyon,bizim belirttigimiz islemi istedigimiz argumanlar uzerinde yuruten bir kod blogudur.Bazi fonksiyonlar metin yazdirir,bazi verileri siler veya bir sayinin karesini alir.Fonksiyona, yanlizca cagrildiginda calisan bir kod parcasi da diyebiliriz.print(), int(),list(),input(),range()\n",
        " Bildigimiz uzere build-in functionlar var. 69 tane.\n",
        " Bir de bunun yaninda user-defined function yani kullanicinin kendi ihtiyacina gore tanimladigi fonk lar var.\n",
        " fonksiyon (herikisi icinde) kullanmamizin bize sagladigi en cok onemli 2 kolaylik var⏬ \n",
        " 1- programimizin cok daha sadce ve anlasirili olmasini saglar\n",
        " 2- uzun bir programda ayni kod drubunu tekrar tekrar yazmamizi engelleyerek,zaman kaybini engeller\n",
        "\n",
        "\n"
      ]
    },
    {
      "cell_type": "code",
      "metadata": {
        "id": "I58LK4NbSw3i"
      },
      "source": [
        ""
      ],
      "execution_count": null,
      "outputs": []
    },
    {
      "cell_type": "code",
      "metadata": {
        "id": "87tL6o-QSw0a"
      },
      "source": [
        ""
      ],
      "execution_count": null,
      "outputs": []
    },
    {
      "cell_type": "code",
      "metadata": {
        "id": "ElZhj0JGSwt5"
      },
      "source": [
        ""
      ],
      "execution_count": null,
      "outputs": []
    },
    {
      "cell_type": "markdown",
      "metadata": {
        "id": "c3IKL7vFUJdD"
      },
      "source": [
        "SORU-4: Kullanıcının yarıçap değerini girdiği bir dairenin, alan ve çevresini hesaplayan python kodunu yazınız.\n",
        "\n",
        "* Fonksiyon tanımlanmalıdır"
      ]
    },
    {
      "cell_type": "code",
      "metadata": {
        "colab": {
          "base_uri": "https://localhost:8080/"
        },
        "id": "SU2buyFTUJdE",
        "outputId": "e92135fb-1695-4ceb-c1ba-abdad0242ed3"
      },
      "source": [
        "yaricap = int(input(\"Yaricap degerini giriniz :\"))\n",
        "\n",
        "alan = 3.14 * yaricap ** 2\n",
        "cevre = 2* 3.14 * yaricap\n",
        "print(f\"Dairenin alani = {round(alan,2)} ve dairenin cevresi = {round(cevre,3)}\")"
      ],
      "execution_count": 19,
      "outputs": [
        {
          "output_type": "stream",
          "name": "stdout",
          "text": [
            "Yaricap degerini giriniz :55\n",
            "Dairenin alani = 9498.5 ve dairenin cevresi = 345.4\n"
          ]
        }
      ]
    },
    {
      "cell_type": "code",
      "metadata": {
        "colab": {
          "base_uri": "https://localhost:8080/"
        },
        "id": "NF40mkZN9fVZ",
        "outputId": "ce0a92a9-d0cb-4f82-972e-d8d7843dd518"
      },
      "source": [
        "def alan(yaricap) :\n",
        "  alan = 3.14 * yaricap ** 2\n",
        "  return alan\n",
        "\n",
        "#\n",
        "print(f\"Dairenin alani = {alan(5)}\")\n"
      ],
      "execution_count": 4,
      "outputs": [
        {
          "output_type": "stream",
          "name": "stdout",
          "text": [
            "Dairenin alani = 78.5\n"
          ]
        }
      ]
    },
    {
      "cell_type": "markdown",
      "metadata": {
        "id": "qM2cV9ujUJdE"
      },
      "source": [
        "SORU-5: Kullanıcının girdiği 2 sayı arasındaki çift sayıların ortalamasını bulan python kodunu yazınız.\n",
        "\n",
        "* map() fonksiyonu kullanılmalı ve\n",
        "* Fonksiyon tanımlanmalıdır"
      ]
    },
    {
      "cell_type": "code",
      "metadata": {
        "colab": {
          "base_uri": "https://localhost:8080/"
        },
        "id": "5i3TDwjGUJdE",
        "outputId": "eeec5b13-c517-4e36-e08b-79935f9f2345"
      },
      "source": [
        "def ciftx(start, stop):\n",
        "  listem = []\n",
        "  for i in range(start,stop+1):\n",
        "      if i % 2 ==0 :\n",
        "         listem.append(i)\n",
        "  return sum(listem) / len(listem) \n",
        "start , stop = map(int,input(\"please enter start and stop :\").split())\n",
        "print(f\"Cift sayilarin ortalamasi = {ciftx(start,stop)}\")          \n",
        "         "
      ],
      "execution_count": 6,
      "outputs": [
        {
          "output_type": "stream",
          "name": "stdout",
          "text": [
            "please enter start and stop :4 10\n",
            "Cift sayilarin ortalamasi = 7.0\n"
          ]
        }
      ]
    },
    {
      "cell_type": "markdown",
      "metadata": {
        "id": "a2XLBPaiUJdE"
      },
      "source": [
        "**SORU-6:** x listesi içinde verilen sayıları birbiriyle çarpan python kodunu yazınız.\n",
        "\n",
        "x = [1, 2, 3, 4, 5]\n",
        "\n",
        "* Fonksiyon tanımlanmalıdır"
      ]
    },
    {
      "cell_type": "code",
      "metadata": {
        "colab": {
          "base_uri": "https://localhost:8080/"
        },
        "id": "DGxeR1qdUJdF",
        "outputId": "a1fed412-8b83-45f3-cf5b-0131a17cac23"
      },
      "source": [
        "def multiply(x):\n",
        "\n",
        "   sonuc = 1\n",
        "   for i in x :\n",
        "      sonuc *= i\n",
        "   return sonucx = list(map(int,input(\"listenin elemanlarini girniz:\").split()))\n",
        "print(f\"carpim isleminin sonucu={multiply(x)}\")      \n",
        "    "
      ],
      "execution_count": 10,
      "outputs": [
        {
          "output_type": "stream",
          "name": "stdout",
          "text": [
            "listenin elemanlarini girniz:4 5 6 7\n",
            "carpim isleminin sonucu=840\n"
          ]
        }
      ]
    },
    {
      "cell_type": "markdown",
      "metadata": {
        "id": "o-BrAB0oUJdF"
      },
      "source": [
        "**SORU-7:** Tanımlanan bir liste içinde aranan değerin kaç tane olduğunu bulan Python kodunu yazınız.\n",
        "\n",
        "x = [1, 3, 8, 6, 8, 10, 20, 6, 22, 14, 10, 8, 13, 7, 8] \n",
        "\n",
        "Output = 8 elemanı dizi içinde 4 adet bulunmaktadır\n",
        "\n",
        "* Fonksiyon tanımlanmalıdır"
      ]
    },
    {
      "cell_type": "code",
      "metadata": {
        "colab": {
          "base_uri": "https://localhost:8080/"
        },
        "id": "A_XD0qEgUJdF",
        "outputId": "4ddafee4-1e3f-4e35-8290-2d4f5d72770b"
      },
      "source": [
        "def sayi(listem):\n",
        "   return listem.count(x)\n",
        "   \n",
        "listem = [1, 3, 8, 6, 8, 10, 20, 6, 22, 14, 10, 8, 13, 7, 8]   \n",
        "x=8 \n",
        "print(f\"{x} sayisi liste icinde {sayi(listem)} adet bulunmaktadir\")"
      ],
      "execution_count": 11,
      "outputs": [
        {
          "output_type": "stream",
          "name": "stdout",
          "text": [
            "8 sayisi liste icinde 4 adet bulunmaktadir\n"
          ]
        }
      ]
    },
    {
      "cell_type": "markdown",
      "metadata": {
        "id": "N3YCdCxIUJdF"
      },
      "source": [
        "**SORU-8:** Kullanıcıdan oluşturduğu listedeki herhangi iki elamanın yerini değiştiren python kodunu yazınız.\n",
        "\n",
        "* map() fonksiyonu kullanılmalı ve\n",
        "* Fonksiyon tanımlanmalıdır"
      ]
    },
    {
      "cell_type": "code",
      "metadata": {
        "colab": {
          "base_uri": "https://localhost:8080/"
        },
        "id": "xk5L9_hJUJdG",
        "outputId": "24ce4628-946a-42ba-9bf3-2c9b380ce6cf"
      },
      "source": [
        "def yer_degistirme (listex, a, b):\n",
        "  listemx[a],listex[b] = listex[b],listex[a]\n",
        "  return listex\n",
        "listex= map(int,input(\"listenin elemanlarini girniz:\").split())\n",
        "a,b  = map(int,input(\"listenin elemanlarini girniz:\").split())\n",
        "print(listex)  \n"
      ],
      "execution_count": 12,
      "outputs": [
        {
          "output_type": "stream",
          "name": "stdout",
          "text": [
            "listenin elemanlarini girniz:3 5 4 6 7 8 9\n",
            "listenin elemanlarini girniz:5 9\n",
            "<map object at 0x7f3534c68f90>\n"
          ]
        }
      ]
    }
  ]
}