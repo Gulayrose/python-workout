{
  "nbformat": 4,
  "nbformat_minor": 0,
  "metadata": {
    "colab": {
      "name": "nov 28(Melek hnm sorualri)",
      "provenance": [],
      "authorship_tag": "ABX9TyO0rZIdx8rC8cV9fiK8VJc9",
      "include_colab_link": true
    },
    "kernelspec": {
      "name": "python3",
      "display_name": "Python 3"
    },
    "language_info": {
      "name": "python"
    }
  },
  "cells": [
    {
      "cell_type": "markdown",
      "metadata": {
        "id": "view-in-github",
        "colab_type": "text"
      },
      "source": [
        "<a href=\"https://colab.research.google.com/github/Gulayrose/python-workout/blob/main/nov_28(Melek_hnm_sorualri).ipynb\" target=\"_parent\"><img src=\"https://colab.research.google.com/assets/colab-badge.svg\" alt=\"Open In Colab\"/></a>"
      ]
    },
    {
      "cell_type": "code",
      "metadata": {
        "id": "RWKDnbak2ga6"
      },
      "source": [
        "# 1) VERILEN DECIMAL I BINARY SISTEME CEVIREN PROGRAM #normal olarak nasil cevrildigine bakilabilir."
      ],
      "execution_count": null,
      "outputs": []
    },
    {
      "cell_type": "code",
      "metadata": {
        "colab": {
          "base_uri": "https://localhost:8080/",
          "height": 35
        },
        "id": "CqRSF47EZDpQ",
        "outputId": "412d80f0-e981-4b0d-ee8f-ac408846d67d"
      },
      "source": [
        "def binary(num) :\n",
        "  bin = \"\"\n",
        "  while num !=0:\n",
        "    bin += str(num %2)\n",
        "    num = num // 2\n",
        "  return bin[::-1]\n",
        "binary(5)   "
      ],
      "execution_count": 14,
      "outputs": [
        {
          "output_type": "execute_result",
          "data": {
            "application/vnd.google.colaboratory.intrinsic+json": {
              "type": "string"
            },
            "text/plain": [
              "'101'"
            ]
          },
          "metadata": {},
          "execution_count": 14
        }
      ]
    },
    {
      "cell_type": "code",
      "metadata": {
        "id": "hTZFko10Ynz2"
      },
      "source": [
        "# 2) Check if one array can be Nested in another.Creat a function that returns true if the\n",
        "#firts array can be nested inside the second. arr1 can be nested inside arr2 if:\n",
        "#min(arr1)>min(arr2) and max(arr1)<max(arr2) => True ,otherwise False"
      ],
      "execution_count": null,
      "outputs": []
    },
    {
      "cell_type": "code",
      "metadata": {
        "colab": {
          "base_uri": "https://localhost:8080/"
        },
        "id": "u0FejlOqauEZ",
        "outputId": "c8840eee-5749-4a1c-d61e-325c5cf84749"
      },
      "source": [
        "def can_nested(aar1,aar2):\n",
        "  return min(aar1) > min(aar2) and max(aar1) < max(aar2) \n",
        "can_nested([3,4,5],[1,4,7])  "
      ],
      "execution_count": 6,
      "outputs": [
        {
          "output_type": "execute_result",
          "data": {
            "text/plain": [
              "True"
            ]
          },
          "metadata": {},
          "execution_count": 6
        }
      ]
    },
    {
      "cell_type": "code",
      "metadata": {
        "id": "IosZQdqWZy2b"
      },
      "source": [
        "#3) Bize verilen kelimemnin buyuk harflerini bastarafa kucuk harflerini de son tarafa yazan program"
      ],
      "execution_count": null,
      "outputs": []
    },
    {
      "cell_type": "code",
      "metadata": {
        "colab": {
          "base_uri": "https://localhost:8080/",
          "height": 35
        },
        "id": "IloPqzyabbYZ",
        "outputId": "2022762a-3391-4ed8-9fda-57df77df0424"
      },
      "source": [
        "# MerHAba.  MHAerba\n",
        "def kelime(text):\n",
        "  lower , upper = \"\",\"\"\n",
        "  for i in text :\n",
        "    if i.isupper():\n",
        "      upper += i\n",
        "    elif i.islower() :\n",
        "      lower += i\n",
        "  return upper + lower\n",
        "kelime('MerHBa')      "
      ],
      "execution_count": 9,
      "outputs": [
        {
          "output_type": "execute_result",
          "data": {
            "application/vnd.google.colaboratory.intrinsic+json": {
              "type": "string"
            },
            "text/plain": [
              "'MHBera'"
            ]
          },
          "metadata": {},
          "execution_count": 9
        }
      ]
    },
    {
      "cell_type": "code",
      "metadata": {
        "id": "FL9xPYfIcDEB"
      },
      "source": [
        "# 3.sorunun ASCII koda gore cozumu\n",
        "def capital(name):\n",
        "  a=\"\"\n",
        "  b=\"\"\n",
        "  for i in name:\n",
        "    if ord(i) < ord(\"a\"):\n",
        "      a += str(i)\n",
        "    else:\n",
        "      b += str(i)\n",
        "  return(a+b)\n",
        "capital(\"MoveMEnt\")        "
      ],
      "execution_count": null,
      "outputs": []
    },
    {
      "cell_type": "code",
      "metadata": {
        "id": "pJGFBuTIapmN"
      },
      "source": [
        "#4) Bize verilen kelimenin buyuk harflerini kucuk,kucukleri buyuk yapan ve harfleri tersten yazdiran program\n",
        "#\"Bu SEFER oldu\" => 'UDLO refes UB'"
      ],
      "execution_count": null,
      "outputs": []
    },
    {
      "cell_type": "code",
      "metadata": {
        "colab": {
          "base_uri": "https://localhost:8080/",
          "height": 35
        },
        "id": "9qX6McyVeAA0",
        "outputId": "68b3546a-2206-4666-812e-6fbd1c939e9e"
      },
      "source": [
        "def revers(text):\n",
        "  a= \"\"\n",
        "  for i in text[::-1]:\n",
        "    if i.islower():\n",
        "      i=i.upper()\n",
        "    else :\n",
        "      i=i.lower()\n",
        "    a +=i\n",
        "  return a\n",
        "revers('Bu SEFER oldu')\n",
        "\n",
        "\n"
      ],
      "execution_count": 13,
      "outputs": [
        {
          "output_type": "execute_result",
          "data": {
            "application/vnd.google.colaboratory.intrinsic+json": {
              "type": "string"
            },
            "text/plain": [
              "'UDLO refes Ub'"
            ]
          },
          "metadata": {},
          "execution_count": 13
        }
      ]
    },
    {
      "cell_type": "code",
      "metadata": {
        "colab": {
          "base_uri": "https://localhost:8080/",
          "height": 35
        },
        "id": "rmC3Gkvvkemd",
        "outputId": "36acd690-6127-4dc9-81e0-c216a34b4536"
      },
      "source": [
        "#4. sonun degisik yontemi\n",
        "def reverse(text):\n",
        "  return text[::-1].swapcase()\n",
        "reverse(\"Hello wOrLD\")  "
      ],
      "execution_count": 19,
      "outputs": [
        {
          "output_type": "execute_result",
          "data": {
            "application/vnd.google.colaboratory.intrinsic+json": {
              "type": "string"
            },
            "text/plain": [
              "'dlRoW OLLEh'"
            ]
          },
          "metadata": {},
          "execution_count": 19
        }
      ]
    },
    {
      "cell_type": "code",
      "metadata": {
        "colab": {
          "base_uri": "https://localhost:8080/"
        },
        "id": "G3iS4nRe2fPH",
        "outputId": "0247ea8c-79ca-47a2-8ec3-40c5b2161116"
      },
      "source": [
        "#5)bize verilen listenin elemanlarini birbiri ile kiyas eden bir program.Yani ilk sayidan itibaren baslayip eger sayimiz sagindaki butun sayilardan \n",
        "#buyuk ise onu yeni bir listeye atayacagiz.eger birinden bile buyuk olmazsa o sayiyi yeni listeye eklemeyecegiz.\n",
        "#En son daki sayiyi kiyas yapacak sayi olmayacagi icin onu direk yazacagiz.\n",
        "arry = [3,13,11,2,1,9,5]\n",
        "n_arry = []\n",
        "for i in range(0, len(arry)-1):\n",
        " \n",
        "  if all(arry[i] > j for j in arry[i+1:]) == True :\n",
        "    n_arry.append(arry[i])\n",
        "n_arry + [arry[-1]]    \n",
        "\n"
      ],
      "execution_count": 30,
      "outputs": [
        {
          "output_type": "execute_result",
          "data": {
            "text/plain": [
              "[13, 11, 9, 5]"
            ]
          },
          "metadata": {},
          "execution_count": 30
        }
      ]
    },
    {
      "cell_type": "code",
      "metadata": {
        "colab": {
          "base_uri": "https://localhost:8080/",
          "height": 321
        },
        "id": "-ujOwgoug1R4",
        "outputId": "6da558ac-19dd-46c1-af0c-7a789aea5927"
      },
      "source": [
        "#6) Bize verilen cumledeki eksik sesli harfleri yazacagiz\n",
        "# \"W*h*r* d*d my v*w*ls g*?\" , \"eeioeo\" burda * yerine sirasi ile sesli harfler gelecek\n",
        "\n",
        "\n",
        "def uncesor(string, vowel) :\n",
        "  index = 0\n",
        "  n_str = \"\"\n",
        "  for i in string :\n",
        "    if i == '*':\n",
        "      n_str += vowel[index]\n",
        "      index +=1\n",
        "    else :\n",
        "       n_str += i\n",
        "  return n_str\n",
        "uncesor(\"W*h*r* d*d my v*w*ls g*?\" , \"eeioeo\")      \n"
      ],
      "execution_count": 8,
      "outputs": [
        {
          "output_type": "error",
          "ename": "IndexError",
          "evalue": "ignored",
          "traceback": [
            "\u001b[0;31m---------------------------------------------------------------------------\u001b[0m",
            "\u001b[0;31mIndexError\u001b[0m                                Traceback (most recent call last)",
            "\u001b[0;32m<ipython-input-8-f3268c3a8aba>\u001b[0m in \u001b[0;36m<module>\u001b[0;34m()\u001b[0m\n\u001b[1;32m     13\u001b[0m        \u001b[0mn_str\u001b[0m \u001b[0;34m+=\u001b[0m \u001b[0mi\u001b[0m\u001b[0;34m\u001b[0m\u001b[0;34m\u001b[0m\u001b[0m\n\u001b[1;32m     14\u001b[0m   \u001b[0;32mreturn\u001b[0m \u001b[0mn_str\u001b[0m\u001b[0;34m\u001b[0m\u001b[0;34m\u001b[0m\u001b[0m\n\u001b[0;32m---> 15\u001b[0;31m \u001b[0muncesor\u001b[0m\u001b[0;34m(\u001b[0m\u001b[0;34m\"W*h*r* d*d my v*w*ls g*?\"\u001b[0m \u001b[0;34m,\u001b[0m \u001b[0;34m\"eeioeo\"\u001b[0m\u001b[0;34m)\u001b[0m\u001b[0;34m\u001b[0m\u001b[0;34m\u001b[0m\u001b[0m\n\u001b[0m",
            "\u001b[0;32m<ipython-input-8-f3268c3a8aba>\u001b[0m in \u001b[0;36muncesor\u001b[0;34m(string, vowel)\u001b[0m\n\u001b[1;32m      8\u001b[0m   \u001b[0;32mfor\u001b[0m \u001b[0mi\u001b[0m \u001b[0;32min\u001b[0m \u001b[0mstring\u001b[0m \u001b[0;34m:\u001b[0m\u001b[0;34m\u001b[0m\u001b[0;34m\u001b[0m\u001b[0m\n\u001b[1;32m      9\u001b[0m     \u001b[0;32mif\u001b[0m \u001b[0mi\u001b[0m \u001b[0;34m==\u001b[0m \u001b[0;34m'*'\u001b[0m\u001b[0;34m:\u001b[0m\u001b[0;34m\u001b[0m\u001b[0;34m\u001b[0m\u001b[0m\n\u001b[0;32m---> 10\u001b[0;31m       \u001b[0mn_str\u001b[0m \u001b[0;34m+=\u001b[0m \u001b[0mvowel\u001b[0m\u001b[0;34m[\u001b[0m\u001b[0mindex\u001b[0m\u001b[0;34m]\u001b[0m\u001b[0;34m\u001b[0m\u001b[0;34m\u001b[0m\u001b[0m\n\u001b[0m\u001b[1;32m     11\u001b[0m       \u001b[0mindex\u001b[0m \u001b[0;34m+=\u001b[0m\u001b[0;36m1\u001b[0m\u001b[0;34m\u001b[0m\u001b[0;34m\u001b[0m\u001b[0m\n\u001b[1;32m     12\u001b[0m     \u001b[0;32melse\u001b[0m \u001b[0;34m:\u001b[0m\u001b[0;34m\u001b[0m\u001b[0;34m\u001b[0m\u001b[0m\n",
            "\u001b[0;31mIndexError\u001b[0m: string index out of range"
          ]
        }
      ]
    },
    {
      "cell_type": "code",
      "metadata": {
        "id": "XQ_ObX-rg1LV"
      },
      "source": [
        "# 7) Bize verilen string ve n uzunluk sayisi. Stringin uzunlugu ile n sayisinin bolumunden elde edilen bolum \n",
        "#kadar srting carpilir.Ve icinde ki herhangi bi harfden kac tane oldugunu bulan program\n",
        "s = \"abcac\"\n",
        "n = 10\n",
        "n // len(s) => 10/5 => 2   2*s=\"abcacabcac\" icinde de 4 tane \"a \" var.Eger tam bolunmezse kalani ekliyo sonuna yani\n",
        "s*(n//len(s))+s[0:n%len(s)].count(\"a\") programimiz bu sekilde olmali"
      ],
      "execution_count": null,
      "outputs": []
    },
    {
      "cell_type": "code",
      "metadata": {
        "colab": {
          "base_uri": "https://localhost:8080/"
        },
        "id": "dzvTGVWzg1Ar",
        "outputId": "1478e79c-e8af-4808-ae6a-446cec43c19c"
      },
      "source": [
        "def tekrar(s,n):\n",
        "  return (s*(n//len(s))+s[0:n%len(s)]).count(\"a\")\n",
        "tekrar('abca',10)  "
      ],
      "execution_count": 11,
      "outputs": [
        {
          "output_type": "execute_result",
          "data": {
            "text/plain": [
              "5"
            ]
          },
          "metadata": {},
          "execution_count": 11
        }
      ]
    },
    {
      "cell_type": "code",
      "metadata": {
        "colab": {
          "base_uri": "https://localhost:8080/"
        },
        "id": "Elv1KyqxZK-a",
        "outputId": "18acbf3d-f4e1-43fe-c413-1486608ced90"
      },
      "source": [
        "#7 nin diger yolu:\n",
        "def a_counter(text,n):\n",
        "  x= n//len(text)+1\n",
        "  return (x*text)[:n].count('a')\n",
        "a_counter('abcac',12)  "
      ],
      "execution_count": 12,
      "outputs": [
        {
          "output_type": "execute_result",
          "data": {
            "text/plain": [
              "5"
            ]
          },
          "metadata": {},
          "execution_count": 12
        }
      ]
    },
    {
      "cell_type": "code",
      "metadata": {
        "colab": {
          "base_uri": "https://localhost:8080/"
        },
        "id": "Pb85f6smZrIO",
        "outputId": "c37965ed-8d75-4b44-8c6f-35fe725597a1"
      },
      "source": [
        "#8) bize verilen sessiz harfi kendisine en yakin sesli harfe cevirme?\n",
        "string = 'g'\n",
        "vowel = 'aeiou'\n",
        "order= [abs(ord(i)-ord(string))for i in vowel]\n",
        "print(order)\n",
        "print(min(order))\n",
        "print(order.index(min(order)))\n",
        "print(vowel[order.index(min(order))])"
      ],
      "execution_count": 15,
      "outputs": [
        {
          "output_type": "stream",
          "name": "stdout",
          "text": [
            "[6, 2, 2, 8, 14]\n",
            "2\n",
            "1\n",
            "e\n"
          ]
        }
      ]
    },
    {
      "cell_type": "code",
      "metadata": {
        "colab": {
          "base_uri": "https://localhost:8080/",
          "height": 35
        },
        "id": "gup8OS7Ka-Xk",
        "outputId": "09a43315-c4bc-4ac0-f966-cb7e05304442"
      },
      "source": [
        "#simid prohgramini yazacagiz\n",
        "def near(string):\n",
        "  vowel =\"aeiou\"\n",
        "  order=[abs(ord(i)-ord(string))for i in vowel]\n",
        "  return vowel[order.index(min(order))]\n",
        "near(\"g\")  "
      ],
      "execution_count": 16,
      "outputs": [
        {
          "output_type": "execute_result",
          "data": {
            "application/vnd.google.colaboratory.intrinsic+json": {
              "type": "string"
            },
            "text/plain": [
              "'e'"
            ]
          },
          "metadata": {},
          "execution_count": 16
        }
      ]
    }
  ]
}