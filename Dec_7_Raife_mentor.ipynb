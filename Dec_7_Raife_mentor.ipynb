{
  "nbformat": 4,
  "nbformat_minor": 0,
  "metadata": {
    "colab": {
      "name": "Dec 7 Raife mentor",
      "provenance": [],
      "authorship_tag": "ABX9TyOW3LUXBK2xqglBXMY1LJWR",
      "include_colab_link": true
    },
    "kernelspec": {
      "name": "python3",
      "display_name": "Python 3"
    },
    "language_info": {
      "name": "python"
    }
  },
  "cells": [
    {
      "cell_type": "markdown",
      "metadata": {
        "id": "view-in-github",
        "colab_type": "text"
      },
      "source": [
        "<a href=\"https://colab.research.google.com/github/Gulayrose/python-workout/blob/main/Dec_7_Raife_mentor.ipynb\" target=\"_parent\"><img src=\"https://colab.research.google.com/assets/colab-badge.svg\" alt=\"Open In Colab\"/></a>"
      ]
    },
    {
      "cell_type": "code",
      "metadata": {
        "colab": {
          "base_uri": "https://localhost:8080/"
        },
        "id": "Cix2XBePaFnY",
        "outputId": "92154cbc-d126-4cdd-bf94-e87e7e3789ad"
      },
      "source": [
        "#1)#a1 in icinde a2 varmi varsa yen bir liste olusturup icine at\n",
        "\n",
        "\n",
        "a1=['arp','live','strong']\n",
        "a2 =['lively','alive','harp','sharp','armstrong']\n",
        "def  array(a1,a2):\n",
        "  s=[]\n",
        "  for i in a1:\n",
        "    for j in a2:\n",
        "      if i in j and i not in s:\n",
        "        s.append(i)\n",
        "  return sorted(s)\n",
        "array(a1,a2)        "
      ],
      "execution_count": 3,
      "outputs": [
        {
          "output_type": "execute_result",
          "data": {
            "text/plain": [
              "['arp', 'live', 'strong']"
            ]
          },
          "metadata": {},
          "execution_count": 3
        }
      ]
    },
    {
      "cell_type": "code",
      "metadata": {
        "colab": {
          "base_uri": "https://localhost:8080/"
        },
        "id": "W-vt_BPQcIA6",
        "outputId": "4d5a114c-8b38-495c-8afd-18c0cfedfb92"
      },
      "source": [
        "#a1=['arp','live','strong']\n",
        "#a2 =['lively','alive','harp','sharp','armstrong']\n",
        "def  array(a1,a2):\n",
        "  s=[]\n",
        "  for i in a1:\n",
        "    for j in a2:\n",
        "      if i in j and i not in s:\n",
        "        s.append(i)\n",
        "  return sorted(s)\n",
        "array(['ali','veli'],['ahmet','zeynep'])        "
      ],
      "execution_count": 4,
      "outputs": [
        {
          "output_type": "execute_result",
          "data": {
            "text/plain": [
              "[]"
            ]
          },
          "metadata": {},
          "execution_count": 4
        }
      ]
    },
    {
      "cell_type": "code",
      "metadata": {
        "colab": {
          "base_uri": "https://localhost:8080/",
          "height": 314
        },
        "id": "plY3F6qfcH-u",
        "outputId": "a92f7b0c-c2d8-42fe-978c-20041d0d2ea2"
      },
      "source": [
        "#2) verilen sayilarin herbirinin kendi icindeki agirligina gore sort edilmesi.\n",
        "#mesela 56 in agirligi 11 burda agirliga gore siralama\n",
        "def agirlikli_sirala(l):\n",
        "    l=l.split()\n",
        "    l1=[]\n",
        "    t=0\n",
        "    for i in l:\n",
        "      for j in i:\n",
        "        t += int(j)\n",
        "      l1.append(t)\n",
        "      t = 0\n",
        "    return ' '.loin([ v for k,v in sorted(zip(l1,l))]) \n",
        "agirlikli_sirala(\"56,65,74,100,68,86,180,90\")    \n"
      ],
      "execution_count": 24,
      "outputs": [
        {
          "output_type": "error",
          "ename": "ValueError",
          "evalue": "ignored",
          "traceback": [
            "\u001b[0;31m---------------------------------------------------------------------------\u001b[0m",
            "\u001b[0;31mValueError\u001b[0m                                Traceback (most recent call last)",
            "\u001b[0;32m<ipython-input-24-db688be6e688>\u001b[0m in \u001b[0;36m<module>\u001b[0;34m()\u001b[0m\n\u001b[1;32m     10\u001b[0m       \u001b[0mt\u001b[0m \u001b[0;34m=\u001b[0m \u001b[0;36m0\u001b[0m\u001b[0;34m\u001b[0m\u001b[0;34m\u001b[0m\u001b[0m\n\u001b[1;32m     11\u001b[0m     \u001b[0;32mreturn\u001b[0m \u001b[0;34m' '\u001b[0m\u001b[0;34m.\u001b[0m\u001b[0mloin\u001b[0m\u001b[0;34m(\u001b[0m\u001b[0;34m[\u001b[0m \u001b[0mv\u001b[0m \u001b[0;32mfor\u001b[0m \u001b[0mk\u001b[0m\u001b[0;34m,\u001b[0m\u001b[0mv\u001b[0m \u001b[0;32min\u001b[0m \u001b[0msorted\u001b[0m\u001b[0;34m(\u001b[0m\u001b[0mzip\u001b[0m\u001b[0;34m(\u001b[0m\u001b[0ml1\u001b[0m\u001b[0;34m,\u001b[0m\u001b[0ml\u001b[0m\u001b[0;34m)\u001b[0m\u001b[0;34m)\u001b[0m\u001b[0;34m]\u001b[0m\u001b[0;34m)\u001b[0m\u001b[0;34m\u001b[0m\u001b[0;34m\u001b[0m\u001b[0m\n\u001b[0;32m---> 12\u001b[0;31m \u001b[0magirlikli_sirala\u001b[0m\u001b[0;34m(\u001b[0m\u001b[0;34m\"56,65,74,100,68,86,180,90\"\u001b[0m\u001b[0;34m)\u001b[0m\u001b[0;34m\u001b[0m\u001b[0;34m\u001b[0m\u001b[0m\n\u001b[0m",
            "\u001b[0;32m<ipython-input-24-db688be6e688>\u001b[0m in \u001b[0;36magirlikli_sirala\u001b[0;34m(l)\u001b[0m\n\u001b[1;32m      6\u001b[0m     \u001b[0;32mfor\u001b[0m \u001b[0mi\u001b[0m \u001b[0;32min\u001b[0m \u001b[0ml\u001b[0m\u001b[0;34m:\u001b[0m\u001b[0;34m\u001b[0m\u001b[0;34m\u001b[0m\u001b[0m\n\u001b[1;32m      7\u001b[0m       \u001b[0;32mfor\u001b[0m \u001b[0mj\u001b[0m \u001b[0;32min\u001b[0m \u001b[0mi\u001b[0m\u001b[0;34m:\u001b[0m\u001b[0;34m\u001b[0m\u001b[0;34m\u001b[0m\u001b[0m\n\u001b[0;32m----> 8\u001b[0;31m         \u001b[0mt\u001b[0m \u001b[0;34m+=\u001b[0m \u001b[0mint\u001b[0m\u001b[0;34m(\u001b[0m\u001b[0mj\u001b[0m\u001b[0;34m)\u001b[0m\u001b[0;34m\u001b[0m\u001b[0;34m\u001b[0m\u001b[0m\n\u001b[0m\u001b[1;32m      9\u001b[0m       \u001b[0ml1\u001b[0m\u001b[0;34m.\u001b[0m\u001b[0mappend\u001b[0m\u001b[0;34m(\u001b[0m\u001b[0mt\u001b[0m\u001b[0;34m)\u001b[0m\u001b[0;34m\u001b[0m\u001b[0;34m\u001b[0m\u001b[0m\n\u001b[1;32m     10\u001b[0m       \u001b[0mt\u001b[0m \u001b[0;34m=\u001b[0m \u001b[0;36m0\u001b[0m\u001b[0;34m\u001b[0m\u001b[0;34m\u001b[0m\u001b[0m\n",
            "\u001b[0;31mValueError\u001b[0m: invalid literal for int() with base 10: ','"
          ]
        }
      ]
    },
    {
      "cell_type": "code",
      "metadata": {
        "colab": {
          "base_uri": "https://localhost:8080/",
          "height": 35
        },
        "id": "eH7aERPRcH8Y",
        "outputId": "3e5e6068-7a89-4da7-fce7-88582cd3bfef"
      },
      "source": [
        "#3) bize verilen stringin icinde ayni olan kelime adedince ac kapa parantez yap\n",
        "def duplicate_encode(s):\n",
        "   s=s.lower()\n",
        "   y= ''\n",
        "   for i in s:\n",
        "    if s.count(i)==1:\n",
        "      y +='('\n",
        "    else:\n",
        "      y +=')'\n",
        "   return y \n",
        "duplicate_encode('recede')        "
      ],
      "execution_count": 7,
      "outputs": [
        {
          "output_type": "execute_result",
          "data": {
            "application/vnd.google.colaboratory.intrinsic+json": {
              "type": "string"
            },
            "text/plain": [
              "'()()()'"
            ]
          },
          "metadata": {},
          "execution_count": 7
        }
      ]
    },
    {
      "cell_type": "code",
      "metadata": {
        "colab": {
          "base_uri": "https://localhost:8080/",
          "height": 35
        },
        "id": "ohnQDlxXcH6C",
        "outputId": "5da57ec4-565b-4a51-e4cc-c1592385d6e0"
      },
      "source": [
        "def duplicate_encode(s):\n",
        "  s=s.lower()\n",
        "  return''.join(['(' if s.count(i)==1 else ')' for i in s])\n",
        "duplicate_encode(\"recede\")  "
      ],
      "execution_count": 8,
      "outputs": [
        {
          "output_type": "execute_result",
          "data": {
            "application/vnd.google.colaboratory.intrinsic+json": {
              "type": "string"
            },
            "text/plain": [
              "'()()()'"
            ]
          },
          "metadata": {},
          "execution_count": 8
        }
      ]
    },
    {
      "cell_type": "code",
      "metadata": {
        "colab": {
          "base_uri": "https://localhost:8080/",
          "height": 35
        },
        "id": "VhLyqrhWcH3b",
        "outputId": "dfa7d766-df8b-4243-f9ca-715a8a9e1828"
      },
      "source": [
        "#4) verilen saniyeyi saat dk ve sn olarak cevirsin\n",
        "def make_readable(s):\n",
        "  hh=(s//60) // 60\n",
        "  mm = (s//60) % 60\n",
        "  ss = s % 60\n",
        "  return f'{hh:02d}: saat {mm:02d} :dakika {ss:02d}saniye' #2 digit olsun diye 02d yazildi.\n",
        "make_readable(5678)  "
      ],
      "execution_count": 11,
      "outputs": [
        {
          "output_type": "execute_result",
          "data": {
            "application/vnd.google.colaboratory.intrinsic+json": {
              "type": "string"
            },
            "text/plain": [
              "'01: saat 34 :dakika 38saniye'"
            ]
          },
          "metadata": {},
          "execution_count": 11
        }
      ]
    },
    {
      "cell_type": "code",
      "metadata": {
        "colab": {
          "base_uri": "https://localhost:8080/",
          "height": 129
        },
        "id": "SfsjqRsycH1H",
        "outputId": "ba96e346-1d68-4314-acc1-dd61fe2d427f"
      },
      "source": [
        "#5) verilen bir string icinde bizim istedigimiz kelime olusuyorsa True defilse False dondur \n",
        "def scramble(s1,s2):\n",
        "   return  all[True if s2.count(i) <= s1.count(i) else False for i in set(s2)]\n",
        "scramble('rhfjebjndklkpwpt','eydteye')   "
      ],
      "execution_count": 23,
      "outputs": [
        {
          "output_type": "error",
          "ename": "SyntaxError",
          "evalue": "ignored",
          "traceback": [
            "\u001b[0;36m  File \u001b[0;32m\"<ipython-input-23-ea739fb44437>\"\u001b[0;36m, line \u001b[0;32m3\u001b[0m\n\u001b[0;31m    return  all[True if s2.count(i) <= s1.count(i) else False for i in set(s2)]\u001b[0m\n\u001b[0m                                                                ^\u001b[0m\n\u001b[0;31mSyntaxError\u001b[0m\u001b[0;31m:\u001b[0m invalid syntax\n"
          ]
        }
      ]
    },
    {
      "cell_type": "code",
      "metadata": {
        "colab": {
          "base_uri": "https://localhost:8080/"
        },
        "id": "99g3PmPgcHyO",
        "outputId": "cd481545-b1a2-4d2d-d60e-ed1afe08e6e3"
      },
      "source": [
        "def scramble(s1,s2):\n",
        "    s= True\n",
        "    for i in set(s2):\n",
        "      if s2.count(i) > s1.count(i):\n",
        "        s = False\n",
        "        break \n",
        "    return s\n",
        "scramble(\"fdjfhdsj\",'ryt')        \n"
      ],
      "execution_count": 15,
      "outputs": [
        {
          "output_type": "execute_result",
          "data": {
            "text/plain": [
              "False"
            ]
          },
          "metadata": {},
          "execution_count": 15
        }
      ]
    },
    {
      "cell_type": "code",
      "metadata": {
        "colab": {
          "base_uri": "https://localhost:8080/"
        },
        "id": "JfnbTNtucHtQ",
        "outputId": "0cf54876-bca2-45b1-d687-14618a94506b"
      },
      "source": [
        "#6)o. index i sona alip yanina 'ay' eklemek.\n",
        "def change(s):\n",
        "  s = s.split()\n",
        "  y = ''\n",
        "  for i in s :\n",
        "    if i.isalnum():\n",
        "      y += i[1:] + i[0] + 'ay' + ' '\n",
        "    else :\n",
        "      y += i + ' '\n",
        "  return y.strip() \n",
        "print(change('hos geldin dunyama'))       "
      ],
      "execution_count": 20,
      "outputs": [
        {
          "output_type": "stream",
          "name": "stdout",
          "text": [
            "oshay eldingay unyamaday\n"
          ]
        }
      ]
    },
    {
      "cell_type": "code",
      "metadata": {
        "colab": {
          "base_uri": "https://localhost:8080/"
        },
        "id": "-_puirg1cHqr",
        "outputId": "908e01b7-357b-457f-8f17-a3db44e8441f"
      },
      "source": [
        "#7) \n",
        "def anagram(word,words):\n",
        "   return [i for i in words if sorted(word) == sorted(i)]\n",
        "anagram('abba',['aabb''abcd','bbaa','dada'])   \n"
      ],
      "execution_count": 22,
      "outputs": [
        {
          "output_type": "execute_result",
          "data": {
            "text/plain": [
              "['bbaa']"
            ]
          },
          "metadata": {},
          "execution_count": 22
        }
      ]
    },
    {
      "cell_type": "code",
      "metadata": {
        "id": "iL3PvFTncHoW"
      },
      "source": [
        "#workshop \n",
        "#1 palindrome"
      ],
      "execution_count": null,
      "outputs": []
    },
    {
      "cell_type": "code",
      "metadata": {
        "colab": {
          "base_uri": "https://localhost:8080/"
        },
        "id": "gfDUVbevcHl2",
        "outputId": "fbe3b935-2a1a-44bb-cef5-93225163568d"
      },
      "source": [
        "word = input(\"Enter a word: \")\n",
        "wordx = \"\"\n",
        "\n",
        "for i in word:\n",
        "    if i.isalpha():\n",
        "        wordx += i\n",
        "\n",
        "wordx = wordx.lower()\n",
        "if wordx == wordx[::-1]:\n",
        "    print(word, \"is a palindrome\")\n",
        "else:\n",
        "    print(word, \"is not a palindrome\")"
      ],
      "execution_count": 26,
      "outputs": [
        {
          "output_type": "stream",
          "name": "stdout",
          "text": [
            "Enter a word: ey edip adana'da pide ye\n",
            "ey edip adana'da pide ye is a palindrome\n"
          ]
        }
      ]
    },
    {
      "cell_type": "code",
      "metadata": {
        "id": "Mppgn6nlcHjG"
      },
      "source": [
        "def is_polindrome:\n",
        "  sentencez = "
      ],
      "execution_count": null,
      "outputs": []
    },
    {
      "cell_type": "code",
      "metadata": {
        "colab": {
          "base_uri": "https://localhost:8080/"
        },
        "id": "WnxlnNWRcHeK",
        "outputId": "e54183e8-d9d3-493c-afba-f3dbd8003608"
      },
      "source": [
        "sudoku = [\n",
        "    [0, 0, 0, 0, 6, 4, 0, 0, 0],\n",
        "    [7, 0, 0, 0, 0, 0, 3, 9, 0],\n",
        "    [8, 0, 0, 0, 0, 0, 0, 0, 0],\n",
        "    [0, 0, 0, 5, 0, 2, 0, 6, 0],\n",
        "    [0, 8, 0, 4, 0, 0, 0, 0, 0],\n",
        "    [3, 5, 0, 6, 0, 0, 0, 7, 0],\n",
        "    [0, 0, 2, 0, 0, 0, 1, 0, 3],\n",
        "    [0, 0, 1, 0, 5, 9, 0, 0, 0],\n",
        "    [0, 0, 0, 0, 0, 0, 7, 0, 0]\n",
        "]\n",
        "print(\"- - - - - - - - - - - - - - - \")\n",
        "c = 0\n",
        "for i in sudoku:\n",
        "    for j in i:\n",
        "        print(j, end=\"  \")\n",
        "        c += 1\n",
        "        if c % 27 == 0:\n",
        "            print(\"\\n- - - - - - - - - - - - - - - \")\n",
        "        elif c % 9 == 0:\n",
        "            print()\n",
        "        elif c % 3 == 0:\n",
        "            print(\"|\", end=\" \")"
      ],
      "execution_count": 27,
      "outputs": [
        {
          "output_type": "stream",
          "name": "stdout",
          "text": [
            "- - - - - - - - - - - - - - - \n",
            "0  0  0  | 0  6  4  | 0  0  0  \n",
            "7  0  0  | 0  0  0  | 3  9  0  \n",
            "8  0  0  | 0  0  0  | 0  0  0  \n",
            "- - - - - - - - - - - - - - - \n",
            "0  0  0  | 5  0  2  | 0  6  0  \n",
            "0  8  0  | 4  0  0  | 0  0  0  \n",
            "3  5  0  | 6  0  0  | 0  7  0  \n",
            "- - - - - - - - - - - - - - - \n",
            "0  0  2  | 0  0  0  | 1  0  3  \n",
            "0  0  1  | 0  5  9  | 0  0  0  \n",
            "0  0  0  | 0  0  0  | 7  0  0  \n",
            "- - - - - - - - - - - - - - - \n"
          ]
        }
      ]
    },
    {
      "cell_type": "code",
      "metadata": {
        "id": "1lytVijo9i0E"
      },
      "source": [
        ""
      ],
      "execution_count": null,
      "outputs": []
    },
    {
      "cell_type": "code",
      "metadata": {
        "id": "9763Xgdh9iwa"
      },
      "source": [
        ""
      ],
      "execution_count": null,
      "outputs": []
    },
    {
      "cell_type": "code",
      "metadata": {
        "id": "JWEKoU3c9ioU"
      },
      "source": [
        ""
      ],
      "execution_count": null,
      "outputs": []
    },
    {
      "cell_type": "code",
      "metadata": {
        "id": "2MFNUcGscHbj"
      },
      "source": [
        ""
      ],
      "execution_count": null,
      "outputs": []
    },
    {
      "cell_type": "code",
      "metadata": {
        "id": "lzsKb4R4cHYb"
      },
      "source": [
        ""
      ],
      "execution_count": null,
      "outputs": []
    },
    {
      "cell_type": "code",
      "metadata": {
        "id": "_eb0LIo7cHWE"
      },
      "source": [
        ""
      ],
      "execution_count": null,
      "outputs": []
    },
    {
      "cell_type": "code",
      "metadata": {
        "id": "A_5IzdEScHSs"
      },
      "source": [
        ""
      ],
      "execution_count": null,
      "outputs": []
    }
  ]
}