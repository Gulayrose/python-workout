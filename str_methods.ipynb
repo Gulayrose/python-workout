{
  "nbformat": 4,
  "nbformat_minor": 0,
  "metadata": {
    "colab": {
      "name": "str_methods",
      "provenance": [],
      "authorship_tag": "ABX9TyM7xKeTXMrvldne/T7zpZ9Z",
      "include_colab_link": true
    },
    "kernelspec": {
      "name": "python3",
      "display_name": "Python 3"
    },
    "language_info": {
      "name": "python"
    }
  },
  "cells": [
    {
      "cell_type": "markdown",
      "metadata": {
        "id": "view-in-github",
        "colab_type": "text"
      },
      "source": [
        "<a href=\"https://colab.research.google.com/github/Gulayrose/python-workout/blob/main/str_methods.ipynb\" target=\"_parent\"><img src=\"https://colab.research.google.com/assets/colab-badge.svg\" alt=\"Open In Colab\"/></a>"
      ]
    },
    {
      "cell_type": "code",
      "execution_count": 1,
      "metadata": {
        "colab": {
          "base_uri": "https://localhost:8080/",
          "height": 35
        },
        "id": "3rv17cVOmLPJ",
        "outputId": "a0b7aeda-b96e-47ab-f5ae-54c7a08033fb"
      },
      "outputs": [
        {
          "output_type": "execute_result",
          "data": {
            "application/vnd.google.colaboratory.intrinsic+json": {
              "type": "string"
            },
            "text/plain": [
              "'PYTHON'"
            ]
          },
          "metadata": {},
          "execution_count": 1
        }
      ],
      "source": [
        "#upper() butun karakterleri buyuk yapar\n",
        "\"python\".upper()"
      ]
    },
    {
      "cell_type": "code",
      "source": [
        "\"PYTHON\".lower()"
      ],
      "metadata": {
        "colab": {
          "base_uri": "https://localhost:8080/",
          "height": 35
        },
        "id": "SGH5jFYcmmqY",
        "outputId": "dd963cf5-b142-44a4-a708-91409b0d414d"
      },
      "execution_count": 2,
      "outputs": [
        {
          "output_type": "execute_result",
          "data": {
            "application/vnd.google.colaboratory.intrinsic+json": {
              "type": "string"
            },
            "text/plain": [
              "'python'"
            ]
          },
          "metadata": {},
          "execution_count": 2
        }
      ]
    },
    {
      "cell_type": "code",
      "source": [
        "#replace(x,y) x yerine y yazdirir.\n",
        "\"ben data science sectim\".replace(\"d\",\"D\")"
      ],
      "metadata": {
        "colab": {
          "base_uri": "https://localhost:8080/",
          "height": 35
        },
        "id": "AAR3Ueasmmni",
        "outputId": "9dca0246-a5a2-4107-85cc-e6fb2cb8915d"
      },
      "execution_count": 3,
      "outputs": [
        {
          "output_type": "execute_result",
          "data": {
            "application/vnd.google.colaboratory.intrinsic+json": {
              "type": "string"
            },
            "text/plain": [
              "'ben Data science sectim'"
            ]
          },
          "metadata": {},
          "execution_count": 3
        }
      ]
    },
    {
      "cell_type": "code",
      "source": [
        "\"Python Proglamlama Dili\".replace(\" \",\"-\")"
      ],
      "metadata": {
        "colab": {
          "base_uri": "https://localhost:8080/",
          "height": 35
        },
        "id": "DL4BcU92mmlM",
        "outputId": "e7a91d8a-6660-4d2e-b87c-d30da412d558"
      },
      "execution_count": 5,
      "outputs": [
        {
          "output_type": "execute_result",
          "data": {
            "application/vnd.google.colaboratory.intrinsic+json": {
              "type": "string"
            },
            "text/plain": [
              "'Python-Proglamlama-Dili'"
            ]
          },
          "metadata": {},
          "execution_count": 5
        }
      ]
    },
    {
      "cell_type": "code",
      "source": [
        "\"aygul\".replace(\"ay\",\"gul\")"
      ],
      "metadata": {
        "colab": {
          "base_uri": "https://localhost:8080/",
          "height": 35
        },
        "id": "iixxqzAEmmi1",
        "outputId": "09cafefe-f239-43f7-99c2-aa770d3ad4d9"
      },
      "execution_count": 6,
      "outputs": [
        {
          "output_type": "execute_result",
          "data": {
            "application/vnd.google.colaboratory.intrinsic+json": {
              "type": "string"
            },
            "text/plain": [
              "'gulgul'"
            ]
          },
          "metadata": {},
          "execution_count": 6
        }
      ]
    },
    {
      "cell_type": "code",
      "source": [
        "#startswith(x) string x ile basliyorsa True degilse false dondurur\n",
        "#endswith(x) string x ile bitiyorsa True degilse false dondurur."
      ],
      "metadata": {
        "id": "SXN-HIAmmmgO"
      },
      "execution_count": null,
      "outputs": []
    },
    {
      "cell_type": "code",
      "source": [
        "\"python\".startswith(\"Py\")"
      ],
      "metadata": {
        "colab": {
          "base_uri": "https://localhost:8080/"
        },
        "id": "XPcD6WPZmmd5",
        "outputId": "498ddced-e380-430f-cd2b-2fa5598f4749"
      },
      "execution_count": 7,
      "outputs": [
        {
          "output_type": "execute_result",
          "data": {
            "text/plain": [
              "False"
            ]
          },
          "metadata": {},
          "execution_count": 7
        }
      ]
    },
    {
      "cell_type": "code",
      "source": [
        "\"python\".endswith(\"on\")"
      ],
      "metadata": {
        "colab": {
          "base_uri": "https://localhost:8080/"
        },
        "id": "IRv1Bn0Jmmbh",
        "outputId": "783c52bc-8534-485c-af34-375e7ddaa3f9"
      },
      "execution_count": 8,
      "outputs": [
        {
          "output_type": "execute_result",
          "data": {
            "text/plain": [
              "True"
            ]
          },
          "metadata": {},
          "execution_count": 8
        }
      ]
    },
    {
      "cell_type": "code",
      "source": [
        "#split() verilen a degerine gore stringi ayirarak herbir parca listeye atilir\n",
        "liste = \"Python Proglamlama Dili\".split(\" \") # bosluk karakterine gore ayirir."
      ],
      "metadata": {
        "id": "F5HFzkDdmmYZ"
      },
      "execution_count": 9,
      "outputs": []
    },
    {
      "cell_type": "code",
      "source": [
        "print(liste)"
      ],
      "metadata": {
        "colab": {
          "base_uri": "https://localhost:8080/"
        },
        "id": "0cREHkukoKsk",
        "outputId": "b069f16d-719d-4dd8-f481-4216afbf5db7"
      },
      "execution_count": 10,
      "outputs": [
        {
          "output_type": "stream",
          "name": "stdout",
          "text": [
            "['Python', 'Proglamlama', 'Dili']\n"
          ]
        }
      ]
    },
    {
      "cell_type": "code",
      "source": [
        "liste2 = \"python- php- java - c - javascript\".split(\"-\")\n",
        "print(liste2)\n"
      ],
      "metadata": {
        "colab": {
          "base_uri": "https://localhost:8080/"
        },
        "id": "n9Ze2upjoKqV",
        "outputId": "5835cfe8-d31c-4d40-ee91-f5e10f2c9fa1"
      },
      "execution_count": 11,
      "outputs": [
        {
          "output_type": "stream",
          "name": "stdout",
          "text": [
            "['python', ' php', ' java ', ' c ', ' javascript']\n"
          ]
        }
      ]
    },
    {
      "cell_type": "code",
      "source": [
        "#strip(x) str nin basinda ve  sonunda bulunan x i siler\n",
        "#lstrip(x) str nin left side olan x i siler\n",
        "#rstrip(x) str nin right side olan x i siler"
      ],
      "metadata": {
        "id": "prtzY7kBoKn4"
      },
      "execution_count": null,
      "outputs": []
    },
    {
      "cell_type": "code",
      "source": [
        "\"     python    \".strip()"
      ],
      "metadata": {
        "colab": {
          "base_uri": "https://localhost:8080/",
          "height": 35
        },
        "id": "2cx6a1EvoKlA",
        "outputId": "3f5a0727-4db1-4e94-a400-5bf14dc4c7cf"
      },
      "execution_count": 12,
      "outputs": [
        {
          "output_type": "execute_result",
          "data": {
            "application/vnd.google.colaboratory.intrinsic+json": {
              "type": "string"
            },
            "text/plain": [
              "'python'"
            ]
          },
          "metadata": {},
          "execution_count": 12
        }
      ]
    },
    {
      "cell_type": "code",
      "source": [
        "##join() Listenin elemanlarini bir string degeriyle birlestirmemizi saglar."
      ],
      "metadata": {
        "id": "5h6Xj4m-rbh6"
      },
      "execution_count": null,
      "outputs": []
    },
    {
      "cell_type": "code",
      "source": [
        "liste = [\"01\",\"01\",\"2022\"]\n",
        "\"/\".join(liste)"
      ],
      "metadata": {
        "colab": {
          "base_uri": "https://localhost:8080/",
          "height": 35
        },
        "id": "ixzbTsEPrbf2",
        "outputId": "4cd670e9-8a5d-4c69-bb04-d45ddf4d436f"
      },
      "execution_count": 13,
      "outputs": [
        {
          "output_type": "execute_result",
          "data": {
            "application/vnd.google.colaboratory.intrinsic+json": {
              "type": "string"
            },
            "text/plain": [
              "'01/01/2022'"
            ]
          },
          "metadata": {},
          "execution_count": 13
        }
      ]
    },
    {
      "cell_type": "code",
      "source": [
        "liste = [\"U\",\"S\",\"A\"]\n",
        "\".\".join(liste)"
      ],
      "metadata": {
        "colab": {
          "base_uri": "https://localhost:8080/",
          "height": 35
        },
        "id": "eep_zIn1rbdR",
        "outputId": "49e263d1-8da5-4c94-a194-edad8d903969"
      },
      "execution_count": 14,
      "outputs": [
        {
          "output_type": "execute_result",
          "data": {
            "application/vnd.google.colaboratory.intrinsic+json": {
              "type": "string"
            },
            "text/plain": [
              "'U.S.A'"
            ]
          },
          "metadata": {},
          "execution_count": 14
        }
      ]
    },
    {
      "cell_type": "code",
      "source": [
        "##count(x) str icindeki x degerlerini sayar\n",
        "## count(x,index) str icindeki x degerlerini verilen index degerinden baslayarak saymaya baslar.\n",
        "\" ada kapisi yandan carkli\".count(\"a\")"
      ],
      "metadata": {
        "colab": {
          "base_uri": "https://localhost:8080/"
        },
        "id": "ocFH2K41rba4",
        "outputId": "55b83aa8-6d70-4a91-e92f-d970cc59d52e"
      },
      "execution_count": 15,
      "outputs": [
        {
          "output_type": "execute_result",
          "data": {
            "text/plain": [
              "6"
            ]
          },
          "metadata": {},
          "execution_count": 15
        }
      ]
    },
    {
      "cell_type": "code",
      "source": [
        " \"ada kapisi yandan carkli\".count(\"a\",3)"
      ],
      "metadata": {
        "colab": {
          "base_uri": "https://localhost:8080/"
        },
        "id": "vBKZWQJSrbYS",
        "outputId": "6d5b69bc-e675-47ee-895a-86a704a57697"
      },
      "execution_count": 16,
      "outputs": [
        {
          "output_type": "execute_result",
          "data": {
            "text/plain": [
              "4"
            ]
          },
          "metadata": {},
          "execution_count": 16
        }
      ]
    },
    {
      "cell_type": "code",
      "source": [
        "##find(x) x i bastan itibaren str icinde arar ve bulursa ilk buldugu \n",
        "#index i dondurur.bulamazsa -1 dondurur\n",
        "##rfind(x) x degerini sondan itibaren str icinde arar ve bulursa ilk\n",
        "# indexi dondurur.bulamazsa -1 degerini verir."
      ],
      "metadata": {
        "id": "TcQzZcJ7sQap"
      },
      "execution_count": null,
      "outputs": []
    },
    {
      "cell_type": "code",
      "source": [
        "\"araba\".find(\"a\") # o. index i veirir."
      ],
      "metadata": {
        "colab": {
          "base_uri": "https://localhost:8080/"
        },
        "id": "-oYJCjFusQYC",
        "outputId": "fcf029c9-b608-4138-e059-67a099f7cd29"
      },
      "execution_count": 17,
      "outputs": [
        {
          "output_type": "execute_result",
          "data": {
            "text/plain": [
              "0"
            ]
          },
          "metadata": {},
          "execution_count": 17
        }
      ]
    },
    {
      "cell_type": "code",
      "source": [
        "\"araba\".find(\"e\")"
      ],
      "metadata": {
        "colab": {
          "base_uri": "https://localhost:8080/"
        },
        "id": "LuyE5KX0sQVd",
        "outputId": "af4df5be-13f1-4905-9e2f-93e241a5e325"
      },
      "execution_count": 19,
      "outputs": [
        {
          "output_type": "execute_result",
          "data": {
            "text/plain": [
              "-1"
            ]
          },
          "metadata": {},
          "execution_count": 19
        }
      ]
    },
    {
      "cell_type": "code",
      "source": [
        "\"vagan\".rfind(\"a\")"
      ],
      "metadata": {
        "colab": {
          "base_uri": "https://localhost:8080/"
        },
        "id": "eUjp2RktsQSl",
        "outputId": "2522790c-508f-42e2-b0d0-1b0f08fcb4e2"
      },
      "execution_count": 20,
      "outputs": [
        {
          "output_type": "execute_result",
          "data": {
            "text/plain": [
              "3"
            ]
          },
          "metadata": {},
          "execution_count": 20
        }
      ]
    },
    {
      "cell_type": "code",
      "source": [
        ""
      ],
      "metadata": {
        "id": "VLWeSMYWulcU"
      },
      "execution_count": null,
      "outputs": []
    },
    {
      "cell_type": "code",
      "source": [
        ""
      ],
      "metadata": {
        "id": "TKDrwunqulZc"
      },
      "execution_count": null,
      "outputs": []
    },
    {
      "cell_type": "code",
      "source": [
        ""
      ],
      "metadata": {
        "id": "M_SonRfTulWU"
      },
      "execution_count": null,
      "outputs": []
    },
    {
      "cell_type": "code",
      "source": [
        ""
      ],
      "metadata": {
        "id": "yeryBP7julTv"
      },
      "execution_count": null,
      "outputs": []
    }
  ]
}