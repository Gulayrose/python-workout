{
  "nbformat": 4,
  "nbformat_minor": 0,
  "metadata": {
    "colab": {
      "name": "p.workout",
      "provenance": [],
      "authorship_tag": "ABX9TyPWsh8qSY3R8L6J32JkfRuj",
      "include_colab_link": true
    },
    "kernelspec": {
      "name": "python3",
      "display_name": "Python 3"
    },
    "language_info": {
      "name": "python"
    }
  },
  "cells": [
    {
      "cell_type": "markdown",
      "metadata": {
        "id": "view-in-github",
        "colab_type": "text"
      },
      "source": [
        "<a href=\"https://colab.research.google.com/github/Gulayrose/python-workout/blob/main/p_workout.ipynb\" target=\"_parent\"><img src=\"https://colab.research.google.com/assets/colab-badge.svg\" alt=\"Open In Colab\"/></a>"
      ]
    },
    {
      "cell_type": "code",
      "source": [
        "\"canberk\"<\"oguz\""
      ],
      "metadata": {
        "colab": {
          "base_uri": "https://localhost:8080/"
        },
        "id": "lkBClZEJousf",
        "outputId": "040dbdce-7f42-44be-a075-765deb5f670f"
      },
      "execution_count": null,
      "outputs": [
        {
          "output_type": "execute_result",
          "data": {
            "text/plain": [
              "True"
            ]
          },
          "metadata": {},
          "execution_count": 3
        }
      ]
    },
    {
      "cell_type": "code",
      "source": [
        "yas = int(input(\"please enyer your age :\"))\n",
        "if yas < 18 :\n",
        "  print(\"You can not come inside!\")\n",
        "else :\n",
        "  print(\"You can in.\")  "
      ],
      "metadata": {
        "colab": {
          "base_uri": "https://localhost:8080/"
        },
        "id": "j9zZahpVouvF",
        "outputId": "670eacff-e14c-44b3-9369-d7d7b6fc6dc3"
      },
      "execution_count": null,
      "outputs": [
        {
          "output_type": "stream",
          "name": "stdout",
          "text": [
            "please enyer your age :20\n",
            "You can in.\n"
          ]
        }
      ]
    },
    {
      "cell_type": "code",
      "source": [
        "note = float(input(\"Please enter your note:\"))\n",
        "if (note >= 90):\n",
        "  print(\"AA\")\n",
        "elif (note >= 85):\n",
        "  print(\"BA\")\n",
        "elif (note >= 80):\n",
        "  print(\"BB\") \n",
        "elif (note >= 75):\n",
        "  print(\"CB\") \n",
        "elif (note >= 70):\n",
        "  print(\"CC\")  \n",
        "else :\n",
        "  print(\" You have to take this class again!:(\")    \n"
      ],
      "metadata": {
        "colab": {
          "base_uri": "https://localhost:8080/"
        },
        "id": "mnnzHgB4rURe",
        "outputId": "7514db0c-90c6-4cda-ed17-74de82b5963b"
      },
      "execution_count": null,
      "outputs": [
        {
          "output_type": "stream",
          "name": "stdout",
          "text": [
            "Please enter your note:77.5\n",
            "CB\n"
          ]
        }
      ]
    },
    {
      "cell_type": "code",
      "source": [
        "#HESAP MAKINESI#\n"
      ],
      "metadata": {
        "id": "JTmIOw22rUUT"
      },
      "execution_count": null,
      "outputs": []
    },
    {
      "cell_type": "code",
      "source": [
        "print(\"\"\"********\n",
        "Hesap Makinesi Programi\n",
        "\n",
        "Islemeler ;\n",
        "1.Toplama islemi\n",
        "2.Cikartma islemi\n",
        "3.Carpma islemi\n",
        "4.Bolme islemi\n",
        "*********\"\"\")\n",
        "\n",
        "a = int(input(\"Please enter 1. number : \"))\n",
        "b = int(input(\"Please enter 2. number : \"))\n",
        "islem = input(\"Pleae enter your operation :  \")\n",
        "if islem == \"1\" :\n",
        "  print(\"{} and {} plus = {} \".format(a,b,a+b))\n",
        "elif islem == \"2\" :\n",
        "  print(\"{} and {} substraction = {} \" .format(a,b,a-b))  \n",
        "elif islem == \"3\" :\n",
        "  print(\"{} and {} times = {} \" .format(a,b,a*b)) \n",
        "elif islem == \"4\" :\n",
        "  print(\"{} and {} divide = {} \" .format(a,b,a/b))   \n",
        "else :\n",
        "  print(\"Invalid transection!\")      \n"
      ],
      "metadata": {
        "colab": {
          "base_uri": "https://localhost:8080/"
        },
        "id": "LGxsPLaCrUW6",
        "outputId": "6719f76f-7db4-48ee-f4fb-4e29d6561d4f"
      },
      "execution_count": null,
      "outputs": [
        {
          "output_type": "stream",
          "name": "stdout",
          "text": [
            "********\n",
            "Hesap Makinesi Programi\n",
            "\n",
            "Islemeler ;\n",
            "1.Toplama islemi\n",
            "2.Cikartma islemi\n",
            "3.Carpma islemi\n",
            "4.Bolme islemi\n",
            "*********\n",
            "Please enter 1. number : 55\n",
            "Please enter 2. number : 3\n",
            "Pleae enter your operation :  2\n",
            "55 and 3 substraction = 52 \n"
          ]
        }
      ]
    }
  ]
}