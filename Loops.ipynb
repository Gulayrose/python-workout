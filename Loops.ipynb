{
  "nbformat": 4,
  "nbformat_minor": 0,
  "metadata": {
    "colab": {
      "name": "Loops",
      "provenance": [],
      "authorship_tag": "ABX9TyPBowjuz1ZHQrdz1LWKK/72",
      "include_colab_link": true
    },
    "kernelspec": {
      "name": "python3",
      "display_name": "Python 3"
    },
    "language_info": {
      "name": "python"
    }
  },
  "cells": [
    {
      "cell_type": "markdown",
      "metadata": {
        "id": "view-in-github",
        "colab_type": "text"
      },
      "source": [
        "<a href=\"https://colab.research.google.com/github/Gulayrose/python-workout/blob/main/Loops.ipynb\" target=\"_parent\"><img src=\"https://colab.research.google.com/assets/colab-badge.svg\" alt=\"Open In Colab\"/></a>"
      ]
    },
    {
      "cell_type": "code",
      "execution_count": 1,
      "metadata": {
        "colab": {
          "base_uri": "https://localhost:8080/"
        },
        "id": "DcBsqIZHOdUh",
        "outputId": "f3aa0b31-857d-4d00-d146-f72549add37b"
      },
      "outputs": [
        {
          "output_type": "stream",
          "name": "stdout",
          "text": [
            "toplam : 1 i : 1\n",
            "toplam : 3 i : 2\n",
            "toplam : 6 i : 3\n",
            "toplam : 10 i : 4\n",
            "toplam : 15 i : 5\n",
            "toplam : 21 i : 6\n",
            "toplam : 28 i : 7\n",
            "28\n"
          ]
        }
      ],
      "source": [
        "#liste icindeki elemanlarin toplami\n",
        "liste = [1,2,3,4,5,6,7]\n",
        "sum = 0\n",
        "for i in liste :\n",
        "  sum = sum+i\n",
        "  print(\"toplam : {} i : {}\".format(sum,i))#tek tek gosterim icin\n",
        "print(sum)  #birsferde hepsinin toplaminin gosterimi icin"
      ]
    },
    {
      "cell_type": "code",
      "source": [
        "liste1 = [2,1,10,2,23,1,56,3]\n",
        "tot = 0\n",
        "for i in liste1:\n",
        "  if (not(i % 2 == 0 )):\n",
        "    tot +=i\n",
        "print(tot)    "
      ],
      "metadata": {
        "colab": {
          "base_uri": "https://localhost:8080/"
        },
        "id": "1NtBSBRy8cfA",
        "outputId": "53846941-ddb1-4c75-81e7-a311e45edd29"
      },
      "execution_count": 3,
      "outputs": [
        {
          "output_type": "stream",
          "name": "stdout",
          "text": [
            "28\n"
          ]
        }
      ]
    },
    {
      "cell_type": "code",
      "source": [
        "listea = [1,2,3,4,34,54,63,78] #listedeki cift sayilarin ekranda gosterimi\n",
        "for i in listea :\n",
        "  if i % 2 ==0 :\n",
        "    print(i)\n"
      ],
      "metadata": {
        "colab": {
          "base_uri": "https://localhost:8080/"
        },
        "id": "6ZwOOdi58ch2",
        "outputId": "ea7585db-37d3-4e5f-c274-4ea9bf56ccb9"
      },
      "execution_count": 1,
      "outputs": [
        {
          "output_type": "stream",
          "name": "stdout",
          "text": [
            "2\n",
            "4\n",
            "34\n",
            "54\n",
            "78\n"
          ]
        }
      ]
    },
    {
      "cell_type": "code",
      "source": [
        "demet = (1,1,2,3,4,4,5,6,7,7,8)\n",
        "for i in demet:\n",
        "  print(i)"
      ],
      "metadata": {
        "colab": {
          "base_uri": "https://localhost:8080/"
        },
        "id": "67xppJR28cmS",
        "outputId": "fc643ad9-c735-40cb-b7f6-b634cc94225e"
      },
      "execution_count": 2,
      "outputs": [
        {
          "output_type": "stream",
          "name": "stdout",
          "text": [
            "1\n",
            "1\n",
            "2\n",
            "3\n",
            "4\n",
            "4\n",
            "5\n",
            "6\n",
            "7\n",
            "7\n",
            "8\n"
          ]
        }
      ]
    },
    {
      "cell_type": "code",
      "source": [
        "yeni = [(1,2),(3,4),(5,6),(7,8)]\n",
        "for i in yeni:\n",
        "  print(i)"
      ],
      "metadata": {
        "colab": {
          "base_uri": "https://localhost:8080/"
        },
        "id": "T-EqiYvu8co4",
        "outputId": "e264a764-60e0-49e4-c596-c47fce676703"
      },
      "execution_count": 5,
      "outputs": [
        {
          "output_type": "stream",
          "name": "stdout",
          "text": [
            "(1, 2)\n",
            "(3, 4)\n",
            "(5, 6)\n",
            "(7, 8)\n"
          ]
        }
      ]
    },
    {
      "cell_type": "code",
      "source": [
        "for (i,j) in yeni:\n",
        "  print(\"i:{},j:{}\".format(i,j))\n"
      ],
      "metadata": {
        "colab": {
          "base_uri": "https://localhost:8080/"
        },
        "id": "wXw3bwIb8cq-",
        "outputId": "bd3eb479-2866-46e2-bbb3-60cca1c4e918"
      },
      "execution_count": 6,
      "outputs": [
        {
          "output_type": "stream",
          "name": "stdout",
          "text": [
            "i:1,j:2\n",
            "i:3,j:4\n",
            "i:5,j:6\n",
            "i:7,j:8\n"
          ]
        }
      ]
    },
    {
      "cell_type": "code",
      "source": [
        "for (i,j) in yeni :\n",
        "  print(\"{}+{}={}\".format(i,j,i+j))"
      ],
      "metadata": {
        "colab": {
          "base_uri": "https://localhost:8080/"
        },
        "id": "MSbqWlAQ8ctm",
        "outputId": "488c7f70-260b-4199-e4be-7ee9c40dd7ee"
      },
      "execution_count": 8,
      "outputs": [
        {
          "output_type": "stream",
          "name": "stdout",
          "text": [
            "1+2=3\n",
            "3+4=7\n",
            "5+6=11\n",
            "7+8=15\n"
          ]
        }
      ]
    },
    {
      "cell_type": "code",
      "source": [
        "dicti= {\"m1\":\"elma\",\"m2\":4,\"se3\":\"brokoli\",\"muz\":5}\n",
        "for i in dicti:\n",
        "  print(i) # sadece key ler cikar"
      ],
      "metadata": {
        "colab": {
          "base_uri": "https://localhost:8080/"
        },
        "id": "ubX82M438cmz",
        "outputId": "d5e556c1-bbb8-4e3e-a662-a35eb860727f"
      },
      "execution_count": 9,
      "outputs": [
        {
          "output_type": "stream",
          "name": "stdout",
          "text": [
            "m1\n",
            "m2\n",
            "se3\n",
            "muz\n"
          ]
        }
      ]
    },
    {
      "cell_type": "code",
      "source": [
        "for i in dicti.values():\n",
        "  print(i) # sadece value leri gosterir.\n"
      ],
      "metadata": {
        "colab": {
          "base_uri": "https://localhost:8080/"
        },
        "id": "5A14lCzw8ckM",
        "outputId": "c7bfa6b1-491b-47e2-daad-13ef7a27650f"
      },
      "execution_count": 10,
      "outputs": [
        {
          "output_type": "stream",
          "name": "stdout",
          "text": [
            "elma\n",
            "4\n",
            "brokoli\n",
            "5\n"
          ]
        }
      ]
    },
    {
      "cell_type": "code",
      "source": [
        "dicti.items()"
      ],
      "metadata": {
        "colab": {
          "base_uri": "https://localhost:8080/"
        },
        "id": "veq6_qZj8ch2",
        "outputId": "b5a7da99-7043-4fbd-c8f3-da9c8b72fc53"
      },
      "execution_count": 11,
      "outputs": [
        {
          "output_type": "execute_result",
          "data": {
            "text/plain": [
              "dict_items([('m1', 'elma'), ('m2', 4), ('se3', 'brokoli'), ('muz', 5)])"
            ]
          },
          "metadata": {},
          "execution_count": 11
        }
      ]
    },
    {
      "cell_type": "code",
      "source": [
        "dicti= {\"m1\":\"elma\",\"m2\":4,\"se3\":\"brokoli\",\"muz\":5}\n",
        "for (i,j) in dicti.items():\n",
        "  print(\"keys : {} , values : {}\".format(i,j))"
      ],
      "metadata": {
        "colab": {
          "base_uri": "https://localhost:8080/"
        },
        "id": "_rNU-TvT8cfP",
        "outputId": "7ca56688-bebf-4ea1-8daf-b70932e6fe39"
      },
      "execution_count": 18,
      "outputs": [
        {
          "output_type": "stream",
          "name": "stdout",
          "text": [
            "keys : m1 , values : elma\n",
            "keys : m2 , values : 4\n",
            "keys : se3 , values : brokoli\n",
            "keys : muz , values : 5\n"
          ]
        }
      ]
    },
    {
      "cell_type": "code",
      "source": [
        "i = 0\n",
        "while (i<10):\n",
        "  print(\"i nin degeri \",i)\n",
        "  i +=1"
      ],
      "metadata": {
        "colab": {
          "base_uri": "https://localhost:8080/"
        },
        "id": "vibJe_9K8ccp",
        "outputId": "fe36b0cf-2096-4306-e0f9-f1749719cc87"
      },
      "execution_count": 19,
      "outputs": [
        {
          "output_type": "stream",
          "name": "stdout",
          "text": [
            "i nin degeri  0\n",
            "i nin degeri  1\n",
            "i nin degeri  2\n",
            "i nin degeri  3\n",
            "i nin degeri  4\n",
            "i nin degeri  5\n",
            "i nin degeri  6\n",
            "i nin degeri  7\n",
            "i nin degeri  8\n",
            "i nin degeri  9\n"
          ]
        }
      ]
    },
    {
      "cell_type": "code",
      "source": [
        "a = 0\n",
        "while (a<10):\n",
        "  print(\"python ogreniyorum...\")\n",
        "  a +=1"
      ],
      "metadata": {
        "colab": {
          "base_uri": "https://localhost:8080/"
        },
        "id": "EVgxZt5yCgig",
        "outputId": "a987bb6d-109c-4629-f61a-96b59a5f4bca"
      },
      "execution_count": 20,
      "outputs": [
        {
          "output_type": "stream",
          "name": "stdout",
          "text": [
            "python ogreniyorum...\n",
            "python ogreniyorum...\n",
            "python ogreniyorum...\n",
            "python ogreniyorum...\n",
            "python ogreniyorum...\n",
            "python ogreniyorum...\n",
            "python ogreniyorum...\n",
            "python ogreniyorum...\n",
            "python ogreniyorum...\n",
            "python ogreniyorum...\n"
          ]
        }
      ]
    },
    {
      "cell_type": "code",
      "source": [
        "listex = [1,2,3,4,5,6,7]\n",
        "index = 0\n",
        "while index<len(listex):\n",
        "  print(\"index:\" ,index , \"liste elemani:\", listex[index])\n",
        "  index +=1"
      ],
      "metadata": {
        "colab": {
          "base_uri": "https://localhost:8080/"
        },
        "id": "yh5nHy81CglG",
        "outputId": "962bd0ea-e65c-4d2c-e3d3-726fc713892f"
      },
      "execution_count": 22,
      "outputs": [
        {
          "output_type": "stream",
          "name": "stdout",
          "text": [
            "index: 0 liste elemani: 1\n",
            "index: 1 liste elemani: 2\n",
            "index: 2 liste elemani: 3\n",
            "index: 3 liste elemani: 4\n",
            "index: 4 liste elemani: 5\n",
            "index: 5 liste elemani: 6\n",
            "index: 6 liste elemani: 7\n"
          ]
        }
      ]
    },
    {
      "cell_type": "code",
      "source": [
        "print(*range(20,1,-1))"
      ],
      "metadata": {
        "colab": {
          "base_uri": "https://localhost:8080/"
        },
        "id": "k15Y94IdCgnP",
        "outputId": "309d11ae-f9e0-4547-b6f3-0745e96c4919"
      },
      "execution_count": 23,
      "outputs": [
        {
          "output_type": "stream",
          "name": "stdout",
          "text": [
            "20 19 18 17 16 15 14 13 12 11 10 9 8 7 6 5 4 3 2\n"
          ]
        }
      ]
    },
    {
      "cell_type": "code",
      "source": [
        ""
      ],
      "metadata": {
        "id": "-qExvy96HoC_"
      },
      "execution_count": null,
      "outputs": []
    },
    {
      "cell_type": "code",
      "source": [
        "for i in range(1,10):\n",
        "  print(\"*\"*i)"
      ],
      "metadata": {
        "colab": {
          "base_uri": "https://localhost:8080/"
        },
        "id": "DdhHvTLACgpj",
        "outputId": "f8f46866-af38-42f1-dcef-5c6db077b53f"
      },
      "execution_count": 24,
      "outputs": [
        {
          "output_type": "stream",
          "name": "stdout",
          "text": [
            "*\n",
            "**\n",
            "***\n",
            "****\n",
            "*****\n",
            "******\n",
            "*******\n",
            "********\n",
            "*********\n"
          ]
        }
      ]
    },
    {
      "cell_type": "code",
      "source": [
        "while True :\n",
        "  isim = input(\"isim(cikmak icin 'q' ya basin ) :\")\n",
        "  if (isim==\"q\"):\n",
        "    print(\"programdan cikiliyor\")\n",
        "    break\n",
        "  print(\"isminiz: \",isim )  "
      ],
      "metadata": {
        "colab": {
          "base_uri": "https://localhost:8080/"
        },
        "id": "6itcAF_ECgxW",
        "outputId": "26e3a033-0d5c-4930-ed6d-ccf2caa57f41"
      },
      "execution_count": 25,
      "outputs": [
        {
          "output_type": "stream",
          "name": "stdout",
          "text": [
            "isim(cikmak icin 'q' ya basin ) :gulay\n",
            "isminiz:  gulay\n",
            "isim(cikmak icin 'q' ya basin ) :qulay\n",
            "isminiz:  qulay\n",
            "isim(cikmak icin 'q' ya basin ) :q\n",
            "programdan cikiliyor\n"
          ]
        }
      ]
    },
    {
      "cell_type": "code",
      "source": [
        ""
      ],
      "metadata": {
        "id": "datMIXieCgz_"
      },
      "execution_count": null,
      "outputs": []
    },
    {
      "cell_type": "code",
      "source": [
        ""
      ],
      "metadata": {
        "id": "vNfKWpy7Cg2T"
      },
      "execution_count": null,
      "outputs": []
    },
    {
      "cell_type": "code",
      "source": [
        ""
      ],
      "metadata": {
        "id": "cNqNKkd8Cg45"
      },
      "execution_count": null,
      "outputs": []
    },
    {
      "cell_type": "code",
      "source": [
        ""
      ],
      "metadata": {
        "id": "pE6LizLTCg7w"
      },
      "execution_count": null,
      "outputs": []
    },
    {
      "cell_type": "code",
      "source": [
        ""
      ],
      "metadata": {
        "id": "-fX4ma2KChHv"
      },
      "execution_count": null,
      "outputs": []
    },
    {
      "cell_type": "code",
      "source": [
        ""
      ],
      "metadata": {
        "id": "xIMSZpiR8cZh"
      },
      "execution_count": null,
      "outputs": []
    },
    {
      "cell_type": "code",
      "source": [
        ""
      ],
      "metadata": {
        "id": "dQR0UmHR8cRt"
      },
      "execution_count": null,
      "outputs": []
    },
    {
      "cell_type": "code",
      "source": [
        ""
      ],
      "metadata": {
        "id": "Z1XBSQ6g8cPG"
      },
      "execution_count": null,
      "outputs": []
    },
    {
      "cell_type": "code",
      "source": [
        ""
      ],
      "metadata": {
        "id": "h3SweAmc8cMw"
      },
      "execution_count": null,
      "outputs": []
    },
    {
      "cell_type": "code",
      "source": [
        ""
      ],
      "metadata": {
        "id": "T83RktXb8cKJ"
      },
      "execution_count": null,
      "outputs": []
    },
    {
      "cell_type": "code",
      "source": [
        ""
      ],
      "metadata": {
        "id": "Z0tKghM78cHR"
      },
      "execution_count": null,
      "outputs": []
    }
  ]
}