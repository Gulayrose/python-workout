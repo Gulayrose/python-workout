{
  "nbformat": 4,
  "nbformat_minor": 0,
  "metadata": {
    "colab": {
      "name": "expml",
      "provenance": [],
      "authorship_tag": "ABX9TyOi+jqSAhut51H1rFy2umwf",
      "include_colab_link": true
    },
    "kernelspec": {
      "name": "python3",
      "display_name": "Python 3"
    },
    "language_info": {
      "name": "python"
    }
  },
  "cells": [
    {
      "cell_type": "markdown",
      "metadata": {
        "id": "view-in-github",
        "colab_type": "text"
      },
      "source": [
        "<a href=\"https://colab.research.google.com/github/Gulayrose/python-workout/blob/main/expml.ipynb\" target=\"_parent\"><img src=\"https://colab.research.google.com/assets/colab-badge.svg\" alt=\"Open In Colab\"/></a>"
      ]
    },
    {
      "cell_type": "markdown",
      "source": [
        "Question 1\n",
        "\n",
        "Write a function that returns True if every consecutive sequence of ones is followed by a consecutive sequence of zeroes of the same length.\n",
        "\n",
        "same_length(\"110011100010\") ➞ True\n",
        "\n",
        "same_length(\"101010110\") ➞ False\n",
        "\n",
        "same_length(\"111100001100\") ➞ True\n",
        "\n",
        "same_length(\"111\") ➞ False\n",
        "num = \"111100001100\""
      ],
      "metadata": {
        "id": "Q_kg2Zj-aJ9e"
      }
    },
    {
      "cell_type": "code",
      "source": [
        "num = \"111100001100\"\n",
        "while ('10' in num) or ('01' in num):\n",
        "    num = num.replace('10', '').replace('01', '')\n",
        "if num == '':\n",
        "    print('True')\n",
        "else:\n",
        "    print('False')"
      ],
      "metadata": {
        "colab": {
          "base_uri": "https://localhost:8080/"
        },
        "id": "OcThzoQQaMYF",
        "outputId": "5a9dcc35-0ed4-4fce-abbc-8d87b59b17d1"
      },
      "execution_count": 6,
      "outputs": [
        {
          "output_type": "stream",
          "name": "stdout",
          "text": [
            "True\n"
          ]
        }
      ]
    },
    {
      "cell_type": "markdown",
      "source": [
        ""
      ],
      "metadata": {
        "id": "KsvP3DWia7Qm"
      }
    }
  ]
}