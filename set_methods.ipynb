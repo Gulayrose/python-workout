{
  "nbformat": 4,
  "nbformat_minor": 0,
  "metadata": {
    "colab": {
      "name": "set_methods",
      "provenance": [],
      "authorship_tag": "ABX9TyPqpZxu5tLsnXWcMu+QDPQm",
      "include_colab_link": true
    },
    "kernelspec": {
      "name": "python3",
      "display_name": "Python 3"
    },
    "language_info": {
      "name": "python"
    }
  },
  "cells": [
    {
      "cell_type": "markdown",
      "metadata": {
        "id": "view-in-github",
        "colab_type": "text"
      },
      "source": [
        "<a href=\"https://colab.research.google.com/github/Gulayrose/python-workout/blob/main/set_methods.ipynb\" target=\"_parent\"><img src=\"https://colab.research.google.com/assets/colab-badge.svg\" alt=\"Open In Colab\"/></a>"
      ]
    },
    {
      "cell_type": "code",
      "execution_count": 1,
      "metadata": {
        "id": "8AXubwmjwiwF"
      },
      "outputs": [],
      "source": [
        "liste = [1,1,1,2,2,3,3,4]\n",
        "x = set(liste)"
      ]
    },
    {
      "cell_type": "code",
      "source": [
        "#set iterable dir.for dongusu icinde gezinebiliriz."
      ],
      "metadata": {
        "id": "knaBIHF5wz64"
      },
      "execution_count": null,
      "outputs": []
    },
    {
      "cell_type": "code",
      "source": [
        "x= {\"elma\",\"armut\",\"muz\",\"kiraz\"}\n",
        "for i in x :\n",
        "  print(i)"
      ],
      "metadata": {
        "colab": {
          "base_uri": "https://localhost:8080/"
        },
        "id": "MNz8eG-ywz9g",
        "outputId": "ddf7cfea-6ddd-45ee-e4bd-ffe77edc96ea"
      },
      "execution_count": 1,
      "outputs": [
        {
          "output_type": "stream",
          "name": "stdout",
          "text": [
            "kiraz\n",
            "elma\n",
            "muz\n",
            "armut\n"
          ]
        }
      ]
    },
    {
      "cell_type": "code",
      "source": [
        "#set de index calismaz "
      ],
      "metadata": {
        "id": "vFN_LUdVw0AE"
      },
      "execution_count": null,
      "outputs": []
    },
    {
      "cell_type": "code",
      "source": [
        "#.add(x) x elemanini set e ekler"
      ],
      "metadata": {
        "id": "nDSu3I3axsPw"
      },
      "execution_count": null,
      "outputs": []
    },
    {
      "cell_type": "code",
      "source": [
        "a ={1,2,3,4,5}\n",
        "a.add(6)\n",
        "print(a)"
      ],
      "metadata": {
        "colab": {
          "base_uri": "https://localhost:8080/"
        },
        "id": "lwg2zNYlw0CL",
        "outputId": "7dce9fcc-3b7e-4e07-82e3-8cb4f04f8026"
      },
      "execution_count": 2,
      "outputs": [
        {
          "output_type": "stream",
          "name": "stdout",
          "text": [
            "{1, 2, 3, 4, 5, 6}\n"
          ]
        }
      ]
    },
    {
      "cell_type": "code",
      "source": [
        "#set1.difference(set2)  set1 den set 2 nin arasindaki farki gosterir."
      ],
      "metadata": {
        "id": "ixBNNUv3w0HH"
      },
      "execution_count": null,
      "outputs": []
    },
    {
      "cell_type": "code",
      "source": [
        "kume1 = {1,2,3,10,-2}\n",
        "kume2 ={1,2,4,5,6,8}"
      ],
      "metadata": {
        "id": "uIirM3P5w0Jc"
      },
      "execution_count": 3,
      "outputs": []
    },
    {
      "cell_type": "code",
      "source": [
        "kume1.difference(kume2)"
      ],
      "metadata": {
        "colab": {
          "base_uri": "https://localhost:8080/"
        },
        "id": "8F9IdzVSw0MD",
        "outputId": "8249c275-fef8-477c-fb39-ec5a46c7d959"
      },
      "execution_count": 4,
      "outputs": [
        {
          "output_type": "execute_result",
          "data": {
            "text/plain": [
              "{-2, 3, 10}"
            ]
          },
          "metadata": {},
          "execution_count": 4
        }
      ]
    },
    {
      "cell_type": "code",
      "source": [
        "kume2.difference(kume1)"
      ],
      "metadata": {
        "colab": {
          "base_uri": "https://localhost:8080/"
        },
        "id": "wo-3g99WyLTh",
        "outputId": "929d8d21-06df-468a-d338-b67c3fea7b5c"
      },
      "execution_count": 5,
      "outputs": [
        {
          "output_type": "execute_result",
          "data": {
            "text/plain": [
              "{4, 5, 6, 8}"
            ]
          },
          "metadata": {},
          "execution_count": 5
        }
      ]
    },
    {
      "cell_type": "code",
      "source": [
        "kume1.difference_update(kume2) # kume1 ile kume2 nin farkini sadece kume1 e attik\n",
        "kume1"
      ],
      "metadata": {
        "colab": {
          "base_uri": "https://localhost:8080/"
        },
        "id": "A9RsvnKlyLRs",
        "outputId": "c8a04d58-7169-408d-d639-612a19c2ffb1"
      },
      "execution_count": 8,
      "outputs": [
        {
          "output_type": "execute_result",
          "data": {
            "text/plain": [
              "{-2, 3, 10}"
            ]
          },
          "metadata": {},
          "execution_count": 8
        }
      ]
    },
    {
      "cell_type": "code",
      "source": [
        "# discard(x). x i kumeden eleman cikartmak icin kullanilir"
      ],
      "metadata": {
        "id": "WfT63SwbyLPF"
      },
      "execution_count": null,
      "outputs": []
    },
    {
      "cell_type": "code",
      "source": [
        "x = {1,2,3,4,5}\n",
        "x.discard(3)"
      ],
      "metadata": {
        "id": "ZayK99QnyLMv"
      },
      "execution_count": 9,
      "outputs": []
    },
    {
      "cell_type": "code",
      "source": [
        "x"
      ],
      "metadata": {
        "colab": {
          "base_uri": "https://localhost:8080/"
        },
        "id": "RvW89QzkyLKJ",
        "outputId": "2142ebb1-6d40-4800-bb07-6d8539bb50b1"
      },
      "execution_count": 10,
      "outputs": [
        {
          "output_type": "execute_result",
          "data": {
            "text/plain": [
              "{1, 2, 4, 5}"
            ]
          },
          "metadata": {},
          "execution_count": 10
        }
      ]
    },
    {
      "cell_type": "code",
      "source": [
        "kume1 = {1,2,3,10,-2}\n",
        "kume2 ={1,2,4,5,6,8}"
      ],
      "metadata": {
        "id": "5OLhIoGtze09"
      },
      "execution_count": 11,
      "outputs": []
    },
    {
      "cell_type": "code",
      "source": [
        "#intersection kumelerin kesisimini bul"
      ],
      "metadata": {
        "id": "efA-awOPzeyo"
      },
      "execution_count": null,
      "outputs": []
    },
    {
      "cell_type": "code",
      "source": [
        "kume1.intersection(kume2)"
      ],
      "metadata": {
        "colab": {
          "base_uri": "https://localhost:8080/"
        },
        "id": "PDIJbJeOzewT",
        "outputId": "0440f9b9-5f7b-4d55-b01c-1850e737c3fa"
      },
      "execution_count": 12,
      "outputs": [
        {
          "output_type": "execute_result",
          "data": {
            "text/plain": [
              "{1, 2}"
            ]
          },
          "metadata": {},
          "execution_count": 12
        }
      ]
    },
    {
      "cell_type": "code",
      "source": [
        "kume1.intersection_update(kume2) # iki kumenin kesisimini kume1 e update et.yani artik kume1 sadece kesisim kumesi "
      ],
      "metadata": {
        "id": "PlQ8G_bnzet7"
      },
      "execution_count": 13,
      "outputs": []
    },
    {
      "cell_type": "code",
      "source": [
        "kume1"
      ],
      "metadata": {
        "colab": {
          "base_uri": "https://localhost:8080/"
        },
        "id": "pMqilqIFzerm",
        "outputId": "da1d6eee-0476-4c0d-8b0e-9906d3ea289f"
      },
      "execution_count": 14,
      "outputs": [
        {
          "output_type": "execute_result",
          "data": {
            "text/plain": [
              "{1, 2}"
            ]
          },
          "metadata": {},
          "execution_count": 14
        }
      ]
    },
    {
      "cell_type": "code",
      "source": [
        "#kumeler ayrik kumemi.isdisjoint(). eger kesisim kumesi bos ise True degilse False doner"
      ],
      "metadata": {
        "id": "vkSsUSmuzem4"
      },
      "execution_count": null,
      "outputs": []
    },
    {
      "cell_type": "code",
      "source": [
        "kume1.isdisjoint(kume2)"
      ],
      "metadata": {
        "colab": {
          "base_uri": "https://localhost:8080/"
        },
        "id": "SoULWgIDzekj",
        "outputId": "2f714498-d26d-493a-dc2c-add732853a99"
      },
      "execution_count": 15,
      "outputs": [
        {
          "output_type": "execute_result",
          "data": {
            "text/plain": [
              "False"
            ]
          },
          "metadata": {},
          "execution_count": 15
        }
      ]
    },
    {
      "cell_type": "code",
      "source": [
        "kume3 = {9,11,13}\n",
        "kume1.isdisjoint(kume3)"
      ],
      "metadata": {
        "colab": {
          "base_uri": "https://localhost:8080/"
        },
        "id": "EQ3vRh77zeh7",
        "outputId": "0e79889f-4c63-480c-a31b-efb903a44be9"
      },
      "execution_count": 16,
      "outputs": [
        {
          "output_type": "execute_result",
          "data": {
            "text/plain": [
              "True"
            ]
          },
          "metadata": {},
          "execution_count": 16
        }
      ]
    },
    {
      "cell_type": "code",
      "source": [
        "#atlkume .issunset eger altkumesi ise true doner"
      ],
      "metadata": {
        "id": "o6lPO4OD0FCX"
      },
      "execution_count": null,
      "outputs": []
    },
    {
      "cell_type": "code",
      "source": [
        "set1= {1,2,3,4,5,6,7,}\n",
        "set2 = {4,6,7}\n",
        "set1.issubset(set2)"
      ],
      "metadata": {
        "colab": {
          "base_uri": "https://localhost:8080/"
        },
        "id": "MmSV_Rai0FAB",
        "outputId": "412fdf0b-3fc1-4948-d9be-79d49e46e615"
      },
      "execution_count": 17,
      "outputs": [
        {
          "output_type": "execute_result",
          "data": {
            "text/plain": [
              "False"
            ]
          },
          "metadata": {},
          "execution_count": 17
        }
      ]
    },
    {
      "cell_type": "code",
      "source": [
        "set2.issubset(set1)"
      ],
      "metadata": {
        "colab": {
          "base_uri": "https://localhost:8080/"
        },
        "id": "eW5m0gNI0E72",
        "outputId": "f14a8fac-91ec-4345-ba2c-c4609c189401"
      },
      "execution_count": 18,
      "outputs": [
        {
          "output_type": "execute_result",
          "data": {
            "text/plain": [
              "True"
            ]
          },
          "metadata": {},
          "execution_count": 18
        }
      ]
    },
    {
      "cell_type": "code",
      "source": [
        "#union() birlesim kumesi"
      ],
      "metadata": {
        "id": "7W5pO_SL0E28"
      },
      "execution_count": null,
      "outputs": []
    },
    {
      "cell_type": "code",
      "source": [
        "set1.union(set2)"
      ],
      "metadata": {
        "colab": {
          "base_uri": "https://localhost:8080/"
        },
        "id": "NlwSx61x0E0T",
        "outputId": "582371f0-2c49-4029-ca91-f177d163cb93"
      },
      "execution_count": 19,
      "outputs": [
        {
          "output_type": "execute_result",
          "data": {
            "text/plain": [
              "{1, 2, 3, 4, 5, 6, 7}"
            ]
          },
          "metadata": {},
          "execution_count": 19
        }
      ]
    },
    {
      "cell_type": "code",
      "source": [
        ""
      ],
      "metadata": {
        "id": "xkqYY3sd1Nz1"
      },
      "execution_count": null,
      "outputs": []
    },
    {
      "cell_type": "code",
      "source": [
        ""
      ],
      "metadata": {
        "id": "3rhF61vY1Nxh"
      },
      "execution_count": null,
      "outputs": []
    },
    {
      "cell_type": "code",
      "source": [
        ""
      ],
      "metadata": {
        "id": "70INPJz11NtU"
      },
      "execution_count": null,
      "outputs": []
    },
    {
      "cell_type": "code",
      "source": [
        ""
      ],
      "metadata": {
        "id": "bzvaeKVL1Nqe"
      },
      "execution_count": null,
      "outputs": []
    }
  ]
}