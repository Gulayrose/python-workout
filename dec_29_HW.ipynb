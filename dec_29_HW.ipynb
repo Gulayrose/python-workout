{
  "nbformat": 4,
  "nbformat_minor": 0,
  "metadata": {
    "colab": {
      "name": "dec_29 HW ",
      "provenance": [],
      "authorship_tag": "ABX9TyMdicZ2lE+MQFhvSUtOecvM",
      "include_colab_link": true
    },
    "kernelspec": {
      "name": "python3",
      "display_name": "Python 3"
    },
    "language_info": {
      "name": "python"
    }
  },
  "cells": [
    {
      "cell_type": "markdown",
      "metadata": {
        "id": "view-in-github",
        "colab_type": "text"
      },
      "source": [
        "<a href=\"https://colab.research.google.com/github/Gulayrose/python-workout/blob/main/dec_29_HW.ipynb\" target=\"_parent\"><img src=\"https://colab.research.google.com/assets/colab-badge.svg\" alt=\"Open In Colab\"/></a>"
      ]
    },
    {
      "cell_type": "markdown",
      "source": [
        "Kullanıcıdan aldığınız bir sayının mükemmel olup olmadığını bulmaya çalışın.\n",
        "\n",
        "Bir sayının kendi hariç bölenlerinin toplamı kendine eşitse bu sayıya \"mükemmel sayı\" denir. Örnek olarak, 6 mükemmel bir sayıdır. (1 + 2 + 3 = 6)"
      ],
      "metadata": {
        "id": "TtBAYEd5bP5T"
      }
    },
    {
      "cell_type": "code",
      "source": [
        "sayı = int(input(\"Sayı:\"))\n",
        "\n",
        "i = 1\n",
        "toplam = 0\n",
        "while (i < sayı):\n",
        "    if (sayı % i == 0):\n",
        "        toplam += i\n",
        "    i += 1\n",
        "\n",
        "if (toplam == sayı):\n",
        "    print(sayı,\"mükemmel bir sayıdır.\")\n",
        "else:\n",
        "    print(sayı,\"mükemmel bir sayı değildir.\")"
      ],
      "metadata": {
        "colab": {
          "base_uri": "https://localhost:8080/"
        },
        "id": "MHI_QVmPUzWk",
        "outputId": "055d2bfc-9f05-4f02-f9ba-7174364f958b"
      },
      "execution_count": 2,
      "outputs": [
        {
          "output_type": "stream",
          "name": "stdout",
          "text": [
            "Sayı:45\n",
            "45 mükemmel bir sayı değildir.\n"
          ]
        }
      ]
    },
    {
      "cell_type": "code",
      "source": [
        ""
      ],
      "metadata": {
        "id": "Wit1LskRV6AC"
      },
      "execution_count": null,
      "outputs": []
    },
    {
      "cell_type": "markdown",
      "source": [
        "Buradaki problemin çözümünü derslerimizde özellikle öğrenmedik. Burada mantık yürüterek ve list comprehension kullanarak 1'den 100'e kadar olan sayılardan sadece çift sayıları bir listeye atmayı yapmayı çalışın."
      ],
      "metadata": {
        "id": "zeb5Zc3Hcn3X"
      }
    },
    {
      "cell_type": "code",
      "source": [
        "liste = [i for i in range(1,101) if i%2 == 0]\n",
        "print(liste)"
      ],
      "metadata": {
        "colab": {
          "base_uri": "https://localhost:8080/"
        },
        "id": "tuF9dBh6bSIB",
        "outputId": "8e6d2205-ebe6-4f42-e1a1-1fcf5ff7d9f2"
      },
      "execution_count": 7,
      "outputs": [
        {
          "output_type": "stream",
          "name": "stdout",
          "text": [
            "[2, 4, 6, 8, 10, 12, 14, 16, 18, 20, 22, 24, 26, 28, 30, 32, 34, 36, 38, 40, 42, 44, 46, 48, 50, 52, 54, 56, 58, 60, 62, 64, 66, 68, 70, 72, 74, 76, 78, 80, 82, 84, 86, 88, 90, 92, 94, 96, 98, 100]\n"
          ]
        }
      ]
    },
    {
      "cell_type": "code",
      "source": [
        ""
      ],
      "metadata": {
        "id": "wfexTuGUbSLJ"
      },
      "execution_count": null,
      "outputs": []
    },
    {
      "cell_type": "markdown",
      "source": [
        "Kullanıcıdan aldığınız bir sayının \"Armstrong\" sayısı olup olmadığını bulmaya çalışın.\n",
        "\n",
        "Örnek olarak, Bir sayı eğer 4 basamaklı ise ve oluşturan rakamlardan herbirinin 4. kuvvetinin toplamı( 3 basamaklı sayılar için 3.kuvveti ) o sayıya eşitse bu sayıya \"Armstrong\" sayısı denir.\n",
        "\n",
        "Örnek olarak : 1634 = 1^4 + 6^4 + 3^4 + 4^4"
      ],
      "metadata": {
        "id": "3NxyEhfCd-QM"
      }
    },
    {
      "cell_type": "code",
      "source": [
        "number = input(\"Please enter a number: \")\n",
        "toplam = sum([int(i) ** len(number) for i in number])\n",
        "if int(number) == toplam :\n",
        "  print(number, \"is a armstrong number\")\n",
        "else:\n",
        "  print(number, \"is not a armstrong number\")"
      ],
      "metadata": {
        "colab": {
          "base_uri": "https://localhost:8080/"
        },
        "id": "GzZOvZsKbSVT",
        "outputId": "5dfc8e7c-d910-4974-a03e-724744ffbd79"
      },
      "execution_count": 5,
      "outputs": [
        {
          "output_type": "stream",
          "name": "stdout",
          "text": [
            "Please enter a number: 1634\n",
            "1634 is a armstrong number\n"
          ]
        }
      ]
    },
    {
      "cell_type": "markdown",
      "source": [
        "1'den 10'kadar olan sayılarla ekrana çarpım tablosu bastırmaya çalışın.\n",
        "\n",
        "İpucu: İç içe 2 tane for döngüsü kullanın. Aynı zamanda sayıları range() fonksiyonunu kullanarak elde edin."
      ],
      "metadata": {
        "id": "amAQfNAxfuPs"
      }
    },
    {
      "cell_type": "code",
      "source": [
        "\n",
        "for i in range(1,11):\n",
        "  print(\"****************\")\n",
        "  for j in range(1,11):\n",
        "    print(\"{} x {} = {} \".format(i,j,i*j))\n",
        "\n"
      ],
      "metadata": {
        "colab": {
          "base_uri": "https://localhost:8080/"
        },
        "id": "OxVWVNh-bSYK",
        "outputId": "964c0cfb-88c5-46b6-e00e-aa7acf0165d5"
      },
      "execution_count": 19,
      "outputs": [
        {
          "output_type": "stream",
          "name": "stdout",
          "text": [
            "****************\n",
            "1 x 1 = 1 \n",
            "1 x 2 = 2 \n",
            "1 x 3 = 3 \n",
            "1 x 4 = 4 \n",
            "1 x 5 = 5 \n",
            "1 x 6 = 6 \n",
            "1 x 7 = 7 \n",
            "1 x 8 = 8 \n",
            "1 x 9 = 9 \n",
            "1 x 10 = 10 \n",
            "****************\n",
            "2 x 1 = 2 \n",
            "2 x 2 = 4 \n",
            "2 x 3 = 6 \n",
            "2 x 4 = 8 \n",
            "2 x 5 = 10 \n",
            "2 x 6 = 12 \n",
            "2 x 7 = 14 \n",
            "2 x 8 = 16 \n",
            "2 x 9 = 18 \n",
            "2 x 10 = 20 \n",
            "****************\n",
            "3 x 1 = 3 \n",
            "3 x 2 = 6 \n",
            "3 x 3 = 9 \n",
            "3 x 4 = 12 \n",
            "3 x 5 = 15 \n",
            "3 x 6 = 18 \n",
            "3 x 7 = 21 \n",
            "3 x 8 = 24 \n",
            "3 x 9 = 27 \n",
            "3 x 10 = 30 \n",
            "****************\n",
            "4 x 1 = 4 \n",
            "4 x 2 = 8 \n",
            "4 x 3 = 12 \n",
            "4 x 4 = 16 \n",
            "4 x 5 = 20 \n",
            "4 x 6 = 24 \n",
            "4 x 7 = 28 \n",
            "4 x 8 = 32 \n",
            "4 x 9 = 36 \n",
            "4 x 10 = 40 \n",
            "****************\n",
            "5 x 1 = 5 \n",
            "5 x 2 = 10 \n",
            "5 x 3 = 15 \n",
            "5 x 4 = 20 \n",
            "5 x 5 = 25 \n",
            "5 x 6 = 30 \n",
            "5 x 7 = 35 \n",
            "5 x 8 = 40 \n",
            "5 x 9 = 45 \n",
            "5 x 10 = 50 \n",
            "****************\n",
            "6 x 1 = 6 \n",
            "6 x 2 = 12 \n",
            "6 x 3 = 18 \n",
            "6 x 4 = 24 \n",
            "6 x 5 = 30 \n",
            "6 x 6 = 36 \n",
            "6 x 7 = 42 \n",
            "6 x 8 = 48 \n",
            "6 x 9 = 54 \n",
            "6 x 10 = 60 \n",
            "****************\n",
            "7 x 1 = 7 \n",
            "7 x 2 = 14 \n",
            "7 x 3 = 21 \n",
            "7 x 4 = 28 \n",
            "7 x 5 = 35 \n",
            "7 x 6 = 42 \n",
            "7 x 7 = 49 \n",
            "7 x 8 = 56 \n",
            "7 x 9 = 63 \n",
            "7 x 10 = 70 \n",
            "****************\n",
            "8 x 1 = 8 \n",
            "8 x 2 = 16 \n",
            "8 x 3 = 24 \n",
            "8 x 4 = 32 \n",
            "8 x 5 = 40 \n",
            "8 x 6 = 48 \n",
            "8 x 7 = 56 \n",
            "8 x 8 = 64 \n",
            "8 x 9 = 72 \n",
            "8 x 10 = 80 \n",
            "****************\n",
            "9 x 1 = 9 \n",
            "9 x 2 = 18 \n",
            "9 x 3 = 27 \n",
            "9 x 4 = 36 \n",
            "9 x 5 = 45 \n",
            "9 x 6 = 54 \n",
            "9 x 7 = 63 \n",
            "9 x 8 = 72 \n",
            "9 x 9 = 81 \n",
            "9 x 10 = 90 \n",
            "****************\n",
            "10 x 1 = 10 \n",
            "10 x 2 = 20 \n",
            "10 x 3 = 30 \n",
            "10 x 4 = 40 \n",
            "10 x 5 = 50 \n",
            "10 x 6 = 60 \n",
            "10 x 7 = 70 \n",
            "10 x 8 = 80 \n",
            "10 x 9 = 90 \n",
            "10 x 10 = 100 \n"
          ]
        }
      ]
    },
    {
      "cell_type": "markdown",
      "source": [
        "Her bir while döngüsünde kullanıcıdan bir sayı alın ve kullanıcının girdiği sayıları \"toplam\" isimli bir değişkene ekleyin. Kullanıcı \"q\" tuşuna bastığı zaman döngüyü sonlandırın ve ekrana \"toplam değişkenini\" bastırın.\n",
        "\n",
        "İpucu : while döngüsünü sonsuz koşulla başlatın ve kullanıcı q'ya basarsa döngüyü break ile sonlandırın."
      ],
      "metadata": {
        "id": "2CFJt32Zgwsn"
      }
    },
    {
      "cell_type": "code",
      "source": [
        "toplam = 0\n",
        "\n",
        "while True:\n",
        "    \n",
        "    sayı = input(\"Sayı:\")\n",
        "    \n",
        "    if (sayı == \"q\"):\n",
        "        break\n",
        "    sayı = int(sayı)\n",
        "    \n",
        "    toplam += sayı\n",
        "    \n",
        "print(\"Girdiğiniz Sayıların Toplamı:\",toplam)\n"
      ],
      "metadata": {
        "colab": {
          "base_uri": "https://localhost:8080/"
        },
        "id": "VeaKrr8GhzD6",
        "outputId": "731f7790-817a-4d05-bdf8-9fcb30726626"
      },
      "execution_count": 11,
      "outputs": [
        {
          "output_type": "stream",
          "name": "stdout",
          "text": [
            "Sayı:6\n",
            "Sayı:7\n",
            "Sayı:4\n",
            "Sayı:8\n",
            "Sayı:q\n",
            "Girdiğiniz Sayıların Toplamı: 25\n"
          ]
        }
      ]
    },
    {
      "cell_type": "code",
      "source": [
        "top = 0\n",
        "while True :\n",
        "  sayi = input(\"sayi :\")\n",
        "  if (sayi == \"q\") :\n",
        "    break\n",
        "  sayi =int(sayi)\n",
        "  top += sayi\n",
        "print(\"Girdiginiz sayilarin toplami\",top)   "
      ],
      "metadata": {
        "colab": {
          "base_uri": "https://localhost:8080/"
        },
        "id": "cJJLdBRpgrFH",
        "outputId": "6c1d5dbe-1893-429f-dd84-746275d0d553"
      },
      "execution_count": 13,
      "outputs": [
        {
          "output_type": "stream",
          "name": "stdout",
          "text": [
            "sayi :5\n",
            "sayi :8\n",
            "sayi :9\n",
            "sayi :q\n",
            "Girdiginiz sayilarin toplami 22\n"
          ]
        }
      ]
    },
    {
      "cell_type": "markdown",
      "source": [
        "1'den 100'e kadar olan sayılardan sadece 3'e bölünen sayıları ekrana bastırın. Bu işlemi continue ile yapmaya çalışın."
      ],
      "metadata": {
        "id": "muO9MzmygzDK"
      }
    },
    {
      "cell_type": "code",
      "source": [
        "liste = [i for i in range(1,101) if i%3 == 0]\n",
        "print(liste)"
      ],
      "metadata": {
        "colab": {
          "base_uri": "https://localhost:8080/"
        },
        "id": "srkQwyKygrCR",
        "outputId": "7adff476-30de-4639-9df5-66702916b186"
      },
      "execution_count": 14,
      "outputs": [
        {
          "output_type": "stream",
          "name": "stdout",
          "text": [
            "[3, 6, 9, 12, 15, 18, 21, 24, 27, 30, 33, 36, 39, 42, 45, 48, 51, 54, 57, 60, 63, 66, 69, 72, 75, 78, 81, 84, 87, 90, 93, 96, 99]\n"
          ]
        }
      ]
    },
    {
      "cell_type": "markdown",
      "source": [
        "PERFECT NUMBER\n"
      ],
      "metadata": {
        "id": "27OBTIBrW8Fb"
      }
    },
    {
      "cell_type": "code",
      "source": [
        "sayi = int(input(\"sayi:\"))\n",
        "i = 1\n",
        "top = 0\n",
        "while (i<sayi):\n",
        "  if (sayi % i == 0):\n",
        "    top +=i\n",
        "  i +=1\n",
        "if top==sayi:\n",
        "  print(\"mukkemmel sayi\")\n",
        "else :\n",
        "  print(\"mukkemmel sayi degi\")      "
      ],
      "metadata": {
        "colab": {
          "base_uri": "https://localhost:8080/"
        },
        "id": "pD2qo_kGV8oT",
        "outputId": "61e236bb-db4e-4108-839c-151fff1596bd"
      },
      "execution_count": 4,
      "outputs": [
        {
          "output_type": "stream",
          "name": "stdout",
          "text": [
            "sayi:6\n",
            "mukkemmel sayi\n"
          ]
        }
      ]
    },
    {
      "cell_type": "code",
      "source": [
        ""
      ],
      "metadata": {
        "id": "V4vs1-lEV8j1"
      },
      "execution_count": null,
      "outputs": []
    },
    {
      "cell_type": "code",
      "source": [
        ""
      ],
      "metadata": {
        "id": "KWk5oqqWV8he"
      },
      "execution_count": null,
      "outputs": []
    },
    {
      "cell_type": "code",
      "source": [
        ""
      ],
      "metadata": {
        "id": "pN4fd8iFV8fK"
      },
      "execution_count": null,
      "outputs": []
    },
    {
      "cell_type": "code",
      "source": [
        ""
      ],
      "metadata": {
        "id": "HvpWuM71V8ci"
      },
      "execution_count": null,
      "outputs": []
    },
    {
      "cell_type": "code",
      "source": [
        ""
      ],
      "metadata": {
        "id": "QAR5qBlHV8Xl"
      },
      "execution_count": null,
      "outputs": []
    },
    {
      "cell_type": "code",
      "source": [
        ""
      ],
      "metadata": {
        "id": "nUMtkTguV8VQ"
      },
      "execution_count": null,
      "outputs": []
    }
  ]
}