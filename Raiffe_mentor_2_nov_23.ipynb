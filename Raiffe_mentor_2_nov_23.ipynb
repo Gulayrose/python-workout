{
  "nbformat": 4,
  "nbformat_minor": 0,
  "metadata": {
    "colab": {
      "name": "Raiffe mentor 2 nov 23 ",
      "provenance": [],
      "include_colab_link": true
    },
    "kernelspec": {
      "display_name": "Python 3",
      "language": "python",
      "name": "python3"
    },
    "language_info": {
      "codemirror_mode": {
        "name": "ipython",
        "version": 3
      },
      "file_extension": ".py",
      "mimetype": "text/x-python",
      "name": "python",
      "nbconvert_exporter": "python",
      "pygments_lexer": "ipython3",
      "version": "3.8.5"
    }
  },
  "cells": [
    {
      "cell_type": "markdown",
      "metadata": {
        "id": "view-in-github",
        "colab_type": "text"
      },
      "source": [
        "<a href=\"https://colab.research.google.com/github/Gulayrose/python-workout/blob/main/Raiffe_mentor_2_nov_23.ipynb\" target=\"_parent\"><img src=\"https://colab.research.google.com/assets/colab-badge.svg\" alt=\"Open In Colab\"/></a>"
      ]
    },
    {
      "cell_type": "markdown",
      "metadata": {
        "id": "DpXjn6Vd9Yw6"
      },
      "source": [
        "1- Write a program to prompt for a score between 0.0 and 1.0. If the score is out of range, print an error. If the score is between 0.0 and 1.0, print a grade using the following table: Score Grade\n",
        "\n",
        "0.9 A\n",
        "\n",
        "0.8 B\n",
        "\n",
        "0.7 C\n",
        "\n",
        "0.6 D\n",
        "\n",
        "0.6 F\n",
        "\n",
        "If the user enters a value out of range, print a suitable error message and exit. For the test, enter a score of 0.85"
      ]
    },
    {
      "cell_type": "code",
      "metadata": {
        "colab": {
          "base_uri": "https://localhost:8080/",
          "height": 130
        },
        "id": "1nsNlvtNUizv",
        "outputId": "e33ccb09-b3e9-4caf-829d-0918f86c071a"
      },
      "source": [
        "s = float(input('enter a value :'))\n",
        "if 0.0 <= s <=1.0 :\n",
        "  if s >= 0.9:\n",
        "    print(\"A\")\n",
        "  elif s >= 0.8:\n",
        "    print(\"B\")\n",
        "  elif s >= 0.7 :\n",
        "    print (\"C\")\n",
        "  elif  s >=0.6 :\n",
        "    print(\"D\")\n",
        "  elif s    "
      ],
      "execution_count": 1,
      "outputs": [
        {
          "output_type": "error",
          "ename": "SyntaxError",
          "evalue": "ignored",
          "traceback": [
            "\u001b[0;36m  File \u001b[0;32m\"<ipython-input-1-a89153d81016>\"\u001b[0;36m, line \u001b[0;32m2\u001b[0m\n\u001b[0;31m    if 0.0 <= s <=1.0\u001b[0m\n\u001b[0m                     ^\u001b[0m\n\u001b[0;31mSyntaxError\u001b[0m\u001b[0;31m:\u001b[0m invalid syntax\n"
          ]
        }
      ]
    },
    {
      "cell_type": "markdown",
      "metadata": {
        "id": "k7W9-BOA9n7O"
      },
      "source": [
        "2- Yazi olarak girilen string ifadenin içindeki harfler tamamen büyük veya tamamen küçük ise True, küçük ve büyük harlerden oluşmuş ise False veren bir fonksiyon yazalım."
      ]
    },
    {
      "cell_type": "code",
      "metadata": {
        "colab": {
          "base_uri": "https://localhost:8080/"
        },
        "id": "6nyYBmedUizw",
        "outputId": "b373c5cd-a82e-44a7-d4ea-4d9c2fb4a982"
      },
      "source": [
        "def buyuk_kucuk(yazi) :\n",
        "    return yazi.upper() == yazi or yazi.lower() == yazi \n",
        "buyuk_kucuk(\"Ali\") # burda aldigimiz stringi buyuttuk ve kucuttuk daah sonra yazimiza esit mi yada degilmi diye bakiyoruz "
      ],
      "execution_count": 6,
      "outputs": [
        {
          "output_type": "execute_result",
          "data": {
            "text/plain": [
              "False"
            ]
          },
          "metadata": {},
          "execution_count": 6
        }
      ]
    },
    {
      "cell_type": "code",
      "metadata": {
        "id": "j5GMuM1ZWGpl"
      },
      "source": [
        ""
      ],
      "execution_count": null,
      "outputs": []
    },
    {
      "cell_type": "markdown",
      "metadata": {
        "id": "6PFwqEFO9nxy"
      },
      "source": [
        "3- Sayıyı kalansız bölen sayıları bulan bir fonksiyon yazalım"
      ]
    },
    {
      "cell_type": "code",
      "metadata": {
        "id": "YM4vJMsjUizw"
      },
      "source": [
        "def kalansiz_bolunenler(sayi):\n",
        "   a = []\n",
        "   for i in range(1,sayi+1):\n",
        "      if sayi % i == 0 :\n",
        "         a.append(i)\n",
        "   return a      \n"
      ],
      "execution_count": 7,
      "outputs": []
    },
    {
      "cell_type": "code",
      "metadata": {
        "colab": {
          "base_uri": "https://localhost:8080/"
        },
        "id": "omz0etn5Zmrx",
        "outputId": "bafa8dae-4b00-4598-9600-15682904e0ff"
      },
      "source": [
        "kalansiz_bolunenler(250)"
      ],
      "execution_count": 8,
      "outputs": [
        {
          "output_type": "execute_result",
          "data": {
            "text/plain": [
              "[1, 2, 5, 10, 25, 50, 125, 250]"
            ]
          },
          "metadata": {},
          "execution_count": 8
        }
      ]
    },
    {
      "cell_type": "code",
      "metadata": {
        "id": "zS0u3chuZxX0"
      },
      "source": [
        "#list comprensition ile yapimi\n",
        "def kalansiz(sayi):\n",
        "  return [i for i in range(1,sayi+1) if sayi % i == 0]"
      ],
      "execution_count": 9,
      "outputs": []
    },
    {
      "cell_type": "code",
      "metadata": {
        "colab": {
          "base_uri": "https://localhost:8080/"
        },
        "id": "a1j7r60AaNOm",
        "outputId": "3fc81d3b-6f84-4b66-8bb4-85cc63e5c52d"
      },
      "source": [
        "kalansiz(250)"
      ],
      "execution_count": 10,
      "outputs": [
        {
          "output_type": "execute_result",
          "data": {
            "text/plain": [
              "[1, 2, 5, 10, 25, 50, 125, 250]"
            ]
          },
          "metadata": {},
          "execution_count": 10
        }
      ]
    },
    {
      "cell_type": "markdown",
      "metadata": {
        "id": "rgWFi-lZ9noI"
      },
      "source": [
        "4- Cümlenin içindeki sesli harfleri kaldıran bir fonksiyon yazalım.\n",
        "print(sessiz_yap(\"Hayat beni neden yoruyosun?:)\")) --> hyt bn ndn yrysn?:)"
      ]
    },
    {
      "cell_type": "code",
      "metadata": {
        "id": "sGIWWsgyUizw"
      },
      "source": [
        "def sessiz_yap(cumle):\n",
        "   sesliler= \"a,e,i,o,u,A,E,I,U,O\" # ayni olan kelimeleri tekrar almamak icin set kullanacagiz\n",
        "   for i in set(cumle) :\n",
        "       if i in sesliler:\n",
        "          cumle = cumle.replace(i,'')\n",
        "   return cumle      \n"
      ],
      "execution_count": 21,
      "outputs": []
    },
    {
      "cell_type": "code",
      "metadata": {
        "colab": {
          "base_uri": "https://localhost:8080/",
          "height": 35
        },
        "id": "rl1k3VwycFeo",
        "outputId": "da6bd52a-f410-46e5-f470-4122c8f0a7be"
      },
      "source": [
        "sessiz_yap(\"Hayat beni neden yoruyorsun?\")"
      ],
      "execution_count": 22,
      "outputs": [
        {
          "output_type": "execute_result",
          "data": {
            "application/vnd.google.colaboratory.intrinsic+json": {
              "type": "string"
            },
            "text/plain": [
              "'Hyt bn ndn yryrsn?'"
            ]
          },
          "metadata": {},
          "execution_count": 22
        }
      ]
    },
    {
      "cell_type": "code",
      "metadata": {
        "colab": {
          "base_uri": "https://localhost:8080/",
          "height": 35
        },
        "id": "UAhEQs4xcKJZ",
        "outputId": "fe870587-2e62-4189-e709-29f5d3817314"
      },
      "source": [
        "def sessizlik(cumle):\n",
        "  sesliler = \"a,e,i,o,u,A,E,I,U,O\" \n",
        "  yeni = \"\"\n",
        "  for i in cumle :\n",
        "     if i not in sesliler :\n",
        "        yeni += i\n",
        "  return yeni\n",
        "sessizlik (\"Hayat beni neden yoruyorsun?\")  \n",
        "  "
      ],
      "execution_count": 27,
      "outputs": [
        {
          "output_type": "execute_result",
          "data": {
            "application/vnd.google.colaboratory.intrinsic+json": {
              "type": "string"
            },
            "text/plain": [
              "'Hyt bn ndn yryrsn?'"
            ]
          },
          "metadata": {},
          "execution_count": 27
        }
      ]
    },
    {
      "cell_type": "markdown",
      "metadata": {
        "id": "yxwOQSQe9ne1"
      },
      "source": [
        "5- Tarihi yüzyıla çeviren bir fonksiyon yazalım.\n",
        "print(yüzyıl_yap(1738)) --> 18. yüzyıl"
      ]
    },
    {
      "cell_type": "code",
      "metadata": {
        "colab": {
          "base_uri": "https://localhost:8080/",
          "height": 35
        },
        "id": "y9DTEBacUizx",
        "outputId": "7cd72ecf-d007-4050-f86c-494870afa254"
      },
      "source": [
        "def yuzyil_yap (yil):\n",
        "   return f'{(yil//100)+1} . yuzyil'\n",
        "yuzyil_yap(1500)   "
      ],
      "execution_count": 28,
      "outputs": [
        {
          "output_type": "execute_result",
          "data": {
            "application/vnd.google.colaboratory.intrinsic+json": {
              "type": "string"
            },
            "text/plain": [
              "'16 . yuzyil'"
            ]
          },
          "metadata": {},
          "execution_count": 28
        }
      ]
    },
    {
      "cell_type": "markdown",
      "metadata": {
        "id": "Y4qLf-_89nL4"
      },
      "source": [
        "6- Yazının içersindeki kelimelerin ilk ve son karakterleri sabit tutup diğer karakterleri yerine - çizgi koyan fonksiyon yazalım.\n",
        "print(dönüstür(\"hello world\")) --> h---o w---d "
      ]
    },
    {
      "cell_type": "code",
      "metadata": {
        "id": "4N9t9X7OUizx"
      },
      "source": [
        "def donusutur(yazi):\n",
        "  liste = yazi.split()\n",
        "  yeni = ''\n",
        "  for i in liste :\n",
        "     for k in range(len(i)):\n",
        "       if k == 0 :\n",
        "         yeni += i[k]\n",
        "       elif k == len(i)-1 :\n",
        "         yeni += i[k] + ''\n",
        "       else :\n",
        "          yeni += '-'\n",
        "  return yeni.strip()         \n"
      ],
      "execution_count": 31,
      "outputs": []
    },
    {
      "cell_type": "code",
      "metadata": {
        "colab": {
          "base_uri": "https://localhost:8080/",
          "height": 35
        },
        "id": "8WxectGNfYJW",
        "outputId": "93fb6edc-ba68-4509-f8c7-d8c3cf12ec3a"
      },
      "source": [
        "donusutur('hellloooooo world')"
      ],
      "execution_count": 33,
      "outputs": [
        {
          "output_type": "execute_result",
          "data": {
            "application/vnd.google.colaboratory.intrinsic+json": {
              "type": "string"
            },
            "text/plain": [
              "'h---------ow---d'"
            ]
          },
          "metadata": {},
          "execution_count": 33
        }
      ]
    },
    {
      "cell_type": "code",
      "metadata": {
        "colab": {
          "base_uri": "https://localhost:8080/"
        },
        "id": "MKvkMwPsgB-d",
        "outputId": "eefd9eeb-b7f7-4c96-e608-907e1ef393b9"
      },
      "source": [
        "kelime = \"Hello world\" # input(\"Lütfen bir cümle girin : \")\n",
        "kelime = list(kelime.split())\n",
        "n_kelime = \"\"\n",
        "for i in kelime:\n",
        "  n_kelime += i[0]+(len(i)-2)*\"-\"+i[-1]+\" \"\n",
        "print(n_kelime)"
      ],
      "execution_count": 34,
      "outputs": [
        {
          "output_type": "stream",
          "name": "stdout",
          "text": [
            "H---o w---d \n"
          ]
        }
      ]
    },
    {
      "cell_type": "code",
      "metadata": {
        "colab": {
          "base_uri": "https://localhost:8080/",
          "height": 35
        },
        "id": "apVkxdUJgVBh",
        "outputId": "738c44a8-ebe2-489f-d559-5fb40ed367bb"
      },
      "source": [
        "def conver(sentence):\n",
        "  listem=sentence.split()\n",
        "  newss = \"\"\n",
        "  for i in listem:\n",
        "    for k in range(len(i)):\n",
        "      if k ==0:\n",
        "        newss += i[k]\n",
        "      elif k == len(i)-1:\n",
        "        newss += i[k] + \"\"\n",
        "      else:\n",
        "        newss +=\"-\"\n",
        "  return newss.strip()\n",
        "conver(\"My name is Yusuf\")"
      ],
      "execution_count": 35,
      "outputs": [
        {
          "output_type": "execute_result",
          "data": {
            "application/vnd.google.colaboratory.intrinsic+json": {
              "type": "string"
            },
            "text/plain": [
              "'Myn--eisY---f'"
            ]
          },
          "metadata": {},
          "execution_count": 35
        }
      ]
    },
    {
      "cell_type": "markdown",
      "metadata": {
        "id": "mEPc7d0Z9nAI"
      },
      "source": [
        "7- Her girdi listesinde iki tanesi hariç her rakam en az bir kere tekrarlıyor.iki benzersiz sayıyı döndüren bir fonksiyon yazalım.\n",
        "benzersizi_bul([2,2,3,11,3,6,5]) --> [6, 5]  # 11 de 2 tane 1 var"
      ]
    },
    {
      "cell_type": "code",
      "metadata": {
        "id": "ee9m7hTaUizx"
      },
      "source": [
        "def benzersizi_bul(a):\n",
        "   b = ''\n",
        "   n = []\n",
        "   for i in a :\n",
        "      b +=str(i)\n",
        "   for i in set(b):\n",
        "      for j in a :\n",
        "         if b.count(i)==1 and i in str(j):   \n",
        "            n.append(j)\n",
        "   return list(set(n))         \n"
      ],
      "execution_count": 40,
      "outputs": []
    },
    {
      "cell_type": "code",
      "metadata": {
        "colab": {
          "base_uri": "https://localhost:8080/"
        },
        "id": "QnZ1nmVajW_m",
        "outputId": "4782773d-e52b-486f-f859-e12448202fd9"
      },
      "source": [
        "benzersizi_bul([2,2,3,11,67,3,5])   "
      ],
      "execution_count": 42,
      "outputs": [
        {
          "output_type": "execute_result",
          "data": {
            "text/plain": [
              "[67, 5]"
            ]
          },
          "metadata": {},
          "execution_count": 42
        }
      ]
    },
    {
      "cell_type": "code",
      "metadata": {
        "colab": {
          "base_uri": "https://localhost:8080/"
        },
        "id": "As-udEeOjwfS",
        "outputId": "786784ea-9394-41b6-c8b3-7feee61f451d"
      },
      "source": [
        "a = [2,2,3,11,3,66,57]\n",
        "set(a)"
      ],
      "execution_count": 44,
      "outputs": [
        {
          "output_type": "execute_result",
          "data": {
            "text/plain": [
              "{2, 3, 11, 57, 66}"
            ]
          },
          "metadata": {},
          "execution_count": 44
        }
      ]
    },
    {
      "cell_type": "code",
      "metadata": {
        "colab": {
          "base_uri": "https://localhost:8080/"
        },
        "id": "k5QwMiFCjoNu",
        "outputId": "5ca66386-f873-40d7-a3ba-2d9549f7d700"
      },
      "source": [
        "list(map(str,a))"
      ],
      "execution_count": 45,
      "outputs": [
        {
          "output_type": "execute_result",
          "data": {
            "text/plain": [
              "['2', '2', '3', '11', '3', '66', '57']"
            ]
          },
          "metadata": {},
          "execution_count": 45
        }
      ]
    },
    {
      "cell_type": "code",
      "metadata": {
        "colab": {
          "base_uri": "https://localhost:8080/",
          "height": 130
        },
        "id": "xHu1aJHijdaa",
        "outputId": "8d65d196-ce8d-4bea-9178-6189ae98899c"
      },
      "source": [
        "def essiz(a):\n",
        "   b = ''.join(map(str,a))\n",
        "   return for i in set(b) for j in a if b.count(i) == 1 and i in str(j)\n",
        "essiz([2,2,3,11,67,3,5])  "
      ],
      "execution_count": 47,
      "outputs": [
        {
          "output_type": "error",
          "ename": "SyntaxError",
          "evalue": "ignored",
          "traceback": [
            "\u001b[0;36m  File \u001b[0;32m\"<ipython-input-47-9fb87bd9d775>\"\u001b[0;36m, line \u001b[0;32m3\u001b[0m\n\u001b[0;31m    return for i in set(b) for j in a if b.count(i) == 1 and i in str(j)\u001b[0m\n\u001b[0m             ^\u001b[0m\n\u001b[0;31mSyntaxError\u001b[0m\u001b[0;31m:\u001b[0m invalid syntax\n"
          ]
        }
      ]
    },
    {
      "cell_type": "code",
      "metadata": {
        "colab": {
          "base_uri": "https://localhost:8080/",
          "height": 35
        },
        "id": "w6-FYEjdjdJc",
        "outputId": "4ab0f2f9-bd8d-45ce-de4c-fe57c9094983"
      },
      "source": [
        ""
      ],
      "execution_count": 49,
      "outputs": [
        {
          "output_type": "execute_result",
          "data": {
            "application/vnd.google.colaboratory.intrinsic+json": {
              "type": "string"
            },
            "text/plain": [
              "'merhaba'"
            ]
          },
          "metadata": {},
          "execution_count": 49
        }
      ]
    },
    {
      "cell_type": "markdown",
      "metadata": {
        "id": "GMgm2Jhu9mQj"
      },
      "source": [
        "8- Bir stringi(kelime) alan ve birbirini izleyen aynı harfleri çıkaran bir fonksiyon oluşturun.\n",
        "print(cıkar(\"mmmeeerrhhhaaabbbaaa\")) --> merhaba"
      ]
    },
    {
      "cell_type": "code",
      "metadata": {
        "id": "-NnZEArIUizy"
      },
      "source": [
        " def cikar(kelime):\n",
        "   yeni = ''\n",
        "   for i in range(len(kelime)-1):\n",
        "      if kelime[i] != kelime[i+1] :\n",
        "         yeni += kelime[i]\n",
        "   yeni += kelime[-1]\n",
        "   return yeni      "
      ],
      "execution_count": 50,
      "outputs": []
    },
    {
      "cell_type": "code",
      "metadata": {
        "colab": {
          "base_uri": "https://localhost:8080/",
          "height": 35
        },
        "id": "qOYMaATKl_W7",
        "outputId": "552ae09a-4f4d-47bc-c0af-c4c982bbc659"
      },
      "source": [
        "cikar('mmmmmeeeerrrhhhaaaabbbaa')"
      ],
      "execution_count": 51,
      "outputs": [
        {
          "output_type": "execute_result",
          "data": {
            "application/vnd.google.colaboratory.intrinsic+json": {
              "type": "string"
            },
            "text/plain": [
              "'merhaba'"
            ]
          },
          "metadata": {},
          "execution_count": 51
        }
      ]
    },
    {
      "cell_type": "markdown",
      "metadata": {
        "id": "3oD9kK_q9mBH"
      },
      "source": [
        "9- Belirli aralıkta(sınırlar dahil) verilen rakamın kaç kere olduğunu sayan bir fonksiyon yazalım. print(kac_tane(50,55,5)) --> 7"
      ]
    },
    {
      "cell_type": "code",
      "metadata": {
        "id": "tR2aBYApUizy"
      },
      "source": [
        "def kac_tane(baslangic,bitis,sayi):\n",
        "  sonuc = 0\n",
        "  for i in range (baslangic,bitis+1):\n",
        "    sonuc += str(i).count(str(sayi))\n",
        "  return sonuc  \n",
        "     "
      ],
      "execution_count": 52,
      "outputs": []
    },
    {
      "cell_type": "code",
      "metadata": {
        "colab": {
          "base_uri": "https://localhost:8080/"
        },
        "id": "MGwigK9Cmy5f",
        "outputId": "6d7d065c-0674-4962-f722-651c82faa056"
      },
      "source": [
        "kac_tane(50,55,5)"
      ],
      "execution_count": 53,
      "outputs": [
        {
          "output_type": "execute_result",
          "data": {
            "text/plain": [
              "7"
            ]
          },
          "metadata": {},
          "execution_count": 53
        }
      ]
    },
    {
      "cell_type": "markdown",
      "metadata": {
        "id": "n1Tuy6szEGR8"
      },
      "source": [
        "10- Yüksekliği verilen yılbaşı ağacını oluşturan bir fonksiyon yazalım. agac(7)\n",
        "\n",
        "\n",
        "```\n",
        "      #      \n",
        "     ###     \n",
        "    #####    \n",
        "   #######   \n",
        "  #########  \n",
        " ########### \n",
        "############# \n",
        "```\n",
        "\n"
      ]
    },
    {
      "cell_type": "code",
      "metadata": {
        "colab": {
          "base_uri": "https://localhost:8080/"
        },
        "id": "gT1-lnmAUizy",
        "outputId": "ef669472-31ae-41b5-fd6b-e070f21eb0dc"
      },
      "source": [
        "def agac1(n):\n",
        "   i = 1\n",
        "   while i <= 2*n-1:\n",
        "      print((i*\"#\").center(2*n-1))\n",
        "      i += 2\n",
        "agac1(5)      "
      ],
      "execution_count": 56,
      "outputs": [
        {
          "output_type": "stream",
          "name": "stdout",
          "text": [
            "    #    \n",
            "   ###   \n",
            "  #####  \n",
            " ####### \n",
            "#########\n"
          ]
        }
      ]
    },
    {
      "cell_type": "code",
      "metadata": {
        "colab": {
          "base_uri": "https://localhost:8080/"
        },
        "id": "prvK5ksTof6o",
        "outputId": "4b91e397-83a3-4232-d8c6-b95a1fc7cc8e"
      },
      "source": [
        "def agac(n):\n",
        "   for i in range(1,2*n,2):\n",
        "      print((i*'#').center(2*n-1))\n",
        "agac(7)      "
      ],
      "execution_count": 58,
      "outputs": [
        {
          "output_type": "stream",
          "name": "stdout",
          "text": [
            "      #      \n",
            "     ###     \n",
            "    #####    \n",
            "   #######   \n",
            "  #########  \n",
            " ########### \n",
            "#############\n"
          ]
        }
      ]
    }
  ]
}