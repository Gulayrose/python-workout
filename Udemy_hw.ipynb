{
  "nbformat": 4,
  "nbformat_minor": 0,
  "metadata": {
    "colab": {
      "name": "Udemy hw",
      "provenance": [],
      "authorship_tag": "ABX9TyNBGgC1NhF8hdSPY8JT/BJx",
      "include_colab_link": true
    },
    "kernelspec": {
      "name": "python3",
      "display_name": "Python 3"
    },
    "language_info": {
      "name": "python"
    }
  },
  "cells": [
    {
      "cell_type": "markdown",
      "metadata": {
        "id": "view-in-github",
        "colab_type": "text"
      },
      "source": [
        "<a href=\"https://colab.research.google.com/github/Gulayrose/python-workout/blob/main/Udemy_hw.ipynb\" target=\"_parent\"><img src=\"https://colab.research.google.com/assets/colab-badge.svg\" alt=\"Open In Colab\"/></a>"
      ]
    },
    {
      "cell_type": "code",
      "execution_count": 1,
      "metadata": {
        "colab": {
          "base_uri": "https://localhost:8080/"
        },
        "id": "2vvtT5tl_iLc",
        "outputId": "26c92db0-1456-449f-ecec-97cd73060bd6"
      },
      "outputs": [
        {
          "output_type": "stream",
          "name": "stdout",
          "text": [
            "Gulay\n"
          ]
        }
      ],
      "source": [
        "print(\"Gulay\")"
      ]
    },
    {
      "cell_type": "code",
      "source": [
        "\"Gulay\""
      ],
      "metadata": {
        "colab": {
          "base_uri": "https://localhost:8080/",
          "height": 35
        },
        "id": "MglyNNVZR5I9",
        "outputId": "5859e8ea-9f90-4c84-9d3d-3e9664ec75a5"
      },
      "execution_count": 2,
      "outputs": [
        {
          "output_type": "execute_result",
          "data": {
            "application/vnd.google.colaboratory.intrinsic+json": {
              "type": "string"
            },
            "text/plain": [
              "'Gulay'"
            ]
          },
          "metadata": {},
          "execution_count": 2
        }
      ]
    },
    {
      "cell_type": "code",
      "source": [
        "print(\"merhaba\\nnasilsin \\n iyimisn\")"
      ],
      "metadata": {
        "colab": {
          "base_uri": "https://localhost:8080/"
        },
        "id": "qn_FCtPrR5ME",
        "outputId": "e4d437d9-6ca2-4757-f02b-1d85a109d4af"
      },
      "execution_count": 5,
      "outputs": [
        {
          "output_type": "stream",
          "name": "stdout",
          "text": [
            "merhaba\n",
            "nasilsin \n",
            " iyimisn\n"
          ]
        }
      ]
    },
    {
      "cell_type": "code",
      "source": [
        "print(\"ocak\\tsubat\\tmart\")"
      ],
      "metadata": {
        "colab": {
          "base_uri": "https://localhost:8080/"
        },
        "id": "XDtsRfYaR5Os",
        "outputId": "40ced6da-3b74-4fe7-9e9f-a4f5edf8df96"
      },
      "execution_count": 7,
      "outputs": [
        {
          "output_type": "stream",
          "name": "stdout",
          "text": [
            "ocak\tsubat\tmart\n"
          ]
        }
      ]
    },
    {
      "cell_type": "code",
      "source": [
        "print(34,5,6,78,3,sep = \"/\")"
      ],
      "metadata": {
        "colab": {
          "base_uri": "https://localhost:8080/"
        },
        "id": "_RZCoZ7yR5RC",
        "outputId": "07db9aaa-d65c-44de-8b0b-d4e9e6fceaa4"
      },
      "execution_count": 8,
      "outputs": [
        {
          "output_type": "stream",
          "name": "stdout",
          "text": [
            "34/5/6/78/3\n"
          ]
        }
      ]
    },
    {
      "cell_type": "code",
      "source": [
        "print(\"Gulay\",\"Kayapinar\",sep = \"\\n\")"
      ],
      "metadata": {
        "colab": {
          "base_uri": "https://localhost:8080/"
        },
        "id": "M2DAa43KR5WP",
        "outputId": "ff66ed6d-e8d3-4a84-e43b-8825547b991b"
      },
      "execution_count": 9,
      "outputs": [
        {
          "output_type": "stream",
          "name": "stdout",
          "text": [
            "Gulay\n",
            "Kayapinar\n"
          ]
        }
      ]
    },
    {
      "cell_type": "code",
      "source": [
        "print(\"1984\",\"07\",\"15\", sep = \"\\n\")"
      ],
      "metadata": {
        "colab": {
          "base_uri": "https://localhost:8080/"
        },
        "id": "4AV0ocqyR5Y1",
        "outputId": "32d0f1e9-fd7b-4482-ea23-bb9994fed260"
      },
      "execution_count": 11,
      "outputs": [
        {
          "output_type": "stream",
          "name": "stdout",
          "text": [
            "1984\n",
            "07\n",
            "15\n"
          ]
        }
      ]
    },
    {
      "cell_type": "code",
      "source": [
        "print(\"1984\",\"07\",\"15\", sep = \"/\")"
      ],
      "metadata": {
        "colab": {
          "base_uri": "https://localhost:8080/"
        },
        "id": "u6ViKEYAR5bc",
        "outputId": "47c4af91-99c9-491c-f3a9-72cee165778a"
      },
      "execution_count": 12,
      "outputs": [
        {
          "output_type": "stream",
          "name": "stdout",
          "text": [
            "1984/07/15\n"
          ]
        }
      ]
    },
    {
      "cell_type": "code",
      "source": [
        "print(*\"Gulay\")"
      ],
      "metadata": {
        "colab": {
          "base_uri": "https://localhost:8080/"
        },
        "id": "9dTnboDVR5dy",
        "outputId": "3e7a06db-98bc-4c7a-ce08-5d7ecb67ba58"
      },
      "execution_count": 13,
      "outputs": [
        {
          "output_type": "stream",
          "name": "stdout",
          "text": [
            "G u l a y\n"
          ]
        }
      ]
    },
    {
      "cell_type": "code",
      "source": [
        "print(*\"Gulay\",sep = \"/\")"
      ],
      "metadata": {
        "colab": {
          "base_uri": "https://localhost:8080/"
        },
        "id": "krKSWdf6R5gZ",
        "outputId": "3730962b-5dbd-4f62-e74b-14b328d3f7d2"
      },
      "execution_count": 14,
      "outputs": [
        {
          "output_type": "stream",
          "name": "stdout",
          "text": [
            "G/u/l/a/y\n"
          ]
        }
      ]
    },
    {
      "cell_type": "code",
      "source": [
        "print(\"Gulay\",sep = \".\")"
      ],
      "metadata": {
        "colab": {
          "base_uri": "https://localhost:8080/"
        },
        "id": "M5hpeR36R5nb",
        "outputId": "22d6405e-c9cd-49b2-d1b9-b6f864b4a0c1"
      },
      "execution_count": 15,
      "outputs": [
        {
          "output_type": "stream",
          "name": "stdout",
          "text": [
            "Gulay\n"
          ]
        }
      ]
    },
    {
      "cell_type": "code",
      "source": [
        "a= {\"bir\":[1,2,3,4],\"iki\":[[1,2],[3,4,5],[6,7]],\"uc\":15}"
      ],
      "metadata": {
        "id": "YQ_mUmGeR5qC"
      },
      "execution_count": 16,
      "outputs": []
    },
    {
      "cell_type": "code",
      "source": [
        "a[\"iki\"]"
      ],
      "metadata": {
        "colab": {
          "base_uri": "https://localhost:8080/"
        },
        "id": "GwmV92ElR5so",
        "outputId": "7a7fc036-acf8-4f91-c504-3686df1b7a85"
      },
      "execution_count": 17,
      "outputs": [
        {
          "output_type": "execute_result",
          "data": {
            "text/plain": [
              "[[1, 2], [3, 4, 5], [6, 7]]"
            ]
          },
          "metadata": {},
          "execution_count": 17
        }
      ]
    },
    {
      "cell_type": "code",
      "source": [
        "a[\"iki\"][1]"
      ],
      "metadata": {
        "colab": {
          "base_uri": "https://localhost:8080/"
        },
        "id": "0jrppJj4R5uu",
        "outputId": "cf20f241-98a5-4d7f-a506-0ad77388ac32"
      },
      "execution_count": 18,
      "outputs": [
        {
          "output_type": "execute_result",
          "data": {
            "text/plain": [
              "[3, 4, 5]"
            ]
          },
          "metadata": {},
          "execution_count": 18
        }
      ]
    },
    {
      "cell_type": "code",
      "source": [
        "a[\"iki\"][1][2]"
      ],
      "metadata": {
        "colab": {
          "base_uri": "https://localhost:8080/"
        },
        "id": "sejjdcNHUWbA",
        "outputId": "a64d85c9-6c16-498f-cc2e-3df2fb4a4741"
      },
      "execution_count": 19,
      "outputs": [
        {
          "output_type": "execute_result",
          "data": {
            "text/plain": [
              "5"
            ]
          },
          "metadata": {},
          "execution_count": 19
        }
      ]
    },
    {
      "cell_type": "code",
      "source": [
        "sozluk={\"a\":1,\"b\":2,\"c\":3}"
      ],
      "metadata": {
        "id": "rGzPC2pJUWYg"
      },
      "execution_count": 20,
      "outputs": []
    },
    {
      "cell_type": "code",
      "source": [
        "sozluk[\"d\"] = 4"
      ],
      "metadata": {
        "id": "xoDCS1B_UWWI"
      },
      "execution_count": 21,
      "outputs": []
    },
    {
      "cell_type": "code",
      "source": [
        "sozluk"
      ],
      "metadata": {
        "colab": {
          "base_uri": "https://localhost:8080/"
        },
        "id": "Pc1oxEoUUWT4",
        "outputId": "38a1101e-856a-4f85-8287-c9fa6fb25a4f"
      },
      "execution_count": 22,
      "outputs": [
        {
          "output_type": "execute_result",
          "data": {
            "text/plain": [
              "{'a': 1, 'b': 2, 'c': 3, 'd': 4}"
            ]
          },
          "metadata": {},
          "execution_count": 22
        }
      ]
    },
    {
      "cell_type": "code",
      "source": [
        "sozluk[\"a\"]=5\n",
        "sozluk"
      ],
      "metadata": {
        "colab": {
          "base_uri": "https://localhost:8080/"
        },
        "id": "CdSMAK-jfr2q",
        "outputId": "ef034cf9-7801-4282-9908-b4b7cf949d68"
      },
      "execution_count": 24,
      "outputs": [
        {
          "output_type": "execute_result",
          "data": {
            "text/plain": [
              "{'a': 5, 'b': 2, 'c': 3, 'd': 4}"
            ]
          },
          "metadata": {},
          "execution_count": 24
        }
      ]
    },
    {
      "cell_type": "code",
      "source": [
        "sozluk[\"b\"]+=1\n",
        "sozluk"
      ],
      "metadata": {
        "colab": {
          "base_uri": "https://localhost:8080/"
        },
        "id": "aUda_5aVfr0-",
        "outputId": "3791ac33-caa2-4d12-c122-17a9231f28f9"
      },
      "execution_count": 25,
      "outputs": [
        {
          "output_type": "execute_result",
          "data": {
            "text/plain": [
              "{'a': 5, 'b': 3, 'c': 3, 'd': 4}"
            ]
          },
          "metadata": {},
          "execution_count": 25
        }
      ]
    },
    {
      "cell_type": "code",
      "source": [
        "input()\n"
      ],
      "metadata": {
        "colab": {
          "base_uri": "https://localhost:8080/",
          "height": 53
        },
        "id": "mpXWAWl7fry6",
        "outputId": "8706b022-9117-4905-ed4f-94529d35c281"
      },
      "execution_count": 26,
      "outputs": [
        {
          "name": "stdout",
          "output_type": "stream",
          "text": [
            "45\n"
          ]
        },
        {
          "output_type": "execute_result",
          "data": {
            "application/vnd.google.colaboratory.intrinsic+json": {
              "type": "string"
            },
            "text/plain": [
              "'45'"
            ]
          },
          "metadata": {},
          "execution_count": 26
        }
      ]
    },
    {
      "cell_type": "code",
      "source": [
        "print(\"player added\")\n",
        "name = input(\"player name: \")\n",
        "lastname = input(\"player lastname: \")\n",
        "team = input(\"enter team name: \")\n",
        "print(\"Bilgiler kaydediliyor ...\")\n",
        "print(\"Oyuncunu adi :{}\\nOyuncunun soyadi :{}\\nOyuncunun takimi :{}\".format(name,lastname,team))"
      ],
      "metadata": {
        "colab": {
          "base_uri": "https://localhost:8080/"
        },
        "id": "b2-U0vgcfrws",
        "outputId": "efcadc5b-c181-41f9-ed19-d63fa048e616"
      },
      "execution_count": 27,
      "outputs": [
        {
          "output_type": "stream",
          "name": "stdout",
          "text": [
            "player added\n",
            "player name: Gulay\n",
            "player lastname: Kayapinar\n",
            "enter team name: fb\n",
            "Bilgiler kaydediliyor ...\n",
            "Oyuncunu adi :Gulay\n",
            "Oyuncunun soyadi :Kayapinar\n",
            "Oyuncunun takimi :fb\n"
          ]
        }
      ]
    },
    {
      "cell_type": "code",
      "source": [
        "#KOK BULMA#\n"
      ],
      "metadata": {
        "id": "OxD0AOn-fruW"
      },
      "execution_count": null,
      "outputs": []
    },
    {
      "cell_type": "code",
      "source": [
        "\n",
        "a = int(input(\"a :\"))\n",
        "b = int(input(\"b :\"))\n",
        "c = int(input(\"c :\"))\n",
        "\n",
        "delta = b**2 - 4*a*c\n",
        "x1 = (-b-delta**0.5)/(2*a)\n",
        "x2 = (-b+delta**0.5)/(2*a)\n",
        "\n",
        "print(\"birinci kok : {}\\nikinci kok : {}\".format(x1,x2))\n"
      ],
      "metadata": {
        "colab": {
          "base_uri": "https://localhost:8080/"
        },
        "id": "frr8aXCpfrsQ",
        "outputId": "dca5a74d-8402-415a-d1a9-a2c900de4e72"
      },
      "execution_count": 29,
      "outputs": [
        {
          "output_type": "stream",
          "name": "stdout",
          "text": [
            "a :1\n",
            "b :5\n",
            "c :6\n",
            "birinci kok : -3.0\n",
            "ikinci kok : -2.0\n"
          ]
        }
      ]
    },
    {
      "cell_type": "code",
      "source": [
        "#1)Kullanıcıdan aldığınız 3 tane sayıyı çarparak ekrana yazdırın. \n",
        "#Ekrana yazdırma işlemini format metoduyla yapmaya çalışın."
      ],
      "metadata": {
        "id": "Brmoyo0Afrpr"
      },
      "execution_count": null,
      "outputs": []
    },
    {
      "cell_type": "code",
      "source": [
        "a = int(input(\"a :\"))\n",
        "b = int(input(\"b :\"))\n",
        "c = int(input(\"c :\"))\n",
        "d = a*b*c\n",
        "print(\"bu uc sayinin carpimi :{} dir\".format (d))"
      ],
      "metadata": {
        "colab": {
          "base_uri": "https://localhost:8080/"
        },
        "id": "95bFIZETfrnV",
        "outputId": "296bc19b-8890-48e2-abc3-1d95ed0909d2"
      },
      "execution_count": 30,
      "outputs": [
        {
          "output_type": "stream",
          "name": "stdout",
          "text": [
            "a :4\n",
            "b :2\n",
            "c :6\n",
            "bu uc sayinin carpimi :48 dir\n"
          ]
        }
      ]
    },
    {
      "cell_type": "code",
      "source": [
        "a = int(input(\"a :\"))\n",
        "b = int(input(\"b :\"))\n",
        "c = int(input(\"c :\"))\n",
        "print(\"{} nin,{}nin ve {} nin carpimi {} dir\".format(a,b,c,a*b*c))"
      ],
      "metadata": {
        "colab": {
          "base_uri": "https://localhost:8080/"
        },
        "id": "nL_XHkhvfrkr",
        "outputId": "31a39663-8971-427a-ca9b-0662258dc339"
      },
      "execution_count": 31,
      "outputs": [
        {
          "output_type": "stream",
          "name": "stdout",
          "text": [
            "a :4\n",
            "b :2\n",
            "c :6\n",
            "4 nin,2nin ve 6 nin carpimi 48 dir\n"
          ]
        }
      ]
    },
    {
      "cell_type": "code",
      "source": [
        "#2)Kullanıcıdan aldığınız boy ve kilo değerlerine göre kullanıcının beden kitle indeksini bulun."
      ],
      "metadata": {
        "id": "Vb4fnAMcfriF"
      },
      "execution_count": null,
      "outputs": []
    },
    {
      "cell_type": "code",
      "source": [
        "lenght = float(input(\"please enter your lenght with feet :\"))\n",
        "weight = int(input(\"please enter your weight  with pounds:\"))\n",
        "mass_index = 703*weight/(lenght**2)\n",
        "print(\"Your body mass index {}.\".format(mass_index))"
      ],
      "metadata": {
        "colab": {
          "base_uri": "https://localhost:8080/"
        },
        "id": "uy7FHiu0iOux",
        "outputId": "3cf1f2ab-ffeb-491d-d8e2-4a43dbd52845"
      },
      "execution_count": 39,
      "outputs": [
        {
          "output_type": "stream",
          "name": "stdout",
          "text": [
            "please enter your lenght with feet :5.2\n",
            "please enter your weight  with pounds:160\n",
            "Your body mass index 4159.763313609467.\n"
          ]
        }
      ]
    },
    {
      "cell_type": "code",
      "source": [
        "#3)Bir aracın kilometrede ne kadar yaktığı ve kaç kilometre yol \n",
        "#yaptığı bilgilerini alın ve sürücünü toplam ne kadar ödemesini gerektiğini hesaplayın."
      ],
      "metadata": {
        "id": "nkwr_Z7riOr4"
      },
      "execution_count": null,
      "outputs": []
    },
    {
      "cell_type": "code",
      "source": [
        "per_hour = int(input(\"Please enter your per gaz :\"))\n",
        "per_mile = int(input(\"Please enter how many take miles :\"))\n",
        "total = per_hour * per_mile\n",
        "print(\"Kilometrede {} yag yakip {} yol giderseniz {} para odersiniz. \".format(per_hour,per_mile,total))"
      ],
      "metadata": {
        "colab": {
          "base_uri": "https://localhost:8080/"
        },
        "id": "BVR1ybBmiOpH",
        "outputId": "801ecf2a-a1b3-4f32-8eb9-5623adfdb77f"
      },
      "execution_count": 40,
      "outputs": [
        {
          "output_type": "stream",
          "name": "stdout",
          "text": [
            "Please enter your per gaz :20\n",
            "Please enter how many take miles :3\n",
            "Kilometrede 20 yag yakip 3 yol giderseniz 60 para odersiniz. \n"
          ]
        }
      ]
    },
    {
      "cell_type": "code",
      "source": [
        "#4)Kullanıcıdan ad,soyad ve numara bilgisini alarak bunları alt alta ekrana yazdırın."
      ],
      "metadata": {
        "id": "xBFqiJoMiOms"
      },
      "execution_count": null,
      "outputs": []
    },
    {
      "cell_type": "code",
      "source": [
        "name = input(\"Please enter a name : \")\n",
        "surname = input(\"Please enter your surname :\")\n",
        "tel = input(\"Please enter your number\")\n",
        "print(\"Your name :{}\\nYour surname : {}\\nYour number :{}\\n\".format(name,surname,tel))"
      ],
      "metadata": {
        "colab": {
          "base_uri": "https://localhost:8080/"
        },
        "id": "pkqSLr8AiOkV",
        "outputId": "4c181175-fa80-4285-d0b3-d74b96b74f27"
      },
      "execution_count": 41,
      "outputs": [
        {
          "output_type": "stream",
          "name": "stdout",
          "text": [
            "Please enter a name : Gulay\n",
            "Please enter your surname :Kayapinar\n",
            "Please enter your number12345\n",
            "Your name :Gulay\n",
            "Your surname : Kayapinar\n",
            "Your number :12345\n",
            "\n"
          ]
        }
      ]
    },
    {
      "cell_type": "code",
      "source": [
        "#5)Kullanıcıdan iki tane sayı isteyin ve bu sayıların değerlerini birbirleriyle değiştirin."
      ],
      "metadata": {
        "id": "qO9NOdALyIjJ"
      },
      "execution_count": null,
      "outputs": []
    },
    {
      "cell_type": "code",
      "source": [
        "x = int(input(\"sayi1 : \"))\n",
        "y = int(input(\"sayi2 : \"))\n",
        "print(\"sayi1 :{}\\nsayi2: {}\".format(y,x))"
      ],
      "metadata": {
        "colab": {
          "base_uri": "https://localhost:8080/"
        },
        "id": "ARgAoiYuyIgx",
        "outputId": "c4e22126-1f60-4c60-c3f8-4fe37831f8e0"
      },
      "execution_count": 44,
      "outputs": [
        {
          "output_type": "stream",
          "name": "stdout",
          "text": [
            "sayi1 : 5\n",
            "sayi2 : 8\n",
            "sayi1 :8\n",
            "sayi2: 5\n"
          ]
        }
      ]
    },
    {
      "cell_type": "code",
      "source": [
        "#6)Kullanıcıdan bir dik üçgenin dik olan iki kenarını(a,b) alın ve hipotenüs uzunluğunu bulmaya çalışın.\n",
        "side1 = int(input(\"enter a side :\"))\n",
        "side2 = int(input (\"enter a side :\"))\n",
        "hippo = ((side1**2) + (side2**2))**0.5\n",
        "print(\"ic acilari {} ve {} olan dik ucgenin hipotenus uzunlugu {} dir.\".format(side1,side2,hippo))\n"
      ],
      "metadata": {
        "colab": {
          "base_uri": "https://localhost:8080/"
        },
        "id": "QrLcrpo4yIbk",
        "outputId": "6bf1bc3d-e641-4f87-fc97-66dcf803f927"
      },
      "execution_count": 46,
      "outputs": [
        {
          "output_type": "stream",
          "name": "stdout",
          "text": [
            "enter a side :3\n",
            "enter a side :4\n",
            "ic acilari 3 ve 4 olan dik ucgenin hipotenus uzunlugu 5.0 dir.\n"
          ]
        }
      ]
    },
    {
      "cell_type": "code",
      "source": [
        ""
      ],
      "metadata": {
        "id": "5PVSX7aqyIY-"
      },
      "execution_count": null,
      "outputs": []
    },
    {
      "cell_type": "code",
      "source": [
        ""
      ],
      "metadata": {
        "id": "2my2XVqXiOhd"
      },
      "execution_count": null,
      "outputs": []
    },
    {
      "cell_type": "code",
      "source": [
        ""
      ],
      "metadata": {
        "id": "y5FhLdL6iOe2"
      },
      "execution_count": null,
      "outputs": []
    }
  ]
}