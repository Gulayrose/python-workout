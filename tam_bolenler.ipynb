{
  "nbformat": 4,
  "nbformat_minor": 0,
  "metadata": {
    "colab": {
      "name": "tam bolenler",
      "provenance": [],
      "authorship_tag": "ABX9TyN2r0mTDiV1iFkpOwXqcQww",
      "include_colab_link": true
    },
    "kernelspec": {
      "name": "python3",
      "display_name": "Python 3"
    },
    "language_info": {
      "name": "python"
    }
  },
  "cells": [
    {
      "cell_type": "markdown",
      "metadata": {
        "id": "view-in-github",
        "colab_type": "text"
      },
      "source": [
        "<a href=\"https://colab.research.google.com/github/Gulayrose/python-workout/blob/main/tam_bolenler.ipynb\" target=\"_parent\"><img src=\"https://colab.research.google.com/assets/colab-badge.svg\" alt=\"Open In Colab\"/></a>"
      ]
    },
    {
      "cell_type": "code",
      "execution_count": 1,
      "metadata": {
        "colab": {
          "base_uri": "https://localhost:8080/"
        },
        "id": "s19uWXt8YFDw",
        "outputId": "c93c404a-72d4-47ff-f8a9-c961dfeab3f2"
      },
      "outputs": [
        {
          "output_type": "execute_result",
          "data": {
            "text/plain": [
              "[2, 4, 5, 10]"
            ]
          },
          "metadata": {},
          "execution_count": 1
        }
      ],
      "source": [
        "def tam_bolen(sayi):\n",
        "  bolen = []\n",
        "  for i in range(2,sayi):\n",
        "    if sayi % i == 0 :\n",
        "      bolen.append(i)\n",
        "  return   bolen\n",
        "tam_bolen(20)  "
      ]
    },
    {
      "cell_type": "code",
      "source": [
        ""
      ],
      "metadata": {
        "id": "ijshq1dDYFiK"
      },
      "execution_count": null,
      "outputs": []
    },
    {
      "cell_type": "code",
      "source": [
        "while True :\n",
        "  sayi = input(\"sayi:\")\n",
        "\n",
        "  if sayi == \"q\" :\n",
        "    print(\"program sonladiriliyor\")\n",
        "    break\n",
        "  else :\n",
        "    sayi = int(sayi)\n",
        "    print(\"Tam bolenler\",tam_bolen(sayi))  "
      ],
      "metadata": {
        "colab": {
          "base_uri": "https://localhost:8080/"
        },
        "id": "HmR0ko7jYFkw",
        "outputId": "b6164464-bf9e-4c78-9203-2a0cfd63d1df"
      },
      "execution_count": 3,
      "outputs": [
        {
          "output_type": "stream",
          "name": "stdout",
          "text": [
            "sayi:20\n",
            "Tam bolenler [2, 4, 5, 10]\n",
            "sayi:17\n",
            "Tam bolenler []\n",
            "sayi:q\n",
            "program sonladiriliyor\n"
          ]
        }
      ]
    },
    {
      "cell_type": "code",
      "source": [
        ""
      ],
      "metadata": {
        "id": "GUtG01O-YFnG"
      },
      "execution_count": null,
      "outputs": []
    },
    {
      "cell_type": "code",
      "source": [
        ""
      ],
      "metadata": {
        "id": "JkWZrHyNYFps"
      },
      "execution_count": null,
      "outputs": []
    },
    {
      "cell_type": "code",
      "source": [
        ""
      ],
      "metadata": {
        "id": "Wwhtgn2SYFrg"
      },
      "execution_count": null,
      "outputs": []
    },
    {
      "cell_type": "code",
      "source": [
        ""
      ],
      "metadata": {
        "id": "rsQOCN_rYFt3"
      },
      "execution_count": null,
      "outputs": []
    }
  ]
}