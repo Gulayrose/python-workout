{
  "nbformat": 4,
  "nbformat_minor": 0,
  "metadata": {
    "colab": {
      "name": "FIZZ-BUZZ",
      "provenance": [],
      "authorship_tag": "ABX9TyMM9YzuHPqzEB3oJdxuQR5o",
      "include_colab_link": true
    },
    "kernelspec": {
      "name": "python3",
      "display_name": "Python 3"
    },
    "language_info": {
      "name": "python"
    }
  },
  "cells": [
    {
      "cell_type": "markdown",
      "metadata": {
        "id": "view-in-github",
        "colab_type": "text"
      },
      "source": [
        "<a href=\"https://colab.research.google.com/github/Gulayrose/python-workout/blob/main/FIZZ_BUZZ.ipynb\" target=\"_parent\"><img src=\"https://colab.research.google.com/assets/colab-badge.svg\" alt=\"Open In Colab\"/></a>"
      ]
    },
    {
      "cell_type": "code",
      "metadata": {
        "id": "SsOX2D6ppxJ0"
      },
      "source": [
        "#FIZZ-BUZZ"
      ],
      "execution_count": null,
      "outputs": []
    },
    {
      "cell_type": "code",
      "metadata": {
        "id": "wK1xJbvFp1KT"
      },
      "source": [
        "def fizz_buzz(maksimum):\n",
        "  lst= list(range(1,maksimum+1))\n",
        "  print(lst)\n",
        "  for i in lst:\n",
        "    if i % 15 ==0:\n",
        "      lst[lst.index(i)] = \"FizzBuzz\"\n",
        "    elif i % 5 == 0 :\n",
        "      lst[lst.index(i)] = \"Buzz\"\n",
        "    elif i % 3 == 0 :\n",
        "      lst[lst.index(i)] = \"Fizz\"  \n",
        "  return lst \n",
        "print(fizz_buzz(10))       "
      ],
      "execution_count": null,
      "outputs": []
    },
    {
      "cell_type": "code",
      "metadata": {
        "id": "9VknqDCSp1Hb"
      },
      "source": [
        ""
      ],
      "execution_count": null,
      "outputs": []
    },
    {
      "cell_type": "code",
      "metadata": {
        "id": "-ioWNt6Wp0_n"
      },
      "source": [
        ""
      ],
      "execution_count": null,
      "outputs": []
    }
  ]
}