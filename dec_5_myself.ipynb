{
  "nbformat": 4,
  "nbformat_minor": 0,
  "metadata": {
    "colab": {
      "name": "dec 5 myself",
      "provenance": [],
      "authorship_tag": "ABX9TyPWhFY3QNyRuOjgJboeEQ2t",
      "include_colab_link": true
    },
    "kernelspec": {
      "name": "python3",
      "display_name": "Python 3"
    },
    "language_info": {
      "name": "python"
    }
  },
  "cells": [
    {
      "cell_type": "markdown",
      "metadata": {
        "id": "view-in-github",
        "colab_type": "text"
      },
      "source": [
        "<a href=\"https://colab.research.google.com/github/Gulayrose/python-workout/blob/main/dec_5_myself.ipynb\" target=\"_parent\"><img src=\"https://colab.research.google.com/assets/colab-badge.svg\" alt=\"Open In Colab\"/></a>"
      ]
    },
    {
      "cell_type": "code",
      "metadata": {
        "colab": {
          "base_uri": "https://localhost:8080/"
        },
        "id": "7jM2LYqaHKPx",
        "outputId": "3e377b1c-8f6f-4996-885f-b45beca978a9"
      },
      "source": [
        "def parrot_trouble(talking,hour):\n",
        "  if (6<=hour<=21) and talking==True :\n",
        "    return True\n",
        "  else:\n",
        "    return False \n",
        "parrot_trouble(False,5)      "
      ],
      "execution_count": 4,
      "outputs": [
        {
          "output_type": "execute_result",
          "data": {
            "text/plain": [
              "False"
            ]
          },
          "metadata": {},
          "execution_count": 4
        }
      ]
    },
    {
      "cell_type": "code",
      "metadata": {
        "colab": {
          "base_uri": "https://localhost:8080/"
        },
        "id": "G7heUAjcQ-Ly",
        "outputId": "30e07dd1-ba66-4f34-eed6-9404c1349d79"
      },
      "source": [
        "def not_string(word):\n",
        "   if \"not\" not in word:\n",
        "     return \"not \"+ word\n",
        "   else :\n",
        "     return word \n",
        "print(not_string('notion'))       "
      ],
      "execution_count": 18,
      "outputs": [
        {
          "output_type": "stream",
          "name": "stdout",
          "text": [
            "notion\n"
          ]
        }
      ]
    },
    {
      "cell_type": "code",
      "metadata": {
        "colab": {
          "base_uri": "https://localhost:8080/"
        },
        "id": "kswBwz_sQ-HY",
        "outputId": "f79afb3d-af95-4d8c-bdcd-46fe1e3dadb3"
      },
      "source": [
        "def not_string(word):\n",
        "  if \"not\" not in word:\n",
        "    return \"not \" + word\n",
        "  else:\n",
        "    if word.startswith(\"not\"):\n",
        "      return word\n",
        "print(not_string('guzel'))      "
      ],
      "execution_count": 17,
      "outputs": [
        {
          "output_type": "stream",
          "name": "stdout",
          "text": [
            "not guzel\n"
          ]
        }
      ]
    },
    {
      "cell_type": "code",
      "metadata": {
        "colab": {
          "base_uri": "https://localhost:8080/",
          "height": 297
        },
        "id": "98yKw1fJQ-E8",
        "outputId": "75a7d600-2df3-44d9-cac0-fad7e31bd76a"
      },
      "source": [
        "def missing_char(word, n):\n",
        "  liste = str(list(word).pop(n))\n",
        "  return word-liste\n",
        "missing_char(\"irem\",2)    "
      ],
      "execution_count": 21,
      "outputs": [
        {
          "output_type": "error",
          "ename": "TypeError",
          "evalue": "ignored",
          "traceback": [
            "\u001b[0;31m---------------------------------------------------------------------------\u001b[0m",
            "\u001b[0;31mTypeError\u001b[0m                                 Traceback (most recent call last)",
            "\u001b[0;32m<ipython-input-21-0b8393aeb6f5>\u001b[0m in \u001b[0;36m<module>\u001b[0;34m()\u001b[0m\n\u001b[1;32m      2\u001b[0m   \u001b[0mliste\u001b[0m \u001b[0;34m=\u001b[0m \u001b[0mstr\u001b[0m\u001b[0;34m(\u001b[0m\u001b[0mlist\u001b[0m\u001b[0;34m(\u001b[0m\u001b[0mword\u001b[0m\u001b[0;34m)\u001b[0m\u001b[0;34m.\u001b[0m\u001b[0mpop\u001b[0m\u001b[0;34m(\u001b[0m\u001b[0mn\u001b[0m\u001b[0;34m)\u001b[0m\u001b[0;34m)\u001b[0m\u001b[0;34m\u001b[0m\u001b[0;34m\u001b[0m\u001b[0m\n\u001b[1;32m      3\u001b[0m   \u001b[0;32mreturn\u001b[0m \u001b[0mword\u001b[0m\u001b[0;34m-\u001b[0m\u001b[0mliste\u001b[0m\u001b[0;34m\u001b[0m\u001b[0;34m\u001b[0m\u001b[0m\n\u001b[0;32m----> 4\u001b[0;31m \u001b[0mmissing_char\u001b[0m\u001b[0;34m(\u001b[0m\u001b[0;34m\"irem\"\u001b[0m\u001b[0;34m,\u001b[0m\u001b[0;36m2\u001b[0m\u001b[0;34m)\u001b[0m\u001b[0;34m\u001b[0m\u001b[0;34m\u001b[0m\u001b[0m\n\u001b[0m",
            "\u001b[0;32m<ipython-input-21-0b8393aeb6f5>\u001b[0m in \u001b[0;36mmissing_char\u001b[0;34m(word, n)\u001b[0m\n\u001b[1;32m      1\u001b[0m \u001b[0;32mdef\u001b[0m \u001b[0mmissing_char\u001b[0m\u001b[0;34m(\u001b[0m\u001b[0mword\u001b[0m\u001b[0;34m,\u001b[0m \u001b[0mn\u001b[0m\u001b[0;34m)\u001b[0m\u001b[0;34m:\u001b[0m\u001b[0;34m\u001b[0m\u001b[0;34m\u001b[0m\u001b[0m\n\u001b[1;32m      2\u001b[0m   \u001b[0mliste\u001b[0m \u001b[0;34m=\u001b[0m \u001b[0mstr\u001b[0m\u001b[0;34m(\u001b[0m\u001b[0mlist\u001b[0m\u001b[0;34m(\u001b[0m\u001b[0mword\u001b[0m\u001b[0;34m)\u001b[0m\u001b[0;34m.\u001b[0m\u001b[0mpop\u001b[0m\u001b[0;34m(\u001b[0m\u001b[0mn\u001b[0m\u001b[0;34m)\u001b[0m\u001b[0;34m)\u001b[0m\u001b[0;34m\u001b[0m\u001b[0;34m\u001b[0m\u001b[0m\n\u001b[0;32m----> 3\u001b[0;31m   \u001b[0;32mreturn\u001b[0m \u001b[0mword\u001b[0m\u001b[0;34m-\u001b[0m\u001b[0mliste\u001b[0m\u001b[0;34m\u001b[0m\u001b[0;34m\u001b[0m\u001b[0m\n\u001b[0m\u001b[1;32m      4\u001b[0m \u001b[0mmissing_char\u001b[0m\u001b[0;34m(\u001b[0m\u001b[0;34m\"irem\"\u001b[0m\u001b[0;34m,\u001b[0m\u001b[0;36m2\u001b[0m\u001b[0;34m)\u001b[0m\u001b[0;34m\u001b[0m\u001b[0;34m\u001b[0m\u001b[0m\n",
            "\u001b[0;31mTypeError\u001b[0m: unsupported operand type(s) for -: 'str' and 'str'"
          ]
        }
      ]
    },
    {
      "cell_type": "code",
      "metadata": {
        "colab": {
          "base_uri": "https://localhost:8080/"
        },
        "id": "cYu8z-oFQ-Cf",
        "outputId": "303ab2f5-690e-4de3-fc12-85eb58a83710"
      },
      "source": [
        "def missing_char(word, n):\n",
        "    return word[0:n] + word[n+1::]\n",
        "print(missing_char('kitchen',2))    \n"
      ],
      "execution_count": 24,
      "outputs": [
        {
          "output_type": "stream",
          "name": "stdout",
          "text": [
            "kichen\n"
          ]
        }
      ]
    },
    {
      "cell_type": "code",
      "metadata": {
        "colab": {
          "base_uri": "https://localhost:8080/",
          "height": 35
        },
        "id": "0h9-7xvzUS2P",
        "outputId": "c27df470-b933-4bc3-e269-cca9826116e6"
      },
      "source": [
        "def missing_char(word, n):\n",
        "    x = \"\"\n",
        "    for i in range(len(word)):\n",
        "        if not i == n:\n",
        "            x += word[i]\n",
        "    return x\n",
        "missing_char(\"kitchen\",2)    "
      ],
      "execution_count": 26,
      "outputs": [
        {
          "output_type": "execute_result",
          "data": {
            "application/vnd.google.colaboratory.intrinsic+json": {
              "type": "string"
            },
            "text/plain": [
              "'kichen'"
            ]
          },
          "metadata": {},
          "execution_count": 26
        }
      ]
    },
    {
      "cell_type": "code",
      "metadata": {
        "id": "q3b1CuNjUSyk"
      },
      "source": [
        "from math import pi, factorial, log10"
      ],
      "execution_count": 1,
      "outputs": []
    },
    {
      "cell_type": "code",
      "metadata": {
        "colab": {
          "base_uri": "https://localhost:8080/"
        },
        "id": "TvjiWXpTUSwg",
        "outputId": "4fb9d3e5-01cb-457d-8258-b1897d338d9b"
      },
      "source": [
        "print(pi)\n",
        "print(factorial(5))\n",
        "print(log10(30))"
      ],
      "execution_count": 2,
      "outputs": [
        {
          "output_type": "stream",
          "name": "stdout",
          "text": [
            "3.141592653589793\n",
            "120\n",
            "1.4771212547196624\n"
          ]
        }
      ]
    },
    {
      "cell_type": "code",
      "metadata": {
        "colab": {
          "base_uri": "https://localhost:8080/",
          "height": 162
        },
        "id": "0pvts3CSUStm",
        "outputId": "56baf84c-121d-4006-8d51-06f945de3863"
      },
      "source": [
        "print(dir(string))"
      ],
      "execution_count": 4,
      "outputs": [
        {
          "output_type": "error",
          "ename": "NameError",
          "evalue": "ignored",
          "traceback": [
            "\u001b[0;31m---------------------------------------------------------------------------\u001b[0m",
            "\u001b[0;31mNameError\u001b[0m                                 Traceback (most recent call last)",
            "\u001b[0;32m<ipython-input-4-0e8869a9a80f>\u001b[0m in \u001b[0;36m<module>\u001b[0;34m()\u001b[0m\n\u001b[0;32m----> 1\u001b[0;31m \u001b[0mprint\u001b[0m\u001b[0;34m(\u001b[0m\u001b[0mdir\u001b[0m\u001b[0;34m(\u001b[0m\u001b[0mstring\u001b[0m\u001b[0;34m)\u001b[0m\u001b[0;34m)\u001b[0m\u001b[0;34m\u001b[0m\u001b[0;34m\u001b[0m\u001b[0m\n\u001b[0m",
            "\u001b[0;31mNameError\u001b[0m: name 'string' is not defined"
          ]
        }
      ]
    },
    {
      "cell_type": "code",
      "metadata": {
        "colab": {
          "base_uri": "https://localhost:8080/"
        },
        "id": "WjxKft3mUSqx",
        "outputId": "b05803b8-81e8-4c45-9272-27045ae73294"
      },
      "source": [
        "import math\n",
        "print(dir(math))"
      ],
      "execution_count": 8,
      "outputs": [
        {
          "output_type": "stream",
          "name": "stdout",
          "text": [
            "['__doc__', '__loader__', '__name__', '__package__', '__spec__', 'acos', 'acosh', 'asin', 'asinh', 'atan', 'atan2', 'atanh', 'ceil', 'copysign', 'cos', 'cosh', 'degrees', 'e', 'erf', 'erfc', 'exp', 'expm1', 'fabs', 'factorial', 'floor', 'fmod', 'frexp', 'fsum', 'gamma', 'gcd', 'hypot', 'inf', 'isclose', 'isfinite', 'isinf', 'isnan', 'ldexp', 'lgamma', 'log', 'log10', 'log1p', 'log2', 'modf', 'nan', 'pi', 'pow', 'radians', 'remainder', 'sin', 'sinh', 'sqrt', 'tan', 'tanh', 'tau', 'trunc']\n"
          ]
        }
      ]
    },
    {
      "cell_type": "code",
      "metadata": {
        "colab": {
          "base_uri": "https://localhost:8080/"
        },
        "id": "oNmn-Y_3XtxU",
        "outputId": "7ced520c-8133-4241-a4d0-64b144172e7e"
      },
      "source": [
        "import string \n",
        "print(dir(string))"
      ],
      "execution_count": 11,
      "outputs": [
        {
          "output_type": "stream",
          "name": "stdout",
          "text": [
            "['Formatter', 'Template', '_ChainMap', '_TemplateMetaclass', '__all__', '__builtins__', '__cached__', '__doc__', '__file__', '__loader__', '__name__', '__package__', '__spec__', '_re', '_string', 'ascii_letters', 'ascii_lowercase', 'ascii_uppercase', 'capwords', 'digits', 'hexdigits', 'octdigits', 'printable', 'punctuation', 'whitespace']\n"
          ]
        }
      ]
    },
    {
      "cell_type": "code",
      "metadata": {
        "id": "dFzKoPQiXtu9"
      },
      "source": [
        "import string as stg"
      ],
      "execution_count": 12,
      "outputs": []
    },
    {
      "cell_type": "code",
      "metadata": {
        "colab": {
          "base_uri": "https://localhost:8080/"
        },
        "id": "sH0vRez6Xtsp",
        "outputId": "1b30ce5a-707c-4b0f-80d3-be3d5094937c"
      },
      "source": [
        "print(stg.punctuation)"
      ],
      "execution_count": 13,
      "outputs": [
        {
          "output_type": "stream",
          "name": "stdout",
          "text": [
            "!\"#$%&'()*+,-./:;<=>?@[\\]^_`{|}~\n"
          ]
        }
      ]
    },
    {
      "cell_type": "code",
      "metadata": {
        "colab": {
          "base_uri": "https://localhost:8080/"
        },
        "id": "yU1uMkFjXtqB",
        "outputId": "173282df-ce2e-41ea-88ea-77aa9373d0fd"
      },
      "source": [
        "print(stg.digits)"
      ],
      "execution_count": 14,
      "outputs": [
        {
          "output_type": "stream",
          "name": "stdout",
          "text": [
            "0123456789\n"
          ]
        }
      ]
    },
    {
      "cell_type": "code",
      "metadata": {
        "id": "SLI4xZ7gXtmN"
      },
      "source": [
        "import datetime"
      ],
      "execution_count": 15,
      "outputs": []
    },
    {
      "cell_type": "code",
      "metadata": {
        "colab": {
          "base_uri": "https://localhost:8080/"
        },
        "id": "pdPS60xpXtjy",
        "outputId": "20d9145f-c8d1-42ff-ee6c-6de50bdc3192"
      },
      "source": [
        "print(datetime.datetime.now())"
      ],
      "execution_count": 16,
      "outputs": [
        {
          "output_type": "stream",
          "name": "stdout",
          "text": [
            "2021-12-06 15:41:09.111715\n"
          ]
        }
      ]
    },
    {
      "cell_type": "code",
      "metadata": {
        "colab": {
          "base_uri": "https://localhost:8080/"
        },
        "id": "2BCKGDHvXths",
        "outputId": "176690ad-63fa-4c44-d1c9-f52fed42d9f0"
      },
      "source": [
        "pip --version"
      ],
      "execution_count": 17,
      "outputs": [
        {
          "output_type": "stream",
          "name": "stdout",
          "text": [
            "pip 21.1.3 from /usr/local/lib/python3.7/dist-packages/pip (python 3.7)\n"
          ]
        }
      ]
    },
    {
      "cell_type": "code",
      "metadata": {
        "colab": {
          "base_uri": "https://localhost:8080/"
        },
        "id": "MYVkXddFXtfF",
        "outputId": "eda6571f-c05f-4451-e356-f428d22d7173"
      },
      "source": [
        "try:\n",
        "  print(\"Hello\")\n",
        "except:\n",
        "  print(\"Something went wrong\")\n",
        "else:\n",
        "  print(\"Everything is okay\")"
      ],
      "execution_count": 18,
      "outputs": [
        {
          "output_type": "stream",
          "name": "stdout",
          "text": [
            "Hello\n",
            "Everything is okay\n"
          ]
        }
      ]
    },
    {
      "cell_type": "code",
      "metadata": {
        "colab": {
          "base_uri": "https://localhost:8080/"
        },
        "id": "3T5AR3nHXtdA",
        "outputId": "8d11286a-c030-47b5-baba-961cd6a2a86b"
      },
      "source": [
        "try:\n",
        "  print(x)\n",
        "except:\n",
        "  print(\"Something is wrong\")\n",
        "finally:\n",
        "  print(\"The 'try except' is completed\")"
      ],
      "execution_count": 19,
      "outputs": [
        {
          "output_type": "stream",
          "name": "stdout",
          "text": [
            "Something is wrong\n",
            "The 'try except' is completed\n"
          ]
        }
      ]
    },
    {
      "cell_type": "code",
      "metadata": {
        "colab": {
          "base_uri": "https://localhost:8080/"
        },
        "id": "I-hy8KiyXtas",
        "outputId": "9ff68ba7-7c98-4e2e-b922-7f6a1d8c72a9"
      },
      "source": [
        "def modular_function(n):\n",
        "    return lambda x: x ** n\n",
        "\n",
        "power_of_3 = modular_function(3)\n",
        "print(power_of_3(5))"
      ],
      "execution_count": 20,
      "outputs": [
        {
          "output_type": "stream",
          "name": "stdout",
          "text": [
            "125\n"
          ]
        }
      ]
    },
    {
      "cell_type": "code",
      "metadata": {
        "colab": {
          "base_uri": "https://localhost:8080/"
        },
        "id": "GOBvgEwIXtYC",
        "outputId": "486fcedf-123b-4b28-d533-779f6e3eecbd"
      },
      "source": [
        "print((lambda x: x**3)(5))"
      ],
      "execution_count": 21,
      "outputs": [
        {
          "output_type": "stream",
          "name": "stdout",
          "text": [
            "125\n"
          ]
        }
      ]
    },
    {
      "cell_type": "code",
      "metadata": {
        "colab": {
          "base_uri": "https://localhost:8080/"
        },
        "id": "PqMLjVgOtQSM",
        "outputId": "fe93896d-f318-4fea-b2a0-a315ee5d941d"
      },
      "source": [
        "mean = lambda x, y: (x+y)/2\n",
        "print(mean(8, 10))"
      ],
      "execution_count": 22,
      "outputs": [
        {
          "output_type": "stream",
          "name": "stdout",
          "text": [
            "9.0\n"
          ]
        }
      ]
    },
    {
      "cell_type": "code",
      "metadata": {
        "colab": {
          "base_uri": "https://localhost:8080/"
        },
        "id": "U4HryArztQPo",
        "outputId": "829c68ee-a47d-4ba1-f7a7-4a5a43a24956"
      },
      "source": [
        "multiply = lambda x: x * 4\n",
        "add = lambda x, y: x + y\n",
        "print(add(multiply(10), 5))"
      ],
      "execution_count": 23,
      "outputs": [
        {
          "output_type": "stream",
          "name": "stdout",
          "text": [
            "45\n"
          ]
        }
      ]
    },
    {
      "cell_type": "code",
      "metadata": {
        "colab": {
          "base_uri": "https://localhost:8080/"
        },
        "id": "S3TBevyHtQNP",
        "outputId": "0b48c8dc-d7be-44ca-ed87-9d99f07ea39f"
      },
      "source": [
        "number_list = [1, 2, 3, 4]\n",
        "result = map(lambda x:x**3, number_list)\n",
        "print(list(result)) "
      ],
      "execution_count": 24,
      "outputs": [
        {
          "output_type": "stream",
          "name": "stdout",
          "text": [
            "[1, 8, 27, 64]\n"
          ]
        }
      ]
    },
    {
      "cell_type": "code",
      "metadata": {
        "colab": {
          "base_uri": "https://localhost:8080/"
        },
        "id": "xC_algwCtQK4",
        "outputId": "82acf24b-e9e9-4b9c-ca73-088eb69a1dd9"
      },
      "source": [
        "number_list = [0, 1, 2, 3, 4, 5, 6, 7, 8, 9, 10, 11, 12] \n",
        "divisible_list = filter(lambda x:x%3==0, number_list) \n",
        "print(list(divisible_list))"
      ],
      "execution_count": 25,
      "outputs": [
        {
          "output_type": "stream",
          "name": "stdout",
          "text": [
            "[0, 3, 6, 9, 12]\n"
          ]
        }
      ]
    },
    {
      "cell_type": "code",
      "metadata": {
        "colab": {
          "base_uri": "https://localhost:8080/"
        },
        "id": "98AWg3G_tQIR",
        "outputId": "e08601fd-f764-4aae-ecbf-879a16414dda"
      },
      "source": [
        "number_list=[1, 2, 3, 4, 5, 6, 7, 8, 9, 10]\n",
        "\n",
        "result= list(map(lambda x:x%2!=0,number_list ))\n",
        "print(result)\n",
        "\n"
      ],
      "execution_count": 31,
      "outputs": [
        {
          "output_type": "stream",
          "name": "stdout",
          "text": [
            "[True, False, True, False, True, False, True, False, True, False]\n"
          ]
        }
      ]
    },
    {
      "cell_type": "code",
      "metadata": {
        "id": "9MRPaFRNu42c"
      },
      "source": [
        ""
      ],
      "execution_count": null,
      "outputs": []
    },
    {
      "cell_type": "code",
      "metadata": {
        "id": "oxxZv31hu4zg"
      },
      "source": [
        ""
      ],
      "execution_count": null,
      "outputs": []
    },
    {
      "cell_type": "code",
      "metadata": {
        "id": "AEPmN2lKu4wp"
      },
      "source": [
        ""
      ],
      "execution_count": null,
      "outputs": []
    }
  ]
}