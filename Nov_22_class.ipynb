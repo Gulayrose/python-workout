{
  "nbformat": 4,
  "nbformat_minor": 0,
  "metadata": {
    "colab": {
      "name": "Nov 22 class",
      "provenance": [],
      "authorship_tag": "ABX9TyMOcIm+FdBc2XoMZUvt3QaR",
      "include_colab_link": true
    },
    "kernelspec": {
      "name": "python3",
      "display_name": "Python 3"
    },
    "language_info": {
      "name": "python"
    }
  },
  "cells": [
    {
      "cell_type": "markdown",
      "metadata": {
        "id": "view-in-github",
        "colab_type": "text"
      },
      "source": [
        "<a href=\"https://colab.research.google.com/github/Gulayrose/python-workout/blob/main/Nov_22_class.ipynb\" target=\"_parent\"><img src=\"https://colab.research.google.com/assets/colab-badge.svg\" alt=\"Open In Colab\"/></a>"
      ]
    },
    {
      "cell_type": "code",
      "metadata": {
        "id": "8HtL6-xR0BW6"
      },
      "source": [
        "#Fonksiyon tanımında yazılanlar parametere, \n",
        "#fonksiyon çağırılırken gönderilen nesneler ise argüman."
      ],
      "execution_count": null,
      "outputs": []
    },
    {
      "cell_type": "code",
      "metadata": {
        "colab": {
          "base_uri": "https://localhost:8080/"
        },
        "id": "P600CHKr2gXU",
        "outputId": "27ad5fb9-9e41-44d3-b7be-c1cc9274bc93"
      },
      "source": [
        "a =\"i\"\n",
        "b= \"love\"\n",
        "c= \"you\"\n",
        "def texter(text1,text2,text3) :\n",
        "   print(text2,text3,text1)\n",
        "texter(c,a,b)   "
      ],
      "execution_count": 3,
      "outputs": [
        {
          "output_type": "stream",
          "name": "stdout",
          "text": [
            "i love you\n"
          ]
        }
      ]
    },
    {
      "cell_type": "code",
      "metadata": {
        "colab": {
          "base_uri": "https://localhost:8080/"
        },
        "id": "yMD0JtPE2gac",
        "outputId": "839de181-e5b9-45b9-978a-d03a5869208c"
      },
      "source": [
        "texter(text1 = c, text2 = a, text3= b)"
      ],
      "execution_count": 4,
      "outputs": [
        {
          "output_type": "stream",
          "name": "stdout",
          "text": [
            "i love you\n"
          ]
        }
      ]
    },
    {
      "cell_type": "code",
      "metadata": {
        "colab": {
          "base_uri": "https://localhost:8080/"
        },
        "id": "A1egLjsu2gdD",
        "outputId": "1a83cbd1-5eef-4c38-d3a4-bc111685ee55"
      },
      "source": [
        "def fonksiyon(x= 'ali',y = 22) :\n",
        "   print(x,y ,\"yasindadir\")\n",
        "fonksiyon()   "
      ],
      "execution_count": 7,
      "outputs": [
        {
          "output_type": "stream",
          "name": "stdout",
          "text": [
            "ali 22 yasindadir\n"
          ]
        }
      ]
    },
    {
      "cell_type": "code",
      "metadata": {
        "colab": {
          "base_uri": "https://localhost:8080/"
        },
        "id": "VVkEoM0E2gfo",
        "outputId": "d3ee26b2-c9ab-4f1d-9160-7aac496c18c4"
      },
      "source": [
        "fonksiyon(x = \"deli\",y = 33)"
      ],
      "execution_count": 8,
      "outputs": [
        {
          "output_type": "stream",
          "name": "stdout",
          "text": [
            "deli 33 yasindadir\n"
          ]
        }
      ]
    },
    {
      "cell_type": "code",
      "metadata": {
        "colab": {
          "base_uri": "https://localhost:8080/"
        },
        "id": "AJIvzG4i2giR",
        "outputId": "2d92008e-04d0-410d-e032-92c1d8749053"
      },
      "source": [
        "fonksiyon(\"Veli\" , 40)"
      ],
      "execution_count": 9,
      "outputs": [
        {
          "output_type": "stream",
          "name": "stdout",
          "text": [
            "Veli 40 yasindadir\n"
          ]
        }
      ]
    },
    {
      "cell_type": "code",
      "metadata": {
        "id": "2Ed0hXXg2gkW"
      },
      "source": [
        "#3 sekilde yapabiliriz. fonsiyon() , fonksiyon(x= ,y= ) ,fonksiyon(\"\", ) sekillerinde"
      ],
      "execution_count": null,
      "outputs": []
    },
    {
      "cell_type": "code",
      "metadata": {
        "colab": {
          "base_uri": "https://localhost:8080/"
        },
        "id": "u2MpaJ4O2g9V",
        "outputId": "588149d6-16cb-499a-ae61-29ca5608d758"
      },
      "source": [
        "fonksiyon(\"Selin\") #positional olrak ilk atamaya gitti"
      ],
      "execution_count": 10,
      "outputs": [
        {
          "output_type": "stream",
          "name": "stdout",
          "text": [
            "Selin 22 yasindadir\n"
          ]
        }
      ]
    },
    {
      "cell_type": "code",
      "metadata": {
        "id": "hXTGC4Mm2hAe"
      },
      "source": [
        "def parrot(voltage, state='a stiff', action='voom', type='Norwegian Blue'):\n",
        "    print(\"-- This parrot wouldn't\", action, end=' ')\n",
        "    print(\"if you put\", voltage, \"volts through it.\")\n",
        "    print(\"-- Lovely plumage, the\", type)\n",
        "    print(\"-- It's\", state, \"!\")"
      ],
      "execution_count": 12,
      "outputs": []
    },
    {
      "cell_type": "code",
      "metadata": {
        "colab": {
          "base_uri": "https://localhost:8080/"
        },
        "id": "cxoEw4G32hDG",
        "outputId": "b96072e1-cea0-4e58-85f7-d38460673029"
      },
      "source": [
        "parrot(1000)"
      ],
      "execution_count": 13,
      "outputs": [
        {
          "output_type": "stream",
          "name": "stdout",
          "text": [
            "-- This parrot wouldn't voom if you put 1000 volts through it.\n",
            "-- Lovely plumage, the Norwegian Blue\n",
            "-- It's a stiff !\n"
          ]
        }
      ]
    },
    {
      "cell_type": "code",
      "metadata": {
        "colab": {
          "base_uri": "https://localhost:8080/"
        },
        "id": "mOVO1_bk2hF8",
        "outputId": "8890c20b-c0a2-4ae2-e88b-ec47475c7220"
      },
      "source": [
        "parrot(voltage=1000000, action='VOOOOOM') "
      ],
      "execution_count": 14,
      "outputs": [
        {
          "output_type": "stream",
          "name": "stdout",
          "text": [
            "-- This parrot wouldn't VOOOOOM if you put 1000000 volts through it.\n",
            "-- Lovely plumage, the Norwegian Blue\n",
            "-- It's a stiff !\n"
          ]
        }
      ]
    },
    {
      "cell_type": "code",
      "metadata": {
        "colab": {
          "base_uri": "https://localhost:8080/"
        },
        "id": "3kjK8pbM2hJn",
        "outputId": "8b4d72e8-95f1-45d3-8903-7a0ba69d650c"
      },
      "source": [
        "parrot(action='VOOOOOM', voltage=1000000)\n"
      ],
      "execution_count": 15,
      "outputs": [
        {
          "output_type": "stream",
          "name": "stdout",
          "text": [
            "-- This parrot wouldn't VOOOOOM if you put 1000000 volts through it.\n",
            "-- Lovely plumage, the Norwegian Blue\n",
            "-- It's a stiff !\n"
          ]
        }
      ]
    },
    {
      "cell_type": "code",
      "metadata": {
        "id": "rbKLMPBH2hMd"
      },
      "source": [
        "def parrot(voltage, state='a stiff', action='voom', type='Norwegian Blue'):\n",
        "    print(\"-- This parrot wouldn't\", action, end=' ')\n",
        "    print(\"if you put\", voltage, \"volts through it.\")\n",
        "    print(\"-- Lovely plumage, the\", type)\n",
        "    print(\"-- It's\", state, \"!\")"
      ],
      "execution_count": null,
      "outputs": []
    },
    {
      "cell_type": "code",
      "metadata": {
        "colab": {
          "base_uri": "https://localhost:8080/"
        },
        "id": "M875FlqZ2hPD",
        "outputId": "6ce53986-d45e-401a-f927-b443c52fb649"
      },
      "source": [
        "parrot(\"a million\", \"bereft of life\", \"jump\") # sirayla voltage,state,action yerine bunlar yazar"
      ],
      "execution_count": 16,
      "outputs": [
        {
          "output_type": "stream",
          "name": "stdout",
          "text": [
            "-- This parrot wouldn't jump if you put a million volts through it.\n",
            "-- Lovely plumage, the Norwegian Blue\n",
            "-- It's bereft of life !\n"
          ]
        }
      ]
    },
    {
      "cell_type": "code",
      "metadata": {
        "colab": {
          "base_uri": "https://localhost:8080/"
        },
        "id": "juUY-oQW2hR7",
        "outputId": "caeb8c7e-8530-4ad4-a205-8bceb97bd46d"
      },
      "source": [
        "parrot(\" a thousand\", state= \"pushing up the daisies\")"
      ],
      "execution_count": 18,
      "outputs": [
        {
          "output_type": "stream",
          "name": "stdout",
          "text": [
            "-- This parrot wouldn't voom if you put  a thousand volts through it.\n",
            "-- Lovely plumage, the Norwegian Blue\n",
            "-- It's pushing up the daisies !\n"
          ]
        }
      ]
    },
    {
      "cell_type": "code",
      "metadata": {
        "colab": {
          "base_uri": "https://localhost:8080/",
          "height": 130
        },
        "id": "iG-EwW2s2hUy",
        "outputId": "6944981a-daaa-4098-9211-726a9405f71c"
      },
      "source": [
        "parrot(voltage = 5, 'dead')"
      ],
      "execution_count": 19,
      "outputs": [
        {
          "output_type": "error",
          "ename": "SyntaxError",
          "evalue": "ignored",
          "traceback": [
            "\u001b[0;36m  File \u001b[0;32m\"<ipython-input-19-f7b85801c89a>\"\u001b[0;36m, line \u001b[0;32m1\u001b[0m\n\u001b[0;31m    parrot(voltage = 5, 'dead')\u001b[0m\n\u001b[0m                       ^\u001b[0m\n\u001b[0;31mSyntaxError\u001b[0m\u001b[0;31m:\u001b[0m positional argument follows keyword argument\n"
          ]
        }
      ]
    },
    {
      "cell_type": "code",
      "metadata": {
        "colab": {
          "base_uri": "https://localhost:8080/",
          "height": 130
        },
        "id": "F4OGjUAr2hb0",
        "outputId": "e3186a81-75e9-4fe0-e517-9215f3bc7988"
      },
      "source": [
        "parrot(state= 'ball','a billion')"
      ],
      "execution_count": 20,
      "outputs": [
        {
          "output_type": "error",
          "ename": "SyntaxError",
          "evalue": "ignored",
          "traceback": [
            "\u001b[0;36m  File \u001b[0;32m\"<ipython-input-20-48b247130502>\"\u001b[0;36m, line \u001b[0;32m1\u001b[0m\n\u001b[0;31m    parrot(state= 'ball','a billion')\u001b[0m\n\u001b[0m                        ^\u001b[0m\n\u001b[0;31mSyntaxError\u001b[0m\u001b[0;31m:\u001b[0m positional argument follows keyword argument\n"
          ]
        }
      ]
    },
    {
      "cell_type": "code",
      "metadata": {
        "id": "YC0JTuek2heb"
      },
      "source": [
        "def argu(a,b = 'Dunya',c,d ='saturn') :\n",
        "    print(a,b,c,d, sep = \"\\n\") # once positionallar bitecek daha sonra key ler yazilacak"
      ],
      "execution_count": null,
      "outputs": []
    },
    {
      "cell_type": "code",
      "metadata": {
        "colab": {
          "base_uri": "https://localhost:8080/",
          "height": 198
        },
        "id": "p3vQbtcL2hjr",
        "outputId": "04ac4d0e-5a9f-45d7-f5a5-884379c5750e"
      },
      "source": [
        "def argu(a, c ,b = 'Dunya',d ='saturn') :\n",
        "    print(a,b,c,d, sep = \"\\n\") \n",
        "argu() #hata verir.cunku a ve c nin degerini atamadik.2 tane positioanl veriye ihtiyacim var der"
      ],
      "execution_count": 24,
      "outputs": [
        {
          "output_type": "error",
          "ename": "TypeError",
          "evalue": "ignored",
          "traceback": [
            "\u001b[0;31m---------------------------------------------------------------------------\u001b[0m",
            "\u001b[0;31mTypeError\u001b[0m                                 Traceback (most recent call last)",
            "\u001b[0;32m<ipython-input-24-6f7f7ef6949d>\u001b[0m in \u001b[0;36m<module>\u001b[0;34m()\u001b[0m\n\u001b[1;32m      1\u001b[0m \u001b[0;32mdef\u001b[0m \u001b[0margu\u001b[0m\u001b[0;34m(\u001b[0m\u001b[0ma\u001b[0m\u001b[0;34m,\u001b[0m \u001b[0mc\u001b[0m \u001b[0;34m,\u001b[0m\u001b[0mb\u001b[0m \u001b[0;34m=\u001b[0m \u001b[0;34m'Dunya'\u001b[0m\u001b[0;34m,\u001b[0m\u001b[0md\u001b[0m \u001b[0;34m=\u001b[0m\u001b[0;34m'saturn'\u001b[0m\u001b[0;34m)\u001b[0m \u001b[0;34m:\u001b[0m\u001b[0;34m\u001b[0m\u001b[0;34m\u001b[0m\u001b[0m\n\u001b[1;32m      2\u001b[0m     \u001b[0mprint\u001b[0m\u001b[0;34m(\u001b[0m\u001b[0ma\u001b[0m\u001b[0;34m,\u001b[0m\u001b[0mb\u001b[0m\u001b[0;34m,\u001b[0m\u001b[0mc\u001b[0m\u001b[0;34m,\u001b[0m\u001b[0md\u001b[0m\u001b[0;34m,\u001b[0m \u001b[0msep\u001b[0m \u001b[0;34m=\u001b[0m \u001b[0;34m\"\\n\"\u001b[0m\u001b[0;34m)\u001b[0m\u001b[0;34m\u001b[0m\u001b[0;34m\u001b[0m\u001b[0m\n\u001b[0;32m----> 3\u001b[0;31m \u001b[0margu\u001b[0m\u001b[0;34m(\u001b[0m\u001b[0;34m)\u001b[0m\u001b[0;34m\u001b[0m\u001b[0;34m\u001b[0m\u001b[0m\n\u001b[0m",
            "\u001b[0;31mTypeError\u001b[0m: argu() missing 2 required positional arguments: 'a' and 'c'"
          ]
        }
      ]
    },
    {
      "cell_type": "code",
      "metadata": {
        "colab": {
          "base_uri": "https://localhost:8080/"
        },
        "id": "hE_Yj2lx_HpO",
        "outputId": "d0e9599e-8fb3-4ed9-f56d-7c8f43a19748"
      },
      "source": [
        "argu(\"uranus\",\"jubiter\")#a ve c ye bunlari atar b ve d nin degerli zaten vardi"
      ],
      "execution_count": 25,
      "outputs": [
        {
          "output_type": "stream",
          "name": "stdout",
          "text": [
            "uranus\n",
            "Dunya\n",
            "jubiter\n",
            "saturn\n"
          ]
        }
      ]
    },
    {
      "cell_type": "code",
      "metadata": {
        "colab": {
          "base_uri": "https://localhost:8080/"
        },
        "id": "3gDFnPoO_Hmf",
        "outputId": "2bb79e3b-624b-4de1-e6bb-f59db8b5e9ee"
      },
      "source": [
        "argu(a = \"uranus\", c = \"jubiter\")"
      ],
      "execution_count": 26,
      "outputs": [
        {
          "output_type": "stream",
          "name": "stdout",
          "text": [
            "uranus\n",
            "Dunya\n",
            "jubiter\n",
            "saturn\n"
          ]
        }
      ]
    },
    {
      "cell_type": "code",
      "metadata": {
        "colab": {
          "base_uri": "https://localhost:8080/",
          "height": 130
        },
        "id": "3FExcuSm_Hj-",
        "outputId": "71e471a3-b859-43d1-b472-b6fc7c44e0f9"
      },
      "source": [
        "argu(\"pluto\",c=\"venus\",\"mars\")"
      ],
      "execution_count": 27,
      "outputs": [
        {
          "output_type": "error",
          "ename": "SyntaxError",
          "evalue": "ignored",
          "traceback": [
            "\u001b[0;36m  File \u001b[0;32m\"<ipython-input-27-3e9a8a189eed>\"\u001b[0;36m, line \u001b[0;32m1\u001b[0m\n\u001b[0;31m    argu(\"pluto\",c=\"venus\",\"mars\")\u001b[0m\n\u001b[0m                          ^\u001b[0m\n\u001b[0;31mSyntaxError\u001b[0m\u001b[0;31m:\u001b[0m positional argument follows keyword argument\n"
          ]
        }
      ]
    },
    {
      "cell_type": "code",
      "metadata": {
        "colab": {
          "base_uri": "https://localhost:8080/",
          "height": 164
        },
        "id": "CjD12Z05_HhB",
        "outputId": "93f729be-2555-4bf2-84f2-6f6a6069d89c"
      },
      "source": [
        "argu(\"pluto\",\"mars\",c = \"venus\") # c ye zten atama yapmistik.iki kere atama yapamayiz o yuzden hata verir."
      ],
      "execution_count": 28,
      "outputs": [
        {
          "output_type": "error",
          "ename": "TypeError",
          "evalue": "ignored",
          "traceback": [
            "\u001b[0;31m---------------------------------------------------------------------------\u001b[0m",
            "\u001b[0;31mTypeError\u001b[0m                                 Traceback (most recent call last)",
            "\u001b[0;32m<ipython-input-28-fa81097bded4>\u001b[0m in \u001b[0;36m<module>\u001b[0;34m()\u001b[0m\n\u001b[0;32m----> 1\u001b[0;31m \u001b[0margu\u001b[0m\u001b[0;34m(\u001b[0m\u001b[0;34m\"pluto\"\u001b[0m\u001b[0;34m,\u001b[0m\u001b[0;34m\"mars\"\u001b[0m\u001b[0;34m,\u001b[0m\u001b[0mc\u001b[0m \u001b[0;34m=\u001b[0m \u001b[0;34m\"venus\"\u001b[0m\u001b[0;34m)\u001b[0m\u001b[0;34m\u001b[0m\u001b[0;34m\u001b[0m\u001b[0m\n\u001b[0m",
            "\u001b[0;31mTypeError\u001b[0m: argu() got multiple values for argument 'c'"
          ]
        }
      ]
    },
    {
      "cell_type": "code",
      "metadata": {
        "colab": {
          "base_uri": "https://localhost:8080/"
        },
        "id": "7CNsbriR_HdZ",
        "outputId": "0ffd88eb-87ff-4a92-ee97-881da654c2d6"
      },
      "source": [
        "argu(d =\"Gunes\", a= \"Dunya\", c = \"pluto\", b = \"venus\")"
      ],
      "execution_count": 29,
      "outputs": [
        {
          "output_type": "stream",
          "name": "stdout",
          "text": [
            "Dunya\n",
            "venus\n",
            "pluto\n",
            "Gunes\n"
          ]
        }
      ]
    },
    {
      "cell_type": "code",
      "metadata": {
        "colab": {
          "base_uri": "https://localhost:8080/"
        },
        "id": "C95HaWpZF840",
        "outputId": "a1dcd708-e472-435a-df3b-8effb048389f"
      },
      "source": [
        "argu(\"gunes\", \"dunya\", \"pluto\", \"venus\") #normal siralamadan farkli cikti olur"
      ],
      "execution_count": 30,
      "outputs": [
        {
          "output_type": "stream",
          "name": "stdout",
          "text": [
            "gunes\n",
            "pluto\n",
            "dunya\n",
            "venus\n"
          ]
        }
      ]
    },
    {
      "cell_type": "code",
      "metadata": {
        "id": "Vtxxp7dgF82r"
      },
      "source": [
        "    #### ARBITRARY NUMBER OF ARGUMENTS ####\n",
        "    "
      ],
      "execution_count": null,
      "outputs": []
    },
    {
      "cell_type": "code",
      "metadata": {
        "id": "0UUMDOzqF80D"
      },
      "source": [
        "#Armstrong number "
      ],
      "execution_count": null,
      "outputs": []
    },
    {
      "cell_type": "code",
      "metadata": {
        "colab": {
          "base_uri": "https://localhost:8080/"
        },
        "id": "Xf1bgv20F8xf",
        "outputId": "9c1a23a3-b55d-4a7c-b427-4977f3403f95"
      },
      "source": [
        "while True :\n",
        "  number= input(\"enter a positive number :\")\n",
        "  digits = len(number)\n",
        "  summ = 0 \n",
        "  if  not number.isdigit() :\n",
        "    print(number, 'is invalid entry.Enter valid input .')\n",
        "\n",
        "  elif int(number) >= 0 :\n",
        "      for i in range(digits) :\n",
        "\n",
        "         summ = summ + int(number[i]) ** digits\n",
        "      if summ ==int(number):\n",
        "         print(number, \"is an Armstrong number\")\n",
        "         break\n",
        "\n",
        "      else :\n",
        "         print(number, \"is not an armstrong number\")\n",
        "         break      \n"
      ],
      "execution_count": 35,
      "outputs": [
        {
          "output_type": "stream",
          "name": "stdout",
          "text": [
            "enter a positive number :467398\n",
            "467398 is not an armstrong number\n"
          ]
        }
      ]
    },
    {
      "cell_type": "code",
      "metadata": {
        "id": "uU-lpuV7F8u3"
      },
      "source": [
        "  ### Prime Number ###"
      ],
      "execution_count": null,
      "outputs": []
    },
    {
      "cell_type": "code",
      "metadata": {
        "colab": {
          "base_uri": "https://localhost:8080/"
        },
        "id": "F7s6OpxvF8sA",
        "outputId": "6525a29a-92c3-46d3-d988-889a91bda33c"
      },
      "source": [
        "n = int(input(\"Enter a positive number to check if it is a Prime Number :\"))\n",
        "counter = 0\n",
        "for i in range(1,n+1) :\n",
        "   if n % i ==0  :\n",
        "     counter += 1\n",
        "if (n==0) or (n==1) or (counter >=3) :\n",
        "  print(n, \"is not a Prime Number\") \n",
        "else :\n",
        "  print(n, \"is a Prim number\")      \n",
        "\n"
      ],
      "execution_count": 1,
      "outputs": [
        {
          "output_type": "stream",
          "name": "stdout",
          "text": [
            "Enter a positive number to check if it is a Prime Number :57\n",
            "57 is not a Prime Number\n"
          ]
        }
      ]
    },
    {
      "cell_type": "code",
      "metadata": {
        "id": "UjWdI92hF8pG"
      },
      "source": [
        ""
      ],
      "execution_count": null,
      "outputs": []
    },
    {
      "cell_type": "code",
      "metadata": {
        "id": "MPmw1qV3F8mA"
      },
      "source": [
        ""
      ],
      "execution_count": null,
      "outputs": []
    },
    {
      "cell_type": "code",
      "metadata": {
        "id": "BDMTCuQLF8jI"
      },
      "source": [
        ""
      ],
      "execution_count": null,
      "outputs": []
    },
    {
      "cell_type": "code",
      "metadata": {
        "id": "ueSOf494F8gR"
      },
      "source": [
        ""
      ],
      "execution_count": null,
      "outputs": []
    },
    {
      "cell_type": "code",
      "metadata": {
        "id": "cFXiABOjF8da"
      },
      "source": [
        ""
      ],
      "execution_count": null,
      "outputs": []
    },
    {
      "cell_type": "code",
      "metadata": {
        "id": "trvnREOzF8ai"
      },
      "source": [
        ""
      ],
      "execution_count": null,
      "outputs": []
    },
    {
      "cell_type": "code",
      "metadata": {
        "id": "chwUJV24F8XJ"
      },
      "source": [
        ""
      ],
      "execution_count": null,
      "outputs": []
    },
    {
      "cell_type": "code",
      "metadata": {
        "id": "WXVzwLKYF8TO"
      },
      "source": [
        ""
      ],
      "execution_count": null,
      "outputs": []
    },
    {
      "cell_type": "code",
      "metadata": {
        "id": "Eltvm6eRF8Nw"
      },
      "source": [
        ""
      ],
      "execution_count": null,
      "outputs": []
    }
  ]
}