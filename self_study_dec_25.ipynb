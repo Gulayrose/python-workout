{
  "nbformat": 4,
  "nbformat_minor": 0,
  "metadata": {
    "colab": {
      "name": "self study dec 25",
      "provenance": [],
      "authorship_tag": "ABX9TyOXrHKKiIuchm3dn9qWZ18b",
      "include_colab_link": true
    },
    "kernelspec": {
      "name": "python3",
      "display_name": "Python 3"
    },
    "language_info": {
      "name": "python"
    }
  },
  "cells": [
    {
      "cell_type": "markdown",
      "metadata": {
        "id": "view-in-github",
        "colab_type": "text"
      },
      "source": [
        "<a href=\"https://colab.research.google.com/github/Gulayrose/python-workout/blob/main/self_study_dec_25.ipynb\" target=\"_parent\"><img src=\"https://colab.research.google.com/assets/colab-badge.svg\" alt=\"Open In Colab\"/></a>"
      ]
    },
    {
      "cell_type": "code",
      "execution_count": null,
      "metadata": {
        "colab": {
          "base_uri": "https://localhost:8080/"
        },
        "id": "45gL14BwZiq-",
        "outputId": "32f4cf45-428e-4dea-ad81-675f14f27ecb"
      },
      "outputs": [
        {
          "output_type": "stream",
          "name": "stdout",
          "text": [
            "Enter a number :0.9\n",
            "A\n"
          ]
        }
      ],
      "source": [
        "s = float(input(\"Enter a number :\"))\n",
        "if 0.0 <= s <=1.0 :\n",
        "  if s>= 0.9:\n",
        "    print(\"A\")\n",
        "  elif s >=0.8:\n",
        "    print(\"B\")\n",
        "  elif s >= 0.7:\n",
        "    print(\"C\")\n",
        "  elif s >= 0.6:\n",
        "    print(\"D\")      "
      ]
    },
    {
      "cell_type": "code",
      "source": [
        ""
      ],
      "metadata": {
        "id": "ArwEo_Z4o-Tj"
      },
      "execution_count": null,
      "outputs": []
    },
    {
      "cell_type": "code",
      "source": [
        "word= input(\"Enter a sentensez:\")\n",
        "if word.isupper() or word.islower() :\n",
        "  print(\"True\")\n",
        "else :\n",
        "  print(\"False\")  "
      ],
      "metadata": {
        "colab": {
          "base_uri": "https://localhost:8080/"
        },
        "id": "Q5hdy95OZ6Dl",
        "outputId": "82e96e56-cd11-46e8-dd7e-ebb8921a236f"
      },
      "execution_count": null,
      "outputs": [
        {
          "output_type": "stream",
          "name": "stdout",
          "text": [
            "Enter a sentensez:AajidjifKJ\n",
            "False\n"
          ]
        }
      ]
    },
    {
      "cell_type": "code",
      "source": [
        "# sayiyi kalansiz bolen sayilari bulan fonk yaziniz.asal carpan bul\n",
        "def kalansiz (sayi):\n",
        "  liste = []  \n",
        "  for i in range(1,sayi+1):\n",
        "    if sayi % i ==0:\n",
        "      liste.append(i)\n",
        "  return liste\n",
        "kalansiz(10)      "
      ],
      "metadata": {
        "colab": {
          "base_uri": "https://localhost:8080/"
        },
        "id": "_1-_bFuwZ6F5",
        "outputId": "4b479202-3239-4396-e0db-d1495b55c12e"
      },
      "execution_count": null,
      "outputs": [
        {
          "output_type": "execute_result",
          "data": {
            "text/plain": [
              "[1, 2, 5, 10]"
            ]
          },
          "metadata": {},
          "execution_count": 7
        }
      ]
    },
    {
      "cell_type": "code",
      "source": [
        "#kelimenin icindeki sesli harfleri cikartin\n",
        "def sessiz_yap(cumle):\n",
        "  vowel = [\"a\",\"e\",\"i\",\"o\",\"u\"]\n",
        "  for i in set(cumle):\n",
        "    if i in vowel:\n",
        "      cumle=cumle.replace(i,\"\")\n",
        "  return cumle    \n"
      ],
      "metadata": {
        "id": "mlCedOjiZ6Ig"
      },
      "execution_count": null,
      "outputs": []
    },
    {
      "cell_type": "code",
      "source": [
        "sessiz_yap(\"hayat insana heran gulmuyo\")"
      ],
      "metadata": {
        "colab": {
          "base_uri": "https://localhost:8080/",
          "height": 35
        },
        "id": "xqo0uKj1Z6K2",
        "outputId": "08a41ca4-b7dd-4832-ccd9-2705e180b19e"
      },
      "execution_count": null,
      "outputs": [
        {
          "output_type": "execute_result",
          "data": {
            "application/vnd.google.colaboratory.intrinsic+json": {
              "type": "string"
            },
            "text/plain": [
              "'hyt nsn hrn glmy'"
            ]
          },
          "metadata": {},
          "execution_count": 11
        }
      ]
    },
    {
      "cell_type": "code",
      "source": [
        "def sessiz_yap(cumle):\n",
        "  vowel = [\"a\",\"e\",\"i\",\"o\",\"u\"]\n",
        "  yeni = \"\"\n",
        "  for i in cumle :\n",
        "    if i not in vowel :\n",
        "      yeni += i\n",
        "  return yeni \n",
        "sessiz_yap(\"hemen bir sevgili vermiyo\")      "
      ],
      "metadata": {
        "colab": {
          "base_uri": "https://localhost:8080/",
          "height": 35
        },
        "id": "OInNr7EqZ6M7",
        "outputId": "1406762b-bedb-47af-b228-07b411cb2b01"
      },
      "execution_count": null,
      "outputs": [
        {
          "output_type": "execute_result",
          "data": {
            "application/vnd.google.colaboratory.intrinsic+json": {
              "type": "string"
            },
            "text/plain": [
              "'hmn br svgl vrmy'"
            ]
          },
          "metadata": {},
          "execution_count": 12
        }
      ]
    },
    {
      "cell_type": "code",
      "source": [
        ""
      ],
      "metadata": {
        "id": "w_Nj6ifWZ6PE"
      },
      "execution_count": null,
      "outputs": []
    },
    {
      "cell_type": "code",
      "source": [
        ""
      ],
      "metadata": {
        "id": "MJQyLX9oZ6RY"
      },
      "execution_count": null,
      "outputs": []
    },
    {
      "cell_type": "code",
      "source": [
        ""
      ],
      "metadata": {
        "id": "JsPO6vT4Z6Td"
      },
      "execution_count": null,
      "outputs": []
    },
    {
      "cell_type": "code",
      "source": [
        ""
      ],
      "metadata": {
        "id": "XxzZUi2-Z6Vj"
      },
      "execution_count": null,
      "outputs": []
    },
    {
      "cell_type": "code",
      "source": [
        ""
      ],
      "metadata": {
        "id": "aOYqNu7DZ6Xw"
      },
      "execution_count": null,
      "outputs": []
    },
    {
      "cell_type": "code",
      "source": [
        ""
      ],
      "metadata": {
        "id": "zYhezJ6LZ6Zw"
      },
      "execution_count": null,
      "outputs": []
    },
    {
      "cell_type": "code",
      "source": [
        ""
      ],
      "metadata": {
        "id": "493Jeb4wZ6cF"
      },
      "execution_count": null,
      "outputs": []
    }
  ]
}