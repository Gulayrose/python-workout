{
  "nbformat": 4,
  "nbformat_minor": 0,
  "metadata": {
    "colab": {
      "name": "my self ",
      "provenance": [],
      "authorship_tag": "ABX9TyNEYpjIDyKmVEDEEbWvTkW+",
      "include_colab_link": true
    },
    "kernelspec": {
      "name": "python3",
      "display_name": "Python 3"
    },
    "language_info": {
      "name": "python"
    }
  },
  "cells": [
    {
      "cell_type": "markdown",
      "metadata": {
        "id": "view-in-github",
        "colab_type": "text"
      },
      "source": [
        "<a href=\"https://colab.research.google.com/github/Gulayrose/python-workout/blob/main/my_self.ipynb\" target=\"_parent\"><img src=\"https://colab.research.google.com/assets/colab-badge.svg\" alt=\"Open In Colab\"/></a>"
      ]
    },
    {
      "cell_type": "code",
      "metadata": {
        "colab": {
          "base_uri": "https://localhost:8080/"
        },
        "id": "DjjU0asMJmyK",
        "outputId": "7084bc69-8440-4862-e3b3-aad78983c42c"
      },
      "source": [
        "liste=[[1,2],[3,4],[5,6]]\n",
        "for x,y in liste:\n",
        "   print(x*y)"
      ],
      "execution_count": null,
      "outputs": [
        {
          "output_type": "stream",
          "name": "stdout",
          "text": [
            "2\n",
            "12\n",
            "30\n"
          ]
        }
      ]
    },
    {
      "cell_type": "code",
      "metadata": {
        "colab": {
          "base_uri": "https://localhost:8080/"
        },
        "id": "PuKlSrsOKQsk",
        "outputId": "9f700194-f25d-4d7c-af0e-e9929b51e312"
      },
      "source": [
        "number ='345'\n",
        "for i in number:\n",
        "   i = int(i)**len(number) \n",
        "   print(i)\n"
      ],
      "execution_count": null,
      "outputs": [
        {
          "output_type": "stream",
          "name": "stdout",
          "text": [
            "27\n",
            "64\n",
            "125\n"
          ]
        }
      ]
    },
    {
      "cell_type": "code",
      "metadata": {
        "colab": {
          "base_uri": "https://localhost:8080/"
        },
        "id": "4APV_WGbMbNb",
        "outputId": "f085f209-8537-4f6b-b572-0e41ac21543e"
      },
      "source": [
        "kullanici={\n",
        "    'ad' :'Naz',\n",
        "    'soyad': 'Geliver'\n",
        "} \n",
        "print(kullanici.keys())\n",
        "print(kullanici.values())\n",
        "print(kullanici.items())\n"
      ],
      "execution_count": null,
      "outputs": [
        {
          "output_type": "stream",
          "name": "stdout",
          "text": [
            "dict_keys(['ad', 'soyad'])\n",
            "dict_values(['Naz', 'Geliver'])\n",
            "dict_items([('ad', 'Naz'), ('soyad', 'Geliver')])\n"
          ]
        }
      ]
    },
    {
      "cell_type": "code",
      "metadata": {
        "colab": {
          "base_uri": "https://localhost:8080/"
        },
        "id": "6HViiLMZMbKj",
        "outputId": "00c4cc04-6cf5-4d94-ac92-bbfa6a44dc96"
      },
      "source": [
        "for keys,values in kullanici.items() :\n",
        "   print(\"Key : {} \\t and \\nValue :{}\".format(keys,values))\n"
      ],
      "execution_count": null,
      "outputs": [
        {
          "output_type": "stream",
          "name": "stdout",
          "text": [
            "Key : ad \t and \n",
            "Value :Naz\n",
            "Key : soyad \t and \n",
            "Value :Geliver\n"
          ]
        }
      ]
    },
    {
      "cell_type": "code",
      "metadata": {
        "colab": {
          "base_uri": "https://localhost:8080/"
        },
        "id": "MKJ-DgTVMbH8",
        "outputId": "77e78db8-af21-4071-e9a0-3690ff5fdfac"
      },
      "source": [
        "for keys in kullanici.keys():\n",
        "   print(\"Key: {}\".format(keys))"
      ],
      "execution_count": null,
      "outputs": [
        {
          "output_type": "stream",
          "name": "stdout",
          "text": [
            "Key: ad\n",
            "Key: soyad\n"
          ]
        }
      ]
    },
    {
      "cell_type": "code",
      "metadata": {
        "colab": {
          "base_uri": "https://localhost:8080/"
        },
        "id": "Vv99xePUMbFH",
        "outputId": "8fb5e61f-7e98-4828-e96a-042c10bf7932"
      },
      "source": [
        "# while <sart dogruyken> burda yazacagimiz herzman true oldugunda calisir.False ise alt taraf da calismaz \n",
        "#.  <burada yazilani yap>\n",
        "x = 0\n",
        "while x < 10 :\n",
        "  print(\"{} degeri 10 dan kucuktur\" .format(x))\n",
        "  x +=1"
      ],
      "execution_count": null,
      "outputs": [
        {
          "output_type": "stream",
          "name": "stdout",
          "text": [
            "0 degeri 10 dan kucuktur\n",
            "1 degeri 10 dan kucuktur\n",
            "2 degeri 10 dan kucuktur\n",
            "3 degeri 10 dan kucuktur\n",
            "4 degeri 10 dan kucuktur\n",
            "5 degeri 10 dan kucuktur\n",
            "6 degeri 10 dan kucuktur\n",
            "7 degeri 10 dan kucuktur\n",
            "8 degeri 10 dan kucuktur\n",
            "9 degeri 10 dan kucuktur\n"
          ]
        }
      ]
    },
    {
      "cell_type": "code",
      "metadata": {
        "colab": {
          "base_uri": "https://localhost:8080/"
        },
        "id": "Ypiacnr2Ma_X",
        "outputId": "2a02d9f2-ed45-48c9-9e53-5bb27b0f620f"
      },
      "source": [
        "             ##FAKTORIYEL SAYISI ##\n",
        "sayi = 6\n",
        "sonuc= 1\n",
        "while sayi > 0 :\n",
        "  sonuc = sonuc * sayi\n",
        "  sayi -= 1\n",
        "print(sonuc)  "
      ],
      "execution_count": null,
      "outputs": [
        {
          "output_type": "stream",
          "name": "stdout",
          "text": [
            "720\n"
          ]
        }
      ]
    },
    {
      "cell_type": "code",
      "metadata": {
        "colab": {
          "base_uri": "https://localhost:8080/"
        },
        "id": "Zlbtbz1oMa8f",
        "outputId": "7c16b754-d2c2-4e6e-e049-10322b971871"
      },
      "source": [
        "ulkeler=['TR','EN','ABD']\n",
        "siralama = range(1,6,2)\n",
        "for ulke in zip(ulkeler,siralama) :\n",
        "  print(ulke)"
      ],
      "execution_count": null,
      "outputs": [
        {
          "output_type": "stream",
          "name": "stdout",
          "text": [
            "('TR', 1)\n",
            "('EN', 3)\n",
            "('ABD', 5)\n"
          ]
        }
      ]
    },
    {
      "cell_type": "code",
      "metadata": {
        "id": "9gbvutqAMa5o"
      },
      "source": [
        ""
      ],
      "execution_count": null,
      "outputs": []
    },
    {
      "cell_type": "code",
      "metadata": {
        "id": "BeHLDuYXMa2v"
      },
      "source": [
        ""
      ],
      "execution_count": null,
      "outputs": []
    },
    {
      "cell_type": "code",
      "metadata": {
        "id": "UXNvZwWNMarS"
      },
      "source": [
        ""
      ],
      "execution_count": null,
      "outputs": []
    }
  ]
}