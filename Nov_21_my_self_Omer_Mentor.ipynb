{
  "nbformat": 4,
  "nbformat_minor": 0,
  "metadata": {
    "colab": {
      "name": "Nov 21 my self Omer Mentor",
      "provenance": [],
      "authorship_tag": "ABX9TyM7WsLZq4nOPtINBV/mrKGX",
      "include_colab_link": true
    },
    "kernelspec": {
      "name": "python3",
      "display_name": "Python 3"
    },
    "language_info": {
      "name": "python"
    }
  },
  "cells": [
    {
      "cell_type": "markdown",
      "metadata": {
        "id": "view-in-github",
        "colab_type": "text"
      },
      "source": [
        "<a href=\"https://colab.research.google.com/github/Gulayrose/python-workout/blob/main/Nov_21_my_self_Omer_Mentor.ipynb\" target=\"_parent\"><img src=\"https://colab.research.google.com/assets/colab-badge.svg\" alt=\"Open In Colab\"/></a>"
      ]
    },
    {
      "cell_type": "code",
      "metadata": {
        "colab": {
          "base_uri": "https://localhost:8080/"
        },
        "id": "Zd46n9iVWahb",
        "outputId": "192d8216-9a67-40c2-c453-b7655050fe4f"
      },
      "source": [
        "def my_function(a,b):\n",
        "  return a*b \n",
        "print(my_function(10,20))"
      ],
      "execution_count": 3,
      "outputs": [
        {
          "output_type": "stream",
          "name": "stdout",
          "text": [
            "200\n"
          ]
        }
      ]
    },
    {
      "cell_type": "code",
      "metadata": {
        "colab": {
          "base_uri": "https://localhost:8080/"
        },
        "id": "hENLpkM8XYEN",
        "outputId": "b8eab7af-f295-4541-da0f-2f0f707b140e"
      },
      "source": [
        "def your_function(a, b):\n",
        "  hypotenuse= (a**2 + b**2)**0.5\n",
        "  return hypotenuse\n",
        "print(your_function(3,4))"
      ],
      "execution_count": 4,
      "outputs": [
        {
          "output_type": "stream",
          "name": "stdout",
          "text": [
            "5.0\n"
          ]
        }
      ]
    },
    {
      "cell_type": "code",
      "metadata": {
        "colab": {
          "base_uri": "https://localhost:8080/"
        },
        "id": "MY3v1hFIXX_R",
        "outputId": "7cf3e3ee-f7f0-41e4-b69d-b3c6ea53b3d3"
      },
      "source": [
        "def xrea(a, b):\n",
        "  area= (a+b)*2\n",
        "  return area\n",
        "print(xrea(6,8)) "
      ],
      "execution_count": 6,
      "outputs": [
        {
          "output_type": "stream",
          "name": "stdout",
          "text": [
            "28\n"
          ]
        }
      ]
    },
    {
      "cell_type": "code",
      "metadata": {
        "colab": {
          "base_uri": "https://localhost:8080/"
        },
        "id": "R9ayIqYDXX6U",
        "outputId": "15f9ff8e-b4ea-47c5-e140-05f764128e61"
      },
      "source": [
        "def longer(a,b):\n",
        "  if len(a) >= len(b):\n",
        "     return a\n",
        "  else :\n",
        "     return b\n",
        "print(longer('Richard','John'))        "
      ],
      "execution_count": 7,
      "outputs": [
        {
          "output_type": "stream",
          "name": "stdout",
          "text": [
            "Richard\n"
          ]
        }
      ]
    },
    {
      "cell_type": "code",
      "metadata": {
        "colab": {
          "base_uri": "https://localhost:8080/",
          "height": 130
        },
        "id": "YyaCohlGXX39",
        "outputId": "4ce7a492-4fa3-4f25-eea6-f7ab62961918"
      },
      "source": [
        "a= (5,)\n",
        " for i in a\n",
        "print(a)"
      ],
      "execution_count": 9,
      "outputs": [
        {
          "output_type": "error",
          "ename": "IndentationError",
          "evalue": "ignored",
          "traceback": [
            "\u001b[0;36m  File \u001b[0;32m\"<ipython-input-9-745f806682f7>\"\u001b[0;36m, line \u001b[0;32m2\u001b[0m\n\u001b[0;31m    for i in a\u001b[0m\n\u001b[0m    ^\u001b[0m\n\u001b[0;31mIndentationError\u001b[0m\u001b[0;31m:\u001b[0m unexpected indent\n"
          ]
        }
      ]
    },
    {
      "cell_type": "code",
      "metadata": {
        "colab": {
          "base_uri": "https://localhost:8080/"
        },
        "id": "BC-2-truXX1X",
        "outputId": "b57e3359-1d5f-44e2-8df9-c4a324c64acf"
      },
      "source": [
        "a = [1,2]\n",
        "b = [5,6]\n",
        "for i in a :\n",
        "  for ii in b:\n",
        "    print(i+ii) #"
      ],
      "execution_count": 10,
      "outputs": [
        {
          "output_type": "stream",
          "name": "stdout",
          "text": [
            "6\n",
            "7\n",
            "7\n",
            "8\n"
          ]
        }
      ]
    },
    {
      "cell_type": "code",
      "metadata": {
        "colab": {
          "base_uri": "https://localhost:8080/",
          "height": 283
        },
        "id": "dkM1wnDQXXyw",
        "outputId": "89495f52-b004-4983-c5dd-8ff9ebee2462"
      },
      "source": [
        "#ogrencilerin aldigi 3 tane notu nnu baz alan bi program ve secilen ogrencinin not ortalamasini bulma\n",
        "student_number=int(input(\"How many students are you going to enter? :\"))\n",
        "students=dict()\n",
        "for i in range(student_number):\n",
        "  student_info= input(\"What is the student name and grades?\")\n",
        "  students_info= student_info.split()\n",
        "  student_name = student_info[0]\n",
        "  students[student_name]=student_info[1:]\n",
        "  \n",
        "wanted_student = input(\"wHOSE GRADES DO YOU WANT TO SEE?\")\n",
        "sum_of_grades = 0\n",
        "\n",
        "for grade in students[wanted_student]:\n",
        "  grade = float(grade)\n",
        "  sum_of_grades += grade\n",
        "average_grade = sum_of_grades / 3\n",
        "print(average_grade) "
      ],
      "execution_count": 4,
      "outputs": [
        {
          "name": "stdout",
          "output_type": "stream",
          "text": [
            "How many students are you going to enter? :1\n",
            "What is the student name and grades?Ali 80 90\n",
            "wHOSE GRADES DO YOU WANT TO SEE?Ali\n"
          ]
        },
        {
          "output_type": "error",
          "ename": "KeyError",
          "evalue": "ignored",
          "traceback": [
            "\u001b[0;31m---------------------------------------------------------------------------\u001b[0m",
            "\u001b[0;31mKeyError\u001b[0m                                  Traceback (most recent call last)",
            "\u001b[0;32m<ipython-input-4-57364f382c12>\u001b[0m in \u001b[0;36m<module>\u001b[0;34m()\u001b[0m\n\u001b[1;32m      9\u001b[0m \u001b[0mwanted_student\u001b[0m \u001b[0;34m=\u001b[0m \u001b[0minput\u001b[0m\u001b[0;34m(\u001b[0m\u001b[0;34m\"wHOSE GRADES DO YOU WANT TO SEE?\"\u001b[0m\u001b[0;34m)\u001b[0m\u001b[0;34m\u001b[0m\u001b[0;34m\u001b[0m\u001b[0m\n\u001b[1;32m     10\u001b[0m \u001b[0msum_of_grades\u001b[0m \u001b[0;34m=\u001b[0m \u001b[0;36m0\u001b[0m\u001b[0;34m\u001b[0m\u001b[0;34m\u001b[0m\u001b[0m\n\u001b[0;32m---> 11\u001b[0;31m \u001b[0;32mfor\u001b[0m \u001b[0mgrade\u001b[0m \u001b[0;32min\u001b[0m \u001b[0mstudents\u001b[0m\u001b[0;34m[\u001b[0m\u001b[0mwanted_student\u001b[0m\u001b[0;34m]\u001b[0m\u001b[0;34m:\u001b[0m\u001b[0;34m\u001b[0m\u001b[0;34m\u001b[0m\u001b[0m\n\u001b[0m\u001b[1;32m     12\u001b[0m   \u001b[0mgrade\u001b[0m \u001b[0;34m=\u001b[0m \u001b[0mfloat\u001b[0m\u001b[0;34m(\u001b[0m\u001b[0mgrade\u001b[0m\u001b[0;34m)\u001b[0m\u001b[0;34m\u001b[0m\u001b[0;34m\u001b[0m\u001b[0m\n\u001b[1;32m     13\u001b[0m   \u001b[0msum_of_grades\u001b[0m \u001b[0;34m+=\u001b[0m \u001b[0mgrade\u001b[0m\u001b[0;34m\u001b[0m\u001b[0;34m\u001b[0m\u001b[0m\n",
            "\u001b[0;31mKeyError\u001b[0m: 'Ali'"
          ]
        }
      ]
    },
    {
      "cell_type": "code",
      "metadata": {
        "colab": {
          "base_uri": "https://localhost:8080/",
          "height": 300
        },
        "id": "8N_XH4xxXXwJ",
        "outputId": "37b130da-3f38-4866-e149-abc4e1a18d35"
      },
      "source": [
        "student_number=int(input(\"How many students are you going to enter? :\"))\n",
        "students=dict()\n",
        "for i in range(student_number):\n",
        "  student_info= input(\"What is the student name and grades?\")\n",
        "  students_info= student_info.split()\n",
        "  student_name = student_info[0]\n",
        "  students[student_name]=map(float,student_info[1:])\n",
        "  \n",
        "wanted_student = input(\"WHOSE GRADES DO YOU WANT TO SEE?\")\n",
        "\n",
        "\n",
        "sum_of_grades = sum(students[wanted_student])\n",
        "average_grade = sum_of_grades / len(students[wanted_student])\n",
        "print(average_grade) "
      ],
      "execution_count": 8,
      "outputs": [
        {
          "name": "stdout",
          "output_type": "stream",
          "text": [
            "How many students are you going to enter? :2\n",
            "What is the student name and grades?'Ali' 90 70\n",
            "What is the student name and grades?'Mehmet' 70 80\n",
            "WHOSE GRADES DO YOU WANT TO SEE?'Ali'\n"
          ]
        },
        {
          "output_type": "error",
          "ename": "KeyError",
          "evalue": "ignored",
          "traceback": [
            "\u001b[0;31m---------------------------------------------------------------------------\u001b[0m",
            "\u001b[0;31mKeyError\u001b[0m                                  Traceback (most recent call last)",
            "\u001b[0;32m<ipython-input-8-e8e793841665>\u001b[0m in \u001b[0;36m<module>\u001b[0;34m()\u001b[0m\n\u001b[1;32m     10\u001b[0m \u001b[0;34m\u001b[0m\u001b[0m\n\u001b[1;32m     11\u001b[0m \u001b[0;34m\u001b[0m\u001b[0m\n\u001b[0;32m---> 12\u001b[0;31m \u001b[0msum_of_grades\u001b[0m \u001b[0;34m=\u001b[0m \u001b[0msum\u001b[0m\u001b[0;34m(\u001b[0m\u001b[0mstudents\u001b[0m\u001b[0;34m[\u001b[0m\u001b[0mwanted_student\u001b[0m\u001b[0;34m]\u001b[0m\u001b[0;34m)\u001b[0m\u001b[0;34m\u001b[0m\u001b[0;34m\u001b[0m\u001b[0m\n\u001b[0m\u001b[1;32m     13\u001b[0m \u001b[0maverage_grade\u001b[0m \u001b[0;34m=\u001b[0m \u001b[0msum_of_grades\u001b[0m \u001b[0;34m/\u001b[0m \u001b[0mlen\u001b[0m\u001b[0;34m(\u001b[0m\u001b[0mstudents\u001b[0m\u001b[0;34m[\u001b[0m\u001b[0mwanted_student\u001b[0m\u001b[0;34m]\u001b[0m\u001b[0;34m)\u001b[0m\u001b[0;34m\u001b[0m\u001b[0;34m\u001b[0m\u001b[0m\n\u001b[1;32m     14\u001b[0m \u001b[0mprint\u001b[0m\u001b[0;34m(\u001b[0m\u001b[0maverage_grade\u001b[0m\u001b[0;34m)\u001b[0m\u001b[0;34m\u001b[0m\u001b[0;34m\u001b[0m\u001b[0m\n",
            "\u001b[0;31mKeyError\u001b[0m: \"'Ali'\""
          ]
        }
      ]
    },
    {
      "cell_type": "code",
      "metadata": {
        "colab": {
          "base_uri": "https://localhost:8080/"
        },
        "id": "qeBVXnXGXXtk",
        "outputId": "314f58ce-ec18-4010-a2e9-57f1b35e6f14"
      },
      "source": [
        "liste= [1,2,3,4,5]\n",
        "print(list(map(str,liste))) #liste icindeki butun elemanlara str fonk yap ve list icine sok"
      ],
      "execution_count": 9,
      "outputs": [
        {
          "output_type": "stream",
          "name": "stdout",
          "text": [
            "['1', '2', '3', '4', '5']\n"
          ]
        }
      ]
    },
    {
      "cell_type": "code",
      "metadata": {
        "colab": {
          "base_uri": "https://localhost:8080/",
          "height": 266
        },
        "id": "vrtRL-X9XXq8",
        "outputId": "38658fb6-6900-4da6-ced5-ad9cd250e5e7"
      },
      "source": [
        "# Find runner up score yani 2. yi bulma alt alta yazacagiz\n",
        "number = int(input(\"How many number are you going to enter :\"))\n",
        "number_list=[]\n",
        "for i in range(number):\n",
        "  current_num= int(input(\"Enter your number :\"))\n",
        "  number_list.append(current_num)\n",
        "number_list= list(set(number_list))    \n",
        "number_list.sort()\n",
        "print(number_list[-2])    "
      ],
      "execution_count": 14,
      "outputs": [
        {
          "name": "stdout",
          "output_type": "stream",
          "text": [
            "How many number are you going to enter :3\n",
            "Enter your number :3 5 6\n"
          ]
        },
        {
          "output_type": "error",
          "ename": "ValueError",
          "evalue": "ignored",
          "traceback": [
            "\u001b[0;31m---------------------------------------------------------------------------\u001b[0m",
            "\u001b[0;31mValueError\u001b[0m                                Traceback (most recent call last)",
            "\u001b[0;32m<ipython-input-14-4258ee25cf0f>\u001b[0m in \u001b[0;36m<module>\u001b[0;34m()\u001b[0m\n\u001b[1;32m      3\u001b[0m \u001b[0mnumber_list\u001b[0m\u001b[0;34m=\u001b[0m\u001b[0;34m[\u001b[0m\u001b[0;34m]\u001b[0m\u001b[0;34m\u001b[0m\u001b[0;34m\u001b[0m\u001b[0m\n\u001b[1;32m      4\u001b[0m \u001b[0;32mfor\u001b[0m \u001b[0mi\u001b[0m \u001b[0;32min\u001b[0m \u001b[0mrange\u001b[0m\u001b[0;34m(\u001b[0m\u001b[0mnumber\u001b[0m\u001b[0;34m)\u001b[0m\u001b[0;34m:\u001b[0m\u001b[0;34m\u001b[0m\u001b[0;34m\u001b[0m\u001b[0m\n\u001b[0;32m----> 5\u001b[0;31m   \u001b[0mcurrent_num\u001b[0m\u001b[0;34m=\u001b[0m \u001b[0mint\u001b[0m\u001b[0;34m(\u001b[0m\u001b[0minput\u001b[0m\u001b[0;34m(\u001b[0m\u001b[0;34m\"Enter your number :\"\u001b[0m\u001b[0;34m)\u001b[0m\u001b[0;34m)\u001b[0m\u001b[0;34m\u001b[0m\u001b[0;34m\u001b[0m\u001b[0m\n\u001b[0m\u001b[1;32m      6\u001b[0m   \u001b[0mnumber_list\u001b[0m\u001b[0;34m.\u001b[0m\u001b[0mappend\u001b[0m\u001b[0;34m(\u001b[0m\u001b[0mcurrent_num\u001b[0m\u001b[0;34m)\u001b[0m\u001b[0;34m\u001b[0m\u001b[0;34m\u001b[0m\u001b[0m\n\u001b[1;32m      7\u001b[0m \u001b[0mnumber_list\u001b[0m\u001b[0;34m=\u001b[0m \u001b[0mlist\u001b[0m\u001b[0;34m(\u001b[0m\u001b[0mset\u001b[0m\u001b[0;34m(\u001b[0m\u001b[0mnumber_list\u001b[0m\u001b[0;34m)\u001b[0m\u001b[0;34m)\u001b[0m\u001b[0;34m\u001b[0m\u001b[0;34m\u001b[0m\u001b[0m\n",
            "\u001b[0;31mValueError\u001b[0m: invalid literal for int() with base 10: '3 5 6'"
          ]
        }
      ]
    },
    {
      "cell_type": "code",
      "metadata": {
        "colab": {
          "base_uri": "https://localhost:8080/"
        },
        "id": "vGTcTNRtXXol",
        "outputId": "f5492bd4-d8d1-4e44-b292-ad3366ac59b6"
      },
      "source": [
        "string=\"omer\"\n",
        "print(sorted(string))"
      ],
      "execution_count": 15,
      "outputs": [
        {
          "output_type": "stream",
          "name": "stdout",
          "text": [
            "['e', 'm', 'o', 'r']\n"
          ]
        }
      ]
    },
    {
      "cell_type": "code",
      "metadata": {
        "colab": {
          "base_uri": "https://localhost:8080/"
        },
        "id": "Mc8SAQYOXXlu",
        "outputId": "bc9eb1a2-1fcd-4d7f-a5c7-243e05feac04"
      },
      "source": [
        "print(\"\".join(sorted(string))) # join fonk nu sorted yapilan bir stringi tekrar eski hala dondurur."
      ],
      "execution_count": 16,
      "outputs": [
        {
          "output_type": "stream",
          "name": "stdout",
          "text": [
            "emor\n"
          ]
        }
      ]
    },
    {
      "cell_type": "code",
      "metadata": {
        "colab": {
          "base_uri": "https://localhost:8080/"
        },
        "id": "YmyEJw6QXXjH",
        "outputId": "885cf49c-5fde-4b2a-a27b-0eee40384729"
      },
      "source": [
        "# reverse every string in a list . verilen inputu herbir elemani tersten yazdir\n",
        "strs = input(\"Enter your strings as comma seperated:\")\n",
        "strs = strs.split(\", \") #virgulden ititbaren ayri kelime olarak algila \n",
        "for i in range(len(strs)):\n",
        "   strs[i] = strs[i][::-1]\n",
        "print(strs)   #indexliyerek yapilan yontem"
      ],
      "execution_count": 17,
      "outputs": [
        {
          "output_type": "stream",
          "name": "stdout",
          "text": [
            "Enter your strings as comma seperated:clarusway, omer mentor\n",
            "['yawsuralc', 'rotnem remo']\n"
          ]
        }
      ]
    },
    {
      "cell_type": "code",
      "metadata": {
        "colab": {
          "base_uri": "https://localhost:8080/"
        },
        "id": "gP9_aKzxXXgh",
        "outputId": "4c2a9e45-52e9-44f4-d93b-bdf24523f615"
      },
      "source": [
        "strs = input(\"Enter your strings as comma seperated:\")\n",
        "strs = strs.split(\", \") \n",
        "reversed_strs = [i[::-1] for i in strs]\n",
        "reversed_strs # bu yontemde list comphension"
      ],
      "execution_count": 18,
      "outputs": [
        {
          "name": "stdout",
          "output_type": "stream",
          "text": [
            "Enter your strings as comma seperated:clarusway, omer mentor\n"
          ]
        },
        {
          "output_type": "execute_result",
          "data": {
            "text/plain": [
              "['yawsuralc', 'rotnem remo']"
            ]
          },
          "metadata": {},
          "execution_count": 18
        }
      ]
    },
    {
      "cell_type": "code",
      "metadata": {
        "id": "eF82jn7MXXd5"
      },
      "source": [
        "# armstrong programi\n",
        "# verilen sayinin uzunlugu herbir sayinin ussu olarak yazilir \n",
        "#ve hepsi toplandiginda yine ayni sayiyi veriyorsa bu bir armstrong sayisidir.\n",
        "# 371= 3**3 + 7**3 +1**3=371"
      ],
      "execution_count": null,
      "outputs": []
    },
    {
      "cell_type": "code",
      "metadata": {
        "colab": {
          "base_uri": "https://localhost:8080/"
        },
        "id": "ujo0w_dzXXbS",
        "outputId": "fa17c74b-8b0e-4f8b-837b-5fa7e7914916"
      },
      "source": [
        "number = input(\"Enter your number :\")\n",
        "if number.isdigit() and int(number) > 0:\n",
        "   length = len(number)\n",
        "   sum = 0\n",
        "   for step in number :\n",
        "     step = int(step)\n",
        "     sum += step**length\n",
        "   if int(number) == sum:\n",
        "      print(\"This is an armstrong number\")\n",
        "   else :\n",
        "      print(\"This is not an armstrong number\")    \n",
        "      \n",
        "else:\n",
        "  print(\"Please enter a valid number\")   "
      ],
      "execution_count": 22,
      "outputs": [
        {
          "output_type": "stream",
          "name": "stdout",
          "text": [
            "Enter your number :574\n",
            "This is not an armstrong number\n"
          ]
        }
      ]
    },
    {
      "cell_type": "code",
      "metadata": {
        "colab": {
          "base_uri": "https://localhost:8080/"
        },
        "id": "sCkyWPwDXW9n",
        "outputId": "a60c6b7a-6052-4bd3-9d1a-8acba96bab1e"
      },
      "source": [
        "text = ('What is the answer' '42!')\n",
        "print(text)"
      ],
      "execution_count": 26,
      "outputs": [
        {
          "output_type": "stream",
          "name": "stdout",
          "text": [
            "What is the answer42!\n"
          ]
        }
      ]
    },
    {
      "cell_type": "code",
      "metadata": {
        "colab": {
          "base_uri": "https://localhost:8080/"
        },
        "id": "07IffrDFfVrt",
        "outputId": "e3f8fd39-0248-4b0c-b0ea-57d41302be51"
      },
      "source": [
        "print(3*'un'+'im')"
      ],
      "execution_count": 27,
      "outputs": [
        {
          "output_type": "stream",
          "name": "stdout",
          "text": [
            "unununim\n"
          ]
        }
      ]
    },
    {
      "cell_type": "code",
      "metadata": {
        "colab": {
          "base_uri": "https://localhost:8080/"
        },
        "id": "2lte9L5ffVo1",
        "outputId": "bf4b1608-4f7e-41b3-fc0f-42dfe77653f1"
      },
      "source": [
        "print('''\\\n",
        "A\n",
        "B\n",
        "C\n",
        "''')"
      ],
      "execution_count": 28,
      "outputs": [
        {
          "output_type": "stream",
          "name": "stdout",
          "text": [
            "A\n",
            "B\n",
            "C\n",
            "\n"
          ]
        }
      ]
    },
    {
      "cell_type": "code",
      "metadata": {
        "colab": {
          "base_uri": "https://localhost:8080/"
        },
        "id": "UsgwKM9CfVkn",
        "outputId": "12652bfa-ad7b-47bd-a684-00b4094b8f2a"
      },
      "source": [
        "python = ['cool']\n",
        "x = python in python\n",
        "print(x)"
      ],
      "execution_count": 29,
      "outputs": [
        {
          "output_type": "stream",
          "name": "stdout",
          "text": [
            "False\n"
          ]
        }
      ]
    },
    {
      "cell_type": "code",
      "metadata": {
        "colab": {
          "base_uri": "https://localhost:8080/"
        },
        "id": "G_qGeerMfVZ9",
        "outputId": "60009976-708e-488e-892f-783fdea03972"
      },
      "source": [
        "print(50 // 11)"
      ],
      "execution_count": 30,
      "outputs": [
        {
          "output_type": "stream",
          "name": "stdout",
          "text": [
            "4\n"
          ]
        }
      ]
    },
    {
      "cell_type": "code",
      "metadata": {
        "colab": {
          "base_uri": "https://localhost:8080/"
        },
        "id": "fHffWp87fVVA",
        "outputId": "2e6f0d71-b74a-4930-9ff6-72d614729351"
      },
      "source": [
        "print(55/11)"
      ],
      "execution_count": 31,
      "outputs": [
        {
          "output_type": "stream",
          "name": "stdout",
          "text": [
            "5.0\n"
          ]
        }
      ]
    },
    {
      "cell_type": "code",
      "metadata": {
        "colab": {
          "base_uri": "https://localhost:8080/"
        },
        "id": "wj2ZVdfSfVSL",
        "outputId": "e7b79420-c049-4372-80f4-595b8859dd7a"
      },
      "source": [
        "str = 'ppy!'\n",
        "fruit = 'a'.join(list(str)) # .join aralara istenilen stringi koyar\n",
        "print(fruit)\n"
      ],
      "execution_count": 33,
      "outputs": [
        {
          "output_type": "stream",
          "name": "stdout",
          "text": [
            "papaya!\n"
          ]
        }
      ]
    },
    {
      "cell_type": "code",
      "metadata": {
        "id": "TiTe415mfVPl"
      },
      "source": [
        ""
      ],
      "execution_count": null,
      "outputs": []
    },
    {
      "cell_type": "code",
      "metadata": {
        "id": "xYOEuEk_fVM7"
      },
      "source": [
        ""
      ],
      "execution_count": null,
      "outputs": []
    },
    {
      "cell_type": "code",
      "metadata": {
        "id": "OruYLCa4fVKX"
      },
      "source": [
        ""
      ],
      "execution_count": null,
      "outputs": []
    },
    {
      "cell_type": "code",
      "metadata": {
        "id": "3Mok24EKfVG6"
      },
      "source": [
        ""
      ],
      "execution_count": null,
      "outputs": []
    },
    {
      "cell_type": "code",
      "metadata": {
        "id": "ZniHW9JMfU90"
      },
      "source": [
        ""
      ],
      "execution_count": null,
      "outputs": []
    }
  ]
}