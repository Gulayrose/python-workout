{
  "nbformat": 4,
  "nbformat_minor": 0,
  "metadata": {
    "colab": {
      "name": "nov 29 ders+self",
      "provenance": [],
      "authorship_tag": "ABX9TyM0lPcs/DjWDfqghO40E7dE",
      "include_colab_link": true
    },
    "kernelspec": {
      "name": "python3",
      "display_name": "Python 3"
    },
    "language_info": {
      "name": "python"
    }
  },
  "cells": [
    {
      "cell_type": "markdown",
      "metadata": {
        "id": "view-in-github",
        "colab_type": "text"
      },
      "source": [
        "<a href=\"https://colab.research.google.com/github/Gulayrose/python-workout/blob/main/nov_29_ders%2Bself.ipynb\" target=\"_parent\"><img src=\"https://colab.research.google.com/assets/colab-badge.svg\" alt=\"Open In Colab\"/></a>"
      ]
    },
    {
      "cell_type": "code",
      "metadata": {
        "colab": {
          "base_uri": "https://localhost:8080/"
        },
        "id": "bPJKNG1NJjos",
        "outputId": "a54f3c6b-70cd-43e9-f3c6-88f89dc0647f"
      },
      "source": [
        "my_list = [4, 5, 2, 1]\n",
        "my_list.sort()\n",
        "print(my_list)"
      ],
      "execution_count": 1,
      "outputs": [
        {
          "output_type": "stream",
          "name": "stdout",
          "text": [
            "[1, 2, 4, 5]\n"
          ]
        }
      ]
    },
    {
      "cell_type": "code",
      "metadata": {
        "colab": {
          "base_uri": "https://localhost:8080/"
        },
        "id": "dfbr7alZJkAL",
        "outputId": "9637f607-c55c-41e1-e52d-ae1c640b069c"
      },
      "source": [
        "list=range(1,11)\n",
        "print(list)\n"
      ],
      "execution_count": 36,
      "outputs": [
        {
          "output_type": "stream",
          "name": "stdout",
          "text": [
            "range(1, 11)\n"
          ]
        }
      ]
    },
    {
      "cell_type": "code",
      "metadata": {
        "id": "saZN2iMXJkCw"
      },
      "source": [
        "grocer = [\"banana\", [\"orange\", [\"apple\", \"eggplant\", \"melon\", \"spinach\", \"cheese\", \"leek\" ], \"water\"], \"mandarin\"]"
      ],
      "execution_count": 13,
      "outputs": []
    },
    {
      "cell_type": "code",
      "metadata": {
        "colab": {
          "base_uri": "https://localhost:8080/"
        },
        "id": "Cij7SWeeJkFI",
        "outputId": "14b2c459-c627-4732-f010-47f510aad1a5"
      },
      "source": [
        "print(grocer[1][1][1:6:2])"
      ],
      "execution_count": 24,
      "outputs": [
        {
          "output_type": "stream",
          "name": "stdout",
          "text": [
            "['eggplant', 'spinach', 'leek']\n"
          ]
        }
      ]
    },
    {
      "cell_type": "code",
      "metadata": {
        "colab": {
          "base_uri": "https://localhost:8080/"
        },
        "id": "V3AJx1FiJkHe",
        "outputId": "4d88bee6-c832-46c8-ca5e-98b3388aefec"
      },
      "source": [
        "flowers = [[\"jasmine\", [\"lavender\", \"rose\"], \"tulip\"]]\n",
        "colors = [\"red\", (\"blue\", [\"yellow\", \"green\"]), \"pink\"]\n",
        "text = \"My two favorite flowers are {} and {},two favorite colors are {} and {}.\".format(flowers[0][2],flowers[0][1][1],colors[1][0],colors[1][1][1])\n",
        "print(text)"
      ],
      "execution_count": 27,
      "outputs": [
        {
          "output_type": "stream",
          "name": "stdout",
          "text": [
            "My two favorite flowers are tulip and rose,two favorite colors are blue and green.\n"
          ]
        }
      ]
    },
    {
      "cell_type": "code",
      "metadata": {
        "colab": {
          "base_uri": "https://localhost:8080/"
        },
        "id": "c5umBBgfJkJ0",
        "outputId": "8586b021-717b-42fc-a03f-faea0eef65c8"
      },
      "source": [
        "escapes = [\"\\n\\t\", (\"\\t\", \"\\t\\t\"), [\"\\n\", \"\\n\\t\\t\"]]\n",
        "\n",
        "sentence = \"I am 40 years old.{} I have two children.{} Data Science is my IT domain.\".format(escapes[0],escapes[2][1])\n",
        "print(sentence)\n"
      ],
      "execution_count": 30,
      "outputs": [
        {
          "output_type": "stream",
          "name": "stdout",
          "text": [
            "I am 40 years old.\n",
            "\t I have two children.\n",
            "\t\t Data Science is my IT domain.\n"
          ]
        }
      ]
    },
    {
      "cell_type": "code",
      "metadata": {
        "id": "QBqVmX0xJkMI"
      },
      "source": [
        "I am 40 years old.\n",
        "    I have two children.\n",
        "        Data Science is my IT domain."
      ],
      "execution_count": null,
      "outputs": []
    },
    {
      "cell_type": "code",
      "metadata": {
        "id": "Oi4NAiMHJkOx"
      },
      "source": [
        ""
      ],
      "execution_count": null,
      "outputs": []
    },
    {
      "cell_type": "code",
      "metadata": {
        "colab": {
          "base_uri": "https://localhost:8080/"
        },
        "id": "H56uJ6xRWpay",
        "outputId": "1887e131-7f67-44e5-a28f-f1ca6d7e9fd2"
      },
      "source": [
        "sample_list = [{\"section\":5, \"topic\":2}, 'clarusway', [1, 4], 2020, 3.14, 1+618j, False, (10, 20)]\n",
        "for i in sample_list:\n",
        "     print('The type of {}'.format(i),\"is\",type(i))"
      ],
      "execution_count": 45,
      "outputs": [
        {
          "output_type": "stream",
          "name": "stdout",
          "text": [
            "The type of {'section': 5, 'topic': 2} is <class 'dict'>\n",
            "The type of clarusway is <class 'str'>\n",
            "The type of [1, 4] is <class 'list'>\n",
            "The type of 2020 is <class 'int'>\n",
            "The type of 3.14 is <class 'float'>\n",
            "The type of (1+618j) is <class 'complex'>\n",
            "The type of False is <class 'bool'>\n",
            "The type of (10, 20) is <class 'tuple'>\n"
          ]
        }
      ]
    },
    {
      "cell_type": "code",
      "metadata": {
        "colab": {
          "base_uri": "https://localhost:8080/"
        },
        "id": "LAa4gGnAcHtC",
        "outputId": "525f116b-71aa-4df8-e563-a41374f8457d"
      },
      "source": [
        "def my_function(a,b):\n",
        "    return a*b\n",
        "print(my_function(3,5))    "
      ],
      "execution_count": 54,
      "outputs": [
        {
          "output_type": "stream",
          "name": "stdout",
          "text": [
            "15\n"
          ]
        }
      ]
    },
    {
      "cell_type": "code",
      "metadata": {
        "colab": {
          "base_uri": "https://localhost:8080/"
        },
        "id": "dx8aOM5XctKS",
        "outputId": "8ea2d4eb-c057-4247-a0da-9606cb41a53e"
      },
      "source": [
        "def my_function(a , b):\n",
        "  hypotenuse = (a**2 + b**2)**0.5\n",
        "  return hypotenuse\n",
        "my_function(3,4)  \n"
      ],
      "execution_count": 53,
      "outputs": [
        {
          "output_type": "execute_result",
          "data": {
            "text/plain": [
              "5.0"
            ]
          },
          "metadata": {},
          "execution_count": 53
        }
      ]
    },
    {
      "cell_type": "code",
      "metadata": {
        "colab": {
          "base_uri": "https://localhost:8080/"
        },
        "id": "OCqWTHEHeFDx",
        "outputId": "550cfa29-2dd4-4c87-e579-a7f724b8ee64"
      },
      "source": [
        "def my_function(a,b):\n",
        "    area = a*b\n",
        "    return area\n",
        "my_function(3,4)    "
      ],
      "execution_count": 55,
      "outputs": [
        {
          "output_type": "execute_result",
          "data": {
            "text/plain": [
              "12"
            ]
          },
          "metadata": {},
          "execution_count": 55
        }
      ]
    },
    {
      "cell_type": "code",
      "metadata": {
        "colab": {
          "base_uri": "https://localhost:8080/"
        },
        "id": "2sVlm3QNeYPL",
        "outputId": "04a72e6e-219a-4694-93b0-f70d37b0d8dc"
      },
      "source": [
        "def longer(a, b):\n",
        "    if len(a) >= len(b):\n",
        "        return a\n",
        "    else:\n",
        "        return b\n",
        "\n",
        "print(longer('Richard', 'John'))"
      ],
      "execution_count": 57,
      "outputs": [
        {
          "output_type": "stream",
          "name": "stdout",
          "text": [
            "Richard\n"
          ]
        }
      ]
    },
    {
      "cell_type": "code",
      "metadata": {
        "colab": {
          "base_uri": "https://localhost:8080/"
        },
        "id": "ovCBmFW9gfX7",
        "outputId": "149b1224-a442-4d9c-ab94-3e753c375718"
      },
      "source": [
        "def who(first, last) : \n",
        "    print('Your first name is :', first)\n",
        "    print('Your last name is :', last)\n",
        "\n",
        "who('Marry', 'Bold')"
      ],
      "execution_count": 58,
      "outputs": [
        {
          "output_type": "stream",
          "name": "stdout",
          "text": [
            "Your first name is : Marry\n",
            "Your last name is : Bold\n"
          ]
        }
      ]
    },
    {
      "cell_type": "code",
      "metadata": {
        "colab": {
          "base_uri": "https://localhost:8080/"
        },
        "id": "85W1Xbbfgh4I",
        "outputId": "e4ff2da7-dfcb-4910-c154-e79a6b4dbe54"
      },
      "source": [
        "def brothers(bro1,bro2,bro3):\n",
        "    print(\"here are name of the  brothers .\")\n",
        "    print(bro1,bro2,bro3 ,sep=\"\\n\")\n",
        "family=['martin','joe','leila'] \n",
        "brothers(*family)"
      ],
      "execution_count": 68,
      "outputs": [
        {
          "output_type": "stream",
          "name": "stdout",
          "text": [
            "here are name of the  brothers .\n",
            "martin\n",
            "joe\n",
            "leila\n"
          ]
        }
      ]
    },
    {
      "cell_type": "code",
      "metadata": {
        "colab": {
          "base_uri": "https://localhost:8080/"
        },
        "id": "dWWkMwzjghw2",
        "outputId": "f133d18e-a03c-48db-c0f9-93a2f41aea88"
      },
      "source": [
        "def brothers(bro1, bro2, bro3):\n",
        "    print('Here are the names of brothers :')\n",
        "    print(bro1, bro2, bro3, sep='\\n')\n",
        "\n",
        "family = ['tom', 'sue', 'tim']\n",
        "brothers(*family)"
      ],
      "execution_count": 64,
      "outputs": [
        {
          "output_type": "stream",
          "name": "stdout",
          "text": [
            "Here are the names of brothers :\n",
            "tom\n",
            "sue\n",
            "tim\n"
          ]
        }
      ]
    },
    {
      "cell_type": "code",
      "metadata": {
        "colab": {
          "base_uri": "https://localhost:8080/"
        },
        "id": "OR3dQ6UXghux",
        "outputId": "8619a039-64f5-4193-a7b5-8df127e9e6c7"
      },
      "source": [
        "print((lambda x:x**2)(2))"
      ],
      "execution_count": 69,
      "outputs": [
        {
          "output_type": "stream",
          "name": "stdout",
          "text": [
            "4\n"
          ]
        }
      ]
    },
    {
      "cell_type": "code",
      "metadata": {
        "colab": {
          "base_uri": "https://localhost:8080/",
          "height": 35
        },
        "id": "cRb2jicKghqE",
        "outputId": "fbbeebe2-50b2-40cc-ad53-4618a2be72fe"
      },
      "source": [
        "(lambda x : 'odd' if x % 2 != 0 else 'even')(3)"
      ],
      "execution_count": 70,
      "outputs": [
        {
          "output_type": "execute_result",
          "data": {
            "application/vnd.google.colaboratory.intrinsic+json": {
              "type": "string"
            },
            "text/plain": [
              "'odd'"
            ]
          },
          "metadata": {},
          "execution_count": 70
        }
      ]
    },
    {
      "cell_type": "code",
      "metadata": {
        "colab": {
          "base_uri": "https://localhost:8080/",
          "height": 35
        },
        "id": "Lef42emUghnN",
        "outputId": "225943b0-2894-4fd7-9869-cde039bb6a36"
      },
      "source": [
        "(lambda x : x[::-1])('ali')"
      ],
      "execution_count": 72,
      "outputs": [
        {
          "output_type": "execute_result",
          "data": {
            "application/vnd.google.colaboratory.intrinsic+json": {
              "type": "string"
            },
            "text/plain": [
              "'ila'"
            ]
          },
          "metadata": {},
          "execution_count": 72
        }
      ]
    },
    {
      "cell_type": "code",
      "metadata": {
        "colab": {
          "base_uri": "https://localhost:8080/"
        },
        "id": "mZeFJO5kghkl",
        "outputId": "309aa7ab-c027-4fa0-fd56-0be349813663"
      },
      "source": [
        "(lambda x : [*reversed(x)])('ali')"
      ],
      "execution_count": 73,
      "outputs": [
        {
          "output_type": "execute_result",
          "data": {
            "text/plain": [
              "['i', 'l', 'a']"
            ]
          },
          "metadata": {},
          "execution_count": 73
        }
      ]
    },
    {
      "cell_type": "code",
      "metadata": {
        "colab": {
          "base_uri": "https://localhost:8080/"
        },
        "id": "oeEZ0c8CoYP8",
        "outputId": "da8fc8ba-df9f-45ce-b209-a72887d5098b"
      },
      "source": [
        "(lambda a,b :(a+b)/2)(2,3)"
      ],
      "execution_count": 74,
      "outputs": [
        {
          "output_type": "execute_result",
          "data": {
            "text/plain": [
              "2.5"
            ]
          },
          "metadata": {},
          "execution_count": 74
        }
      ]
    },
    {
      "cell_type": "code",
      "metadata": {
        "colab": {
          "base_uri": "https://localhost:8080/"
        },
        "id": "AZxDyHVkoYNE",
        "outputId": "a33c1453-60bb-4769-ae2c-88d2369d5f77"
      },
      "source": [
        "average = (lambda a,b :(a+b)/2)(2,3)\n",
        "print(average)"
      ],
      "execution_count": 75,
      "outputs": [
        {
          "output_type": "stream",
          "name": "stdout",
          "text": [
            "2.5\n"
          ]
        }
      ]
    },
    {
      "cell_type": "code",
      "metadata": {
        "colab": {
          "base_uri": "https://localhost:8080/"
        },
        "id": "cvccOT1i3Yhi",
        "outputId": "f409a744-f417-44ec-a5d0-662278475403"
      },
      "source": [
        "sayilar=[1,2,3,4,5,6]\n",
        "for a in sayilar :\n",
        "  print(a,':',(lambda x : 'odd' if x % 2!=0 else 'even')(a))"
      ],
      "execution_count": 81,
      "outputs": [
        {
          "output_type": "stream",
          "name": "stdout",
          "text": [
            "1 : odd\n",
            "2 : even\n",
            "3 : odd\n",
            "4 : even\n",
            "5 : odd\n",
            "6 : even\n"
          ]
        }
      ]
    },
    {
      "cell_type": "code",
      "metadata": {
        "colab": {
          "base_uri": "https://localhost:8080/"
        },
        "id": "CLf7iQ8L3Ye3",
        "outputId": "7a8e0e15-1cd7-43e7-9e23-2a681ab8f250"
      },
      "source": [
        "average = lambda x,y : (x+y)/2\n",
        "print(average(3,5))"
      ],
      "execution_count": 82,
      "outputs": [
        {
          "output_type": "stream",
          "name": "stdout",
          "text": [
            "4.0\n"
          ]
        }
      ]
    },
    {
      "cell_type": "code",
      "metadata": {
        "colab": {
          "base_uri": "https://localhost:8080/"
        },
        "id": "0K1qh5Jn3Ycm",
        "outputId": "e907916e-bbc9-4d9b-9eab-07547eca0ba3"
      },
      "source": [
        "finder = lambda x : 'odd' if x % 2!=0 else 'even'\n",
        "print(finder(5))"
      ],
      "execution_count": 83,
      "outputs": [
        {
          "output_type": "stream",
          "name": "stdout",
          "text": [
            "odd\n"
          ]
        }
      ]
    },
    {
      "cell_type": "code",
      "metadata": {
        "colab": {
          "base_uri": "https://localhost:8080/"
        },
        "id": "yhJlWF2K3Yai",
        "outputId": "efbbb60e-e683-4262-d304-cb23dc5a5bec"
      },
      "source": [
        "sonuc= (map(lambda x : x**2,[1,2,3]))\n",
        "print(*sonuc)"
      ],
      "execution_count": 87,
      "outputs": [
        {
          "output_type": "stream",
          "name": "stdout",
          "text": [
            "1 4 9\n"
          ]
        }
      ]
    },
    {
      "cell_type": "code",
      "metadata": {
        "colab": {
          "base_uri": "https://localhost:8080/"
        },
        "id": "Nhzw-RNh3YYK",
        "outputId": "b063fc91-b334-4c1a-ce93-42e8e1f02072"
      },
      "source": [
        "fonksiyon = lambda x: x** 2\n",
        "iterable = [1,2,3]\n",
        "sonuc=map(fonksiyon,iterable)\n",
        "print(*sonuc)"
      ],
      "execution_count": 88,
      "outputs": [
        {
          "output_type": "stream",
          "name": "stdout",
          "text": [
            "1 4 9\n"
          ]
        }
      ]
    },
    {
      "cell_type": "code",
      "metadata": {
        "colab": {
          "base_uri": "https://localhost:8080/"
        },
        "id": "xvDjaXNJ3YS8",
        "outputId": "dea0a5b6-0a80-44c0-9d0d-3119617207fe"
      },
      "source": [
        "iterable = [1,2,3]\n",
        "def kare(b):\n",
        "  return b ** 2\n",
        "sonuc2 = map(kare,iterable) \n",
        "print(sonuc2)  "
      ],
      "execution_count": 94,
      "outputs": [
        {
          "output_type": "stream",
          "name": "stdout",
          "text": [
            "<map object at 0x7fc259d06510>\n"
          ]
        }
      ]
    },
    {
      "cell_type": "code",
      "metadata": {
        "colab": {
          "base_uri": "https://localhost:8080/"
        },
        "id": "bXLv824N3YQl",
        "outputId": "a9795e7f-3baa-4eea-bec2-805dae359cc5"
      },
      "source": [
        "letter1 = ['o','s','t','t']\n",
        "letter2 = ['n','i','e','w']\n",
        "letter3 = ['e','x','n','o']\n",
        "numbers = map(lambda x,y,z :x+y+z , letter1,letter2,letter3)\n",
        "\n",
        "print(list(numbers))"
      ],
      "execution_count": 1,
      "outputs": [
        {
          "output_type": "stream",
          "name": "stdout",
          "text": [
            "['one', 'six', 'ten', 'two']\n"
          ]
        }
      ]
    },
    {
      "cell_type": "code",
      "metadata": {
        "colab": {
          "base_uri": "https://localhost:8080/"
        },
        "id": "ucPLFtQa3YNp",
        "outputId": "38caadff-11df-4017-c890-80fc51f32324"
      },
      "source": [
        "num1 = [9,6,7,4]\n",
        "num2 = [3,6,5,8]\n",
        "fonk = lambda x,y : (x+y) / 2\n",
        "numbers = map(fonk,num1,num2)\n",
        "print(list(numbers)) #iki listenin de indexlerinin ortalamasini aldik\n"
      ],
      "execution_count": 2,
      "outputs": [
        {
          "output_type": "stream",
          "name": "stdout",
          "text": [
            "[6.0, 6.0, 6.0, 6.0]\n"
          ]
        }
      ]
    },
    {
      "cell_type": "code",
      "metadata": {
        "colab": {
          "base_uri": "https://localhost:8080/"
        },
        "id": "P5octkzLoYHm",
        "outputId": "709376e6-e940-4ee2-a67f-6e209e7b971c"
      },
      "source": [
        "words1 = ['you','much','hard']\n",
        "words2 = ['i','you','he']\n",
        "words3 = ['love','ate','works']\n",
        "fonksiyon = lambda x,y,z : x +' '+y+' '+z\n",
        "kelime = map(fonksiyon,words2,words3,words1)\n",
        "print(*kelime , sep = '\\n')"
      ],
      "execution_count": 9,
      "outputs": [
        {
          "output_type": "stream",
          "name": "stdout",
          "text": [
            "i love you\n",
            "you ate much\n",
            "he works hard\n"
          ]
        }
      ]
    },
    {
      "cell_type": "code",
      "metadata": {
        "colab": {
          "base_uri": "https://localhost:8080/"
        },
        "id": "WOunGV_3oYEu",
        "outputId": "9aef0e07-2104-48c7-fd69-8c8ba3f4fffa"
      },
      "source": [
        "words = ['apple','swim','clock','me','kiwi','banana']\n",
        "fonk = lambda x : len(x) < 5\n",
        "cum = filter(fonk,words)\n",
        "print(list(cum)) "
      ],
      "execution_count": 10,
      "outputs": [
        {
          "output_type": "stream",
          "name": "stdout",
          "text": [
            "['swim', 'me', 'kiwi']\n"
          ]
        }
      ]
    },
    {
      "cell_type": "code",
      "metadata": {
        "colab": {
          "base_uri": "https://localhost:8080/"
        },
        "id": "BAqAO3y8oX_Q",
        "outputId": "fe41166c-230b-4abc-ce5d-97e5c4116c18"
      },
      "source": [
        "words = ['apple','swim','clock','me','kiwi','banana']\n",
        "for i in filter(lambda x :len(x) < 5,words):\n",
        "   print(i)\n",
        " "
      ],
      "execution_count": 12,
      "outputs": [
        {
          "output_type": "stream",
          "name": "stdout",
          "text": [
            "swim\n",
            "me\n",
            "kiwi\n"
          ]
        }
      ]
    },
    {
      "cell_type": "code",
      "metadata": {
        "id": "-gcFLOfBoX8H"
      },
      "source": [
        "#listenin icindeki sesli harfleri yazdirma\n",
        "vowel_list = ['a', 'e', 'i', 'o', 'u']\n",
        "first_ten = ['a', 'b', 'c', 'd', 'e', 'f', 'g', 'h', 'i', 'j']"
      ],
      "execution_count": 14,
      "outputs": []
    },
    {
      "cell_type": "code",
      "metadata": {
        "colab": {
          "base_uri": "https://localhost:8080/"
        },
        "id": "ItNmH_AoTh0s",
        "outputId": "a457a3c3-e4ce-456b-dd24-2a0d8b1b2cc4"
      },
      "source": [
        "print(list(filter(lambda x : x in vowel_list, first_ten)))"
      ],
      "execution_count": 15,
      "outputs": [
        {
          "output_type": "stream",
          "name": "stdout",
          "text": [
            "['a', 'e', 'i']\n"
          ]
        }
      ]
    },
    {
      "cell_type": "code",
      "metadata": {
        "colab": {
          "base_uri": "https://localhost:8080/"
        },
        "id": "VlxNceLrThyX",
        "outputId": "85109fd4-3252-4e8d-ac73-5e5a7b28e937"
      },
      "source": [
        "def modular_function(n):\n",
        "  return lambda x : x ** n\n",
        "power_of_2 = modular_function(2)  \n",
        "power_of_3 = modular_function(3)  \n",
        "power_of_4 = modular_function(4)  \n",
        "print(power_of_2(2))\n",
        "print(power_of_3(2))\n",
        "print(power_of_4(2))"
      ],
      "execution_count": 20,
      "outputs": [
        {
          "output_type": "stream",
          "name": "stdout",
          "text": [
            "4\n",
            "8\n",
            "16\n"
          ]
        }
      ]
    },
    {
      "cell_type": "code",
      "metadata": {
        "id": "zUtlOcE-Thvu"
      },
      "source": [
        "def repeater (n):\n",
        "  return lambda x : x * n\n",
        "repeat_2"
      ],
      "execution_count": null,
      "outputs": []
    },
    {
      "cell_type": "code",
      "metadata": {
        "id": "jVtHCSxmThtC"
      },
      "source": [
        "def functioner (emoji):\n",
        "  n = (':)',':(',':|')\n",
        "  return lambda x : x + n"
      ],
      "execution_count": null,
      "outputs": []
    },
    {
      "cell_type": "code",
      "metadata": {
        "colab": {
          "base_uri": "https://localhost:8080/"
        },
        "id": "wyCNeTqTThqI",
        "outputId": "8f39c016-64a1-4b67-c61e-391bf429a4f5"
      },
      "source": [
        "(lambda x : print(x,\":)\"))('ali')\n"
      ],
      "execution_count": 23,
      "outputs": [
        {
          "output_type": "stream",
          "name": "stdout",
          "text": [
            "ali :)\n"
          ]
        }
      ]
    },
    {
      "cell_type": "code",
      "metadata": {
        "id": "NkigxoataFfC"
      },
      "source": [
        ""
      ],
      "execution_count": null,
      "outputs": []
    },
    {
      "cell_type": "code",
      "metadata": {
        "id": "rJZbxPkCaFUU"
      },
      "source": [
        "def functioner(emoji):\n",
        "  return lambda x : print(x,emoji)"
      ],
      "execution_count": 24,
      "outputs": []
    },
    {
      "cell_type": "code",
      "metadata": {
        "id": "dCsdUaRfaWfj"
      },
      "source": [
        "myPrint_smile=functioner(\":)\")\n",
        "myPrint_sad = functioner(\":(\")\n",
        "myPrint_neutral= functioner(\":|\")"
      ],
      "execution_count": 26,
      "outputs": []
    },
    {
      "cell_type": "code",
      "metadata": {
        "colab": {
          "base_uri": "https://localhost:8080/"
        },
        "id": "VNMQgzdsThlL",
        "outputId": "ac18f3ff-b13a-4379-dfe4-4ed836f8d8af"
      },
      "source": [
        "myPrint_smile(\"hello\")\n",
        "myPrint_sad(\"hello\")\n",
        "myPrint_neutral(\"hello\")"
      ],
      "execution_count": 27,
      "outputs": [
        {
          "output_type": "stream",
          "name": "stdout",
          "text": [
            "hello :)\n",
            "hello :(\n",
            "hello :|\n"
          ]
        }
      ]
    },
    {
      "cell_type": "code",
      "metadata": {
        "id": "H6dc044fThi1"
      },
      "source": [
        "def function_generator(function_name) :\n",
        "  return (lambda x : function _name(x)"
      ],
      "execution_count": 31,
      "outputs": []
    },
    {
      "cell_type": "code",
      "metadata": {
        "id": "gGYVAv8qThgs"
      },
      "source": [
        ""
      ],
      "execution_count": null,
      "outputs": []
    },
    {
      "cell_type": "code",
      "metadata": {
        "id": "d0N31qQkThet"
      },
      "source": [
        ""
      ],
      "execution_count": null,
      "outputs": []
    },
    {
      "cell_type": "code",
      "metadata": {
        "id": "Hr3oimfDThbj"
      },
      "source": [
        ""
      ],
      "execution_count": null,
      "outputs": []
    },
    {
      "cell_type": "code",
      "metadata": {
        "id": "70MO54gRThYZ"
      },
      "source": [
        ""
      ],
      "execution_count": null,
      "outputs": []
    }
  ]
}