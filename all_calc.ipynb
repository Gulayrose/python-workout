{
  "nbformat": 4,
  "nbformat_minor": 0,
  "metadata": {
    "colab": {
      "name": "all_calc",
      "provenance": [],
      "authorship_tag": "ABX9TyPBiZear5s7mJIF4upRX3D4",
      "include_colab_link": true
    },
    "kernelspec": {
      "name": "python3",
      "display_name": "Python 3"
    },
    "language_info": {
      "name": "python"
    }
  },
  "cells": [
    {
      "cell_type": "markdown",
      "metadata": {
        "id": "view-in-github",
        "colab_type": "text"
      },
      "source": [
        "<a href=\"https://colab.research.google.com/github/Gulayrose/python-workout/blob/main/all_calc.ipynb\" target=\"_parent\"><img src=\"https://colab.research.google.com/assets/colab-badge.svg\" alt=\"Open In Colab\"/></a>"
      ]
    },
    {
      "cell_type": "markdown",
      "source": [
        "numbers=[ 2,3,5,7,8,11,12,14,14,15,17,22,28]\n",
        "\n",
        "Write a python function that finds the mean, median, std, mode, range, Q1,Q3, IQR and outliers (if any) of a given data and use this function on the numbers list."
      ],
      "metadata": {
        "id": "OWSgkzW1DMc2"
      }
    },
    {
      "cell_type": "code",
      "source": [
        "import numpy as np"
      ],
      "metadata": {
        "id": "rBrHW2szDUOX"
      },
      "execution_count": 1,
      "outputs": []
    },
    {
      "cell_type": "code",
      "source": [
        "from scipy import stats"
      ],
      "metadata": {
        "id": "I0NbMxsqDsln"
      },
      "execution_count": 3,
      "outputs": []
    },
    {
      "cell_type": "code",
      "source": [
        "numbers=[ 2,3,5,7,8,11,12,14,14,15,17,22,28]"
      ],
      "metadata": {
        "id": "e4_gSP--DU8d"
      },
      "execution_count": 2,
      "outputs": []
    },
    {
      "cell_type": "code",
      "source": [
        "mean_num = np.mean(numbers)\n",
        "print(\"means :\", mean_num)\n",
        "median_num = np.median(numbers)\n",
        "print(\"median :\" , median_num)\n",
        "mode_num = stats.mode(numbers)\n",
        "print(\"mode :\", mode_num)"
      ],
      "metadata": {
        "colab": {
          "base_uri": "https://localhost:8080/"
        },
        "id": "5jnff-HWDVEz",
        "outputId": "d67fc425-814c-48a7-a717-6815ae880fdd"
      },
      "execution_count": 4,
      "outputs": [
        {
          "output_type": "stream",
          "name": "stdout",
          "text": [
            "means : 12.153846153846153\n",
            "median : 12.0\n",
            "mode : ModeResult(mode=array([14]), count=array([2]))\n"
          ]
        }
      ]
    },
    {
      "cell_type": "code",
      "source": [
        "print(\"range:\",(np.max(numbers)-np.min(numbers)) )"
      ],
      "metadata": {
        "colab": {
          "base_uri": "https://localhost:8080/"
        },
        "id": "Ir3nK_BsDVQB",
        "outputId": "9c41e01d-7b46-47b6-f66c-6fbedc22ad25"
      },
      "execution_count": 12,
      "outputs": [
        {
          "output_type": "stream",
          "name": "stdout",
          "text": [
            "range: 26\n"
          ]
        }
      ]
    },
    {
      "cell_type": "code",
      "source": [
        "print(\"Variance :\", np.var(numbers))\n",
        "print(\"Standar Devision :\", np.std(numbers))"
      ],
      "metadata": {
        "colab": {
          "base_uri": "https://localhost:8080/"
        },
        "id": "lCvXKcWwDVXT",
        "outputId": "139f81ca-7f08-4b9a-d139-d8afb5d3a1bc"
      },
      "execution_count": 13,
      "outputs": [
        {
          "output_type": "stream",
          "name": "stdout",
          "text": [
            "Variance : 51.51479289940828\n",
            "Standar Devision : 7.177380643341154\n"
          ]
        }
      ]
    },
    {
      "cell_type": "code",
      "source": [
        "Q1 = np.percentile(numbers,25)\n",
        "Q3 = np.percentile(numbers,75)\n",
        "print(\"Q1 : \",Q1)\n",
        "print(\"Q3 :\", Q3)\n",
        "print(\"IQR:\", Q3-Q1)"
      ],
      "metadata": {
        "colab": {
          "base_uri": "https://localhost:8080/"
        },
        "id": "KaNhKYb2GBe6",
        "outputId": "f2319f02-92f3-4087-ef3e-79c1eac9b55a"
      },
      "execution_count": 17,
      "outputs": [
        {
          "output_type": "stream",
          "name": "stdout",
          "text": [
            "Q1 :  7.0\n",
            "Q3 : 15.0\n",
            "IQR: 8.0\n"
          ]
        }
      ]
    },
    {
      "cell_type": "code",
      "source": [
        "mini = Q1- 1.5 * IQR\n",
        "print(\"mini :\",mini)\n",
        "maxi = Q3 + 1.5 * IQR\n",
        "print(\"maxi:\" , maxi)"
      ],
      "metadata": {
        "colab": {
          "base_uri": "https://localhost:8080/"
        },
        "id": "VAQM1ai-JJzt",
        "outputId": "595945ec-206b-4218-894b-7b2734b22413"
      },
      "execution_count": 18,
      "outputs": [
        {
          "output_type": "stream",
          "name": "stdout",
          "text": [
            "mini : -32.0\n",
            "maxi: 54.0\n"
          ]
        }
      ]
    },
    {
      "cell_type": "code",
      "source": [
        "outliers = []\n",
        "for x in numbers :\n",
        "  if x > maxi or x < mini:\n",
        "    outliers.append(x)\n",
        "print(\"outliers : \", outliers)    \n"
      ],
      "metadata": {
        "colab": {
          "base_uri": "https://localhost:8080/"
        },
        "id": "3QmisRSNGBc-",
        "outputId": "3a16652a-8116-46e2-f43d-1c7534e256ad"
      },
      "execution_count": 20,
      "outputs": [
        {
          "output_type": "stream",
          "name": "stdout",
          "text": [
            "outliers :  []\n"
          ]
        }
      ]
    },
    {
      "cell_type": "code",
      "source": [
        ""
      ],
      "metadata": {
        "id": "0m77JV6AGBaf"
      },
      "execution_count": null,
      "outputs": []
    },
    {
      "cell_type": "code",
      "source": [
        ""
      ],
      "metadata": {
        "id": "NzZpgpIMGBX4"
      },
      "execution_count": null,
      "outputs": []
    }
  ]
}